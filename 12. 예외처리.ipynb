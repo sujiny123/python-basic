{
 "cells": [
  {
   "cell_type": "markdown",
   "id": "af2f2f3a",
   "metadata": {},
   "source": [
    "# 에러와 예외\n",
    "\n",
    "1. 에러(syntax Error)\n",
    "  - 문법적 에러\n",
    "  - 파이썬은 상대적으로 언어적 문법이 간단하므로 구문 자체의 에러 발생 비율이 낮다\n",
    "\n",
    "2. 예외(Exception)\n",
    "  - 구문 에러는 없으나 프로그램 실행 중 더이상 진행할 수 없는 상황\n",
    "  - 예외가 발생하면 프로그램은 바로 종료된다.\n",
    "  - 개발자에 의해 임의로 또는 강제로 발생시키는 에러\n",
    "  \n",
    "3. 예외처리 방법\n",
    "  - try 구문 : 예외가 발생할 만한 문구를 기술\n",
    "  - except Exception : 예외가 발생했을 때 실행할 문장 기술\n",
    "  - else : 예외가 발생하지 않았을 때 실행할 문장 기술\n",
    "  - finally : 예외와 상관없이 실행할 문장을 기술 "
   ]
  },
  {
   "cell_type": "code",
   "execution_count": 1,
   "id": "3ee544d4",
   "metadata": {
    "ExecuteTime": {
     "end_time": "2023-08-29T00:15:17.869187Z",
     "start_time": "2023-08-29T00:15:17.859480Z"
    }
   },
   "outputs": [
    {
     "name": "stdout",
     "output_type": "stream",
     "text": [
      "start\n",
      "0으로 나누니까 그러지 바보야\n",
      "end\n"
     ]
    }
   ],
   "source": [
    "print('start')\n",
    "try:\n",
    "    4/0\n",
    "except ZeroDivisionError as e:\n",
    "    print(\"0으로 나누니까 그러지 바보야\")\n",
    "print('end')"
   ]
  },
  {
   "cell_type": "markdown",
   "id": "7cad958c",
   "metadata": {},
   "source": [
    "- 파이썬 내장 예외의 종류\n",
    "https://docs.python.org/3/library/exceptions.html\n"
   ]
  },
  {
   "cell_type": "code",
   "execution_count": null,
   "id": "8acac58a",
   "metadata": {
    "ExecuteTime": {
     "end_time": "2023-08-28T08:45:14.666470Z",
     "start_time": "2023-08-28T08:43:00.767958Z"
    }
   },
   "outputs": [],
   "source": [
    "print('종료하려면 q를 입력하세요.')\n",
    "\n",
    "while True:\n",
    "    num1 = input('\\n분자 = ')\n",
    "    if num1 == \"q\":\n",
    "        break\n",
    "    num2 = input('\\n분모 = ')\n",
    "    \n",
    "    result = int(num1)/ int(num2)\n",
    "    \n",
    "    print(f'{num1} / {num2} = {result}')\n",
    "print('프로그램을 종료합니다.')\n",
    "        "
   ]
  },
  {
   "cell_type": "code",
   "execution_count": 2,
   "id": "31f00760",
   "metadata": {
    "ExecuteTime": {
     "end_time": "2023-08-29T00:27:03.424727Z",
     "start_time": "2023-08-29T00:23:54.089328Z"
    }
   },
   "outputs": [
    {
     "name": "stdout",
     "output_type": "stream",
     "text": [
      "종료하려면 q를 입력하세요.\n",
      "\n",
      "분자 = 3\n",
      "\n",
      "분모 = a\n",
      "나누기는 숫자로만 처리됩니다.\n",
      "오류메시지 :  invalid literal for int() with base 10: 'a'\n",
      "\n",
      "분자 = 4\n",
      "\n",
      "분모 = 0\n",
      "분모에 0이 입력될 수 없습니다.\n",
      "오류메시지 :  division by zero\n"
     ]
    },
    {
     "ename": "KeyboardInterrupt",
     "evalue": "Interrupted by user",
     "output_type": "error",
     "traceback": [
      "\u001b[1;31m---------------------------------------------------------------------------\u001b[0m",
      "\u001b[1;31mKeyboardInterrupt\u001b[0m                         Traceback (most recent call last)",
      "Cell \u001b[1;32mIn[2], line 4\u001b[0m\n\u001b[0;32m      1\u001b[0m \u001b[38;5;28mprint\u001b[39m(\u001b[38;5;124m'\u001b[39m\u001b[38;5;124m종료하려면 q를 입력하세요.\u001b[39m\u001b[38;5;124m'\u001b[39m)\n\u001b[0;32m      3\u001b[0m \u001b[38;5;28;01mwhile\u001b[39;00m \u001b[38;5;28;01mTrue\u001b[39;00m:\n\u001b[1;32m----> 4\u001b[0m     num1 \u001b[38;5;241m=\u001b[39m \u001b[38;5;28minput\u001b[39m(\u001b[38;5;124m'\u001b[39m\u001b[38;5;130;01m\\n\u001b[39;00m\u001b[38;5;124m분자 = \u001b[39m\u001b[38;5;124m'\u001b[39m)\n\u001b[0;32m      5\u001b[0m     \u001b[38;5;28;01mif\u001b[39;00m num1 \u001b[38;5;241m==\u001b[39m \u001b[38;5;124m\"\u001b[39m\u001b[38;5;124mq\u001b[39m\u001b[38;5;124m\"\u001b[39m:\n\u001b[0;32m      6\u001b[0m         \u001b[38;5;28;01mbreak\u001b[39;00m\n",
      "File \u001b[1;32m~\\anaconda3\\Lib\\site-packages\\ipykernel\\kernelbase.py:1175\u001b[0m, in \u001b[0;36mKernel.raw_input\u001b[1;34m(self, prompt)\u001b[0m\n\u001b[0;32m   1171\u001b[0m \u001b[38;5;28;01mif\u001b[39;00m \u001b[38;5;129;01mnot\u001b[39;00m \u001b[38;5;28mself\u001b[39m\u001b[38;5;241m.\u001b[39m_allow_stdin:\n\u001b[0;32m   1172\u001b[0m     \u001b[38;5;28;01mraise\u001b[39;00m StdinNotImplementedError(\n\u001b[0;32m   1173\u001b[0m         \u001b[38;5;124m\"\u001b[39m\u001b[38;5;124mraw_input was called, but this frontend does not support input requests.\u001b[39m\u001b[38;5;124m\"\u001b[39m\n\u001b[0;32m   1174\u001b[0m     )\n\u001b[1;32m-> 1175\u001b[0m \u001b[38;5;28;01mreturn\u001b[39;00m \u001b[38;5;28mself\u001b[39m\u001b[38;5;241m.\u001b[39m_input_request(\n\u001b[0;32m   1176\u001b[0m     \u001b[38;5;28mstr\u001b[39m(prompt),\n\u001b[0;32m   1177\u001b[0m     \u001b[38;5;28mself\u001b[39m\u001b[38;5;241m.\u001b[39m_parent_ident[\u001b[38;5;124m\"\u001b[39m\u001b[38;5;124mshell\u001b[39m\u001b[38;5;124m\"\u001b[39m],\n\u001b[0;32m   1178\u001b[0m     \u001b[38;5;28mself\u001b[39m\u001b[38;5;241m.\u001b[39mget_parent(\u001b[38;5;124m\"\u001b[39m\u001b[38;5;124mshell\u001b[39m\u001b[38;5;124m\"\u001b[39m),\n\u001b[0;32m   1179\u001b[0m     password\u001b[38;5;241m=\u001b[39m\u001b[38;5;28;01mFalse\u001b[39;00m,\n\u001b[0;32m   1180\u001b[0m )\n",
      "File \u001b[1;32m~\\anaconda3\\Lib\\site-packages\\ipykernel\\kernelbase.py:1217\u001b[0m, in \u001b[0;36mKernel._input_request\u001b[1;34m(self, prompt, ident, parent, password)\u001b[0m\n\u001b[0;32m   1214\u001b[0m             \u001b[38;5;28;01mbreak\u001b[39;00m\n\u001b[0;32m   1215\u001b[0m \u001b[38;5;28;01mexcept\u001b[39;00m \u001b[38;5;167;01mKeyboardInterrupt\u001b[39;00m:\n\u001b[0;32m   1216\u001b[0m     \u001b[38;5;66;03m# re-raise KeyboardInterrupt, to truncate traceback\u001b[39;00m\n\u001b[1;32m-> 1217\u001b[0m     \u001b[38;5;28;01mraise\u001b[39;00m \u001b[38;5;167;01mKeyboardInterrupt\u001b[39;00m(\u001b[38;5;124m\"\u001b[39m\u001b[38;5;124mInterrupted by user\u001b[39m\u001b[38;5;124m\"\u001b[39m) \u001b[38;5;28;01mfrom\u001b[39;00m \u001b[38;5;28;01mNone\u001b[39;00m\n\u001b[0;32m   1218\u001b[0m \u001b[38;5;28;01mexcept\u001b[39;00m \u001b[38;5;167;01mException\u001b[39;00m:\n\u001b[0;32m   1219\u001b[0m     \u001b[38;5;28mself\u001b[39m\u001b[38;5;241m.\u001b[39mlog\u001b[38;5;241m.\u001b[39mwarning(\u001b[38;5;124m\"\u001b[39m\u001b[38;5;124mInvalid Message:\u001b[39m\u001b[38;5;124m\"\u001b[39m, exc_info\u001b[38;5;241m=\u001b[39m\u001b[38;5;28;01mTrue\u001b[39;00m)\n",
      "\u001b[1;31mKeyboardInterrupt\u001b[0m: Interrupted by user"
     ]
    }
   ],
   "source": [
    "print('종료하려면 q를 입력하세요.')\n",
    "\n",
    "while True:\n",
    "    num1 = input('\\n분자 = ')\n",
    "    if num1 == \"q\":\n",
    "        break\n",
    "    num2 = input('\\n분모 = ')\n",
    "    \n",
    "    try:\n",
    "        result = int(num1)/ int(num2)\n",
    "        print(f'{num1} / {num2} = {result}')\n",
    "    except ZeroDivisionError as e:\n",
    "        print('분모에 0이 입력될 수 없습니다.')\n",
    "        print('오류메시지 : ', e)\n",
    "    \n",
    "    except ValueError as e:\n",
    "        print('나누기는 숫자로만 처리됩니다.')\n",
    "        print('오류메시지 : ', e)\n",
    "        \n",
    "print('프로그램을 종료합니다.')\n",
    "        "
   ]
  },
  {
   "cell_type": "code",
   "execution_count": 3,
   "id": "e82cdf95",
   "metadata": {
    "ExecuteTime": {
     "end_time": "2023-08-29T00:27:06.728456Z",
     "start_time": "2023-08-29T00:27:06.724371Z"
    }
   },
   "outputs": [],
   "source": [
    "def exception_test():\n",
    "    print('start')\n",
    "    try:\n",
    "        print(2 + '2')\n",
    "    except Exception as e:\n",
    "        print('오류메시지 : ', e) \n",
    "        print('자료형이 일치하지 않습니다.')\n",
    "    print('end')"
   ]
  },
  {
   "cell_type": "code",
   "execution_count": 4,
   "id": "b97a4d20",
   "metadata": {
    "ExecuteTime": {
     "end_time": "2023-08-29T00:27:07.458089Z",
     "start_time": "2023-08-29T00:27:07.455451Z"
    }
   },
   "outputs": [
    {
     "name": "stdout",
     "output_type": "stream",
     "text": [
      "start\n",
      "오류메시지 :  unsupported operand type(s) for +: 'int' and 'str'\n",
      "자료형이 일치하지 않습니다.\n",
      "end\n"
     ]
    }
   ],
   "source": [
    "exception_test()"
   ]
  },
  {
   "cell_type": "code",
   "execution_count": 10,
   "id": "1bea2c8a",
   "metadata": {
    "ExecuteTime": {
     "end_time": "2023-08-29T00:37:10.643256Z",
     "start_time": "2023-08-29T00:37:10.637812Z"
    }
   },
   "outputs": [
    {
     "name": "stdout",
     "output_type": "stream",
     "text": [
      "오류메시지 :  name 'test2' is not defined\n",
      "해당 파일이 존재하지 않습니다.\n"
     ]
    }
   ],
   "source": [
    "#step1. 파일객체생성과 파일오픈\n",
    "#open(파일이름, 모드) 모드 - r, w, a\n",
    "try:\n",
    "    f = open(test2.txt,'r')\n",
    "except Exception as e:\n",
    "    print('오류메시지 : ',e)\n",
    "    print('해당 파일이 존재하지 않습니다.')\n",
    "else:\n",
    "#step2. 실제처리할 작업을 기술(비즈니스 로직)\n",
    "    while True:\n",
    "        line = f.readline()\n",
    "        if not line:\n",
    "            break\n",
    "        print(line, end='')\n",
    "#step3. 파일객체 닫기\n",
    "    f.close()"
   ]
  },
  {
   "cell_type": "markdown",
   "id": "ff6c1ce9",
   "metadata": {},
   "source": [
    "## 처리조건 : 계산기 프로그램\n",
    "1. 두 개의 숫자와 하나의 연산자를 입력받아 사칙연산을 수행하는 프로그램을 구현하시오.\n",
    "2. 연산자는 +,-,*,/만 입력되도록한다.단, 다른 연산자가 들어오면 예외처리 문구를 기술한다.\n",
    "3. 연산자가 '/'이고 분모가 0이면 예외처리 문구를 기술한다.\n",
    "4. 계산을 수행할 값이 숫자가 아닌값이 들어오면 예외처리를 수행한다.\n",
    "5. 주어진 입출력형식에 맞게 프로그램을 구현한다.\n",
    "6. 사용자가 원하는 연산을 수행할 수 있도록 구현한다.\n",
    "7. 첫번째수가 q로 입력되면 프로그램을 종료한다.\n",
    "\n",
    "## 입출력형식\n",
    "첫번째수 =\n",
    "연산자(+,-,*,/) =\n",
    "두번째수 =\n",
    "\n",
    "10 - 4 = 6"
   ]
  },
  {
   "cell_type": "code",
   "execution_count": null,
   "id": "64c9b579",
   "metadata": {
    "ExecuteTime": {
     "start_time": "2023-08-29T08:44:41.798Z"
    }
   },
   "outputs": [
    {
     "name": "stdout",
     "output_type": "stream",
     "text": [
      "첫번째수 = 2\n",
      "연산자(+,-,*,/) = _\n",
      "두번째수 = 3\n",
      "연산자가 바르지 않습니다.\n"
     ]
    }
   ],
   "source": [
    "while True:\n",
    "    num1 = input('첫번째수 = ')\n",
    "    if num1 == 'q':\n",
    "        break\n",
    "    else:\n",
    "        \n",
    "        a = input('연산자(+,-,*,/) = ')\n",
    "        num2 = eval(input('두번째수 = ')) \n",
    "            try:\n",
    "                if num2 == 0:\n",
    "            except Exception as e:\n",
    "                print('에러메시지 : ', e)\n",
    "                print('0으로 나눌수 없습니다.')\n",
    "        if a == '+':\n",
    "            result = num1 + num2\n",
    "            print(f'{num1} + {num2} = {result}')\n",
    "        elif a == '-':\n",
    "            result = num1 - num2\n",
    "            print(f'{num1} - {num2} = {result}')\n",
    "        elif a == '*':\n",
    "            result = num1 * num2\n",
    "            print(f'{num1} * {num2} = {result}')\n",
    "        elif a == '/':\n",
    "            result = num / num2\n",
    "            print(f'{num1} / {num2} = {result}')\n",
    "        else:\n",
    "            print('연산자가 바르지 않습니다.')\n",
    "            \n",
    "        "
   ]
  },
  {
   "cell_type": "code",
   "execution_count": null,
   "id": "3d467cb1",
   "metadata": {},
   "outputs": [],
   "source": []
  },
  {
   "cell_type": "code",
   "execution_count": null,
   "id": "00999732",
   "metadata": {},
   "outputs": [],
   "source": []
  }
 ],
 "metadata": {
  "kernelspec": {
   "display_name": "Python 3 (ipykernel)",
   "language": "python",
   "name": "python3"
  },
  "language_info": {
   "codemirror_mode": {
    "name": "ipython",
    "version": 3
   },
   "file_extension": ".py",
   "mimetype": "text/x-python",
   "name": "python",
   "nbconvert_exporter": "python",
   "pygments_lexer": "ipython3",
   "version": "3.9.7"
  },
  "toc": {
   "base_numbering": 1,
   "nav_menu": {},
   "number_sections": true,
   "sideBar": true,
   "skip_h1_title": false,
   "title_cell": "Table of Contents",
   "title_sidebar": "Contents",
   "toc_cell": false,
   "toc_position": {
    "height": "calc(100% - 180px)",
    "left": "10px",
    "top": "150px",
    "width": "344.188px"
   },
   "toc_section_display": true,
   "toc_window_display": true
  }
 },
 "nbformat": 4,
 "nbformat_minor": 5
}
