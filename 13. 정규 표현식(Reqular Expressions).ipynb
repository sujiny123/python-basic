{
 "cells": [
  {
   "cell_type": "markdown",
   "id": "d3374b4c",
   "metadata": {},
   "source": [
    "# Regular Expressions(정규 표현식)\n",
    "- 복잡한 문자열을 처리할 때 사용하는 기법\n",
    "- 모든 언어에서 문자열을 처리할 때 공통으로 사용\n",
    "- 예 : 주민등록번호의 뒷자리를 '*'문자로 변경"
   ]
  },
  {
   "cell_type": "markdown",
   "id": "1637e208",
   "metadata": {},
   "source": [
    "## 정규 표현식을 사용하지 않는 예"
   ]
  },
  {
   "cell_type": "code",
   "execution_count": 3,
   "id": "bef2e12e",
   "metadata": {
    "ExecuteTime": {
     "end_time": "2023-08-29T01:24:43.379375Z",
     "start_time": "2023-08-29T01:24:43.374122Z"
    }
   },
   "outputs": [
    {
     "name": "stdout",
     "output_type": "stream",
     "text": [
      "\n",
      "park 800905-*******\n",
      "kim  700905-*******\n",
      "lee  880203-*******\n",
      "hong 901105-*******\n",
      "jang 020319-*******\n",
      "\n"
     ]
    }
   ],
   "source": [
    "data = \"\"\"\n",
    "park 800905-1049118\n",
    "kim  700905-1059119\n",
    "lee  880203-2110537\n",
    "hong 901105-1234567\n",
    "jang 020319-2205147\n",
    "\"\"\"\n",
    "\n",
    "result = []\n",
    "for line in data.split('\\n'):\n",
    "    word_result = []\n",
    "    for word in line.split(' '):\n",
    "        if len(word) == 14 and word[:6].isdigit() and word[7:].isdigit():\n",
    "            \n",
    "            word = word[:6] + \"-\" + \"*******\"\n",
    "\n",
    "        word_result.append(word)\n",
    "    result.append(' '.join(word_result))\n",
    "\n",
    "print('\\n'.join(result))"
   ]
  },
  {
   "cell_type": "markdown",
   "id": "718b191d",
   "metadata": {},
   "source": [
    "## 정규표현식을 이용한 예"
   ]
  },
  {
   "cell_type": "code",
   "execution_count": 4,
   "id": "a6502fed",
   "metadata": {
    "ExecuteTime": {
     "end_time": "2023-08-29T01:25:22.452972Z",
     "start_time": "2023-08-29T01:25:22.447989Z"
    }
   },
   "outputs": [],
   "source": [
    "import re"
   ]
  },
  {
   "cell_type": "code",
   "execution_count": 5,
   "id": "5e2801bb",
   "metadata": {
    "ExecuteTime": {
     "end_time": "2023-08-29T01:27:04.427408Z",
     "start_time": "2023-08-29T01:27:04.422280Z"
    }
   },
   "outputs": [
    {
     "name": "stdout",
     "output_type": "stream",
     "text": [
      "\n",
      "park 800905-*******\n",
      "kim  700905-*******\n",
      "lee  880203-*******\n",
      "hong 901105-*******\n",
      "jang 020319-*******\n",
      "\n"
     ]
    }
   ],
   "source": [
    "data = \"\"\"\n",
    "park 800905-1049118\n",
    "kim  700905-1059119\n",
    "lee  880203-2110537\n",
    "hong 901105-1234567\n",
    "jang 020319-2205147\n",
    "\"\"\"\n",
    "\n",
    "pat = re.compile('(\\d{6})[-]\\d{7}')\n",
    "print(pat.sub('\\g<1>-*******', data))"
   ]
  },
  {
   "cell_type": "markdown",
   "id": "945db102",
   "metadata": {},
   "source": [
    "# 메타문자(Meta Character)\n",
    "- 원래 그 문자의 의미가 아니라 특별한 의미를 가진 문자\n",
    "- 종류 : ., ^, $, *, +, ?, {}, [], \\, |, ()"
   ]
  },
  {
   "cell_type": "code",
   "execution_count": 6,
   "id": "abf34fd2",
   "metadata": {
    "ExecuteTime": {
     "end_time": "2023-08-29T01:37:52.027680Z",
     "start_time": "2023-08-29T01:37:52.024556Z"
    }
   },
   "outputs": [],
   "source": [
    "#메타문자 : []\n",
    "## [abc] : a,b,c 중 한개라도 문자와 매칭\n",
    "## [a-c] : [abc]와 동일\n",
    "## [0-5] : [012345]\n",
    "## [a-zA-Z] : 모든 알파벳\n",
    "## [0-9] : 모든 숫자\n",
    "## ^(not) : [^0-9] 숫자가 아닌 문자\n",
    "## .(dot) : a.b == 'a + 모든문자 + b'"
   ]
  },
  {
   "cell_type": "code",
   "execution_count": 9,
   "id": "1315c512",
   "metadata": {
    "ExecuteTime": {
     "end_time": "2023-08-29T01:40:32.236325Z",
     "start_time": "2023-08-29T01:40:32.230876Z"
    }
   },
   "outputs": [
    {
     "name": "stdout",
     "output_type": "stream",
     "text": [
      "[]\n",
      "['kim']\n",
      "['m', 'm']\n"
     ]
    }
   ],
   "source": [
    "string = 'My id number is kim0902'\n",
    "\n",
    "#특정 패턴에 해당하는 문자를 찾는 작업\n",
    "#findall('패턴',문자열)\n",
    "a = re.findall('a', string)\n",
    "print(a)\n",
    "\n",
    "b = re.findall('kim', string)\n",
    "print(b)\n",
    "\n",
    "c = re.findall('m', string)\n",
    "print(c)"
   ]
  },
  {
   "cell_type": "code",
   "execution_count": 13,
   "id": "d6fee743",
   "metadata": {
    "ExecuteTime": {
     "end_time": "2023-08-29T01:45:38.167793Z",
     "start_time": "2023-08-29T01:45:38.162876Z"
    }
   },
   "outputs": [
    {
     "name": "stdout",
     "output_type": "stream",
     "text": [
      "['y', 'i', 'd', 'u', 'm', 'b', 'e', 'r', 'i', 's']\n",
      "['y', 'id', 'umber', 'is']\n",
      "['M', 'N', 'K', 'I', 'M']\n",
      "['M', 'N', 'KIM']\n"
     ]
    }
   ],
   "source": [
    "string = 'My id Number is KIM0902'\n",
    "\n",
    "# 모든 소문자를 찾아서 리스트로 반환\n",
    "a = re.findall('[a-z]', string)\n",
    "print(a)\n",
    "\n",
    "# 단어 단위로 찾는 작업\n",
    "b = re.findall('[a-z]+',string)\n",
    "print(b)\n",
    "\n",
    "#대문자를 글자단위로 찾는 작업\n",
    "c = re.findall('[A-Z]', string)\n",
    "print(c)\n",
    "\n",
    "#대문자를 단어단위로 찾는 작업\n",
    "d = re.findall('[A-Z]+', string)\n",
    "print(d)"
   ]
  },
  {
   "cell_type": "code",
   "execution_count": 20,
   "id": "0593131e",
   "metadata": {
    "ExecuteTime": {
     "end_time": "2023-08-29T01:53:02.815364Z",
     "start_time": "2023-08-29T01:53:02.809563Z"
    }
   },
   "outputs": [
    {
     "name": "stdout",
     "output_type": "stream",
     "text": [
      "['M', 'y', 'i', 'd', 'n', 'u', 'm', 'b', 'e', 'r', 'i', 's', 'k', 'i', 'm', 'w', '0', '5', '0', '2']\n",
      "['My', 'id', 'number', 'is', 'kimw', '0502']\n",
      "[' ', ' ', ' ', ' ', '_', '$', '%']\n",
      "['M', 'y', 'i', 'd', 'n', 'u', 'm', 'b', 'e', 'r', 'i', 's', 'k', 'i', 'm', 'w', '_', '0', '5', '0', '2']\n",
      "['My', 'id', 'number', 'is', 'kimw_0502']\n",
      "[' ', ' ', ' ', ' ', '$', '%']\n"
     ]
    }
   ],
   "source": [
    "string = 'My id number is kimw_0502$%'\n",
    "\n",
    "#영문자와 숫자로만 이루어진 글자 찾는 작업\n",
    "a = re.findall('[a-zA-Z0-9]', string)\n",
    "print(a)\n",
    "\n",
    "#영문자와 숫자로만 이루어진 단어를 찾는 작업\n",
    "b = re.findall('[a-zA-Z0-9]+', string)\n",
    "print(b)\n",
    "\n",
    "# 영문자와 숫자가 아닌 글자 찾는 작업\n",
    "c = re.findall('[^a-zA-Z0-9]', string)\n",
    "print(c)\n",
    "\n",
    "#\\w : 영문자와 숫자\n",
    "d = re.findall('[\\w]', string)\n",
    "print(d)\n",
    "\n",
    "e = re.findall('[\\w]+', string)\n",
    "print(e)\n",
    "\n",
    "#\\W : 영문자와 숫자 그리고 _가 아닌 경우\n",
    "\n",
    "f = re.findall('[\\W]', string)\n",
    "print(f)\n"
   ]
  },
  {
   "cell_type": "code",
   "execution_count": 25,
   "id": "78be1f18",
   "metadata": {
    "ExecuteTime": {
     "end_time": "2023-08-29T02:08:38.459763Z",
     "start_time": "2023-08-29T02:08:38.454732Z"
    }
   },
   "outputs": [],
   "source": [
    "# 비밀번호 체크하는 함수 구현\n",
    "# 문자의 길이는 6~12 이내\n",
    "# 영문자와 숫자 포함\n",
    "\n",
    "def check_pass(pwd):\n",
    "    if len(pwd) <6 or len(pwd)> 12:\n",
    "        print(f'입력받은 {pwd}는 길이가 적당하지 않습니다.')\n",
    "        return False\n",
    "    if re.findall('[\\w]+', pwd)[0] != pwd:\n",
    "        print(f'입력받은 {pwd}는 영문자와 숫자로만 이루어지지 않았습니다.')\n",
    "        return False\n",
    "    #영문자의 소문자, 대문자는 적어도 한글자는 포함되어야한다.\n",
    "    if len(re.findall('[a-z]',pwd)) == 0 or len(re.findall('[A-Z]', pwd)) == 0:\n",
    "        print(f'입력받은 {pwd}는 적어도 소문자와 대문자가 한글자가 포함되어야 합니다.')\n",
    "        return False\n",
    "    #올바른 비밀번호 형식일 경우\n",
    "    print(f'{pwd}는 올바른 형식의 비밀번호 입니다.')\n",
    "    return"
   ]
  },
  {
   "cell_type": "code",
   "execution_count": 23,
   "id": "f84e3881",
   "metadata": {
    "ExecuteTime": {
     "end_time": "2023-08-29T02:07:20.989517Z",
     "start_time": "2023-08-29T02:07:20.981787Z"
    }
   },
   "outputs": [
    {
     "name": "stdout",
     "output_type": "stream",
     "text": [
      "입력받은 12abc는 길이가 적당하지 않습니다.\n"
     ]
    },
    {
     "data": {
      "text/plain": [
       "False"
      ]
     },
     "execution_count": 23,
     "metadata": {},
     "output_type": "execute_result"
    }
   ],
   "source": [
    "check_pass('12abc')"
   ]
  },
  {
   "cell_type": "code",
   "execution_count": 26,
   "id": "aee8036a",
   "metadata": {
    "ExecuteTime": {
     "end_time": "2023-08-29T02:08:41.888542Z",
     "start_time": "2023-08-29T02:08:41.882487Z"
    }
   },
   "outputs": [
    {
     "name": "stdout",
     "output_type": "stream",
     "text": [
      "입력받은 123abc는 적어도 소문자와 대문자가 한글자가 포함되어야 합니다.\n"
     ]
    },
    {
     "data": {
      "text/plain": [
       "False"
      ]
     },
     "execution_count": 26,
     "metadata": {},
     "output_type": "execute_result"
    }
   ],
   "source": [
    "check_pass('123abc')"
   ]
  },
  {
   "cell_type": "code",
   "execution_count": null,
   "id": "2fad42d5",
   "metadata": {},
   "outputs": [],
   "source": [
    "# 이메일 체크함수\n",
    "# 첫글자는 영문자의 소문자와 숫자로 이루어지되 2글자 이상이어야함\n",
    "# 문자열사이에 @를 포함해야함\n",
    "# 마지막은 반드시.와 함께 영문자 그리고 2글자 이상으로 끝나야함\n",
    "\n",
    "def email_check(email):\n",
    "    #^[] : 시작, ^[a-z] - 시작은 반드시 영문자 소문자여야한다는의미\n",
    "    #[^] : 제외, [^a-z] - 영문자의 소문자를 포함하지 않아야 한다는 의미\n",
    "    #{n} : n개반복\n",
    "    #{n,m} : 최소 n개, 최대 m개 반복\n",
    "    #[]$ : 해당 패턴으로 종료\n",
    "    #\\문자 : 해당 문자는 반드시 포함\n",
    "    exp = re.findall('^[a-z0-9]{2, }@[a-z0-9]{2,}\\.[a-z]{2,}$', email)\n",
    "    \n",
    "    if len(exp) == 0:\n",
    "        print(email, '은 형식이 올바르지 않습니다.')\n",
    "        return\n",
    "    else:\n",
    "        print(email, '은 올바른 형식입니다.')\n",
    "        return"
   ]
  }
 ],
 "metadata": {
  "kernelspec": {
   "display_name": "Python 3 (ipykernel)",
   "language": "python",
   "name": "python3"
  },
  "language_info": {
   "codemirror_mode": {
    "name": "ipython",
    "version": 3
   },
   "file_extension": ".py",
   "mimetype": "text/x-python",
   "name": "python",
   "nbconvert_exporter": "python",
   "pygments_lexer": "ipython3",
   "version": "3.11.4"
  },
  "toc": {
   "base_numbering": 1,
   "nav_menu": {},
   "number_sections": true,
   "sideBar": true,
   "skip_h1_title": false,
   "title_cell": "Table of Contents",
   "title_sidebar": "Contents",
   "toc_cell": false,
   "toc_position": {},
   "toc_section_display": true,
   "toc_window_display": false
  }
 },
 "nbformat": 4,
 "nbformat_minor": 5
}
