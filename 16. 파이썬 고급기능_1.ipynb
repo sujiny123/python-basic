{
 "cells": [
  {
   "cell_type": "markdown",
   "id": "e7467509",
   "metadata": {},
   "source": [
    "# 언더바 or 언더스코어 or 밑줄\n",
    "\n",
    "1. 인터프리터에서의 마지막 값\n",
    "2. 무시하는 값\n",
    "3. 숫자의 자릿수를 나타낼 때 - 큰 의미 없음\n",
    "4. 앞 언더바 1개 : 모듈내에서만 접근이 허용되는 객체\n",
    "5. 뒤 언더바 1개 : 같은 이름의 충돌을 막기위해 사용\n",
    "6. 앞 언더바 2개 : 네임 맹글링\n",
    "7. 앞뒤에 언더바 2개 : 이미 정의되어있는 변수 or 매직 메서드"
   ]
  },
  {
   "cell_type": "markdown",
   "id": "bfd2ccca",
   "metadata": {
    "ExecuteTime": {
     "end_time": "2023-08-29T07:28:24.458808Z",
     "start_time": "2023-08-29T07:28:24.453840Z"
    }
   },
   "source": [
    "## 무시하는 값\n",
    "\n",
    "- 변수는 기본적으로 기억장소를 할당받아 생성된다.\n",
    "- 기억장소의 낭비를 최소화하기 위해 필요없는 변수는 굳이 생성하지 않는다.\n"
   ]
  },
  {
   "cell_type": "code",
   "execution_count": 4,
   "id": "539a668b",
   "metadata": {
    "ExecuteTime": {
     "end_time": "2023-08-29T07:29:22.767222Z",
     "start_time": "2023-08-29T07:29:22.758298Z"
    }
   },
   "outputs": [
    {
     "name": "stdout",
     "output_type": "stream",
     "text": [
      "0\n",
      "1\n",
      "2\n",
      "3\n",
      "4\n"
     ]
    }
   ],
   "source": [
    "for _ in range(5):\n",
    "    print(_)"
   ]
  },
  {
   "cell_type": "code",
   "execution_count": 6,
   "id": "ee7dda1c",
   "metadata": {
    "ExecuteTime": {
     "end_time": "2023-08-29T07:31:53.660584Z",
     "start_time": "2023-08-29T07:31:53.636800Z"
    }
   },
   "outputs": [
    {
     "name": "stdout",
     "output_type": "stream",
     "text": [
      "[1, 2, 3, 4, 5] 1 2 3 4 5\n"
     ]
    }
   ],
   "source": [
    "#packing : 하나의 변수에 여러개의 값을 담는 행위\n",
    "a = [1,2,3,4,5]\n",
    "#unpacking : 여러개의 값을 담은 변수를 각각의 변수에 풀어내는 행위\n",
    "aa, bb, cc, dd, ee = a\n",
    "\n",
    "print(a,aa,bb,cc,dd,ee)"
   ]
  },
  {
   "cell_type": "code",
   "execution_count": 9,
   "id": "e62c74b1",
   "metadata": {
    "ExecuteTime": {
     "end_time": "2023-08-29T07:32:31.261695Z",
     "start_time": "2023-08-29T07:32:31.251726Z"
    }
   },
   "outputs": [
    {
     "name": "stdout",
     "output_type": "stream",
     "text": [
      "(1, 2, 3, 4, 5)\n"
     ]
    }
   ],
   "source": [
    "b = 1, 2, 3, 4, 5\n",
    "print(b)"
   ]
  },
  {
   "cell_type": "code",
   "execution_count": 10,
   "id": "52242a47",
   "metadata": {
    "ExecuteTime": {
     "end_time": "2023-08-29T07:33:32.460047Z",
     "start_time": "2023-08-29T07:33:32.454951Z"
    }
   },
   "outputs": [
    {
     "name": "stdout",
     "output_type": "stream",
     "text": [
      "(1, 2, 3, 4, 5) 1 2 3 4 5\n"
     ]
    }
   ],
   "source": [
    "aa, bb, _, dd, ee = b\n",
    "print(b, aa,bb,_,dd,ee)"
   ]
  },
  {
   "cell_type": "code",
   "execution_count": 11,
   "id": "1422dc60",
   "metadata": {
    "ExecuteTime": {
     "end_time": "2023-08-29T07:34:15.403689Z",
     "start_time": "2023-08-29T07:34:15.395559Z"
    }
   },
   "outputs": [],
   "source": [
    "#가변길이 매개변수 : *변수명(tupple)\n",
    "def adder(a, b):\n",
    "    return a + b"
   ]
  },
  {
   "cell_type": "code",
   "execution_count": 12,
   "id": "f215466e",
   "metadata": {
    "ExecuteTime": {
     "end_time": "2023-08-29T07:38:18.729730Z",
     "start_time": "2023-08-29T07:38:18.713385Z"
    }
   },
   "outputs": [],
   "source": [
    "def sample(**ar):\n",
    "    print(type(ar))\n",
    "    pass"
   ]
  },
  {
   "cell_type": "code",
   "execution_count": 13,
   "id": "12bd9766",
   "metadata": {
    "ExecuteTime": {
     "end_time": "2023-08-29T07:38:31.094525Z",
     "start_time": "2023-08-29T07:38:31.089276Z"
    }
   },
   "outputs": [
    {
     "name": "stdout",
     "output_type": "stream",
     "text": [
      "<class 'dict'>\n"
     ]
    }
   ],
   "source": [
    "sample(a=100, b=200)"
   ]
  },
  {
   "cell_type": "code",
   "execution_count": 15,
   "id": "c4807c46",
   "metadata": {
    "ExecuteTime": {
     "end_time": "2023-08-29T07:39:48.445120Z",
     "start_time": "2023-08-29T07:39:48.441050Z"
    }
   },
   "outputs": [
    {
     "name": "stdout",
     "output_type": "stream",
     "text": [
      "1 [2, 3, 4] 5\n"
     ]
    }
   ],
   "source": [
    "x = [1, 2, 3, 4, 5]\n",
    "a, *_, c = x\n",
    "print(a, _, c)"
   ]
  },
  {
   "cell_type": "markdown",
   "id": "3d0af74f",
   "metadata": {},
   "source": [
    "## 앞 언더바 1개인 변수  or 함수"
   ]
  },
  {
   "cell_type": "code",
   "execution_count": 16,
   "id": "e78d522d",
   "metadata": {
    "ExecuteTime": {
     "end_time": "2023-08-29T07:43:05.976845Z",
     "start_time": "2023-08-29T07:43:05.969793Z"
    }
   },
   "outputs": [
    {
     "name": "stdout",
     "output_type": "stream",
     "text": [
      "hi\n"
     ]
    }
   ],
   "source": [
    "from greeting import *\n",
    "hi()"
   ]
  },
  {
   "cell_type": "code",
   "execution_count": 17,
   "id": "4b83380b",
   "metadata": {
    "ExecuteTime": {
     "end_time": "2023-08-29T07:43:12.346160Z",
     "start_time": "2023-08-29T07:43:12.336024Z"
    }
   },
   "outputs": [
    {
     "ename": "NameError",
     "evalue": "name 'hello' is not defined",
     "output_type": "error",
     "traceback": [
      "\u001b[1;31m---------------------------------------------------------------------------\u001b[0m",
      "\u001b[1;31mNameError\u001b[0m                                 Traceback (most recent call last)",
      "\u001b[1;32mC:\\Users\\NT551_~1\\AppData\\Local\\Temp/ipykernel_7048/2674044599.py\u001b[0m in \u001b[0;36m<module>\u001b[1;34m\u001b[0m\n\u001b[1;32m----> 1\u001b[1;33m \u001b[0mhello\u001b[0m\u001b[1;33m(\u001b[0m\u001b[1;33m)\u001b[0m\u001b[1;33m\u001b[0m\u001b[1;33m\u001b[0m\u001b[0m\n\u001b[0m",
      "\u001b[1;31mNameError\u001b[0m: name 'hello' is not defined"
     ]
    }
   ],
   "source": [
    "hello()"
   ]
  },
  {
   "cell_type": "code",
   "execution_count": 18,
   "id": "5ec40d5f",
   "metadata": {
    "ExecuteTime": {
     "end_time": "2023-08-29T07:44:50.982236Z",
     "start_time": "2023-08-29T07:44:50.960094Z"
    }
   },
   "outputs": [
    {
     "ename": "NameError",
     "evalue": "name 'show' is not defined",
     "output_type": "error",
     "traceback": [
      "\u001b[1;31m---------------------------------------------------------------------------\u001b[0m",
      "\u001b[1;31mNameError\u001b[0m                                 Traceback (most recent call last)",
      "\u001b[1;32mC:\\Users\\NT551_~1\\AppData\\Local\\Temp/ipykernel_7048/2152131889.py\u001b[0m in \u001b[0;36m<module>\u001b[1;34m\u001b[0m\n\u001b[1;32m----> 1\u001b[1;33m \u001b[0mshow\u001b[0m\u001b[1;33m(\u001b[0m\u001b[1;33m)\u001b[0m\u001b[1;33m\u001b[0m\u001b[1;33m\u001b[0m\u001b[0m\n\u001b[0m",
      "\u001b[1;31mNameError\u001b[0m: name 'show' is not defined"
     ]
    }
   ],
   "source": [
    "show()"
   ]
  },
  {
   "cell_type": "code",
   "execution_count": 19,
   "id": "40f60732",
   "metadata": {
    "ExecuteTime": {
     "end_time": "2023-08-29T07:45:23.551921Z",
     "start_time": "2023-08-29T07:45:23.548112Z"
    }
   },
   "outputs": [],
   "source": [
    "from greeting import *"
   ]
  },
  {
   "cell_type": "code",
   "execution_count": 20,
   "id": "230abb8c",
   "metadata": {
    "ExecuteTime": {
     "end_time": "2023-08-29T07:45:27.097394Z",
     "start_time": "2023-08-29T07:45:27.088950Z"
    }
   },
   "outputs": [
    {
     "ename": "NameError",
     "evalue": "name 'show' is not defined",
     "output_type": "error",
     "traceback": [
      "\u001b[1;31m---------------------------------------------------------------------------\u001b[0m",
      "\u001b[1;31mNameError\u001b[0m                                 Traceback (most recent call last)",
      "\u001b[1;32mC:\\Users\\NT551_~1\\AppData\\Local\\Temp/ipykernel_7048/2152131889.py\u001b[0m in \u001b[0;36m<module>\u001b[1;34m\u001b[0m\n\u001b[1;32m----> 1\u001b[1;33m \u001b[0mshow\u001b[0m\u001b[1;33m(\u001b[0m\u001b[1;33m)\u001b[0m\u001b[1;33m\u001b[0m\u001b[1;33m\u001b[0m\u001b[0m\n\u001b[0m",
      "\u001b[1;31mNameError\u001b[0m: name 'show' is not defined"
     ]
    }
   ],
   "source": [
    "show()"
   ]
  },
  {
   "cell_type": "code",
   "execution_count": 21,
   "id": "ceefb4d1",
   "metadata": {
    "ExecuteTime": {
     "end_time": "2023-08-29T07:46:18.033093Z",
     "start_time": "2023-08-29T07:46:18.021612Z"
    }
   },
   "outputs": [],
   "source": [
    "import greeting "
   ]
  },
  {
   "cell_type": "code",
   "execution_count": 22,
   "id": "9fdb2410",
   "metadata": {
    "ExecuteTime": {
     "end_time": "2023-08-29T07:46:25.887919Z",
     "start_time": "2023-08-29T07:46:25.882858Z"
    }
   },
   "outputs": [
    {
     "name": "stdout",
     "output_type": "stream",
     "text": [
      "hi\n"
     ]
    }
   ],
   "source": [
    "greeting.hi()"
   ]
  },
  {
   "cell_type": "code",
   "execution_count": 23,
   "id": "15341d7d",
   "metadata": {
    "ExecuteTime": {
     "end_time": "2023-08-29T07:46:33.836271Z",
     "start_time": "2023-08-29T07:46:33.828299Z"
    }
   },
   "outputs": [
    {
     "name": "stdout",
     "output_type": "stream",
     "text": [
      "hello\n"
     ]
    }
   ],
   "source": [
    "greeting._hello()"
   ]
  },
  {
   "cell_type": "code",
   "execution_count": 24,
   "id": "3531c538",
   "metadata": {
    "ExecuteTime": {
     "end_time": "2023-08-29T07:46:54.542980Z",
     "start_time": "2023-08-29T07:46:54.534856Z"
    }
   },
   "outputs": [],
   "source": [
    "from greeting import hi, _hello"
   ]
  },
  {
   "cell_type": "code",
   "execution_count": 25,
   "id": "1c13d947",
   "metadata": {
    "ExecuteTime": {
     "end_time": "2023-08-29T07:47:20.427224Z",
     "start_time": "2023-08-29T07:47:20.417074Z"
    }
   },
   "outputs": [
    {
     "name": "stdout",
     "output_type": "stream",
     "text": [
      "hello\n"
     ]
    }
   ],
   "source": [
    "_hello()"
   ]
  },
  {
   "cell_type": "markdown",
   "id": "9c79d9e4",
   "metadata": {},
   "source": [
    "## 뒤 언더바 1개 : 충돌회피용"
   ]
  },
  {
   "cell_type": "code",
   "execution_count": 29,
   "id": "ec517008",
   "metadata": {
    "ExecuteTime": {
     "end_time": "2023-08-29T07:49:18.104872Z",
     "start_time": "2023-08-29T07:49:18.100834Z"
    }
   },
   "outputs": [
    {
     "name": "stdout",
     "output_type": "stream",
     "text": [
      "a =  100\n",
      "a =  100\n",
      "a =  100\n"
     ]
    }
   ],
   "source": [
    "a = 100\n",
    "\n",
    "print('a = ', a)\n",
    "\n",
    "a_ = 1\n",
    "print('a = ', a)\n",
    "print('a = ', a)"
   ]
  },
  {
   "cell_type": "markdown",
   "id": "2dfac980",
   "metadata": {},
   "source": [
    "## Name mangling - 앞 언더바 2개 : 네임 맹글링\n",
    "\n",
    "- 외부에서 클래스 속성값에 접근을 하지 못하도록 막을 때\n",
    "- 오버라이딩 방지용\n"
   ]
  },
  {
   "cell_type": "code",
   "execution_count": 32,
   "id": "88b8bed1",
   "metadata": {
    "ExecuteTime": {
     "end_time": "2023-08-29T07:56:30.257133Z",
     "start_time": "2023-08-29T07:56:30.247992Z"
    }
   },
   "outputs": [],
   "source": [
    "class Person:\n",
    "    def __init__(self):\n",
    "        self.name = '홍길동'\n",
    "        self.age = 25\n",
    "        self.__hobby = '도둑질'\n",
    "        \n",
    "class People(Person):\n",
    "    def __init__(self):\n",
    "        Person.__init__(self)\n",
    "        self.name = '장보고'\n",
    "        self.age = 30\n",
    "        #self.__hobby = '착한짓'"
   ]
  },
  {
   "cell_type": "code",
   "execution_count": 35,
   "id": "490ea664",
   "metadata": {
    "ExecuteTime": {
     "end_time": "2023-08-29T07:57:07.624753Z",
     "start_time": "2023-08-29T07:57:07.609851Z"
    }
   },
   "outputs": [
    {
     "ename": "AttributeError",
     "evalue": "'People' object has no attribute '__hobby'",
     "output_type": "error",
     "traceback": [
      "\u001b[1;31m---------------------------------------------------------------------------\u001b[0m",
      "\u001b[1;31mAttributeError\u001b[0m                            Traceback (most recent call last)",
      "\u001b[1;32mC:\\Users\\NT551_~1\\AppData\\Local\\Temp/ipykernel_7048/4080915250.py\u001b[0m in \u001b[0;36m<module>\u001b[1;34m\u001b[0m\n\u001b[0;32m      1\u001b[0m \u001b[0mc\u001b[0m \u001b[1;33m=\u001b[0m \u001b[0mPeople\u001b[0m\u001b[1;33m(\u001b[0m\u001b[1;33m)\u001b[0m\u001b[1;33m\u001b[0m\u001b[1;33m\u001b[0m\u001b[0m\n\u001b[1;32m----> 2\u001b[1;33m \u001b[0mprint\u001b[0m\u001b[1;33m(\u001b[0m\u001b[0mc\u001b[0m\u001b[1;33m.\u001b[0m\u001b[0m__hobby\u001b[0m\u001b[1;33m)\u001b[0m\u001b[1;33m\u001b[0m\u001b[1;33m\u001b[0m\u001b[0m\n\u001b[0m",
      "\u001b[1;31mAttributeError\u001b[0m: 'People' object has no attribute '__hobby'"
     ]
    }
   ],
   "source": [
    "c = People()\n",
    "print(c.__hobby)"
   ]
  },
  {
   "cell_type": "code",
   "execution_count": 36,
   "id": "d5481f3c",
   "metadata": {
    "ExecuteTime": {
     "end_time": "2023-08-29T08:20:25.920687Z",
     "start_time": "2023-08-29T08:20:25.903889Z"
    }
   },
   "outputs": [],
   "source": [
    "class Book:\n",
    "    __country = 'korea'\n",
    "    city = 'seoul'\n",
    "    \n",
    "    def updateCountry(self, country):\n",
    "        self.__country = country\n",
    "        \n",
    "    def getCountry(self):\n",
    "        return self.__country"
   ]
  },
  {
   "cell_type": "code",
   "execution_count": 41,
   "id": "1616b485",
   "metadata": {
    "ExecuteTime": {
     "end_time": "2023-08-29T08:23:48.872820Z",
     "start_time": "2023-08-29T08:23:48.865459Z"
    }
   },
   "outputs": [],
   "source": [
    "br = Book()"
   ]
  },
  {
   "cell_type": "code",
   "execution_count": 43,
   "id": "1feb71ae",
   "metadata": {
    "ExecuteTime": {
     "end_time": "2023-08-29T08:24:31.831345Z",
     "start_time": "2023-08-29T08:24:31.815850Z"
    }
   },
   "outputs": [
    {
     "name": "stdout",
     "output_type": "stream",
     "text": [
      "USA\n",
      "워싱턴\n"
     ]
    }
   ],
   "source": [
    "br.__country = 'USA'\n",
    "br.city = '워싱턴'\n",
    "print(br.__country)\n",
    "print(br.city)"
   ]
  },
  {
   "cell_type": "markdown",
   "id": "d67a82ee",
   "metadata": {},
   "source": [
    "# 클로저\n",
    "\n",
    "- 중첩함수 : 함수안에 또 다른 함수를 포함하고 있는 것"
   ]
  },
  {
   "cell_type": "code",
   "execution_count": 44,
   "id": "70204537",
   "metadata": {
    "ExecuteTime": {
     "end_time": "2023-08-29T08:35:11.022091Z",
     "start_time": "2023-08-29T08:35:11.003572Z"
    }
   },
   "outputs": [],
   "source": [
    "def calc():\n",
    "    a = 3\n",
    "    b = 5\n",
    "    \n",
    "    def mul_add(x):\n",
    "        return a*x + b\n",
    "    return mul_add"
   ]
  },
  {
   "cell_type": "code",
   "execution_count": 45,
   "id": "d159cd89",
   "metadata": {
    "ExecuteTime": {
     "end_time": "2023-08-29T08:37:25.191425Z",
     "start_time": "2023-08-29T08:37:25.174156Z"
    }
   },
   "outputs": [
    {
     "name": "stdout",
     "output_type": "stream",
     "text": [
      "<function calc.<locals>.mul_add at 0x000001B72771BCA0>\n"
     ]
    }
   ],
   "source": [
    "c = calc()\n",
    "print(c)"
   ]
  },
  {
   "cell_type": "code",
   "execution_count": null,
   "id": "fc7b5bf2",
   "metadata": {},
   "outputs": [],
   "source": []
  }
 ],
 "metadata": {
  "kernelspec": {
   "display_name": "Python 3 (ipykernel)",
   "language": "python",
   "name": "python3"
  },
  "language_info": {
   "codemirror_mode": {
    "name": "ipython",
    "version": 3
   },
   "file_extension": ".py",
   "mimetype": "text/x-python",
   "name": "python",
   "nbconvert_exporter": "python",
   "pygments_lexer": "ipython3",
   "version": "3.9.7"
  },
  "toc": {
   "base_numbering": 1,
   "nav_menu": {},
   "number_sections": true,
   "sideBar": true,
   "skip_h1_title": false,
   "title_cell": "Table of Contents",
   "title_sidebar": "Contents",
   "toc_cell": false,
   "toc_position": {
    "height": "calc(100% - 180px)",
    "left": "10px",
    "top": "150px",
    "width": "344.188px"
   },
   "toc_section_display": true,
   "toc_window_display": true
  }
 },
 "nbformat": 4,
 "nbformat_minor": 5
}
