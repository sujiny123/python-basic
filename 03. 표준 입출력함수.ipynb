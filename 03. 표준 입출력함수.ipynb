{
 "cells": [
  {
   "cell_type": "markdown",
   "id": "c4b9acae",
   "metadata": {},
   "source": [
    "# 표준 입력함수 : input()\n",
    "\n",
    "- 파이썬에서 기본적으로 데이터를 키보드로 입력할 때 사용하는 함수 : 콘솔(console)환경\n",
    "- input함수는 입력되는 모든 것을 문자열로 취급한다.\n",
    "- 형식 : 변수 = input()"
   ]
  },
  {
   "cell_type": "code",
   "execution_count": 1,
   "id": "4af5a21d",
   "metadata": {
    "ExecuteTime": {
     "end_time": "2023-08-22T02:43:06.094756Z",
     "start_time": "2023-08-22T02:42:57.845901Z"
    }
   },
   "outputs": [
    {
     "name": "stdout",
     "output_type": "stream",
     "text": [
      "hello\n",
      "hello\n"
     ]
    }
   ],
   "source": [
    "# '=' 연산자의 방향은 오른쪽에서 왼쪽이다.\n",
    "# '+' 연산자의 방향은 좌에서 우이다.\n",
    "a = input()\n",
    "print(a)"
   ]
  },
  {
   "cell_type": "code",
   "execution_count": 2,
   "id": "558874cc",
   "metadata": {
    "ExecuteTime": {
     "end_time": "2023-08-22T02:44:41.444133Z",
     "start_time": "2023-08-22T02:44:35.519709Z"
    }
   },
   "outputs": [
    {
     "name": "stdout",
     "output_type": "stream",
     "text": [
      "숫자입력 : 123\n",
      "입력받은 숫자 :  123\n"
     ]
    }
   ],
   "source": [
    "# input(message)\n",
    "b = input(\"숫자입력 : \")\n",
    "print(\"입력받은 숫자 : \", b)"
   ]
  },
  {
   "cell_type": "code",
   "execution_count": 4,
   "id": "f6dd02c1",
   "metadata": {
    "ExecuteTime": {
     "end_time": "2023-08-22T02:49:48.495738Z",
     "start_time": "2023-08-22T02:49:45.255844Z"
    }
   },
   "outputs": [
    {
     "name": "stdout",
     "output_type": "stream",
     "text": [
      "반지름 : 3\n",
      "원의 둘레 :  18.84\n",
      "원의 면적 :  28.26\n"
     ]
    }
   ],
   "source": [
    "# 반지름을 입력받아 원의 면적과 둘레를 계산하는 프로그램을 구현하시오.\n",
    "# 입력문\n",
    "pi=3.14\n",
    "# 처리문\n",
    "r = int(input(\"반지름 : \"))\n",
    "# 출력문\n",
    "print(\"원의 둘레 : \", 2*pi*r)\n",
    "print(\"원의 면적 : \", r*r*pi)"
   ]
  },
  {
   "cell_type": "code",
   "execution_count": 6,
   "id": "1101e1a8",
   "metadata": {
    "ExecuteTime": {
     "end_time": "2023-08-22T02:54:02.985976Z",
     "start_time": "2023-08-22T02:53:59.773698Z"
    }
   },
   "outputs": [
    {
     "name": "stdout",
     "output_type": "stream",
     "text": [
      "첫번째숫자 : 3\n",
      "두번째숫자 : 4\n",
      "합 :  7\n",
      "곱 :  12\n"
     ]
    }
   ],
   "source": [
    "# 두개의 숫자를 입력받아 합과 곱을 출력하는 프로그램을 구현하시오.\n",
    "# 입력문\n",
    "su1 = int(input(\"첫번째숫자 : \"))\n",
    "su2 = int(input(\"두번째숫자 : \"))\n",
    "# 처리문\n",
    "hap = su1 + su2\n",
    "gob = su1 * su2\n",
    "# 출력문\n",
    "print(\"합 : \", hap)\n",
    "print(\"곱 : \", gob)"
   ]
  },
  {
   "cell_type": "markdown",
   "id": "57f75071",
   "metadata": {},
   "source": [
    "## 여러 값을 한번에 입력받는 함수\n",
    "- split() : 특정 문자를 기준으로 문자열을 잘라내는 함수\n",
    "- map() : map(변환함수, 반복가능한 객체)"
   ]
  },
  {
   "cell_type": "code",
   "execution_count": 7,
   "id": "13067a3e",
   "metadata": {
    "ExecuteTime": {
     "end_time": "2023-08-22T02:57:46.099509Z",
     "start_time": "2023-08-22T02:57:35.827209Z"
    }
   },
   "outputs": [
    {
     "name": "stdout",
     "output_type": "stream",
     "text": [
      "1 2 3 4 5 6 7 8 9 10\n",
      "1 2 3 4 5 6 7 8 9 10\n"
     ]
    }
   ],
   "source": [
    "num = input()\n",
    "print(num)"
   ]
  },
  {
   "cell_type": "code",
   "execution_count": 8,
   "id": "e73bb02a",
   "metadata": {
    "ExecuteTime": {
     "end_time": "2023-08-22T02:59:08.424681Z",
     "start_time": "2023-08-22T02:59:02.525742Z"
    }
   },
   "outputs": [
    {
     "name": "stdout",
     "output_type": "stream",
     "text": [
      "1 2 3 4 5 6 7 8 9\n",
      "['1', '2', '3', '4', '5', '6', '7', '8', '9']\n"
     ]
    }
   ],
   "source": [
    "# split() 함수의 기본은 공백을 기준으로 잘라낸다.\n",
    "num = input().split()\n",
    "print(num) #리스트 자료형에 담아서 반환한다."
   ]
  },
  {
   "cell_type": "code",
   "execution_count": 9,
   "id": "1f814ca4",
   "metadata": {
    "ExecuteTime": {
     "end_time": "2023-08-22T03:02:07.152859Z",
     "start_time": "2023-08-22T03:01:58.118684Z"
    }
   },
   "outputs": [
    {
     "name": "stdout",
     "output_type": "stream",
     "text": [
      "1 2 3 4 5\n",
      "<map object at 0x0000014EFE9996A0>\n"
     ]
    }
   ],
   "source": [
    "num = map(int, input().split()) # map 객체로 반환된다.(주소반환)\n",
    "print(num)"
   ]
  },
  {
   "cell_type": "code",
   "execution_count": 10,
   "id": "3fea3ac3",
   "metadata": {
    "ExecuteTime": {
     "end_time": "2023-08-22T03:04:26.897853Z",
     "start_time": "2023-08-22T03:04:23.734789Z"
    }
   },
   "outputs": [
    {
     "name": "stdout",
     "output_type": "stream",
     "text": [
      "1 2 3 4 5\n",
      "[1, 2, 3, 4, 5]\n"
     ]
    }
   ],
   "source": [
    "# list(리스트)는 1차원 배열을 의미하는 자료형으로 R에서 Vector형식을 갖는다.\n",
    "num = list(map(int, input().split()))\n",
    "print(num)"
   ]
  },
  {
   "cell_type": "markdown",
   "id": "cff26b92",
   "metadata": {},
   "source": [
    "# 표준 출력함수 : print()\n",
    "- 기본형 : print(\"출력내용\")\n",
    "- print(a, b, c)"
   ]
  },
  {
   "cell_type": "markdown",
   "id": "edf57204",
   "metadata": {},
   "source": [
    "## 형식화된 문자열을 이용한 출력\n",
    "- 형식 : 형식화된 문자열.format(변수)"
   ]
  },
  {
   "cell_type": "code",
   "execution_count": 11,
   "id": "d28d0595",
   "metadata": {
    "ExecuteTime": {
     "end_time": "2023-08-22T03:36:23.443235Z",
     "start_time": "2023-08-22T03:36:23.438131Z"
    }
   },
   "outputs": [
    {
     "name": "stdout",
     "output_type": "stream",
     "text": [
      "9\n",
      "x =  9\n"
     ]
    }
   ],
   "source": [
    "x=9\n",
    "print(x)\n",
    "print(\"x = \", x)"
   ]
  },
  {
   "cell_type": "code",
   "execution_count": 15,
   "id": "eec6be01",
   "metadata": {
    "ExecuteTime": {
     "end_time": "2023-08-22T03:40:28.901966Z",
     "start_time": "2023-08-22T03:40:28.895966Z"
    }
   },
   "outputs": [
    {
     "name": "stdout",
     "output_type": "stream",
     "text": [
      "정수1 : 9\n",
      "결과 : 243\n",
      "덧셈 : 18, 곱셈 : 81\n"
     ]
    }
   ],
   "source": [
    "print(\"정수1 : {0}\".format(x))\n",
    "print(\"결과 : {}\".format(3**5))\n",
    "print(\"덧셈 : {0}, 곱셈 : {1}\".format(x+x,x*x))"
   ]
  },
  {
   "cell_type": "code",
   "execution_count": 20,
   "id": "28b57cb3",
   "metadata": {
    "ExecuteTime": {
     "end_time": "2023-08-22T03:45:44.751541Z",
     "start_time": "2023-08-22T03:45:44.740039Z"
    }
   },
   "outputs": [],
   "source": [
    "name = \"홍길동\"\n",
    "age = 23\n",
    "gender = 'M'"
   ]
  },
  {
   "cell_type": "code",
   "execution_count": 22,
   "id": "3abea912",
   "metadata": {
    "ExecuteTime": {
     "end_time": "2023-08-22T03:46:02.727812Z",
     "start_time": "2023-08-22T03:46:02.712857Z"
    }
   },
   "outputs": [
    {
     "name": "stdout",
     "output_type": "stream",
     "text": [
      "홍길동님의 나이는 23세이고 성별은 M입니다.\n"
     ]
    }
   ],
   "source": [
    "print(\"%s님의 나이는 %d세이고 성별은 %c입니다.\"%(name, age, gender))"
   ]
  },
  {
   "cell_type": "code",
   "execution_count": 24,
   "id": "2a00cf39",
   "metadata": {
    "ExecuteTime": {
     "end_time": "2023-08-22T03:46:29.896172Z",
     "start_time": "2023-08-22T03:46:29.884029Z"
    }
   },
   "outputs": [
    {
     "data": {
      "text/plain": [
       "3.074074074074074"
      ]
     },
     "execution_count": 24,
     "metadata": {},
     "output_type": "execute_result"
    }
   ],
   "source": [
    "x = 8.3 / 2.7\n",
    "x"
   ]
  },
  {
   "cell_type": "code",
   "execution_count": 25,
   "id": "ba52b380",
   "metadata": {
    "ExecuteTime": {
     "end_time": "2023-08-22T03:47:04.507135Z",
     "start_time": "2023-08-22T03:47:04.494783Z"
    }
   },
   "outputs": [
    {
     "name": "stdout",
     "output_type": "stream",
     "text": [
      "결과 : 3.074074\n"
     ]
    }
   ],
   "source": [
    "print(\"결과 : %f\"%x)"
   ]
  },
  {
   "cell_type": "code",
   "execution_count": 26,
   "id": "fff72ebc",
   "metadata": {
    "ExecuteTime": {
     "end_time": "2023-08-22T03:47:30.233852Z",
     "start_time": "2023-08-22T03:47:30.228894Z"
    }
   },
   "outputs": [
    {
     "name": "stdout",
     "output_type": "stream",
     "text": [
      "결과 : 3.07\n"
     ]
    }
   ],
   "source": [
    "print(\"결과 : %.2f\"%x)"
   ]
  },
  {
   "cell_type": "code",
   "execution_count": 27,
   "id": "acbed74b",
   "metadata": {
    "ExecuteTime": {
     "end_time": "2023-08-22T03:48:39.587688Z",
     "start_time": "2023-08-22T03:48:39.571309Z"
    }
   },
   "outputs": [
    {
     "name": "stdout",
     "output_type": "stream",
     "text": [
      "a = 10, b = 20\n"
     ]
    }
   ],
   "source": [
    "a = 10\n",
    "b = 20\n",
    "\n",
    "print(\"a = {}, b = {}\".format(a, b))"
   ]
  },
  {
   "cell_type": "code",
   "execution_count": 28,
   "id": "0e5c4e5a",
   "metadata": {
    "ExecuteTime": {
     "end_time": "2023-08-22T03:49:22.734378Z",
     "start_time": "2023-08-22T03:49:22.727223Z"
    }
   },
   "outputs": [
    {
     "name": "stdout",
     "output_type": "stream",
     "text": [
      "a = 10, b = 20\n"
     ]
    }
   ],
   "source": [
    "print(\"a = {1}, b = {0}\".format(b, a))"
   ]
  },
  {
   "cell_type": "code",
   "execution_count": null,
   "id": "62456089",
   "metadata": {},
   "outputs": [],
   "source": []
  }
 ],
 "metadata": {
  "kernelspec": {
   "display_name": "Python 3",
   "language": "python",
   "name": "python3"
  },
  "language_info": {
   "codemirror_mode": {
    "name": "ipython",
    "version": 3
   },
   "file_extension": ".py",
   "mimetype": "text/x-python",
   "name": "python",
   "nbconvert_exporter": "python",
   "pygments_lexer": "ipython3",
   "version": "3.8.8"
  },
  "toc": {
   "base_numbering": 1,
   "nav_menu": {},
   "number_sections": true,
   "sideBar": true,
   "skip_h1_title": false,
   "title_cell": "Table of Contents",
   "title_sidebar": "Contents",
   "toc_cell": false,
   "toc_position": {},
   "toc_section_display": true,
   "toc_window_display": false
  }
 },
 "nbformat": 4,
 "nbformat_minor": 5
}
