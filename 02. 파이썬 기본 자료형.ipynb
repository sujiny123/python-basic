{
 "cells": [
  {
   "cell_type": "markdown",
   "id": "14c529ed",
   "metadata": {},
   "source": [
    "# 기본 자료형\n",
    "## 정수형(integer, int)"
   ]
  },
  {
   "cell_type": "code",
   "execution_count": 2,
   "id": "e81c4283",
   "metadata": {
    "ExecuteTime": {
     "end_time": "2023-08-22T01:07:32.945981Z",
     "start_time": "2023-08-22T01:07:32.924581Z"
    }
   },
   "outputs": [
    {
     "name": "stdout",
     "output_type": "stream",
     "text": [
      "<class 'int'>\n",
      "<class 'float'>\n",
      "<class 'str'>\n"
     ]
    }
   ],
   "source": [
    "# 변수(Variable) : 변하는 수, 기억공간, 동적 자료형 == 동적 타이핑\n",
    "a = 13\n",
    "print(type(a))\n",
    "a = 3.14\n",
    "print(type(a))\n",
    "a = \"python\"\n",
    "print(type(a))"
   ]
  },
  {
   "cell_type": "markdown",
   "id": "3b6eb369",
   "metadata": {},
   "source": [
    "## 실수형(float, double)\n",
    "- 소숫점을 포함한 숫자 자료형\n",
    "- 지수 표현 방식대로 표현할 수 있다."
   ]
  },
  {
   "cell_type": "code",
   "execution_count": 3,
   "id": "4bb374c9",
   "metadata": {
    "ExecuteTime": {
     "end_time": "2023-08-22T01:09:38.719981Z",
     "start_time": "2023-08-22T01:09:38.711777Z"
    }
   },
   "outputs": [
    {
     "name": "stdout",
     "output_type": "stream",
     "text": [
      "2.5 -1.5\n"
     ]
    }
   ],
   "source": [
    "a = 2.5\n",
    "b = -1.5\n",
    "print(a, b) # comma(,) : 열거연산자"
   ]
  },
  {
   "cell_type": "code",
   "execution_count": 4,
   "id": "7ec7c5fb",
   "metadata": {
    "ExecuteTime": {
     "end_time": "2023-08-22T01:10:27.126458Z",
     "start_time": "2023-08-22T01:10:27.116117Z"
    }
   },
   "outputs": [
    {
     "name": "stdout",
     "output_type": "stream",
     "text": [
      "12000000000.0 4.5e-10\n"
     ]
    }
   ],
   "source": [
    "a = 1.2E10\n",
    "b = 4.5e-10\n",
    "print(a, b)"
   ]
  },
  {
   "cell_type": "code",
   "execution_count": 5,
   "id": "18e66a99",
   "metadata": {
    "ExecuteTime": {
     "end_time": "2023-08-22T01:12:04.056901Z",
     "start_time": "2023-08-22T01:12:04.045630Z"
    }
   },
   "outputs": [
    {
     "data": {
      "text/plain": [
       "0.1"
      ]
     },
     "execution_count": 5,
     "metadata": {},
     "output_type": "execute_result"
    }
   ],
   "source": [
    "# 실수표현시 정수부의 값이 0일 경우 생략한다.\n",
    ".1"
   ]
  },
  {
   "cell_type": "code",
   "execution_count": 6,
   "id": "a7c594f3",
   "metadata": {
    "ExecuteTime": {
     "end_time": "2023-08-22T01:17:06.463166Z",
     "start_time": "2023-08-22T01:17:06.450360Z"
    }
   },
   "outputs": [
    {
     "data": {
      "text/plain": [
       "int"
      ]
     },
     "execution_count": 6,
     "metadata": {},
     "output_type": "execute_result"
    }
   ],
   "source": [
    "# 자료형을 확인하는 함수 type()\n",
    "type(10)"
   ]
  },
  {
   "cell_type": "code",
   "execution_count": 7,
   "id": "6ed0b722",
   "metadata": {
    "ExecuteTime": {
     "end_time": "2023-08-22T01:17:18.312143Z",
     "start_time": "2023-08-22T01:17:18.299239Z"
    }
   },
   "outputs": [
    {
     "data": {
      "text/plain": [
       "float"
      ]
     },
     "execution_count": 7,
     "metadata": {},
     "output_type": "execute_result"
    }
   ],
   "source": [
    "type(10.0)"
   ]
  },
  {
   "cell_type": "markdown",
   "id": "bb9e0a45",
   "metadata": {},
   "source": [
    "### 부동소숫점(floating format point) 오차\n",
    "- 1보다 작은 수의 경우 십진법으로 표현하면 간단하지만 이진법으로는 무한개의 유효숫자"
   ]
  },
  {
   "cell_type": "code",
   "execution_count": 18,
   "id": "bff675a2",
   "metadata": {
    "ExecuteTime": {
     "end_time": "2023-08-22T01:40:48.452205Z",
     "start_time": "2023-08-22T01:40:48.437663Z"
    }
   },
   "outputs": [
    {
     "data": {
      "text/plain": [
       "'%.55f'"
      ]
     },
     "execution_count": 18,
     "metadata": {},
     "output_type": "execute_result"
    }
   ],
   "source": [
    "#매직명령어(magic command)\n",
    "## 소숫점 자리수를 55자리까지 표현\n",
    "%precision 55"
   ]
  },
  {
   "cell_type": "code",
   "execution_count": 19,
   "id": "0684f580",
   "metadata": {
    "ExecuteTime": {
     "end_time": "2023-08-22T01:41:05.244004Z",
     "start_time": "2023-08-22T01:41:05.239730Z"
    }
   },
   "outputs": [
    {
     "data": {
      "text/plain": [
       "0.1000000000000000055511151231257827021181583404541015625"
      ]
     },
     "execution_count": 19,
     "metadata": {},
     "output_type": "execute_result"
    }
   ],
   "source": [
    "0.1"
   ]
  },
  {
   "cell_type": "code",
   "execution_count": 21,
   "id": "91af9084",
   "metadata": {
    "ExecuteTime": {
     "end_time": "2023-08-22T01:43:01.894788Z",
     "start_time": "2023-08-22T01:43:01.883751Z"
    }
   },
   "outputs": [
    {
     "data": {
      "text/plain": [
       "False"
      ]
     },
     "execution_count": 21,
     "metadata": {},
     "output_type": "execute_result"
    }
   ],
   "source": [
    "0.1 + 0.2 == 0.3"
   ]
  },
  {
   "cell_type": "code",
   "execution_count": 20,
   "id": "965d4341",
   "metadata": {
    "ExecuteTime": {
     "end_time": "2023-08-22T01:42:46.804509Z",
     "start_time": "2023-08-22T01:42:46.796058Z"
    }
   },
   "outputs": [
    {
     "data": {
      "text/plain": [
       "True"
      ]
     },
     "execution_count": 20,
     "metadata": {},
     "output_type": "execute_result"
    }
   ],
   "source": [
    "round(0.1 + 0.2, 5) == round(0.3, 5)"
   ]
  },
  {
   "cell_type": "code",
   "execution_count": 22,
   "id": "eabbe15b",
   "metadata": {
    "ExecuteTime": {
     "end_time": "2023-08-22T01:44:08.148502Z",
     "start_time": "2023-08-22T01:44:08.126227Z"
    }
   },
   "outputs": [
    {
     "data": {
      "text/plain": [
       "'%r'"
      ]
     },
     "execution_count": 22,
     "metadata": {},
     "output_type": "execute_result"
    }
   ],
   "source": [
    "%precision %r"
   ]
  },
  {
   "cell_type": "markdown",
   "id": "95bd4789",
   "metadata": {},
   "source": [
    "## 복소수형\n",
    "- $ a + bi $ 으로 표현한다.\n",
    "- 파이썬에서는 j를 사용한다."
   ]
  },
  {
   "cell_type": "code",
   "execution_count": 9,
   "id": "6e413ff4",
   "metadata": {
    "ExecuteTime": {
     "end_time": "2023-08-22T01:20:10.053280Z",
     "start_time": "2023-08-22T01:20:10.021880Z"
    }
   },
   "outputs": [],
   "source": [
    "a = 1 + 2j"
   ]
  },
  {
   "cell_type": "code",
   "execution_count": 13,
   "id": "618917f0",
   "metadata": {
    "ExecuteTime": {
     "end_time": "2023-08-22T01:22:38.938602Z",
     "start_time": "2023-08-22T01:22:38.932534Z"
    }
   },
   "outputs": [
    {
     "name": "stdout",
     "output_type": "stream",
     "text": [
      "1.0\n",
      "2.0\n"
     ]
    }
   ],
   "source": [
    "#실수부와 허수부를 출력하는 함수\n",
    "print(a.real)\n",
    "print(a.imag)"
   ]
  },
  {
   "cell_type": "code",
   "execution_count": 14,
   "id": "5f8abfa4",
   "metadata": {
    "ExecuteTime": {
     "end_time": "2023-08-22T01:22:45.085295Z",
     "start_time": "2023-08-22T01:22:45.080297Z"
    }
   },
   "outputs": [
    {
     "name": "stdout",
     "output_type": "stream",
     "text": [
      "(1+2j)\n"
     ]
    }
   ],
   "source": [
    "a.conjugate()\n",
    "print(a)"
   ]
  },
  {
   "cell_type": "markdown",
   "id": "f3ad7ebc",
   "metadata": {},
   "source": [
    "## 8진수, 16진수\n",
    "- 일반적으로 사람은 10진수(0~9)\n",
    "- 컴퓨터는 2진수(0,1)\n",
    "- 8진수(0~7) : 숫자앞에 0o붙어있으면 8진수\n",
    "- 16진수(0~15) : 0x 붙어있으면 16진수"
   ]
  },
  {
   "cell_type": "code",
   "execution_count": 17,
   "id": "8ded1788",
   "metadata": {
    "ExecuteTime": {
     "end_time": "2023-08-22T01:28:17.082987Z",
     "start_time": "2023-08-22T01:28:17.066749Z"
    }
   },
   "outputs": [
    {
     "name": "stdout",
     "output_type": "stream",
     "text": [
      "10 52\n"
     ]
    }
   ],
   "source": [
    "x = 0o12\n",
    "y = 0x34\n",
    "print(x, y)"
   ]
  },
  {
   "cell_type": "markdown",
   "id": "f9a73241",
   "metadata": {},
   "source": [
    "## 자료형 변환\n",
    "\n",
    "- casting(강제형변환, 명시적형변환)\n",
    "- promotion(자동형변환, 묵시적형변환)"
   ]
  },
  {
   "cell_type": "code",
   "execution_count": 23,
   "id": "f82510fb",
   "metadata": {
    "ExecuteTime": {
     "end_time": "2023-08-22T01:48:05.243024Z",
     "start_time": "2023-08-22T01:48:05.234232Z"
    }
   },
   "outputs": [
    {
     "data": {
      "text/plain": [
       "1"
      ]
     },
     "execution_count": 23,
     "metadata": {},
     "output_type": "execute_result"
    }
   ],
   "source": [
    "int(1.0) #실수를 정수로 변환"
   ]
  },
  {
   "cell_type": "code",
   "execution_count": 24,
   "id": "37750e40",
   "metadata": {
    "ExecuteTime": {
     "end_time": "2023-08-22T01:48:21.971281Z",
     "start_time": "2023-08-22T01:48:21.955328Z"
    }
   },
   "outputs": [
    {
     "data": {
      "text/plain": [
       "1.0"
      ]
     },
     "execution_count": 24,
     "metadata": {},
     "output_type": "execute_result"
    }
   ],
   "source": [
    "float(1)"
   ]
  },
  {
   "cell_type": "code",
   "execution_count": 26,
   "id": "db3fe2d8",
   "metadata": {
    "ExecuteTime": {
     "end_time": "2023-08-22T01:48:55.494047Z",
     "start_time": "2023-08-22T01:48:55.484640Z"
    }
   },
   "outputs": [
    {
     "data": {
      "text/plain": [
       "3"
      ]
     },
     "execution_count": 26,
     "metadata": {},
     "output_type": "execute_result"
    }
   ],
   "source": [
    "int(3.14)"
   ]
  },
  {
   "cell_type": "code",
   "execution_count": 27,
   "id": "a56a7d30",
   "metadata": {
    "ExecuteTime": {
     "end_time": "2023-08-22T01:49:19.182258Z",
     "start_time": "2023-08-22T01:49:19.158608Z"
    }
   },
   "outputs": [
    {
     "data": {
      "text/plain": [
       "3"
      ]
     },
     "execution_count": 27,
     "metadata": {},
     "output_type": "execute_result"
    }
   ],
   "source": [
    "int(3.98)"
   ]
  },
  {
   "cell_type": "code",
   "execution_count": 28,
   "id": "fccf6877",
   "metadata": {
    "ExecuteTime": {
     "end_time": "2023-08-22T01:50:27.618535Z",
     "start_time": "2023-08-22T01:50:27.602914Z"
    }
   },
   "outputs": [],
   "source": [
    "# NaN과 Inf\n",
    "## NaN : Not a Number, 숫자가아님\n",
    "## Inf : Infinity, 무한대"
   ]
  },
  {
   "cell_type": "code",
   "execution_count": 29,
   "id": "f4c68e28",
   "metadata": {
    "ExecuteTime": {
     "end_time": "2023-08-22T01:50:40.269768Z",
     "start_time": "2023-08-22T01:50:40.249201Z"
    }
   },
   "outputs": [
    {
     "data": {
      "text/plain": [
       "nan"
      ]
     },
     "execution_count": 29,
     "metadata": {},
     "output_type": "execute_result"
    }
   ],
   "source": [
    "float(\"NaN\")"
   ]
  },
  {
   "cell_type": "code",
   "execution_count": 30,
   "id": "613ba27c",
   "metadata": {
    "ExecuteTime": {
     "end_time": "2023-08-22T01:51:02.577166Z",
     "start_time": "2023-08-22T01:51:02.429032Z"
    }
   },
   "outputs": [
    {
     "ename": "ValueError",
     "evalue": "could not convert string to float: 'korea'",
     "output_type": "error",
     "traceback": [
      "\u001b[1;31m---------------------------------------------------------------------------\u001b[0m",
      "\u001b[1;31mValueError\u001b[0m                                Traceback (most recent call last)",
      "\u001b[1;32m<ipython-input-30-1cfd9c9efc21>\u001b[0m in \u001b[0;36m<module>\u001b[1;34m\u001b[0m\n\u001b[1;32m----> 1\u001b[1;33m \u001b[0mfloat\u001b[0m\u001b[1;33m(\u001b[0m\u001b[1;34m\"korea\"\u001b[0m\u001b[1;33m)\u001b[0m\u001b[1;33m\u001b[0m\u001b[1;33m\u001b[0m\u001b[0m\n\u001b[0m",
      "\u001b[1;31mValueError\u001b[0m: could not convert string to float: 'korea'"
     ]
    }
   ],
   "source": [
    "float(\"korea\")"
   ]
  },
  {
   "cell_type": "code",
   "execution_count": 32,
   "id": "d8f35394",
   "metadata": {
    "ExecuteTime": {
     "end_time": "2023-08-22T01:52:03.267830Z",
     "start_time": "2023-08-22T01:52:03.257642Z"
    }
   },
   "outputs": [
    {
     "data": {
      "text/plain": [
       "-inf"
      ]
     },
     "execution_count": 32,
     "metadata": {},
     "output_type": "execute_result"
    }
   ],
   "source": [
    "float(\"-Inf\")"
   ]
  },
  {
   "cell_type": "markdown",
   "id": "5d6a19b6",
   "metadata": {},
   "source": [
    "## 산술연산"
   ]
  },
  {
   "cell_type": "code",
   "execution_count": 33,
   "id": "ad1ea2cd",
   "metadata": {
    "ExecuteTime": {
     "end_time": "2023-08-22T01:52:35.775530Z",
     "start_time": "2023-08-22T01:52:35.764216Z"
    }
   },
   "outputs": [
    {
     "data": {
      "text/plain": [
       "2"
      ]
     },
     "execution_count": 33,
     "metadata": {},
     "output_type": "execute_result"
    }
   ],
   "source": [
    "1 + 1"
   ]
  },
  {
   "cell_type": "markdown",
   "id": "37cc311a",
   "metadata": {},
   "source": [
    "### 연산자(Operator)\n",
    "\n",
    "- '+', '-', '*', '/', '//', '%', '**'"
   ]
  },
  {
   "cell_type": "code",
   "execution_count": 34,
   "id": "5f8aec5e",
   "metadata": {
    "ExecuteTime": {
     "end_time": "2023-08-22T01:54:33.281521Z",
     "start_time": "2023-08-22T01:54:33.271757Z"
    }
   },
   "outputs": [
    {
     "data": {
      "text/plain": [
       "55"
      ]
     },
     "execution_count": 34,
     "metadata": {},
     "output_type": "execute_result"
    }
   ],
   "source": [
    "25 + 30"
   ]
  },
  {
   "cell_type": "code",
   "execution_count": 35,
   "id": "4e253328",
   "metadata": {
    "ExecuteTime": {
     "end_time": "2023-08-22T01:54:39.773806Z",
     "start_time": "2023-08-22T01:54:39.757984Z"
    }
   },
   "outputs": [
    {
     "data": {
      "text/plain": [
       "18"
      ]
     },
     "execution_count": 35,
     "metadata": {},
     "output_type": "execute_result"
    }
   ],
   "source": [
    "30 - 12"
   ]
  },
  {
   "cell_type": "code",
   "execution_count": 36,
   "id": "2679c3b4",
   "metadata": {
    "ExecuteTime": {
     "end_time": "2023-08-22T01:54:45.757985Z",
     "start_time": "2023-08-22T01:54:45.744594Z"
    }
   },
   "outputs": [
    {
     "data": {
      "text/plain": [
       "150"
      ]
     },
     "execution_count": 36,
     "metadata": {},
     "output_type": "execute_result"
    }
   ],
   "source": [
    "50 * 3"
   ]
  },
  {
   "cell_type": "code",
   "execution_count": 37,
   "id": "161efec2",
   "metadata": {
    "ExecuteTime": {
     "end_time": "2023-08-22T01:54:51.336101Z",
     "start_time": "2023-08-22T01:54:51.326085Z"
    }
   },
   "outputs": [
    {
     "data": {
      "text/plain": [
       "6.0"
      ]
     },
     "execution_count": 37,
     "metadata": {},
     "output_type": "execute_result"
    }
   ],
   "source": [
    "30 / 5 #실수몫"
   ]
  },
  {
   "cell_type": "code",
   "execution_count": 38,
   "id": "6a5a0234",
   "metadata": {
    "ExecuteTime": {
     "end_time": "2023-08-22T01:55:15.783252Z",
     "start_time": "2023-08-22T01:55:15.778255Z"
    }
   },
   "outputs": [
    {
     "data": {
      "text/plain": [
       "6"
      ]
     },
     "execution_count": 38,
     "metadata": {},
     "output_type": "execute_result"
    }
   ],
   "source": [
    "30 // 5 #정수몫"
   ]
  },
  {
   "cell_type": "code",
   "execution_count": 39,
   "id": "5cb28861",
   "metadata": {
    "ExecuteTime": {
     "end_time": "2023-08-22T01:55:43.776835Z",
     "start_time": "2023-08-22T01:55:43.774310Z"
    }
   },
   "outputs": [
    {
     "name": "stdout",
     "output_type": "stream",
     "text": [
      "243\n"
     ]
    }
   ],
   "source": [
    "print(3 * 3 * 3 * 3 * 3)"
   ]
  },
  {
   "cell_type": "code",
   "execution_count": 40,
   "id": "764d0b64",
   "metadata": {
    "ExecuteTime": {
     "end_time": "2023-08-22T01:55:52.815409Z",
     "start_time": "2023-08-22T01:55:52.806184Z"
    }
   },
   "outputs": [
    {
     "data": {
      "text/plain": [
       "243"
      ]
     },
     "execution_count": 40,
     "metadata": {},
     "output_type": "execute_result"
    }
   ],
   "source": [
    "3 ** 5"
   ]
  },
  {
   "cell_type": "code",
   "execution_count": 41,
   "id": "ebdad616",
   "metadata": {
    "ExecuteTime": {
     "end_time": "2023-08-22T01:56:04.472177Z",
     "start_time": "2023-08-22T01:56:04.459071Z"
    }
   },
   "outputs": [
    {
     "data": {
      "text/plain": [
       "3"
      ]
     },
     "execution_count": 41,
     "metadata": {},
     "output_type": "execute_result"
    }
   ],
   "source": [
    "7 // 2"
   ]
  },
  {
   "cell_type": "code",
   "execution_count": 42,
   "id": "c37074fc",
   "metadata": {
    "ExecuteTime": {
     "end_time": "2023-08-22T01:56:16.211558Z",
     "start_time": "2023-08-22T01:56:16.194370Z"
    }
   },
   "outputs": [
    {
     "data": {
      "text/plain": [
       "1"
      ]
     },
     "execution_count": 42,
     "metadata": {},
     "output_type": "execute_result"
    }
   ],
   "source": [
    "7 % 2 #나머지"
   ]
  },
  {
   "cell_type": "markdown",
   "id": "28dca825",
   "metadata": {},
   "source": [
    "## 논리연산과 관계연산(비교)\n",
    "\n",
    "- 관계연산자 : >, >=, <, <=, !=, ==\n",
    "- 논리연산자 : &(and), |(or), !(not)\n",
    "- 연산자의 결과는 반드시 참(T) 또는 거짓(F)"
   ]
  },
  {
   "cell_type": "markdown",
   "id": "f79f41f5",
   "metadata": {},
   "source": [
    "# 변수(Variable)\n",
    "1. 변수명의 작성규칙\n",
    " - 알파벳, 숫자, 밑줄(_)로 선언할 수 있다.\n",
    " - 첫글자는 영문자 대,소문자, 밑줄(_)로 시작한다.\n",
    " - 변수명은 의미 있는 단어로 표현하는 것이 좋다.\n",
    " - 변수명은 대소문자가 구분된다.\n",
    " - 길이 제한이 없다.\n",
    " - 공백을 포함할 수 없다.\n",
    " - 예약어는 사용할 수 없다.\n",
    "\n",
    "<br>\n",
    "\n",
    "2. 동적타이핑(Dynamic Typing)\n",
    " - 변수의 메모리 공간을 확보하는 행위가 실행시점에서 발생하는 것\n",
    " - 일반적으로 C나 Java처럼 변수를 사용하기 전에 선언해야 하는 것은 정적 타이핑(static typing)"
   ]
  },
  {
   "cell_type": "code",
   "execution_count": 44,
   "id": "ba6ab767",
   "metadata": {
    "ExecuteTime": {
     "end_time": "2023-08-22T02:20:35.716878Z",
     "start_time": "2023-08-22T02:20:35.710003Z"
    }
   },
   "outputs": [],
   "source": [
    "# 형식 : 변수 = 상수(리터널, 값), 변수, 함수식\n",
    "pi = 3.14159265"
   ]
  },
  {
   "cell_type": "code",
   "execution_count": 45,
   "id": "bce785f3",
   "metadata": {
    "ExecuteTime": {
     "end_time": "2023-08-22T02:21:08.750988Z",
     "start_time": "2023-08-22T02:21:08.742167Z"
    }
   },
   "outputs": [
    {
     "data": {
      "text/plain": [
       "3.14159265"
      ]
     },
     "execution_count": 45,
     "metadata": {},
     "output_type": "execute_result"
    }
   ],
   "source": [
    "pi"
   ]
  },
  {
   "cell_type": "code",
   "execution_count": 46,
   "id": "7a822c4b",
   "metadata": {
    "ExecuteTime": {
     "end_time": "2023-08-22T02:22:27.592421Z",
     "start_time": "2023-08-22T02:22:27.573557Z"
    }
   },
   "outputs": [
    {
     "data": {
      "text/plain": [
       "10"
      ]
     },
     "execution_count": 46,
     "metadata": {},
     "output_type": "execute_result"
    }
   ],
   "source": [
    "a = 10\n",
    "a"
   ]
  },
  {
   "cell_type": "code",
   "execution_count": 47,
   "id": "4c590bd5",
   "metadata": {
    "ExecuteTime": {
     "end_time": "2023-08-22T02:27:59.017356Z",
     "start_time": "2023-08-22T02:27:59.007225Z"
    }
   },
   "outputs": [
    {
     "name": "stdout",
     "output_type": "stream",
     "text": [
      "원주율 :  3.14159265\n",
      "반지름 :  10\n",
      "원의둘레 :  62.831853\n",
      "원의면적 :  314.159265\n"
     ]
    }
   ],
   "source": [
    "# 원주율을 이용하여 반지름이 10인 원의 넓이와 둘레를 계산하여 출력하는 프로그램\n",
    "## 선언문영역, 초기화영역 : 변수를 선언하고 변수에 처음값을 담는 영역\n",
    "pi = 3.14159265\n",
    "r = 10\n",
    "## 입력문영역 : 변수에 값을 입력받는 영역\n",
    "## 처리문영역 : 명령어나 제어문을 통해 프로그램을 처리하는 영역\n",
    "## 출력문영역 \n",
    "print(\"원주율 : \", pi)\n",
    "print(\"반지름 : \", r)\n",
    "print(\"원의둘레 : \", 2*pi*r)\n",
    "print(\"원의면적 : \", r*r*pi)"
   ]
  },
  {
   "cell_type": "markdown",
   "id": "6aa2e880",
   "metadata": {},
   "source": [
    "## 배정대입연산자 or 복합 대입연산자\n",
    "- 기본연산자와 대입연산자(=)을 함께 사용하는 것\n",
    "- 대입연산자(=) 좌우에 동일한 변수가 주어질 때 축약형으로 구현\n",
    "- 연산자 종류 : +=,-=, *=, /=, %="
   ]
  },
  {
   "cell_type": "code",
   "execution_count": 49,
   "id": "dd613f4b",
   "metadata": {
    "ExecuteTime": {
     "end_time": "2023-08-22T02:31:51.765175Z",
     "start_time": "2023-08-22T02:31:51.755563Z"
    }
   },
   "outputs": [
    {
     "name": "stdout",
     "output_type": "stream",
     "text": [
      "x=  10\n",
      "x=  20\n"
     ]
    }
   ],
   "source": [
    "x = 10\n",
    "print(\"x= \", x)\n",
    "\n",
    "x += 10 # x = x + 10\n",
    "print(\"x= \", x)"
   ]
  },
  {
   "cell_type": "code",
   "execution_count": 50,
   "id": "23f6e1ed",
   "metadata": {
    "ExecuteTime": {
     "end_time": "2023-08-22T02:33:25.297606Z",
     "start_time": "2023-08-22T02:33:25.281185Z"
    }
   },
   "outputs": [
    {
     "name": "stdout",
     "output_type": "stream",
     "text": [
      "string :  안녕하세요!!\n"
     ]
    }
   ],
   "source": [
    "# 문자열에서 '+' 연산자는 연결연산자, 문자열과 문자열을 연결할때 사용한다.\n",
    "string = \"안녕하세요\"\n",
    "string += \"!\"\n",
    "string += \"!\"\n",
    "print(\"string : \", string)"
   ]
  },
  {
   "cell_type": "code",
   "execution_count": 51,
   "id": "48f88875",
   "metadata": {
    "ExecuteTime": {
     "end_time": "2023-08-22T02:36:50.442525Z",
     "start_time": "2023-08-22T02:36:50.429093Z"
    }
   },
   "outputs": [
    {
     "name": "stdout",
     "output_type": "stream",
     "text": [
      "안녕하세요안녕하세요안녕하세요\n"
     ]
    }
   ],
   "source": [
    "# 문자열에서 '*' 연산자는 반복연산자, 해당문자열을 주어진 반복횟수만큼 반복처리한다.\n",
    "string = \"안녕하세요\"\n",
    "print(string*3)"
   ]
  },
  {
   "cell_type": "markdown",
   "id": "e1c458cc",
   "metadata": {},
   "source": [
    "# 문자열 자료형"
   ]
  },
  {
   "cell_type": "markdown",
   "id": "582e3b9e",
   "metadata": {},
   "source": [
    "## 문자열 생성\n",
    "\n",
    "- 한줄 문자열은 ''(작은따옴표), \"\"(큰따옴표)\n",
    "- 여러줄 문자열은 \"\"\"\"\"\"(큰따옴표3개), ''''''(작은따옴표3개)"
   ]
  },
  {
   "cell_type": "code",
   "execution_count": 52,
   "id": "b38d94b2",
   "metadata": {
    "ExecuteTime": {
     "end_time": "2023-08-22T03:08:29.228948Z",
     "start_time": "2023-08-22T03:08:29.225915Z"
    }
   },
   "outputs": [
    {
     "name": "stdout",
     "output_type": "stream",
     "text": [
      "hello world\n",
      "<class 'str'>\n"
     ]
    }
   ],
   "source": [
    "a = \"hello world\"\n",
    "print(a)\n",
    "print(type(a))"
   ]
  },
  {
   "cell_type": "code",
   "execution_count": 53,
   "id": "20355e65",
   "metadata": {
    "ExecuteTime": {
     "end_time": "2023-08-22T03:09:01.090204Z",
     "start_time": "2023-08-22T03:09:01.075022Z"
    }
   },
   "outputs": [
    {
     "name": "stdout",
     "output_type": "stream",
     "text": [
      "hello\n"
     ]
    }
   ],
   "source": [
    "b = 'hello'\n",
    "print(b)"
   ]
  },
  {
   "cell_type": "code",
   "execution_count": 54,
   "id": "980d23db",
   "metadata": {
    "ExecuteTime": {
     "end_time": "2023-08-22T03:09:49.482904Z",
     "start_time": "2023-08-22T03:09:49.469777Z"
    }
   },
   "outputs": [
    {
     "name": "stdout",
     "output_type": "stream",
     "text": [
      "오늘은 화요일 !!\n"
     ]
    }
   ],
   "source": [
    "c = \"\"\"오늘은 화요일 !!\"\"\"\n",
    "print(c)"
   ]
  },
  {
   "cell_type": "code",
   "execution_count": 56,
   "id": "1fa2e3d1",
   "metadata": {
    "ExecuteTime": {
     "end_time": "2023-08-22T03:10:51.888682Z",
     "start_time": "2023-08-22T03:10:51.876756Z"
    }
   },
   "outputs": [
    {
     "name": "stdout",
     "output_type": "stream",
     "text": [
      "Life is short,\n",
      " You need Python.\n",
      " Good Luck^^\n",
      " \n"
     ]
    }
   ],
   "source": [
    "d = '''Life is short,\n",
    " You need Python.\n",
    " Good Luck^^\n",
    " '''\n",
    "print(d)"
   ]
  },
  {
   "cell_type": "code",
   "execution_count": 57,
   "id": "933d7e73",
   "metadata": {
    "ExecuteTime": {
     "end_time": "2023-08-22T03:12:22.762311Z",
     "start_time": "2023-08-22T03:12:22.754250Z"
    }
   },
   "outputs": [
    {
     "name": "stdout",
     "output_type": "stream",
     "text": [
      "Life is too short,\n",
      " You need Python,\n",
      " Good Luck^^\n"
     ]
    }
   ],
   "source": [
    "e = \"Life is too short,\\n You need Python,\\n Good Luck^^\"\n",
    "print(e)"
   ]
  },
  {
   "cell_type": "markdown",
   "id": "ed1cbcb9",
   "metadata": {},
   "source": [
    "## 문자열 연산 : +,*"
   ]
  },
  {
   "cell_type": "code",
   "execution_count": 59,
   "id": "81ff33f8",
   "metadata": {
    "ExecuteTime": {
     "end_time": "2023-08-22T03:14:15.996248Z",
     "start_time": "2023-08-22T03:14:15.993219Z"
    }
   },
   "outputs": [
    {
     "name": "stdout",
     "output_type": "stream",
     "text": [
      "pythonpython\n",
      "pythonhello\n"
     ]
    }
   ],
   "source": [
    "a = 'python'\n",
    "b = 'hello'\n",
    "\n",
    "print(a*2)\n",
    "print(a + b)"
   ]
  },
  {
   "cell_type": "markdown",
   "id": "90d89842",
   "metadata": {},
   "source": [
    "## 문자열 인덱싱(Indexing)\n",
    "- **인덱싱(Indexing)**은 특정위치를 가리킨다는 의미를 가진다.\n",
    "- 문자열은 일반적으로 메모리에 저장될 때 list 즉, 1차원 배열의 형태로 저장된다.\n",
    "- 각 문자는 해당 위치(인덱스 또는 색인)를 통해서 읽어올 수 있다.\n",
    "- 인덱스의 시작은 0부터 시작된다."
   ]
  },
  {
   "cell_type": "code",
   "execution_count": 60,
   "id": "2ac4965b",
   "metadata": {
    "ExecuteTime": {
     "end_time": "2023-08-22T03:17:28.590982Z",
     "start_time": "2023-08-22T03:17:28.586835Z"
    }
   },
   "outputs": [
    {
     "name": "stdout",
     "output_type": "stream",
     "text": [
      "Life is too short, You Need Python.\n"
     ]
    }
   ],
   "source": [
    "string = \"Life is too short, You Need Python.\"\n",
    "print(string)"
   ]
  },
  {
   "cell_type": "code",
   "execution_count": 61,
   "id": "22d49df0",
   "metadata": {
    "ExecuteTime": {
     "end_time": "2023-08-22T03:18:39.188634Z",
     "start_time": "2023-08-22T03:18:39.173591Z"
    }
   },
   "outputs": [
    {
     "data": {
      "text/plain": [
       "'L'"
      ]
     },
     "execution_count": 61,
     "metadata": {},
     "output_type": "execute_result"
    }
   ],
   "source": [
    "string[0]"
   ]
  },
  {
   "cell_type": "code",
   "execution_count": 62,
   "id": "4abc603c",
   "metadata": {
    "ExecuteTime": {
     "end_time": "2023-08-22T03:20:15.514758Z",
     "start_time": "2023-08-22T03:20:15.511194Z"
    }
   },
   "outputs": [
    {
     "data": {
      "text/plain": [
       "'Life'"
      ]
     },
     "execution_count": 62,
     "metadata": {},
     "output_type": "execute_result"
    }
   ],
   "source": [
    "# [인덱스]\n",
    "# [start:stop] : start : stop-1까지\n",
    "string[0:4]"
   ]
  },
  {
   "cell_type": "code",
   "execution_count": 63,
   "id": "f3fc0fa4",
   "metadata": {
    "ExecuteTime": {
     "end_time": "2023-08-22T03:21:22.029658Z",
     "start_time": "2023-08-22T03:21:22.021055Z"
    }
   },
   "outputs": [
    {
     "data": {
      "text/plain": [
       "'.'"
      ]
     },
     "execution_count": 63,
     "metadata": {},
     "output_type": "execute_result"
    }
   ],
   "source": [
    "string[-1]"
   ]
  },
  {
   "cell_type": "code",
   "execution_count": 68,
   "id": "2d9435ad",
   "metadata": {
    "ExecuteTime": {
     "end_time": "2023-08-22T03:24:02.969614Z",
     "start_time": "2023-08-22T03:24:02.953915Z"
    }
   },
   "outputs": [
    {
     "data": {
      "text/plain": [
       "'Python.'"
      ]
     },
     "execution_count": 68,
     "metadata": {},
     "output_type": "execute_result"
    }
   ],
   "source": [
    "string[-7:]"
   ]
  },
  {
   "cell_type": "markdown",
   "id": "4592b509",
   "metadata": {},
   "source": [
    "## 문자열 포매팅(Formating)\n",
    "- 문자열 내의 특정 위치값을 바꾸거나 서식을 이용하여 표시할 때 사용한다.\n",
    "- 서식(format) 기호\n",
    "  1. %s : 문자열(string)\n",
    "  2. %c : 문자1개(character)\n",
    "  3. %d : 10진정수(decimal)\n",
    "  4. %f : 실수(float)\n",
    "  5. %o : 8진수\n",
    "  6. %x : 16진수\n",
    "  7. %% : %"
   ]
  },
  {
   "cell_type": "markdown",
   "id": "5b3a9f50",
   "metadata": {},
   "source": [
    "## 문자열 관련 함수"
   ]
  },
  {
   "cell_type": "code",
   "execution_count": 69,
   "id": "fa91a671",
   "metadata": {
    "ExecuteTime": {
     "end_time": "2023-08-22T03:28:31.554160Z",
     "start_time": "2023-08-22T03:28:31.544811Z"
    }
   },
   "outputs": [
    {
     "data": {
      "text/plain": [
       "'aaa bbb ccc'"
      ]
     },
     "execution_count": 69,
     "metadata": {},
     "output_type": "execute_result"
    }
   ],
   "source": [
    "string = \"aaa bbb ccc\"\n",
    "string"
   ]
  },
  {
   "cell_type": "code",
   "execution_count": 70,
   "id": "ffccd0eb",
   "metadata": {
    "ExecuteTime": {
     "end_time": "2023-08-22T03:28:53.469599Z",
     "start_time": "2023-08-22T03:28:53.454167Z"
    }
   },
   "outputs": [
    {
     "data": {
      "text/plain": [
       "['aaa', 'bbb', 'ccc']"
      ]
     },
     "execution_count": 70,
     "metadata": {},
     "output_type": "execute_result"
    }
   ],
   "source": [
    "string.split()"
   ]
  },
  {
   "cell_type": "code",
   "execution_count": 71,
   "id": "5116bdde",
   "metadata": {
    "ExecuteTime": {
     "end_time": "2023-08-22T03:29:50.512907Z",
     "start_time": "2023-08-22T03:29:50.504226Z"
    }
   },
   "outputs": [
    {
     "data": {
      "text/plain": [
       "['123456', 'abcdefg']"
      ]
     },
     "execution_count": 71,
     "metadata": {},
     "output_type": "execute_result"
    }
   ],
   "source": [
    "jumin = \"123456-abcdefg\"\n",
    "jumin.split('-')"
   ]
  },
  {
   "cell_type": "code",
   "execution_count": null,
   "id": "2f9e3802",
   "metadata": {},
   "outputs": [],
   "source": []
  }
 ],
 "metadata": {
  "kernelspec": {
   "display_name": "Python 3",
   "language": "python",
   "name": "python3"
  },
  "language_info": {
   "codemirror_mode": {
    "name": "ipython",
    "version": 3
   },
   "file_extension": ".py",
   "mimetype": "text/x-python",
   "name": "python",
   "nbconvert_exporter": "python",
   "pygments_lexer": "ipython3",
   "version": "3.8.8"
  },
  "toc": {
   "base_numbering": 1,
   "nav_menu": {
    "height": "179px",
    "width": "245px"
   },
   "number_sections": true,
   "sideBar": true,
   "skip_h1_title": false,
   "title_cell": "Table of Contents",
   "title_sidebar": "Contents",
   "toc_cell": false,
   "toc_position": {
    "height": "calc(100% - 180px)",
    "left": "10px",
    "top": "150px",
    "width": "384px"
   },
   "toc_section_display": true,
   "toc_window_display": true
  }
 },
 "nbformat": 4,
 "nbformat_minor": 5
}
