{
 "cells": [
  {
   "cell_type": "markdown",
   "id": "9df48b3b",
   "metadata": {},
   "source": [
    "# 리스트(List)\n",
    "## 리스트 생성"
   ]
  },
  {
   "cell_type": "code",
   "execution_count": 1,
   "id": "309ad25c",
   "metadata": {
    "ExecuteTime": {
     "end_time": "2023-08-23T00:34:47.580163Z",
     "start_time": "2023-08-23T00:34:47.564867Z"
    }
   },
   "outputs": [],
   "source": [
    "a = list()"
   ]
  },
  {
   "cell_type": "code",
   "execution_count": 2,
   "id": "88227743",
   "metadata": {
    "ExecuteTime": {
     "end_time": "2023-08-23T00:34:55.840717Z",
     "start_time": "2023-08-23T00:34:55.822171Z"
    }
   },
   "outputs": [
    {
     "name": "stdout",
     "output_type": "stream",
     "text": [
      "<class 'list'>\n"
     ]
    }
   ],
   "source": [
    "print(type(a))"
   ]
  },
  {
   "cell_type": "code",
   "execution_count": 14,
   "id": "b3d41209",
   "metadata": {
    "ExecuteTime": {
     "end_time": "2023-08-23T00:48:19.463190Z",
     "start_time": "2023-08-23T00:48:19.450723Z"
    }
   },
   "outputs": [
    {
     "name": "stdout",
     "output_type": "stream",
     "text": [
      "[1, 2, 3, 4, 5]\n",
      "<class 'list'>\n",
      "1\n",
      "5\n",
      "[10, 2, 3, 4, 5]\n",
      "[2, 3, 4]\n",
      "[10, 2, 3]\n",
      "[3, 4, 5]\n",
      "[10, 2, 3, 4, 5]\n"
     ]
    }
   ],
   "source": [
    "#리스트생성\n",
    "l1 = [1,2,3,4,5]\n",
    "print(l1)\n",
    "print(type(l1))\n",
    "\n",
    "# Indexing(인덱싱) : 특정 위치의 값을 추출하는 기능, [index]\n",
    "print(l1[0])\n",
    "# 리버스 인덱스(reverse index) : 리스트의 마지막 인덱스를 시작값으로 처리하는 인덱스\n",
    "print(l1[-1])\n",
    "# 변경가능\n",
    "l1[0] = 10\n",
    "print(l1)\n",
    "# Slicing(슬라이싱) : 일부분의 값을 추출하는 기능, [시작위치:마지막위치], 실제추출(마지막위치-1)\n",
    "# 2,3,4 추출\n",
    "print(l1[1:4])\n",
    "# 시작위치값 생략하면 처음부터 추출\n",
    "print(l1[:3])\n",
    "# 마지막위치값 생략하면 마지막까지 추출\n",
    "print(l1[2:])\n",
    "# 모든값 추출\n",
    "print(l1[:])"
   ]
  },
  {
   "cell_type": "code",
   "execution_count": 4,
   "id": "9fa9b7ea",
   "metadata": {
    "ExecuteTime": {
     "end_time": "2023-08-23T00:36:57.882669Z",
     "start_time": "2023-08-23T00:36:57.864451Z"
    }
   },
   "outputs": [],
   "source": [
    "#숫자값을 담고 있는 리스트\n",
    "x = [1,2,3,4,5]\n",
    "y = ['python', 'c++', 'java']\n",
    "z = ['python', 1, -100]"
   ]
  },
  {
   "cell_type": "code",
   "execution_count": 5,
   "id": "bb591887",
   "metadata": {
    "ExecuteTime": {
     "end_time": "2023-08-23T00:37:01.235475Z",
     "start_time": "2023-08-23T00:37:01.227454Z"
    }
   },
   "outputs": [
    {
     "data": {
      "text/plain": [
       "[1, 2, 3, 4, 5]"
      ]
     },
     "execution_count": 5,
     "metadata": {},
     "output_type": "execute_result"
    }
   ],
   "source": [
    "x"
   ]
  },
  {
   "cell_type": "code",
   "execution_count": 6,
   "id": "7d3fafc3",
   "metadata": {
    "ExecuteTime": {
     "end_time": "2023-08-23T00:37:03.169217Z",
     "start_time": "2023-08-23T00:37:03.156728Z"
    }
   },
   "outputs": [
    {
     "data": {
      "text/plain": [
       "['python', 'c++', 'java']"
      ]
     },
     "execution_count": 6,
     "metadata": {},
     "output_type": "execute_result"
    }
   ],
   "source": [
    "y"
   ]
  },
  {
   "cell_type": "code",
   "execution_count": 7,
   "id": "2fbdc77d",
   "metadata": {
    "ExecuteTime": {
     "end_time": "2023-08-23T00:37:04.938458Z",
     "start_time": "2023-08-23T00:37:04.927395Z"
    }
   },
   "outputs": [
    {
     "data": {
      "text/plain": [
       "['python', 1, -100]"
      ]
     },
     "execution_count": 7,
     "metadata": {},
     "output_type": "execute_result"
    }
   ],
   "source": [
    "z"
   ]
  },
  {
   "cell_type": "code",
   "execution_count": 19,
   "id": "67a1b5a5",
   "metadata": {
    "ExecuteTime": {
     "end_time": "2023-08-23T00:53:59.182989Z",
     "start_time": "2023-08-23T00:53:59.175876Z"
    }
   },
   "outputs": [
    {
     "name": "stdout",
     "output_type": "stream",
     "text": [
      "3\n",
      "['a', 'b', 'c']\n",
      "c\n",
      "c\n"
     ]
    }
   ],
   "source": [
    "# 중첩리스트 : 리스트 안에 리스트를 가지고 있는 리스트\n",
    "a = [1, 2, 3, ['a', 'b', 'c']]\n",
    "# 리스트[행][열]\n",
    "print(a[2])\n",
    "print(a[3])\n",
    "print(a[3][2])\n",
    "print(a[-1][2])"
   ]
  },
  {
   "cell_type": "markdown",
   "id": "e194dade",
   "metadata": {},
   "source": [
    "## 리스트 연산"
   ]
  },
  {
   "cell_type": "code",
   "execution_count": 22,
   "id": "c0b92eb4",
   "metadata": {
    "ExecuteTime": {
     "end_time": "2023-08-23T01:11:03.933697Z",
     "start_time": "2023-08-23T01:11:03.913677Z"
    }
   },
   "outputs": [
    {
     "name": "stdout",
     "output_type": "stream",
     "text": [
      "c :  [1, 2, 3, 4, 5]\n",
      "d :  [3, 4, 5, 1, 2]\n",
      "e :  [1, 2, 1, 2, 1, 2]\n",
      "f :  [1, 2, 1, 2, 3, 4, 5, 3, 4, 5, 3, 4, 5]\n"
     ]
    }
   ],
   "source": [
    "# + 와 *\n",
    "## 더하기(+) : 리스트를 합치는 기능\n",
    "## 곱하기(*) : 리스트를 반복하는 기능(리스트*상수)\n",
    "a = [1,2]\n",
    "b = [3,4,5]\n",
    "\n",
    "c = a + b \n",
    "d = b + a\n",
    "\n",
    "e = a * 3\n",
    "f = a * 2 + b * 3\n",
    "\n",
    "print(\"c : \",c)\n",
    "print(\"d : \",d)\n",
    "print(\"e : \", e)\n",
    "print(\"f : \", f)"
   ]
  },
  {
   "cell_type": "markdown",
   "id": "4bce93a7",
   "metadata": {},
   "source": [
    "## 리스트의 인덱싱과 슬라이싱"
   ]
  },
  {
   "cell_type": "code",
   "execution_count": 23,
   "id": "ab9c39a0",
   "metadata": {
    "ExecuteTime": {
     "end_time": "2023-08-23T01:12:00.915787Z",
     "start_time": "2023-08-23T01:12:00.902705Z"
    }
   },
   "outputs": [
    {
     "name": "stdout",
     "output_type": "stream",
     "text": [
      "10\n",
      "5\n",
      "[10, 2, 3, 4, 5]\n",
      "[2, 3, 4]\n",
      "[10, 2, 3]\n",
      "[3, 4, 5]\n",
      "[10, 2, 3, 4, 5]\n"
     ]
    }
   ],
   "source": [
    "# Indexing(인덱싱) : 특정 위치의 값을 추출하는 기능, [index]\n",
    "print(l1[0])\n",
    "# 리버스 인덱스(reverse index) : 리스트의 마지막 인덱스를 시작값으로 처리하는 인덱스\n",
    "print(l1[-1])\n",
    "# 변경가능\n",
    "l1[0] = 10\n",
    "print(l1)\n",
    "# Slicing(슬라이싱) : 일부분의 값을 추출하는 기능, [시작위치:마지막위치], 실제추출(마지막위치-1)\n",
    "# 2,3,4 추출\n",
    "print(l1[1:4])\n",
    "# 시작위치값 생략하면 처음부터 추출\n",
    "print(l1[:3])\n",
    "# 마지막위치값 생략하면 마지막까지 추출\n",
    "print(l1[2:])\n",
    "# 모든값 추출\n",
    "print(l1[:])"
   ]
  },
  {
   "cell_type": "markdown",
   "id": "8e1f9a7f",
   "metadata": {},
   "source": [
    "## 리스트의 수정, 변경, 삭제"
   ]
  },
  {
   "cell_type": "code",
   "execution_count": 24,
   "id": "7ed0db0f",
   "metadata": {
    "ExecuteTime": {
     "end_time": "2023-08-23T01:12:44.661305Z",
     "start_time": "2023-08-23T01:12:44.649494Z"
    }
   },
   "outputs": [
    {
     "name": "stdout",
     "output_type": "stream",
     "text": [
      "[1, 2, -100, 4, 5]\n"
     ]
    }
   ],
   "source": [
    "a = [1,2,3,4,5]\n",
    "a[2] = -100\n",
    "print(a)"
   ]
  },
  {
   "cell_type": "code",
   "execution_count": 25,
   "id": "613f6dec",
   "metadata": {
    "ExecuteTime": {
     "end_time": "2023-08-23T01:13:18.563871Z",
     "start_time": "2023-08-23T01:13:18.556798Z"
    }
   },
   "outputs": [
    {
     "name": "stdout",
     "output_type": "stream",
     "text": [
      "[1, 'a', 'b', 'c', 3]\n"
     ]
    }
   ],
   "source": [
    "a = [1,2,3]\n",
    "a[1:2] = ['a','b','c']\n",
    "print(a)"
   ]
  },
  {
   "cell_type": "code",
   "execution_count": 26,
   "id": "94c3971f",
   "metadata": {
    "ExecuteTime": {
     "end_time": "2023-08-23T01:14:25.606051Z",
     "start_time": "2023-08-23T01:14:25.599959Z"
    }
   },
   "outputs": [
    {
     "name": "stdout",
     "output_type": "stream",
     "text": [
      "[10, 2, 3, 4, 5]\n",
      "[10, 2, 3, 4, 5]\n"
     ]
    }
   ],
   "source": [
    "# 파이썬의 메모리 관리 방식\n",
    "# 리스트(List) : 1차원 배열\n",
    "# 깊은복사와 얕은복사\n",
    "\n",
    "a = [1,2,3,4,5]\n",
    "b = a\n",
    "b[0] = 10\n",
    "print(a)\n",
    "print(b)"
   ]
  },
  {
   "cell_type": "code",
   "execution_count": 27,
   "id": "3d3277b9",
   "metadata": {
    "ExecuteTime": {
     "end_time": "2023-08-23T01:14:52.345410Z",
     "start_time": "2023-08-23T01:14:52.333415Z"
    }
   },
   "outputs": [
    {
     "name": "stdout",
     "output_type": "stream",
     "text": [
      "1897705794496\n",
      "1897705794496\n"
     ]
    }
   ],
   "source": [
    "# id() : 주소를 반환하는 함수\n",
    "print(id(a))\n",
    "print(id(b))"
   ]
  },
  {
   "cell_type": "code",
   "execution_count": 28,
   "id": "d76a5897",
   "metadata": {
    "ExecuteTime": {
     "end_time": "2023-08-23T01:15:43.544179Z",
     "start_time": "2023-08-23T01:15:43.540180Z"
    }
   },
   "outputs": [
    {
     "name": "stdout",
     "output_type": "stream",
     "text": [
      "[1, 2, 3, 4, 5]\n",
      "[-10, 2, 3, 4, 5]\n"
     ]
    }
   ],
   "source": [
    "a = [1,2,3,4,5]\n",
    "b = a[:]\n",
    "b[0] = -10\n",
    "print(a)\n",
    "print(b)"
   ]
  },
  {
   "cell_type": "code",
   "execution_count": 29,
   "id": "fc3101c0",
   "metadata": {
    "ExecuteTime": {
     "end_time": "2023-08-23T01:16:13.820562Z",
     "start_time": "2023-08-23T01:16:13.808454Z"
    }
   },
   "outputs": [
    {
     "name": "stdout",
     "output_type": "stream",
     "text": [
      "[1, [], 3]\n"
     ]
    }
   ],
   "source": [
    "# 삭제\n",
    "a =  [1,2,3]\n",
    "a[1] = []\n",
    "print(a)"
   ]
  },
  {
   "cell_type": "code",
   "execution_count": 30,
   "id": "78997f57",
   "metadata": {
    "ExecuteTime": {
     "end_time": "2023-08-23T01:16:38.674210Z",
     "start_time": "2023-08-23T01:16:38.658213Z"
    }
   },
   "outputs": [
    {
     "name": "stdout",
     "output_type": "stream",
     "text": [
      "[1, 3]\n"
     ]
    }
   ],
   "source": [
    "a = [1,2,3]\n",
    "del a[1]\n",
    "print(a)"
   ]
  },
  {
   "cell_type": "markdown",
   "id": "5755cb88",
   "metadata": {},
   "source": [
    "## 리스트 관련 함수"
   ]
  },
  {
   "cell_type": "code",
   "execution_count": 32,
   "id": "bc75c690",
   "metadata": {
    "ExecuteTime": {
     "end_time": "2023-08-23T01:17:36.433141Z",
     "start_time": "2023-08-23T01:17:36.419553Z"
    }
   },
   "outputs": [
    {
     "name": "stdout",
     "output_type": "stream",
     "text": [
      "[1, 2, 3, 4]\n"
     ]
    }
   ],
   "source": [
    "# append() : 리스트 맨 뒤에 추가\n",
    "a = [1,2,3]\n",
    "a.append(4)\n",
    "print(a)"
   ]
  },
  {
   "cell_type": "code",
   "execution_count": 33,
   "id": "f892569a",
   "metadata": {
    "ExecuteTime": {
     "end_time": "2023-08-23T01:18:12.095492Z",
     "start_time": "2023-08-23T01:18:12.083483Z"
    }
   },
   "outputs": [
    {
     "name": "stdout",
     "output_type": "stream",
     "text": [
      "[1, 2, 3, 4, [4, 5, 6]]\n"
     ]
    }
   ],
   "source": [
    "a.append([4,5,6])\n",
    "print(a)"
   ]
  },
  {
   "cell_type": "code",
   "execution_count": 36,
   "id": "14416024",
   "metadata": {
    "ExecuteTime": {
     "end_time": "2023-08-23T01:18:51.077775Z",
     "start_time": "2023-08-23T01:18:51.066748Z"
    }
   },
   "outputs": [
    {
     "name": "stdout",
     "output_type": "stream",
     "text": [
      "[1, 2, 3, 4, 5, 6]\n"
     ]
    }
   ],
   "source": [
    "a = [1,2,3]\n",
    "a.extend([4,5,6])\n",
    "print(a)"
   ]
  },
  {
   "cell_type": "code",
   "execution_count": 37,
   "id": "5c8ae8bb",
   "metadata": {
    "ExecuteTime": {
     "end_time": "2023-08-23T01:19:18.451228Z",
     "start_time": "2023-08-23T01:19:18.445122Z"
    }
   },
   "outputs": [
    {
     "name": "stdout",
     "output_type": "stream",
     "text": [
      "6\n"
     ]
    }
   ],
   "source": [
    "# len() : 원소의 개수 반환, 튜플, 사전\n",
    "print(len(a))"
   ]
  },
  {
   "cell_type": "code",
   "execution_count": 38,
   "id": "80b93704",
   "metadata": {
    "ExecuteTime": {
     "end_time": "2023-08-23T01:20:19.696854Z",
     "start_time": "2023-08-23T01:20:19.680782Z"
    }
   },
   "outputs": [
    {
     "name": "stdout",
     "output_type": "stream",
     "text": [
      "[1, 2, 3, 4, 5, 6]\n"
     ]
    }
   ],
   "source": [
    "# sort() :오름차순 정렬\n",
    "# sort(reverse=True) : 내림차순\n",
    "[1,3,2,4,5]\n",
    "print(a)\n",
    "a.sort()"
   ]
  },
  {
   "cell_type": "code",
   "execution_count": 40,
   "id": "e5351475",
   "metadata": {
    "ExecuteTime": {
     "end_time": "2023-08-23T01:20:55.973118Z",
     "start_time": "2023-08-23T01:20:55.959123Z"
    }
   },
   "outputs": [
    {
     "name": "stdout",
     "output_type": "stream",
     "text": [
      "[5, 4, 3, 2, 1]\n"
     ]
    }
   ],
   "source": [
    "a = [1,3,2,4,5]\n",
    "a.sort(reverse=True)\n",
    "print(a)"
   ]
  },
  {
   "cell_type": "code",
   "execution_count": 43,
   "id": "d8c51c2c",
   "metadata": {
    "ExecuteTime": {
     "end_time": "2023-08-23T01:22:46.745131Z",
     "start_time": "2023-08-23T01:22:46.734388Z"
    }
   },
   "outputs": [
    {
     "name": "stdout",
     "output_type": "stream",
     "text": [
      "[5, 4, 2, 3, 1]\n"
     ]
    }
   ],
   "source": [
    "# reverse() : 리스트를 역순으로 뒤집는 함수\n",
    "a = [1,3,2,4,5]\n",
    "a.reverse()\n",
    "print(a)"
   ]
  },
  {
   "cell_type": "code",
   "execution_count": 41,
   "id": "18f81dad",
   "metadata": {
    "ExecuteTime": {
     "end_time": "2023-08-23T01:21:30.198712Z",
     "start_time": "2023-08-23T01:21:30.187607Z"
    }
   },
   "outputs": [
    {
     "name": "stdout",
     "output_type": "stream",
     "text": [
      "[1, 3, 4, 5]\n"
     ]
    }
   ],
   "source": [
    "# remove : 값을 삭제하는 함수\n",
    "a = [1,2,3,4,5]\n",
    "a.remove(2)\n",
    "print(a)"
   ]
  },
  {
   "cell_type": "code",
   "execution_count": 46,
   "id": "e328d608",
   "metadata": {
    "ExecuteTime": {
     "end_time": "2023-08-23T01:26:10.349425Z",
     "start_time": "2023-08-23T01:26:10.334294Z"
    }
   },
   "outputs": [
    {
     "name": "stdout",
     "output_type": "stream",
     "text": [
      "[1, 2, 3, 4]\n",
      "5\n"
     ]
    }
   ],
   "source": [
    "# pop() : 마지막에 입력된값을 추출(삭제)\n",
    "a = [1,2,3,4,5]\n",
    "xx = a.pop()\n",
    "print(a)\n",
    "print(xx)"
   ]
  },
  {
   "cell_type": "code",
   "execution_count": 45,
   "id": "e614eeea",
   "metadata": {
    "ExecuteTime": {
     "end_time": "2023-08-23T01:25:35.677288Z",
     "start_time": "2023-08-23T01:25:35.660038Z"
    }
   },
   "outputs": [
    {
     "name": "stdout",
     "output_type": "stream",
     "text": [
      "[2, 3, 4]\n"
     ]
    }
   ],
   "source": [
    "# pop(index)\n",
    "a.pop(0)\n",
    "print(a)"
   ]
  },
  {
   "cell_type": "code",
   "execution_count": 48,
   "id": "cad5aaac",
   "metadata": {
    "ExecuteTime": {
     "end_time": "2023-08-23T01:28:30.324104Z",
     "start_time": "2023-08-23T01:28:30.312437Z"
    }
   },
   "outputs": [
    {
     "name": "stdout",
     "output_type": "stream",
     "text": [
      "[]\n"
     ]
    }
   ],
   "source": [
    "# clear() : 리스트의 모든 요소 제거\n",
    "a = [1,2,3,4,5]\n",
    "a.clear()\n",
    "print(a)"
   ]
  },
  {
   "cell_type": "markdown",
   "id": "b0afa775",
   "metadata": {},
   "source": [
    "# 튜플(Tuple)\n",
    "- 리스트와 유사한 자료구조 유일하게 다른 점은 변경이 불가하다.\n",
    "- 읽기전용 자료를 보관할 때 사용\n",
    "- 각 값에 인덱스가 부여된다.\n",
    "- 생성 : (), tuple()\n",
    "- 리스트관련함수도 함께 사용가능"
   ]
  },
  {
   "cell_type": "code",
   "execution_count": 53,
   "id": "f92dbfa4",
   "metadata": {
    "ExecuteTime": {
     "end_time": "2023-08-23T01:30:34.024030Z",
     "start_time": "2023-08-23T01:30:34.005559Z"
    }
   },
   "outputs": [
    {
     "name": "stdout",
     "output_type": "stream",
     "text": [
      "<class 'tuple'>\n"
     ]
    }
   ],
   "source": [
    "#파이썬의 기본 자료형은 튜플이다.\n",
    "a = 1,2,3,4,5\n",
    "print(type(a))"
   ]
  },
  {
   "cell_type": "code",
   "execution_count": 57,
   "id": "46fc3c4f",
   "metadata": {
    "ExecuteTime": {
     "end_time": "2023-08-23T01:34:33.924352Z",
     "start_time": "2023-08-23T01:34:33.906946Z"
    }
   },
   "outputs": [
    {
     "name": "stdout",
     "output_type": "stream",
     "text": [
      "(1, 2, 'a', 'b', 3, 4)\n",
      "(1, 2, 'a', 'b', 1, 2, 'a', 'b')\n"
     ]
    }
   ],
   "source": [
    "# 튜플 연산 : +, *\n",
    "t1 = (1, 2, 'a', 'b')\n",
    "t2 = (3, 4)\n",
    "t3 = t1 + t2\n",
    "print(t3)\n",
    "t4 = t1*2\n",
    "print(t4)"
   ]
  },
  {
   "cell_type": "code",
   "execution_count": 56,
   "id": "64b4daf8",
   "metadata": {
    "ExecuteTime": {
     "end_time": "2023-08-23T01:33:34.718907Z",
     "start_time": "2023-08-23T01:33:34.711140Z"
    }
   },
   "outputs": [
    {
     "name": "stdout",
     "output_type": "stream",
     "text": [
      "[1, 2, 3, 4, 5] <class 'list'>\n",
      "(1, 2, 3, 4, 5) <class 'tuple'>\n"
     ]
    }
   ],
   "source": [
    "# 형변환\n",
    "a = [1,2,3,4,5]\n",
    "b = tuple(a)\n",
    "print(a, type(a))\n",
    "print(b, type(b))"
   ]
  },
  {
   "cell_type": "markdown",
   "id": "10003306",
   "metadata": {},
   "source": [
    "# 사전(Dictionary)\n",
    "\n",
    "- 파이썬에서 가장 많이 사용되는 자료구조\n",
    "- 데이터분석을 위한 라이브러리 pandas : 시리즈와 데이터프레임\n",
    "- 키와 값을 쌍으로 관리하는 자료구조\n",
    "- 키는 중복을 허용하지 않지만 값은 중복을 허용한다.\n",
    "- 순서가 중요하지 않다.\n",
    "- 키(key)를 통해 데이터를 읽어온다.\n",
    "- 생성 : {}, dict()"
   ]
  },
  {
   "cell_type": "code",
   "execution_count": 59,
   "id": "bd676f31",
   "metadata": {
    "ExecuteTime": {
     "end_time": "2023-08-23T01:39:09.218369Z",
     "start_time": "2023-08-23T01:39:09.208669Z"
    }
   },
   "outputs": [
    {
     "name": "stdout",
     "output_type": "stream",
     "text": [
      "{} <class 'dict'>\n",
      "<class 'dict'>\n"
     ]
    }
   ],
   "source": [
    "a = {}\n",
    "print(a, type(a))\n",
    "b = dict()\n",
    "print(type(b))"
   ]
  },
  {
   "cell_type": "code",
   "execution_count": 60,
   "id": "88197afd",
   "metadata": {
    "ExecuteTime": {
     "end_time": "2023-08-23T01:41:12.694620Z",
     "start_time": "2023-08-23T01:41:12.680225Z"
    }
   },
   "outputs": [
    {
     "name": "stdout",
     "output_type": "stream",
     "text": [
      "{'name': '홍길동', 'phone': '010-9999-1234', 'birth': '2023-08-23'}\n"
     ]
    }
   ],
   "source": [
    "dic = {'name':'홍길동', 'phone':'010-9999-1234', 'birth':'2023-08-23'}\n",
    "print(dic)"
   ]
  },
  {
   "cell_type": "code",
   "execution_count": 61,
   "id": "aa36d5ff",
   "metadata": {
    "ExecuteTime": {
     "end_time": "2023-08-23T01:41:50.293626Z",
     "start_time": "2023-08-23T01:41:50.284547Z"
    }
   },
   "outputs": [
    {
     "name": "stdout",
     "output_type": "stream",
     "text": [
      "홍길동\n"
     ]
    }
   ],
   "source": [
    "print(dic['name'])"
   ]
  },
  {
   "cell_type": "code",
   "execution_count": 62,
   "id": "e559ee1b",
   "metadata": {
    "ExecuteTime": {
     "end_time": "2023-08-23T01:42:48.473136Z",
     "start_time": "2023-08-23T01:42:48.468174Z"
    }
   },
   "outputs": [
    {
     "name": "stdout",
     "output_type": "stream",
     "text": [
      "장보고\n"
     ]
    }
   ],
   "source": [
    "dic['name'] = '장보고'\n",
    "print(dic['name'])"
   ]
  },
  {
   "cell_type": "code",
   "execution_count": 63,
   "id": "de67e7bd",
   "metadata": {
    "ExecuteTime": {
     "end_time": "2023-08-23T01:43:20.320137Z",
     "start_time": "2023-08-23T01:43:20.305232Z"
    }
   },
   "outputs": [
    {
     "name": "stdout",
     "output_type": "stream",
     "text": [
      "{'name': '장보고', 'phone': '010-9999-1234'}\n"
     ]
    }
   ],
   "source": [
    "del dic['birth']\n",
    "print(dic)"
   ]
  },
  {
   "cell_type": "code",
   "execution_count": 64,
   "id": "0fcd3a2e",
   "metadata": {
    "ExecuteTime": {
     "end_time": "2023-08-23T01:44:09.640925Z",
     "start_time": "2023-08-23T01:44:09.637242Z"
    }
   },
   "outputs": [
    {
     "name": "stdout",
     "output_type": "stream",
     "text": [
      "{'name': '장보고', 'phone': '010-9999-1234', 'gender': 'M'}\n"
     ]
    }
   ],
   "source": [
    "dic['gender'] = 'M'\n",
    "print(dic)"
   ]
  },
  {
   "cell_type": "code",
   "execution_count": 65,
   "id": "867639d0",
   "metadata": {
    "ExecuteTime": {
     "end_time": "2023-08-23T01:44:56.614794Z",
     "start_time": "2023-08-23T01:44:56.599261Z"
    }
   },
   "outputs": [
    {
     "data": {
      "text/plain": [
       "dict_keys(['name', 'phone', 'gender'])"
      ]
     },
     "execution_count": 65,
     "metadata": {},
     "output_type": "execute_result"
    }
   ],
   "source": [
    "#key만 추출\n",
    "dic.keys()"
   ]
  },
  {
   "cell_type": "code",
   "execution_count": 66,
   "id": "fbb793cc",
   "metadata": {
    "ExecuteTime": {
     "end_time": "2023-08-23T01:46:56.650644Z",
     "start_time": "2023-08-23T01:46:56.646705Z"
    }
   },
   "outputs": [
    {
     "name": "stdout",
     "output_type": "stream",
     "text": [
      "name\n",
      "phone\n",
      "gender\n"
     ]
    }
   ],
   "source": [
    "# for 개별변수 in 집합변수 :\n",
    "for key in dic.keys():\n",
    "    print(key)"
   ]
  },
  {
   "cell_type": "code",
   "execution_count": 67,
   "id": "b90d64fd",
   "metadata": {
    "ExecuteTime": {
     "end_time": "2023-08-23T01:47:30.635151Z",
     "start_time": "2023-08-23T01:47:30.628151Z"
    }
   },
   "outputs": [
    {
     "data": {
      "text/plain": [
       "dict_values(['장보고', '010-9999-1234', 'M'])"
      ]
     },
     "execution_count": 67,
     "metadata": {},
     "output_type": "execute_result"
    }
   ],
   "source": [
    "dic.values()"
   ]
  },
  {
   "cell_type": "code",
   "execution_count": 68,
   "id": "936cd0ff",
   "metadata": {
    "ExecuteTime": {
     "end_time": "2023-08-23T01:47:56.898205Z",
     "start_time": "2023-08-23T01:47:56.891075Z"
    }
   },
   "outputs": [
    {
     "data": {
      "text/plain": [
       "['장보고', '010-9999-1234', 'M']"
      ]
     },
     "execution_count": 68,
     "metadata": {},
     "output_type": "execute_result"
    }
   ],
   "source": [
    "list(dic.values())"
   ]
  },
  {
   "cell_type": "code",
   "execution_count": 69,
   "id": "3f3f3ad5",
   "metadata": {
    "ExecuteTime": {
     "end_time": "2023-08-23T01:48:14.568498Z",
     "start_time": "2023-08-23T01:48:14.555559Z"
    }
   },
   "outputs": [
    {
     "data": {
      "text/plain": [
       "dict_items([('name', '장보고'), ('phone', '010-9999-1234'), ('gender', 'M')])"
      ]
     },
     "execution_count": 69,
     "metadata": {},
     "output_type": "execute_result"
    }
   ],
   "source": [
    "dic.items()"
   ]
  },
  {
   "cell_type": "code",
   "execution_count": 70,
   "id": "325acd34",
   "metadata": {
    "ExecuteTime": {
     "end_time": "2023-08-23T01:49:20.155781Z",
     "start_time": "2023-08-23T01:49:20.148587Z"
    }
   },
   "outputs": [
    {
     "name": "stdout",
     "output_type": "stream",
     "text": [
      "name : 장보고\n",
      "phone : 010-9999-1234\n",
      "gender : M\n"
     ]
    }
   ],
   "source": [
    "for key, value in dic.items():\n",
    "    print(f\"{key} : {value}\")"
   ]
  },
  {
   "cell_type": "code",
   "execution_count": 72,
   "id": "7ec38681",
   "metadata": {
    "ExecuteTime": {
     "end_time": "2023-08-23T01:50:56.340558Z",
     "start_time": "2023-08-23T01:50:56.333469Z"
    }
   },
   "outputs": [
    {
     "name": "stdout",
     "output_type": "stream",
     "text": [
      "장보고\n",
      "장보고\n"
     ]
    }
   ],
   "source": [
    "# get() : key를 이용해서 value를 얻어오는 함수\n",
    "print(dic['name'])\n",
    "print(dic.get('name'))"
   ]
  },
  {
   "cell_type": "markdown",
   "id": "aed226b3",
   "metadata": {},
   "source": [
    "# 집합(set)\n",
    "- 인덱스가 없고, 값만 저장되는 자료구조\n",
    "- 순서는 의미가 없다.\n",
    "- 생성 : {}, set()\n",
    "- 콤마(,)를 기준으로 아이템 구분\n",
    "- 중복값을 허용하지 않는다."
   ]
  },
  {
   "cell_type": "code",
   "execution_count": 74,
   "id": "2a6f55fb",
   "metadata": {
    "ExecuteTime": {
     "end_time": "2023-08-23T01:52:34.574297Z",
     "start_time": "2023-08-23T01:52:34.567182Z"
    }
   },
   "outputs": [
    {
     "name": "stdout",
     "output_type": "stream",
     "text": [
      "{1, 2, 3}\n"
     ]
    }
   ],
   "source": [
    "s1 = set([1, 2, 3])\n",
    "print(s1)"
   ]
  },
  {
   "cell_type": "code",
   "execution_count": 76,
   "id": "cc155589",
   "metadata": {
    "ExecuteTime": {
     "end_time": "2023-08-23T01:53:42.658005Z",
     "start_time": "2023-08-23T01:53:42.653937Z"
    }
   },
   "outputs": [
    {
     "name": "stdout",
     "output_type": "stream",
     "text": [
      "{'p', 'h', 'y', 't', 'o', 'n'}\n"
     ]
    }
   ],
   "source": [
    "s2 = set('python')\n",
    "print(s2)"
   ]
  },
  {
   "cell_type": "code",
   "execution_count": 77,
   "id": "e8e66aa4",
   "metadata": {
    "ExecuteTime": {
     "end_time": "2023-08-23T01:55:52.451536Z",
     "start_time": "2023-08-23T01:55:52.439502Z"
    }
   },
   "outputs": [
    {
     "name": "stdout",
     "output_type": "stream",
     "text": [
      "[1, 2, 3, 4, 5, 6, 6, 7] <class 'list'>\n",
      "{1, 2, 3, 4, 5, 6, 7} <class 'set'>\n"
     ]
    }
   ],
   "source": [
    "a = [1, 2, 3, 4, 5, 6, 6, 7]\n",
    "print(a, type(a))\n",
    "\n",
    "b = set(a)\n",
    "print(b, type(b))"
   ]
  },
  {
   "cell_type": "markdown",
   "id": "1f4d2e5b",
   "metadata": {},
   "source": [
    "## 교집합, 합집합, 차집합"
   ]
  },
  {
   "cell_type": "code",
   "execution_count": 78,
   "id": "79022ac9",
   "metadata": {
    "ExecuteTime": {
     "end_time": "2023-08-23T01:58:45.428102Z",
     "start_time": "2023-08-23T01:58:45.418299Z"
    }
   },
   "outputs": [
    {
     "name": "stdout",
     "output_type": "stream",
     "text": [
      "{1, 2, 3, 4, 5, 6, 7, 8, 9}\n",
      "{1, 2, 3, 4, 5, 6, 7, 8, 9}\n"
     ]
    }
   ],
   "source": [
    "s1 = set([1, 2, 3, 4, 5, 6])\n",
    "s2 = set([4, 5, 6, 7, 8, 9])\n",
    "\n",
    "# 합집합 : '|' or union()\n",
    "print(s1 | s2)\n",
    "print(s1.union(s2))"
   ]
  },
  {
   "cell_type": "code",
   "execution_count": 80,
   "id": "a791f6df",
   "metadata": {
    "ExecuteTime": {
     "end_time": "2023-08-23T02:00:02.986816Z",
     "start_time": "2023-08-23T02:00:02.978028Z"
    }
   },
   "outputs": [
    {
     "name": "stdout",
     "output_type": "stream",
     "text": [
      "{4, 5, 6}\n",
      "{4, 5, 6}\n"
     ]
    }
   ],
   "source": [
    "# 교집합 : '&' or intersection()\n",
    "print(s1 & s2)\n",
    "print(s1.intersection(s2))"
   ]
  },
  {
   "cell_type": "code",
   "execution_count": 81,
   "id": "5c20f726",
   "metadata": {
    "ExecuteTime": {
     "end_time": "2023-08-23T02:00:55.664377Z",
     "start_time": "2023-08-23T02:00:55.647042Z"
    }
   },
   "outputs": [
    {
     "name": "stdout",
     "output_type": "stream",
     "text": [
      "{1, 2, 3}\n",
      "{1, 2, 3}\n"
     ]
    }
   ],
   "source": [
    "# 차집합 : '-' or difference()\n",
    "print(s1 - s2)\n",
    "print(s1.difference(s2))"
   ]
  },
  {
   "cell_type": "code",
   "execution_count": 82,
   "id": "e3ef8eec",
   "metadata": {
    "ExecuteTime": {
     "end_time": "2023-08-23T02:02:06.325958Z",
     "start_time": "2023-08-23T02:02:06.320982Z"
    }
   },
   "outputs": [
    {
     "name": "stdout",
     "output_type": "stream",
     "text": [
      "{1, 2, 3, 4}\n"
     ]
    }
   ],
   "source": [
    "# add() : 하나의 값을 추가하는 함수\n",
    "s1 = set([1, 2, 3])\n",
    "s1.add(4)\n",
    "print(s1)"
   ]
  },
  {
   "cell_type": "code",
   "execution_count": 84,
   "id": "d76ba177",
   "metadata": {
    "ExecuteTime": {
     "end_time": "2023-08-23T02:03:04.243328Z",
     "start_time": "2023-08-23T02:03:04.232361Z"
    }
   },
   "outputs": [
    {
     "name": "stdout",
     "output_type": "stream",
     "text": [
      "{1, 2, 3, 4, 5, 6}\n"
     ]
    }
   ],
   "source": [
    "# update() : 여러개의 값을 추가하는 함수\n",
    "s1 = set([1, 2, 3])\n",
    "s1.update([4, 5, 6])\n",
    "print(s1)"
   ]
  },
  {
   "cell_type": "code",
   "execution_count": 85,
   "id": "8915480a",
   "metadata": {
    "ExecuteTime": {
     "end_time": "2023-08-23T02:03:42.642845Z",
     "start_time": "2023-08-23T02:03:42.632888Z"
    }
   },
   "outputs": [
    {
     "name": "stdout",
     "output_type": "stream",
     "text": [
      "{1, 3}\n"
     ]
    }
   ],
   "source": [
    "# remove() : 특정값을 제거하는 함수\n",
    "s1 = set([1, 2, 3])\n",
    "s1.remove(2)\n",
    "print(s1)"
   ]
  },
  {
   "cell_type": "code",
   "execution_count": 86,
   "id": "f735e6f8",
   "metadata": {
    "ExecuteTime": {
     "end_time": "2023-08-23T02:20:31.656251Z",
     "start_time": "2023-08-23T02:20:31.643208Z"
    }
   },
   "outputs": [
    {
     "name": "stdout",
     "output_type": "stream",
     "text": [
      "a\t b\t c\t d\t dic\t e\t f\t key\t l1\t \n",
      "s1\t s2\t t1\t t2\t t3\t t4\t value\t x\t xx\t \n",
      "y\t z\t \n"
     ]
    }
   ],
   "source": [
    "# 매직명령어 : 주피터 노트북에서 사용하는 명령어\n",
    "## 변수 목록 확인\n",
    "%who"
   ]
  },
  {
   "cell_type": "code",
   "execution_count": null,
   "id": "6301d22f",
   "metadata": {},
   "outputs": [],
   "source": []
  }
 ],
 "metadata": {
  "kernelspec": {
   "display_name": "Python 3",
   "language": "python",
   "name": "python3"
  },
  "language_info": {
   "codemirror_mode": {
    "name": "ipython",
    "version": 3
   },
   "file_extension": ".py",
   "mimetype": "text/x-python",
   "name": "python",
   "nbconvert_exporter": "python",
   "pygments_lexer": "ipython3",
   "version": "3.8.8"
  },
  "toc": {
   "base_numbering": 1,
   "nav_menu": {},
   "number_sections": true,
   "sideBar": true,
   "skip_h1_title": false,
   "title_cell": "Table of Contents",
   "title_sidebar": "Contents",
   "toc_cell": false,
   "toc_position": {
    "height": "calc(100% - 180px)",
    "left": "10px",
    "top": "150px",
    "width": "384px"
   },
   "toc_section_display": true,
   "toc_window_display": true
  }
 },
 "nbformat": 4,
 "nbformat_minor": 5
}
