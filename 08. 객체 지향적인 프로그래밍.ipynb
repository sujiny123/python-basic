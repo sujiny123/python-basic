{
 "cells": [
  {
   "cell_type": "markdown",
   "id": "21c6b24d",
   "metadata": {},
   "source": [
    "# 객체 지향적인 프로그래밍?\n",
    "\n",
    "1. 구조적인 프로그래밍 기법 : 대표적인 언어 c언어\n",
    "  - 구조적인 프로그래밍 기법의 단점은 프로그램의 개발 시간과 비용\n",
    "  - 소프트웨어의 위기\n",
    "  - 고전적인 프로그래밍 개발기법 : 폭포수 기법\n",
    "  \n",
    "2. 객체(Object)와 객체(instance)\n",
    "  - 객체(Object) : 붕어빵 틀(Template), 설계도\n",
    "  - 객체(Instance) : 붕어빵\n",
    "\n",
    "3. \"나는 사과장수에게 2000원을 주고 사과를 구매했다.\"\n",
    "  - 객체(틀) => 클래스, 명사형\n",
    "    * 나\n",
    "    * 사과장수\n",
    "    * 사과 : IoT(사물인터넷)\n",
    "  - 메소드(Method) : 객체가 하는 행위나 동작 => 함수(메소드), 동사형\n",
    "    * 나 : 사과를 구매하는 행위\n",
    "    * 사과장수 : 사과를 판매하는 행위\n",
    "  - 속성(Attribute) : 객체가 가지고 있는 특성 => 변수\n",
    "    * 나 : 돈\n",
    "    * 사과장수 : 판매할 사과, 사과가격\n",
    " "
   ]
  },
  {
   "cell_type": "markdown",
   "id": "487a3022",
   "metadata": {},
   "source": [
    "# 모듈(Module) vs 클래스(class) vs 인스턴스(instance)\n",
    "\n",
    "1. 모듈(Module) : py라는 확장자를 가지고 있는 파이썬 파일\n",
    "  - 주피터 노트북 ipynb라는 확장자를 가진다.\n",
    "  - 모듈은 아주 작은 프로그램 덩어리, 라이브러리(library)\n",
    "  - 패키지(package) : 여러 모듈을 묶어놓은 단위\n",
    "2. 클래스(class) : 객체를 추상화하는 구조 또는 틀\n",
    "3. 인스턴스(instance) : 클래스로부터 만들어낸 객체"
   ]
  },
  {
   "cell_type": "markdown",
   "id": "cfe050c5",
   "metadata": {},
   "source": [
    "# 클래스(class)\n",
    "\n",
    "1. 클래스의 구조 또는 형식\n",
    "<code>\n",
    "    class 클래스명:\n",
    "      멤버필드(Member Field) or 속성(Property) = 프로퍼티\n",
    "      멤버메서드(Member Method) = 함수(Function)"
   ]
  },
  {
   "cell_type": "code",
   "execution_count": 3,
   "id": "a869790b",
   "metadata": {
    "ExecuteTime": {
     "end_time": "2023-08-25T00:46:54.958610Z",
     "start_time": "2023-08-25T00:46:54.934947Z"
    }
   },
   "outputs": [
    {
     "ename": "SyntaxError",
     "evalue": "invalid syntax (<ipython-input-3-aec36068bff0>, line 7)",
     "output_type": "error",
     "traceback": [
      "\u001b[1;36m  File \u001b[1;32m\"<ipython-input-3-aec36068bff0>\"\u001b[1;36m, line \u001b[1;32m7\u001b[0m\n\u001b[1;33m    def buy(self, AppleSeller seller):\u001b[0m\n\u001b[1;37m                              ^\u001b[0m\n\u001b[1;31mSyntaxError\u001b[0m\u001b[1;31m:\u001b[0m invalid syntax\n"
     ]
    }
   ],
   "source": [
    "# 나\n",
    "class AppleBuyer:\n",
    "    # 멤버 필드\n",
    "    money = 10000\n",
    "    apple = 0\n",
    "    # 멤버 메서드\n",
    "    def buy(self, AppleSeller seller):\n",
    "        apple = seller.sales(don)\n",
    "        money -= don\n",
    "    \n",
    "    def result(self):\n",
    "        print(\"남은용돈 : \", money)\n",
    "        print(\"구매사과 : \", apple)\n",
    "        "
   ]
  },
  {
   "cell_type": "code",
   "execution_count": 2,
   "id": "c759ecdd",
   "metadata": {
    "ExecuteTime": {
     "end_time": "2023-08-25T00:40:49.995195Z",
     "start_time": "2023-08-25T00:40:49.981957Z"
    }
   },
   "outputs": [],
   "source": [
    "# 사과장수\n",
    "class AppleSeller:\n",
    "    # 멤버 필드 - 생략해서 사용가능, 초기화(처음값)를 줄 경우 기술한다.\n",
    "    price = 1000\n",
    "    apples = 50\n",
    "    money = 0\n",
    "    \n",
    "    # 멤버 메서드\n",
    "    def sales(self, don):\n",
    "        apple = don / price\n",
    "        apples -= apple\n",
    "        money += don\n",
    "        return apple\n",
    "    \n",
    "    def disp(self):\n",
    "        print('남은 사과수 : ', apples)\n",
    "        print('매출 금액 : ', money)"
   ]
  },
  {
   "cell_type": "markdown",
   "id": "dd8e8d25",
   "metadata": {},
   "source": [
    "## 클래스 내부에 Method 선언\n",
    "\n",
    "- def로 선언\n",
    "- 일반함수와 구별하기 위해 클래스의 멤버메서드를 뜻하는 첫번째 매개변수 self"
   ]
  },
  {
   "cell_type": "code",
   "execution_count": 8,
   "id": "c338e312",
   "metadata": {
    "ExecuteTime": {
     "end_time": "2023-08-25T00:58:58.858011Z",
     "start_time": "2023-08-25T00:58:58.848539Z"
    }
   },
   "outputs": [],
   "source": [
    "# 사람 Object\n",
    "class Person:\n",
    "    # 멤버 필드\n",
    "    \n",
    "    # 멤버 메서드\n",
    "    def walk(self):\n",
    "        print(self.name + \"이 걸어갑니다.\")\n",
    "    \n",
    "    def run(self):\n",
    "        print(self.name + \"이 달려갑니다.\")"
   ]
  },
  {
   "cell_type": "code",
   "execution_count": 10,
   "id": "b094ddba",
   "metadata": {
    "ExecuteTime": {
     "end_time": "2023-08-25T01:00:33.953446Z",
     "start_time": "2023-08-25T01:00:33.947264Z"
    }
   },
   "outputs": [],
   "source": [
    "# 클래스에 접근하려면 반드시 인스턴스 객체가 필요하다.\n",
    "p = Person()\n",
    "p.name = '홍길동'"
   ]
  },
  {
   "cell_type": "code",
   "execution_count": 11,
   "id": "12d7bda0",
   "metadata": {
    "ExecuteTime": {
     "end_time": "2023-08-25T01:00:34.952190Z",
     "start_time": "2023-08-25T01:00:34.940276Z"
    }
   },
   "outputs": [
    {
     "name": "stdout",
     "output_type": "stream",
     "text": [
      "홍길동이 걸어갑니다.\n"
     ]
    }
   ],
   "source": [
    "# 객체명을 통해 클래스의 멤버에 접근 : 접근연산자(. direct 연산자)\n",
    "p.walk()"
   ]
  },
  {
   "cell_type": "code",
   "execution_count": 12,
   "id": "e0510ad7",
   "metadata": {
    "ExecuteTime": {
     "end_time": "2023-08-25T01:00:36.021316Z",
     "start_time": "2023-08-25T01:00:36.010400Z"
    }
   },
   "outputs": [
    {
     "name": "stdout",
     "output_type": "stream",
     "text": [
      "홍길동이 달려갑니다.\n"
     ]
    }
   ],
   "source": [
    "p.run()"
   ]
  },
  {
   "cell_type": "code",
   "execution_count": 13,
   "id": "f19180bd",
   "metadata": {
    "ExecuteTime": {
     "end_time": "2023-08-25T01:01:27.750458Z",
     "start_time": "2023-08-25T01:01:27.739972Z"
    }
   },
   "outputs": [
    {
     "name": "stdout",
     "output_type": "stream",
     "text": [
      "장보고이 걸어갑니다.\n"
     ]
    }
   ],
   "source": [
    "p1 = Person()\n",
    "p1.name = '장보고'\n",
    "p1.walk()"
   ]
  },
  {
   "cell_type": "code",
   "execution_count": 26,
   "id": "2eb4771a",
   "metadata": {
    "ExecuteTime": {
     "end_time": "2023-08-25T01:17:48.428343Z",
     "start_time": "2023-08-25T01:17:48.415817Z"
    }
   },
   "outputs": [],
   "source": [
    "# 사람 Object\n",
    "class Person:\n",
    "    # 멤버 필드\n",
    "    \n",
    "    # 멤버 메서드\n",
    "    def walk(self, speed):\n",
    "        print(self.name + \"이 \" + str(speed) + \"의 속도로 걸어갑니다.\")\n",
    "    \n",
    "    def run(self, speed):\n",
    "        print(self.name + \"이 \" + str(speed) + \"의 속도로 달려갑니다.\")"
   ]
  },
  {
   "cell_type": "code",
   "execution_count": 24,
   "id": "859d2c78",
   "metadata": {
    "ExecuteTime": {
     "end_time": "2023-08-25T01:16:36.709362Z",
     "start_time": "2023-08-25T01:16:36.702337Z"
    }
   },
   "outputs": [
    {
     "name": "stdout",
     "output_type": "stream",
     "text": [
      "홍길동이 45의 속도로 걸어갑니다.\n"
     ]
    }
   ],
   "source": [
    "p = Person()\n",
    "p.name = \"홍길동\"\n",
    "p.speed = 45\n",
    "p.walk()"
   ]
  },
  {
   "cell_type": "code",
   "execution_count": 25,
   "id": "445e2e1f",
   "metadata": {
    "ExecuteTime": {
     "end_time": "2023-08-25T01:16:49.290086Z",
     "start_time": "2023-08-25T01:16:49.280816Z"
    }
   },
   "outputs": [
    {
     "name": "stdout",
     "output_type": "stream",
     "text": [
      "홍길동이 45의 속도로 달려갑니다.\n"
     ]
    }
   ],
   "source": [
    "p.run()"
   ]
  },
  {
   "cell_type": "code",
   "execution_count": 29,
   "id": "cd95ea9c",
   "metadata": {
    "ExecuteTime": {
     "end_time": "2023-08-25T01:18:31.038808Z",
     "start_time": "2023-08-25T01:18:31.031763Z"
    }
   },
   "outputs": [
    {
     "name": "stdout",
     "output_type": "stream",
     "text": [
      "홍길동이 3의 속도로 걸어갑니다.\n"
     ]
    }
   ],
   "source": [
    "p = Person()\n",
    "p.name = \"홍길동\"\n",
    "p.walk(3)"
   ]
  },
  {
   "cell_type": "code",
   "execution_count": 30,
   "id": "b3ac8103",
   "metadata": {
    "ExecuteTime": {
     "end_time": "2023-08-25T01:21:59.343430Z",
     "start_time": "2023-08-25T01:21:59.329602Z"
    }
   },
   "outputs": [],
   "source": [
    "class People:\n",
    "    #멤버 필드\n",
    "    name = \"\"\n",
    "    height = 0.0\n",
    "    age = 0\n",
    "    \n",
    "    #멤버 메서드\n",
    "    #this 키워드와 같은 의미가 self\n",
    "    def disp(self):\n",
    "        print(\"이름 = \", self.name)\n",
    "        print(\"나이 = \", self.age)\n",
    "        print(\"신장 = \", self.height)"
   ]
  },
  {
   "cell_type": "code",
   "execution_count": 34,
   "id": "ae362632",
   "metadata": {
    "ExecuteTime": {
     "end_time": "2023-08-25T01:23:56.486598Z",
     "start_time": "2023-08-25T01:23:56.472872Z"
    }
   },
   "outputs": [
    {
     "name": "stdout",
     "output_type": "stream",
     "text": [
      "이름 =  장보고\n",
      "나이 =  23\n",
      "신장 =  342.3\n"
     ]
    }
   ],
   "source": [
    "p = People()\n",
    "p.name = '장보고'\n",
    "p.age = 23\n",
    "p.height = 342.3\n",
    "p.disp()"
   ]
  },
  {
   "cell_type": "code",
   "execution_count": 35,
   "id": "4db9070f",
   "metadata": {
    "ExecuteTime": {
     "end_time": "2023-08-25T01:24:45.299160Z",
     "start_time": "2023-08-25T01:24:45.286818Z"
    }
   },
   "outputs": [
    {
     "name": "stdout",
     "output_type": "stream",
     "text": [
      "이름 =  이순신\n",
      "나이 =  43\n",
      "신장 =  167.3\n"
     ]
    }
   ],
   "source": [
    "p1 = People()\n",
    "p1.name = '이순신'\n",
    "p1.age = 43\n",
    "p1.height = 167.3\n",
    "p1.disp()"
   ]
  },
  {
   "cell_type": "markdown",
   "id": "af2a85aa",
   "metadata": {},
   "source": [
    "### 특별한 메서드 : __init__(self)\n",
    "\n",
    "- 멤버 필드를 초기화시켜주는 목적으로 사용하는 메서드"
   ]
  },
  {
   "cell_type": "code",
   "execution_count": 37,
   "id": "fe8a3691",
   "metadata": {
    "ExecuteTime": {
     "end_time": "2023-08-25T01:30:12.254733Z",
     "start_time": "2023-08-25T01:30:12.248753Z"
    }
   },
   "outputs": [],
   "source": [
    "# __init__(self) : 생성자 메서드\n",
    "# 생성자 메서드 : 객체가 생성될 때 자동으로 호출되는 메서드\n",
    "\n",
    "class People:\n",
    "    #멤버 필드\n",
    "    #생성자 메서드\n",
    "    def __init__(self, name, age, height):\n",
    "        self.name = name\n",
    "        self.age = age\n",
    "        self.height = height\n",
    "    #멤버 메서드\n",
    "    #this 키워드와 같은 의미가 self\n",
    "    def disp(self):\n",
    "        print(\"이름 = \", self.name)\n",
    "        print(\"나이 = \", self.age)\n",
    "        print(\"신장 = \", self.height)"
   ]
  },
  {
   "cell_type": "code",
   "execution_count": 38,
   "id": "c5ab21e2",
   "metadata": {
    "ExecuteTime": {
     "end_time": "2023-08-25T01:31:10.751724Z",
     "start_time": "2023-08-25T01:31:10.737431Z"
    }
   },
   "outputs": [
    {
     "name": "stdout",
     "output_type": "stream",
     "text": [
      "이름 =  이순신\n",
      "나이 =  32\n",
      "신장 =  193.2\n"
     ]
    }
   ],
   "source": [
    "p = People('이순신', 32, 193.2)\n",
    "p.disp()"
   ]
  },
  {
   "cell_type": "code",
   "execution_count": 40,
   "id": "7efda5dd",
   "metadata": {
    "ExecuteTime": {
     "end_time": "2023-08-25T01:31:48.729758Z",
     "start_time": "2023-08-25T01:31:48.719797Z"
    }
   },
   "outputs": [
    {
     "name": "stdout",
     "output_type": "stream",
     "text": [
      "이름 =  이순신\n",
      "나이 =  32\n",
      "신장 =  193.2\n"
     ]
    }
   ],
   "source": [
    "p1 = People('장보고', 23, 192.3)\n",
    "p.disp()"
   ]
  },
  {
   "cell_type": "markdown",
   "id": "361a8bec",
   "metadata": {},
   "source": [
    "- self.변수 : 인스턴스 변수, 인스턴스별로 개별적인 값을 가진 변수\n",
    "- 클래스명.변수 : 클래스 변수, static 변수, 공통의 값을 공유하는 변수"
   ]
  },
  {
   "cell_type": "code",
   "execution_count": 41,
   "id": "dde5732c",
   "metadata": {
    "ExecuteTime": {
     "end_time": "2023-08-25T01:39:29.734816Z",
     "start_time": "2023-08-25T01:39:29.721735Z"
    }
   },
   "outputs": [],
   "source": [
    "class Student:\n",
    "    #멤버필드 = 프로퍼티, 클래스 변수(공유의목적)\n",
    "    name = 'kim'\n",
    "    no = 1987\n",
    "    score = 99\n",
    "    \n",
    "    #멤버메서드\n",
    "    def show(self):\n",
    "        # self.변수\n",
    "        print(\"이름 : \" + self.name, end = '')\n",
    "        print(\"학번 : \" + str(self.no), end = '')\n",
    "        print(\"성적 : \" + str(self.score))\n",
    "        \n",
    "        print(\"이름 : \" + Student.name, end = '')\n",
    "        print(\"학번 : \" + str(Student.no), end = '')\n",
    "        print(\"성적 : \" + str(Student.score))\n",
    "        "
   ]
  },
  {
   "cell_type": "code",
   "execution_count": 45,
   "id": "58233f20",
   "metadata": {
    "ExecuteTime": {
     "end_time": "2023-08-25T01:41:44.706055Z",
     "start_time": "2023-08-25T01:41:44.693889Z"
    }
   },
   "outputs": [
    {
     "name": "stdout",
     "output_type": "stream",
     "text": [
      "이름 : 김유신학번 : 901234성적 : 78\n",
      "이름 : kim학번 : 1987성적 : 99\n",
      "이름 : 홍길동학번 : 12345성적 : 90\n",
      "이름 : kim학번 : 1987성적 : 99\n"
     ]
    }
   ],
   "source": [
    "s1 = Student()\n",
    "s1.name = '김유신'\n",
    "s1.no = 901234\n",
    "s1.score = 78\n",
    "s1.show()\n",
    "\n",
    "s2 = Student()\n",
    "s2.name = '홍길동'\n",
    "s2.no = 12345\n",
    "s2.score = 90\n",
    "s2.show()"
   ]
  },
  {
   "cell_type": "code",
   "execution_count": 52,
   "id": "c178403d",
   "metadata": {
    "ExecuteTime": {
     "end_time": "2023-08-25T01:52:33.784311Z",
     "start_time": "2023-08-25T01:52:33.769835Z"
    }
   },
   "outputs": [],
   "source": [
    "# 원\n",
    "class Circle:\n",
    "    #멤버필드\n",
    "    radius = 0\n",
    "    #생성자 메서드 : 멤버필드를 초기화 시켜줄 목적으로 생성하는 메서드, 자동호출(객체 생성될 때)\n",
    "    def __init__(self, radius):\n",
    "        self.radius = radius\n",
    "        \n",
    "    #멤버메서드\n",
    "    def area(self):\n",
    "        return self.radius * self.radius * 3.14\n",
    "    \n",
    "    def around(self):\n",
    "        return 2 * 3.14 * self.radius\n",
    "    \n",
    "    def disp(self):\n",
    "        print(\"반지름 : \", self.radius)"
   ]
  },
  {
   "cell_type": "code",
   "execution_count": 51,
   "id": "98a9bf37",
   "metadata": {
    "ExecuteTime": {
     "end_time": "2023-08-25T01:49:54.646315Z",
     "start_time": "2023-08-25T01:49:54.614999Z"
    }
   },
   "outputs": [
    {
     "data": {
      "text/plain": [
       "78.5"
      ]
     },
     "execution_count": 51,
     "metadata": {},
     "output_type": "execute_result"
    }
   ],
   "source": [
    "a = Circle()\n",
    "a.radius = 5\n",
    "a.area()"
   ]
  },
  {
   "cell_type": "code",
   "execution_count": 54,
   "id": "6f15e875",
   "metadata": {
    "ExecuteTime": {
     "end_time": "2023-08-25T01:53:02.097933Z",
     "start_time": "2023-08-25T01:53:02.084095Z"
    }
   },
   "outputs": [
    {
     "name": "stdout",
     "output_type": "stream",
     "text": [
      "반지름 :  5\n"
     ]
    }
   ],
   "source": [
    "b = Circle(5)\n",
    "b.disp()"
   ]
  },
  {
   "cell_type": "code",
   "execution_count": 92,
   "id": "1afec321",
   "metadata": {
    "ExecuteTime": {
     "end_time": "2023-08-25T02:40:57.409088Z",
     "start_time": "2023-08-25T02:40:57.395260Z"
    }
   },
   "outputs": [],
   "source": [
    "# 원\n",
    "class Circle:\n",
    "    #멤버필드\n",
    "    radius = 0\n",
    "    #생성자 메서드 : 멤버필드를 초기화 시켜줄 목적으로 생성하는 메서드, 자동호출(객체 생성될 때)\n",
    "    def __init__(self):\n",
    "        self.radius = int(input(\"반지름 = \"))\n",
    "        \n",
    "    #멤버메서드\n",
    "    def area(self):\n",
    "        return self.radius * self.radius * 3.14\n",
    "    \n",
    "    def around(self):\n",
    "        return 2 * 3.14 * self.radius\n",
    "    \n",
    "    def disp(self):\n",
    "        print(f\"반지름이 {self.getRadius()}인 원의 면적{self.area()}\")\n",
    "        \n",
    "    def getRadius(self):\n",
    "        return self.radius"
   ]
  },
  {
   "cell_type": "code",
   "execution_count": 77,
   "id": "48bad00c",
   "metadata": {
    "ExecuteTime": {
     "end_time": "2023-08-25T02:24:23.962223Z",
     "start_time": "2023-08-25T02:24:23.452087Z"
    }
   },
   "outputs": [
    {
     "name": "stdout",
     "output_type": "stream",
     "text": [
      "반지름 = \n"
     ]
    },
    {
     "ename": "ValueError",
     "evalue": "invalid literal for int() with base 10: ''",
     "output_type": "error",
     "traceback": [
      "\u001b[1;31m---------------------------------------------------------------------------\u001b[0m",
      "\u001b[1;31mValueError\u001b[0m                                Traceback (most recent call last)",
      "\u001b[1;32m<ipython-input-77-e3460d3a2641>\u001b[0m in \u001b[0;36m<module>\u001b[1;34m\u001b[0m\n\u001b[1;32m----> 1\u001b[1;33m \u001b[0ma\u001b[0m \u001b[1;33m=\u001b[0m \u001b[0mCircle\u001b[0m\u001b[1;33m(\u001b[0m\u001b[1;33m)\u001b[0m\u001b[1;33m\u001b[0m\u001b[1;33m\u001b[0m\u001b[0m\n\u001b[0m\u001b[0;32m      2\u001b[0m \u001b[0ma\u001b[0m\u001b[1;33m.\u001b[0m\u001b[0maround\u001b[0m\u001b[1;33m(\u001b[0m\u001b[1;33m)\u001b[0m\u001b[1;33m\u001b[0m\u001b[1;33m\u001b[0m\u001b[0m\n",
      "\u001b[1;32m<ipython-input-76-3c4b280ae864>\u001b[0m in \u001b[0;36m__init__\u001b[1;34m(self)\u001b[0m\n\u001b[0;32m      5\u001b[0m     \u001b[1;31m#생성자 메서드 : 멤버필드를 초기화 시켜줄 목적으로 생성하는 메서드, 자동호출(객체 생성될 때)\u001b[0m\u001b[1;33m\u001b[0m\u001b[1;33m\u001b[0m\u001b[1;33m\u001b[0m\u001b[0m\n\u001b[0;32m      6\u001b[0m     \u001b[1;32mdef\u001b[0m \u001b[0m__init__\u001b[0m\u001b[1;33m(\u001b[0m\u001b[0mself\u001b[0m\u001b[1;33m)\u001b[0m\u001b[1;33m:\u001b[0m\u001b[1;33m\u001b[0m\u001b[1;33m\u001b[0m\u001b[0m\n\u001b[1;32m----> 7\u001b[1;33m         \u001b[0mself\u001b[0m\u001b[1;33m.\u001b[0m\u001b[0mradius\u001b[0m \u001b[1;33m=\u001b[0m \u001b[0mint\u001b[0m\u001b[1;33m(\u001b[0m\u001b[0minput\u001b[0m\u001b[1;33m(\u001b[0m\u001b[1;34m\"반지름 = \"\u001b[0m\u001b[1;33m)\u001b[0m\u001b[1;33m)\u001b[0m\u001b[1;33m\u001b[0m\u001b[1;33m\u001b[0m\u001b[0m\n\u001b[0m\u001b[0;32m      8\u001b[0m \u001b[1;33m\u001b[0m\u001b[0m\n\u001b[0;32m      9\u001b[0m     \u001b[1;31m#멤버메서드\u001b[0m\u001b[1;33m\u001b[0m\u001b[1;33m\u001b[0m\u001b[1;33m\u001b[0m\u001b[0m\n",
      "\u001b[1;31mValueError\u001b[0m: invalid literal for int() with base 10: ''"
     ]
    }
   ],
   "source": [
    "a = Circle()\n",
    "a.around()"
   ]
  },
  {
   "cell_type": "code",
   "execution_count": 78,
   "id": "6e1dce02",
   "metadata": {
    "ExecuteTime": {
     "end_time": "2023-08-25T02:24:25.252572Z",
     "start_time": "2023-08-25T02:24:24.512653Z"
    }
   },
   "outputs": [
    {
     "name": "stdout",
     "output_type": "stream",
     "text": [
      "반지름 = \n"
     ]
    },
    {
     "ename": "ValueError",
     "evalue": "invalid literal for int() with base 10: ''",
     "output_type": "error",
     "traceback": [
      "\u001b[1;31m---------------------------------------------------------------------------\u001b[0m",
      "\u001b[1;31mValueError\u001b[0m                                Traceback (most recent call last)",
      "\u001b[1;32m<ipython-input-78-59863b51f1d4>\u001b[0m in \u001b[0;36m<module>\u001b[1;34m\u001b[0m\n\u001b[0;32m      1\u001b[0m \u001b[1;31m# 세 개의 반지름을 입력받아 원의 면적을 계산하여 출력하는 프로그램을 구현하시오.\u001b[0m\u001b[1;33m\u001b[0m\u001b[1;33m\u001b[0m\u001b[1;33m\u001b[0m\u001b[0m\n\u001b[0;32m      2\u001b[0m \u001b[1;31m# 단, 원을 클래스로 구현할 것\u001b[0m\u001b[1;33m\u001b[0m\u001b[1;33m\u001b[0m\u001b[1;33m\u001b[0m\u001b[0m\n\u001b[1;32m----> 3\u001b[1;33m \u001b[0ma\u001b[0m \u001b[1;33m=\u001b[0m \u001b[0mCircle\u001b[0m\u001b[1;33m(\u001b[0m\u001b[1;33m)\u001b[0m\u001b[1;33m\u001b[0m\u001b[1;33m\u001b[0m\u001b[0m\n\u001b[0m\u001b[0;32m      4\u001b[0m \u001b[0mb\u001b[0m \u001b[1;33m=\u001b[0m \u001b[0mCircle\u001b[0m\u001b[1;33m(\u001b[0m\u001b[1;33m)\u001b[0m\u001b[1;33m\u001b[0m\u001b[1;33m\u001b[0m\u001b[0m\n\u001b[0;32m      5\u001b[0m \u001b[0mc\u001b[0m \u001b[1;33m=\u001b[0m \u001b[0mCircle\u001b[0m\u001b[1;33m(\u001b[0m\u001b[1;33m)\u001b[0m\u001b[1;33m\u001b[0m\u001b[1;33m\u001b[0m\u001b[0m\n",
      "\u001b[1;32m<ipython-input-76-3c4b280ae864>\u001b[0m in \u001b[0;36m__init__\u001b[1;34m(self)\u001b[0m\n\u001b[0;32m      5\u001b[0m     \u001b[1;31m#생성자 메서드 : 멤버필드를 초기화 시켜줄 목적으로 생성하는 메서드, 자동호출(객체 생성될 때)\u001b[0m\u001b[1;33m\u001b[0m\u001b[1;33m\u001b[0m\u001b[1;33m\u001b[0m\u001b[0m\n\u001b[0;32m      6\u001b[0m     \u001b[1;32mdef\u001b[0m \u001b[0m__init__\u001b[0m\u001b[1;33m(\u001b[0m\u001b[0mself\u001b[0m\u001b[1;33m)\u001b[0m\u001b[1;33m:\u001b[0m\u001b[1;33m\u001b[0m\u001b[1;33m\u001b[0m\u001b[0m\n\u001b[1;32m----> 7\u001b[1;33m         \u001b[0mself\u001b[0m\u001b[1;33m.\u001b[0m\u001b[0mradius\u001b[0m \u001b[1;33m=\u001b[0m \u001b[0mint\u001b[0m\u001b[1;33m(\u001b[0m\u001b[0minput\u001b[0m\u001b[1;33m(\u001b[0m\u001b[1;34m\"반지름 = \"\u001b[0m\u001b[1;33m)\u001b[0m\u001b[1;33m)\u001b[0m\u001b[1;33m\u001b[0m\u001b[1;33m\u001b[0m\u001b[0m\n\u001b[0m\u001b[0;32m      8\u001b[0m \u001b[1;33m\u001b[0m\u001b[0m\n\u001b[0;32m      9\u001b[0m     \u001b[1;31m#멤버메서드\u001b[0m\u001b[1;33m\u001b[0m\u001b[1;33m\u001b[0m\u001b[1;33m\u001b[0m\u001b[0m\n",
      "\u001b[1;31mValueError\u001b[0m: invalid literal for int() with base 10: ''"
     ]
    }
   ],
   "source": [
    "# 세 개의 반지름을 입력받아 원의 면적을 계산하여 출력하는 프로그램을 구현하시오.\n",
    "# 단, 원을 클래스로 구현할 것\n",
    "a = Circle()\n",
    "b = Circle()\n",
    "c = Circle()\n",
    "\n",
    "print(f\"반지름이 {a.getRadius()}인 원의 면적{a.area()}\")\n",
    "print(f\"반지름이 {b.getRadius()}인 원의 면적{b.area()}\")\n",
    "print(f\"반지름이 {c.getRadius()}인 원의 면적{c.area()}\")"
   ]
  },
  {
   "cell_type": "code",
   "execution_count": 79,
   "id": "afa7f92b",
   "metadata": {
    "ExecuteTime": {
     "end_time": "2023-08-25T02:24:28.369142Z",
     "start_time": "2023-08-25T02:24:26.074290Z"
    }
   },
   "outputs": [
    {
     "name": "stdout",
     "output_type": "stream",
     "text": [
      "반지름 = \n"
     ]
    },
    {
     "ename": "ValueError",
     "evalue": "invalid literal for int() with base 10: ''",
     "output_type": "error",
     "traceback": [
      "\u001b[1;31m---------------------------------------------------------------------------\u001b[0m",
      "\u001b[1;31mValueError\u001b[0m                                Traceback (most recent call last)",
      "\u001b[1;32m<ipython-input-79-5bed303ea7cc>\u001b[0m in \u001b[0;36m<module>\u001b[1;34m\u001b[0m\n\u001b[0;32m      2\u001b[0m \u001b[1;33m\u001b[0m\u001b[0m\n\u001b[0;32m      3\u001b[0m \u001b[1;32mfor\u001b[0m \u001b[0mi\u001b[0m \u001b[1;32min\u001b[0m \u001b[0mrange\u001b[0m\u001b[1;33m(\u001b[0m\u001b[1;36m3\u001b[0m\u001b[1;33m)\u001b[0m\u001b[1;33m:\u001b[0m\u001b[1;33m\u001b[0m\u001b[1;33m\u001b[0m\u001b[0m\n\u001b[1;32m----> 4\u001b[1;33m     \u001b[0mobj\u001b[0m\u001b[1;33m.\u001b[0m\u001b[0mappend\u001b[0m\u001b[1;33m(\u001b[0m\u001b[0mCircle\u001b[0m\u001b[1;33m(\u001b[0m\u001b[1;33m)\u001b[0m\u001b[1;33m)\u001b[0m\u001b[1;33m\u001b[0m\u001b[1;33m\u001b[0m\u001b[0m\n\u001b[0m\u001b[0;32m      5\u001b[0m \u001b[1;33m\u001b[0m\u001b[0m\n\u001b[0;32m      6\u001b[0m \u001b[1;32mfor\u001b[0m \u001b[0mi\u001b[0m \u001b[1;32min\u001b[0m \u001b[0mrange\u001b[0m\u001b[1;33m(\u001b[0m\u001b[1;36m3\u001b[0m\u001b[1;33m)\u001b[0m\u001b[1;33m:\u001b[0m\u001b[1;33m\u001b[0m\u001b[1;33m\u001b[0m\u001b[0m\n",
      "\u001b[1;32m<ipython-input-76-3c4b280ae864>\u001b[0m in \u001b[0;36m__init__\u001b[1;34m(self)\u001b[0m\n\u001b[0;32m      5\u001b[0m     \u001b[1;31m#생성자 메서드 : 멤버필드를 초기화 시켜줄 목적으로 생성하는 메서드, 자동호출(객체 생성될 때)\u001b[0m\u001b[1;33m\u001b[0m\u001b[1;33m\u001b[0m\u001b[1;33m\u001b[0m\u001b[0m\n\u001b[0;32m      6\u001b[0m     \u001b[1;32mdef\u001b[0m \u001b[0m__init__\u001b[0m\u001b[1;33m(\u001b[0m\u001b[0mself\u001b[0m\u001b[1;33m)\u001b[0m\u001b[1;33m:\u001b[0m\u001b[1;33m\u001b[0m\u001b[1;33m\u001b[0m\u001b[0m\n\u001b[1;32m----> 7\u001b[1;33m         \u001b[0mself\u001b[0m\u001b[1;33m.\u001b[0m\u001b[0mradius\u001b[0m \u001b[1;33m=\u001b[0m \u001b[0mint\u001b[0m\u001b[1;33m(\u001b[0m\u001b[0minput\u001b[0m\u001b[1;33m(\u001b[0m\u001b[1;34m\"반지름 = \"\u001b[0m\u001b[1;33m)\u001b[0m\u001b[1;33m)\u001b[0m\u001b[1;33m\u001b[0m\u001b[1;33m\u001b[0m\u001b[0m\n\u001b[0m\u001b[0;32m      8\u001b[0m \u001b[1;33m\u001b[0m\u001b[0m\n\u001b[0;32m      9\u001b[0m     \u001b[1;31m#멤버메서드\u001b[0m\u001b[1;33m\u001b[0m\u001b[1;33m\u001b[0m\u001b[1;33m\u001b[0m\u001b[0m\n",
      "\u001b[1;31mValueError\u001b[0m: invalid literal for int() with base 10: ''"
     ]
    }
   ],
   "source": [
    "obj = list()\n",
    "\n",
    "for i in range(3):\n",
    "    obj.append(Circle())\n",
    "    \n",
    "for i in range(3):\n",
    "    print(f\"반지름이 {obj[i].getRadius()}인 원의 면적{obj[i].area()}\")"
   ]
  },
  {
   "cell_type": "markdown",
   "id": "74f49ffd",
   "metadata": {},
   "source": [
    "- 반지름을 입력받아 원의 면적을 출력하는 프로그램을 구현하시오.\n",
    "- 단, 입력받는 반지름이 0이면 입력을 종료하고 면적을 출력하도록 구현할 것."
   ]
  },
  {
   "cell_type": "code",
   "execution_count": 93,
   "id": "7271a841",
   "metadata": {
    "ExecuteTime": {
     "end_time": "2023-08-25T02:41:09.835317Z",
     "start_time": "2023-08-25T02:41:06.798772Z"
    }
   },
   "outputs": [
    {
     "name": "stdout",
     "output_type": "stream",
     "text": [
      "반지름 = 4\n",
      "반지름 = 5\n",
      "반지름 = 0\n",
      "반지름이 4인 원의 면적50.24\n",
      "반지름이 5인 원의 면적78.5\n"
     ]
    }
   ],
   "source": [
    "data = []\n",
    "while True:\n",
    "    a = Circle()\n",
    "    if a.getRadius() == 0:\n",
    "        break\n",
    "    data.append(a)\n",
    "    \n",
    "for i in range(len(data)):\n",
    "    data[i].disp()"
   ]
  },
  {
   "cell_type": "markdown",
   "id": "c187306c",
   "metadata": {},
   "source": [
    "### 성적 처리 프로그램 4단계"
   ]
  },
  {
   "cell_type": "code",
   "execution_count": 101,
   "id": "cd918a12",
   "metadata": {
    "ExecuteTime": {
     "end_time": "2023-08-25T02:58:34.897171Z",
     "start_time": "2023-08-25T02:58:34.891992Z"
    }
   },
   "outputs": [
    {
     "name": "stdout",
     "output_type": "stream",
     "text": [
      "이름\t총점\t평균\n",
      "홍길동\t273\t91.0\n",
      "장보고\t277\t92.33\n",
      "유관순\t260\t86.67\n",
      "이순신\t263\t87.67\n",
      "사임당\t263\t87.67\n"
     ]
    }
   ],
   "source": [
    "#학생 리스트 생성\n",
    "students = [\n",
    "    {'name':'홍길동', 'kor':87, 'eng':88, 'math':98},\n",
    "    {'name':'장보고', 'kor':92, 'eng':96, 'math':89},\n",
    "    {'name':'유관순', 'kor':94, 'eng':76, 'math':90},\n",
    "    {'name':'이순신', 'kor':95, 'eng':78, 'math':90},\n",
    "    {'name':'사임당', 'kor':98, 'eng':70, 'math':95}\n",
    "]\n",
    "\n",
    "# 이름, 총점과 평균을 개별 출력하는 로직\n",
    "print(\"이름\", \"총점\", \"평균\", sep='\\t')\n",
    "for student in students:\n",
    "    tot = student['kor'] + student['eng'] + student['math']\n",
    "    avg = tot/3\n",
    "    \n",
    "    print(student['name'], tot, round(avg, 2), sep = '\\t')"
   ]
  },
  {
   "cell_type": "code",
   "execution_count": 90,
   "id": "6fead571",
   "metadata": {
    "ExecuteTime": {
     "end_time": "2023-08-25T02:38:31.865708Z",
     "start_time": "2023-08-25T02:38:31.852103Z"
    }
   },
   "outputs": [
    {
     "name": "stdout",
     "output_type": "stream",
     "text": [
      "이름\t총점\t평균\n",
      "홍길동\t273\t91.0\n",
      "장보고\t277\t92.33\n",
      "유관순\t260\t86.67\n",
      "이순신\t263\t87.67\n",
      "사임당\t263\t87.67\n"
     ]
    }
   ],
   "source": [
    "def makeStudent(name, kor, eng, math):\n",
    "    return {\n",
    "        'name':name,\n",
    "        'kor':kor,\n",
    "        'eng':eng,\n",
    "        'math':math\n",
    "    }\n",
    "\n",
    "students = [\n",
    "    makeStudent('홍길동', 87, 88, 98),\n",
    "    makeStudent('장보고', 92, 96, 89),\n",
    "    makeStudent('유관순', 94, 76, 90),\n",
    "    makeStudent('이순신', 95, 78, 90),\n",
    "    makeStudent('사임당', 98, 70, 95)\n",
    "]\n",
    "\n",
    "print(\"이름\", \"총점\", \"평균\", sep='\\t')\n",
    "for student in students:\n",
    "    tot = student['kor'] + student['eng'] + student['math']\n",
    "    avg = tot/3\n",
    "    \n",
    "    print(student['name'], tot, round(avg, 2), sep = '\\t')"
   ]
  },
  {
   "cell_type": "code",
   "execution_count": 97,
   "id": "45184845",
   "metadata": {
    "ExecuteTime": {
     "end_time": "2023-08-25T02:47:29.709234Z",
     "start_time": "2023-08-25T02:47:29.690222Z"
    }
   },
   "outputs": [
    {
     "name": "stdout",
     "output_type": "stream",
     "text": [
      "이름\t총점\t평균\n",
      "홍길동\t273\t91.0\n",
      "장보고\t277\t92.33\n",
      "유관순\t260\t86.67\n",
      "이순신\t263\t87.67\n",
      "사임당\t263\t87.67\n"
     ]
    }
   ],
   "source": [
    "def makeStudent(name, kor, eng, math):\n",
    "    return {\n",
    "        'name':name,\n",
    "        'kor':kor,\n",
    "        'eng':eng,\n",
    "        'math':math\n",
    "    }\n",
    "\n",
    "def calc_tot(student):\n",
    "    return student['kor'] + student['eng'] + student['math']\n",
    "\n",
    "def calc_avg(student):\n",
    "    return round(calc_tot(student)/3, 2)\n",
    "\n",
    "def toString(student):\n",
    "    return \"{}\\t{}\\t{}\".format(student['name'], calc_tot(student), calc_avg(student))\n",
    "\n",
    "students = [\n",
    "    makeStudent('홍길동', 87, 88, 98),\n",
    "    makeStudent('장보고', 92, 96, 89),\n",
    "    makeStudent('유관순', 94, 76, 90),\n",
    "    makeStudent('이순신', 95, 78, 90),\n",
    "    makeStudent('사임당', 98, 70, 95)\n",
    "]   \n",
    "print(\"이름\", \"총점\", \"평균\", sep='\\t')\n",
    "for student in students:\n",
    "    print(toString(student))"
   ]
  },
  {
   "cell_type": "code",
   "execution_count": 102,
   "id": "06c5e8ed",
   "metadata": {
    "ExecuteTime": {
     "end_time": "2023-08-25T03:06:54.984905Z",
     "start_time": "2023-08-25T03:06:54.964699Z"
    }
   },
   "outputs": [
    {
     "ename": "TypeError",
     "evalue": "__init__() missing 4 required positional arguments: 'name', 'kor', 'eng', and 'math'",
     "output_type": "error",
     "traceback": [
      "\u001b[1;31m---------------------------------------------------------------------------\u001b[0m",
      "\u001b[1;31mTypeError\u001b[0m                                 Traceback (most recent call last)",
      "\u001b[1;32m<ipython-input-102-eb7b0c24e047>\u001b[0m in \u001b[0;36m<module>\u001b[1;34m\u001b[0m\n\u001b[0;32m      6\u001b[0m         \u001b[0mself\u001b[0m\u001b[1;33m.\u001b[0m\u001b[0mmath\u001b[0m \u001b[1;33m=\u001b[0m \u001b[0mmath\u001b[0m\u001b[1;33m\u001b[0m\u001b[1;33m\u001b[0m\u001b[0m\n\u001b[0;32m      7\u001b[0m \u001b[1;33m\u001b[0m\u001b[0m\n\u001b[1;32m----> 8\u001b[1;33m \u001b[0mstu\u001b[0m \u001b[1;33m=\u001b[0m \u001b[0mStudent\u001b[0m\u001b[1;33m(\u001b[0m\u001b[1;33m)\u001b[0m\u001b[1;33m\u001b[0m\u001b[1;33m\u001b[0m\u001b[0m\n\u001b[0m\u001b[0;32m      9\u001b[0m \u001b[1;33m\u001b[0m\u001b[0m\n\u001b[0;32m     10\u001b[0m Students = [\n",
      "\u001b[1;31mTypeError\u001b[0m: __init__() missing 4 required positional arguments: 'name', 'kor', 'eng', and 'math'"
     ]
    }
   ],
   "source": [
    "class Student:\n",
    "    def __init__(self, name, kor, eng, math):\n",
    "        self.name = name\n",
    "        self.kor = kor\n",
    "        self.eng = eng\n",
    "        self.math = math\n",
    "\n",
    "stu = Student()\n",
    "\n",
    "Students = [\n",
    "    Student('홍길동', 87, 88, 98),\n",
    "    Student('장보고', 92, 96, 89),\n",
    "    Student('유관순', 94, 76, 90),\n",
    "    Student('이순신', 95, 78, 90),\n",
    "    Student('사임당', 98, 70, 95)\n",
    "]"
   ]
  },
  {
   "cell_type": "code",
   "execution_count": 103,
   "id": "eb85e6a9",
   "metadata": {
    "ExecuteTime": {
     "end_time": "2023-08-25T03:15:21.940535Z",
     "start_time": "2023-08-25T03:15:21.934557Z"
    }
   },
   "outputs": [],
   "source": [
    "#한명의 학생정보를 관리할 목적으로 구현하는 클래스\n",
    "class Student:\n",
    "    #멤버필드\n",
    "    \n",
    "    #생성자메서드\n",
    "    def __init__(self, name, kor, eng, math):\n",
    "        self.name = name\n",
    "        self.kor = kor\n",
    "        self.eng = eng\n",
    "        self.math = math\n",
    "    \n",
    "    #멤버메서드\n",
    "    def total(self):\n",
    "        return self.kor + self.eng + self.math\n",
    "    \n",
    "    def average(self):\n",
    "        return round(self.total() / 3, 2)\n",
    "    \n",
    "    def disp(self):\n",
    "        return \"{}\\t{}\\t{}\".format(self.name, self.total(), self.average())\n",
    "    \n",
    "    #소멸자메서드\n",
    "    def __del__(self):\n",
    "        pass"
   ]
  },
  {
   "cell_type": "code",
   "execution_count": 104,
   "id": "e4d6c75e",
   "metadata": {
    "ExecuteTime": {
     "end_time": "2023-08-25T03:17:43.496119Z",
     "start_time": "2023-08-25T03:17:43.487084Z"
    }
   },
   "outputs": [
    {
     "name": "stdout",
     "output_type": "stream",
     "text": [
      "aaa\t300\t100.0\n"
     ]
    }
   ],
   "source": [
    "# 학생정보를 이용한 인스턴스 객체 생성\n",
    "one = Student('aaa', 100, 100, 100)\n",
    "print(one.disp())"
   ]
  },
  {
   "cell_type": "code",
   "execution_count": 106,
   "id": "196b8240",
   "metadata": {
    "ExecuteTime": {
     "end_time": "2023-08-25T03:19:59.867298Z",
     "start_time": "2023-08-25T03:19:53.871178Z"
    }
   },
   "outputs": [
    {
     "name": "stdout",
     "output_type": "stream",
     "text": [
      "name = aaa\n",
      "kor = 34\n",
      "eng = 54\n",
      "math = 34\n",
      "aaa\t122\t40.67\n"
     ]
    }
   ],
   "source": [
    "name = input('name = ')\n",
    "kor = int(input('kor = '))\n",
    "eng = int(input('eng = '))\n",
    "math = int(input('math = '))\n",
    "\n",
    "two = Student(name, kor, eng, math)\n",
    "print(two.disp())"
   ]
  },
  {
   "cell_type": "markdown",
   "id": "43e1d766",
   "metadata": {},
   "source": [
    "## 상속(Inheritance)\n",
    "\n",
    "- 부모클래스(상위클래스)가 가지고 있는 특성과 속성을 그대로 자식클래스(하위클래스, 파생클래스)가 물려 받는것\n",
    "- 재활용을 극대화하기 위해 사용하는 개념\n",
    "- 다중 상속도 가능하다.\n",
    "- 오버라이딩(Overriding) : 재정의, 부모메서드를 자식클래스에서 다시 정의해서 사용하는 것\n",
    "- 다형성(Polymorphism) : 가독성을 높이기 위해서 사용하는 기능"
   ]
  },
  {
   "cell_type": "code",
   "execution_count": 107,
   "id": "c1c7718d",
   "metadata": {
    "ExecuteTime": {
     "end_time": "2023-08-25T03:34:11.127668Z",
     "start_time": "2023-08-25T03:34:11.111121Z"
    }
   },
   "outputs": [],
   "source": [
    "class Person:\n",
    "    def disp(self):\n",
    "        print(\"이름 : \", self.name)\n",
    "        print(\"나이 : \", self.age)\n",
    "        print(\"신장 : \", self.height)"
   ]
  },
  {
   "cell_type": "code",
   "execution_count": 109,
   "id": "450cbaac",
   "metadata": {
    "ExecuteTime": {
     "end_time": "2023-08-25T03:37:35.780232Z",
     "start_time": "2023-08-25T03:37:35.767166Z"
    }
   },
   "outputs": [
    {
     "name": "stdout",
     "output_type": "stream",
     "text": [
      "이름 :  kim\n",
      "나이 :  23\n",
      "신장 :  169.8\n"
     ]
    }
   ],
   "source": [
    "#인스턴스 객체 생성 - 객체가 생성되면 자동적으로 생성자 매서드가 호출된다.\n",
    "#클래스명과 동일한 이름을 가진 생성자 : default 생성자 - 생략가능\n",
    "p1 = Person()\n",
    "p1.name = 'kim'\n",
    "p1.age = 23\n",
    "p1.height = 169.8\n",
    "p1.disp()"
   ]
  },
  {
   "cell_type": "code",
   "execution_count": 110,
   "id": "5849cbbe",
   "metadata": {
    "ExecuteTime": {
     "end_time": "2023-08-25T03:38:28.040857Z",
     "start_time": "2023-08-25T03:38:28.030883Z"
    }
   },
   "outputs": [
    {
     "name": "stdout",
     "output_type": "stream",
     "text": [
      "이름 :  lee\n",
      "나이 :  33\n",
      "신장 :  190.7\n"
     ]
    }
   ],
   "source": [
    "p2 = Person()\n",
    "p2.name = 'lee'\n",
    "p2.age = 33\n",
    "p2.height = 190.7\n",
    "p2.disp()"
   ]
  },
  {
   "cell_type": "code",
   "execution_count": 111,
   "id": "39b5dd24",
   "metadata": {
    "ExecuteTime": {
     "end_time": "2023-08-25T03:39:50.010227Z",
     "start_time": "2023-08-25T03:39:49.996268Z"
    }
   },
   "outputs": [],
   "source": [
    "class Person:\n",
    "    def __init__(self, name, age, height):\n",
    "        self.name = name\n",
    "        self.age = age\n",
    "        self.height = height\n",
    "    def disp(self):\n",
    "        print(\"이름 : \", self.name)\n",
    "        print(\"나이 : \", self.age)\n",
    "        print(\"신장 : \", self.height)"
   ]
  },
  {
   "cell_type": "code",
   "execution_count": 113,
   "id": "db83fab7",
   "metadata": {
    "ExecuteTime": {
     "end_time": "2023-08-25T03:40:32.353718Z",
     "start_time": "2023-08-25T03:40:32.339873Z"
    }
   },
   "outputs": [
    {
     "name": "stdout",
     "output_type": "stream",
     "text": [
      "이름 :  park\n",
      "나이 :  19\n",
      "신장 :  160\n"
     ]
    }
   ],
   "source": [
    "p3 = Person('park',19,160)\n",
    "p3.disp()"
   ]
  },
  {
   "cell_type": "code",
   "execution_count": 120,
   "id": "df82dec9",
   "metadata": {
    "ExecuteTime": {
     "end_time": "2023-08-25T03:57:25.256047Z",
     "start_time": "2023-08-25T03:57:25.252826Z"
    }
   },
   "outputs": [],
   "source": [
    "# 중학교\n",
    "class Middle:\n",
    "    #멤버 필드\n",
    "    \n",
    "    #생성자 메서드\n",
    "    def __init__(self, name, phone):\n",
    "        self.name = name\n",
    "        self.phone = phone\n",
    "        \n",
    "    #멤버 메서드\n",
    "    def disp(self):\n",
    "        print(f'{self.name} : {self.phone}', end='')"
   ]
  },
  {
   "cell_type": "code",
   "execution_count": 115,
   "id": "2dd43dba",
   "metadata": {
    "ExecuteTime": {
     "end_time": "2023-08-25T03:49:08.016593Z",
     "start_time": "2023-08-25T03:49:08.000394Z"
    }
   },
   "outputs": [],
   "source": [
    "# 친구등록\n",
    "m1 = Middle('이중학', '010-1111-2222')\n",
    "m2 = Middle('저중학', '010-2222-3333')"
   ]
  },
  {
   "cell_type": "code",
   "execution_count": 117,
   "id": "91d4d9c0",
   "metadata": {
    "ExecuteTime": {
     "end_time": "2023-08-25T03:49:17.927768Z",
     "start_time": "2023-08-25T03:49:17.914298Z"
    }
   },
   "outputs": [
    {
     "name": "stdout",
     "output_type": "stream",
     "text": [
      "이중학 : 010-1111-2222\n"
     ]
    }
   ],
   "source": [
    "m1.disp()"
   ]
  },
  {
   "cell_type": "code",
   "execution_count": 118,
   "id": "8164ea72",
   "metadata": {
    "ExecuteTime": {
     "end_time": "2023-08-25T03:51:21.461526Z",
     "start_time": "2023-08-25T03:51:21.446243Z"
    }
   },
   "outputs": [],
   "source": [
    "#고등학교\n",
    "class High:\n",
    "    #멤버필드\n",
    "    \n",
    "    #생성자메서드\n",
    "    def __init__(self, name, phone, address):\n",
    "        self.name = name\n",
    "        self.phone = phone\n",
    "        self.address = address\n",
    "    #멤버메서드\n",
    "    def disp(self):\n",
    "        print(f'{self.name} : {self.phone} : {self.address}')"
   ]
  },
  {
   "cell_type": "code",
   "execution_count": 119,
   "id": "2e4881c5",
   "metadata": {
    "ExecuteTime": {
     "end_time": "2023-08-25T03:51:49.276034Z",
     "start_time": "2023-08-25T03:51:49.272044Z"
    }
   },
   "outputs": [
    {
     "name": "stdout",
     "output_type": "stream",
     "text": [
      "박고등 : 010-3333-4444 : 가산동\n"
     ]
    }
   ],
   "source": [
    "h1 = High('박고등','010-3333-4444','가산동')\n",
    "h1.disp()"
   ]
  },
  {
   "cell_type": "code",
   "execution_count": 121,
   "id": "f4394281",
   "metadata": {
    "ExecuteTime": {
     "end_time": "2023-08-25T03:57:29.989083Z",
     "start_time": "2023-08-25T03:57:29.981378Z"
    }
   },
   "outputs": [],
   "source": [
    "class High(Middle):\n",
    "    #멤버필드\n",
    "    \n",
    "    #생성자메서드\n",
    "    def __init__(self, name, phone, address):\n",
    "        Middle.__init__(self, name, phone)\n",
    "        self.address = address\n",
    "    #멤버메서드\n",
    "    def disp(self):\n",
    "        Middle.disp(self)\n",
    "        print(f'{self.address}')"
   ]
  },
  {
   "cell_type": "code",
   "execution_count": 122,
   "id": "c484acb3",
   "metadata": {
    "ExecuteTime": {
     "end_time": "2023-08-25T03:58:13.489490Z",
     "start_time": "2023-08-25T03:58:13.485414Z"
    }
   },
   "outputs": [
    {
     "name": "stdout",
     "output_type": "stream",
     "text": [
      "한중학 : 010-7777-8888"
     ]
    }
   ],
   "source": [
    "m3 = Middle('한중학','010-7777-8888')\n",
    "m3.disp()"
   ]
  },
  {
   "cell_type": "code",
   "execution_count": 123,
   "id": "069dc25b",
   "metadata": {
    "ExecuteTime": {
     "end_time": "2023-08-25T03:58:52.219755Z",
     "start_time": "2023-08-25T03:58:52.212546Z"
    }
   },
   "outputs": [
    {
     "name": "stdout",
     "output_type": "stream",
     "text": [
      "박고등 : 010-9999-9090서울시\n"
     ]
    }
   ],
   "source": [
    "h2 = High('박고등','010-9999-9090', '서울시')\n",
    "h2.disp()"
   ]
  },
  {
   "cell_type": "code",
   "execution_count": 124,
   "id": "e1611ce0",
   "metadata": {
    "ExecuteTime": {
     "end_time": "2023-08-25T05:17:18.326222Z",
     "start_time": "2023-08-25T05:17:18.318085Z"
    }
   },
   "outputs": [],
   "source": [
    "#회원정보를 관리할 목적의 클래스\n",
    "class Member:\n",
    "    def __init__(self, userid, pwd, name, age):\n",
    "        self.userid = userid\n",
    "        self.pwd = pwd\n",
    "        self.name = name\n",
    "        self.age = age\n",
    "    def info(self):\n",
    "        print(\"아이디 : \", self.userid, end='')\n",
    "        print(\"비밀번호 : \", self.pwd, end='')\n",
    "        print(\"이름 : \", self.name, end='')\n",
    "        print(\"나이 : \", self.age)"
   ]
  },
  {
   "cell_type": "code",
   "execution_count": 125,
   "id": "4bb84164",
   "metadata": {
    "ExecuteTime": {
     "end_time": "2023-08-25T05:22:13.926318Z",
     "start_time": "2023-08-25T05:22:13.914599Z"
    }
   },
   "outputs": [],
   "source": [
    "class MemberInfo(Member):\n",
    "    def __init__(self, userid, pwd, name, age, job, hobby):\n",
    "        Member.__init__(self, userid, pwd, name, age)\n",
    "        self.job = job\n",
    "        self.hobby = hobby\n",
    "    \n",
    "    def info(self):\n",
    "        Member.info(self)\n",
    "        print(\"직업 : \", self.job, end='')\n",
    "        print(\"취미 : \", self.hobby)"
   ]
  },
  {
   "cell_type": "code",
   "execution_count": 126,
   "id": "7966dc6f",
   "metadata": {
    "ExecuteTime": {
     "end_time": "2023-08-25T05:23:14.270925Z",
     "start_time": "2023-08-25T05:23:14.255023Z"
    }
   },
   "outputs": [
    {
     "name": "stdout",
     "output_type": "stream",
     "text": [
      "아이디 :  aaa비밀번호 :  1234이름 :  배불러나이 :  33\n",
      "직업 :  개발자취미 :  댄스\n"
     ]
    }
   ],
   "source": [
    "mem = MemberInfo('aaa', '1234', '배불러', 33, '개발자', '댄스')\n",
    "mem.info()"
   ]
  },
  {
   "cell_type": "markdown",
   "id": "d318eb56",
   "metadata": {},
   "source": [
    "다음 주어진 조건에 만족하는 프로그램을 구현하시오.\n",
    "\n",
    "처리조건\n",
    "1. 사용자가 원하는 도형을 입력받아 처리할 수 있도록 구현한다.\n",
    "2. 점, 원, 사각형 중 하나를 입력받아 처리한다.\n",
    "3. 출력형식 및 입력형식에 맞게 프로그램을 구현한다.\n",
    "\n",
    "입력형식<br>\n",
    "도형(1.점, 2.원 3.사각형 4.종료) = <br>\n",
    "\n",
    " - 점을 선택한 경우\n",
    "   x =\n",
    "   y =\n",
    "   점(x, y) = (10, 20)\n",
    "\n",
    " - 원을 선택한 경우\n",
    "   x = 3\n",
    "   y = 5\n",
    "   r = 10\n",
    "   점(x, y) = (3, 5)\n",
    "   반지름(r) = 10\n",
    "   \n",
    " - 사각형을 선택한 경우\n",
    "   x = 10\n",
    "   y = 9\n",
    "   h = 20\n",
    "   w = 7\n",
    "   점(x, y) = (10, 9)\n",
    "   높이(h) = 20, 너비(w) = 7"
   ]
  },
  {
   "cell_type": "code",
   "execution_count": 127,
   "id": "d9470480",
   "metadata": {
    "ExecuteTime": {
     "end_time": "2023-08-25T05:32:21.871935Z",
     "start_time": "2023-08-25T05:32:21.864696Z"
    }
   },
   "outputs": [],
   "source": [
    "# 평면위의 한 점을 추상화하는 클래스 Point 구현\n",
    "class Point:\n",
    "    #멤버 필드\n",
    "    \n",
    "    #생성자 메서드\n",
    "    def __init__(self):\n",
    "        self.xpos = int(input(\"x = \"))\n",
    "        self.ypos = int(input(\"y = \"))\n",
    "    #멤버 메서드\n",
    "    def disp(self):\n",
    "        print(f\"점(x, y) = ({self.xpos}, {self.ypos})\")"
   ]
  },
  {
   "cell_type": "code",
   "execution_count": 129,
   "id": "4ac2aaf4",
   "metadata": {
    "ExecuteTime": {
     "end_time": "2023-08-25T05:33:06.390388Z",
     "start_time": "2023-08-25T05:33:03.491446Z"
    }
   },
   "outputs": [
    {
     "name": "stdout",
     "output_type": "stream",
     "text": [
      "x = 3\n",
      "y = 5\n",
      "점(x, y) = (3, 5)\n"
     ]
    }
   ],
   "source": [
    "ap = Point()\n",
    "ap.disp()"
   ]
  },
  {
   "cell_type": "code",
   "execution_count": 131,
   "id": "bf3b4f25",
   "metadata": {
    "ExecuteTime": {
     "end_time": "2023-08-25T05:39:14.335633Z",
     "start_time": "2023-08-25T05:39:14.327366Z"
    }
   },
   "outputs": [],
   "source": [
    "# 반지름을 받아 원을 추상화하는 클래스 Circle\n",
    "class Circle:\n",
    "    #생성자 메서드\n",
    "    def __init__(self):\n",
    "        Point.__init__(self)\n",
    "        self.r = int(input('r = '))\n",
    "    #멤버 메서드\n",
    "    def disp(self):\n",
    "        Point.disp(self)\n",
    "        print(f\"반지름(r) = {self.r}\")"
   ]
  },
  {
   "cell_type": "code",
   "execution_count": 132,
   "id": "a21d5bf8",
   "metadata": {
    "ExecuteTime": {
     "end_time": "2023-08-25T05:39:32.617137Z",
     "start_time": "2023-08-25T05:39:28.647403Z"
    }
   },
   "outputs": [
    {
     "name": "stdout",
     "output_type": "stream",
     "text": [
      "x = 3\n",
      "y = 4\n",
      "r = 9\n",
      "점(x, y) = (3, 4)\n",
      "반지름(r) = 9\n"
     ]
    }
   ],
   "source": [
    "ac = Circle()\n",
    "ac.disp()"
   ]
  },
  {
   "cell_type": "code",
   "execution_count": 135,
   "id": "1a7f1f71",
   "metadata": {
    "ExecuteTime": {
     "end_time": "2023-08-25T05:46:09.890464Z",
     "start_time": "2023-08-25T05:46:09.881294Z"
    }
   },
   "outputs": [],
   "source": [
    "# 높이, 너비를 받아 사각형을 추상화하는 클래스 Box\n",
    "class Box:\n",
    "    def __init__(self):\n",
    "        Point.__init__(self)\n",
    "        self.height = int(input('h = '))\n",
    "        self.width = int(input('w = '))\n",
    "    def disp(self):\n",
    "        Point.disp(self)\n",
    "        print(f'높이(h) = {self.height}, 너비(w) = {self.width}')"
   ]
  },
  {
   "cell_type": "code",
   "execution_count": 136,
   "id": "1366cee8",
   "metadata": {
    "ExecuteTime": {
     "end_time": "2023-08-25T05:46:16.497597Z",
     "start_time": "2023-08-25T05:46:12.583817Z"
    }
   },
   "outputs": [
    {
     "name": "stdout",
     "output_type": "stream",
     "text": [
      "x = 3\n",
      "y = 4\n",
      "h = 5\n",
      "w = 6\n",
      "점(x, y) = (3, 4)\n",
      "높이(h) = 5, 너비(w) = 6\n"
     ]
    }
   ],
   "source": [
    "b = Box()\n",
    "b.disp()"
   ]
  },
  {
   "cell_type": "markdown",
   "id": "ef8404ba",
   "metadata": {},
   "source": [
    "### 급여관리 프로그램\n",
    "1. A라는 회사의 직원의 급여를 관리할 목적으로 프로그램을 구현하려고 한다.\n",
    "2. 처음 이회사가 창립될 때 채용한 모든 직원은 정규직 직원이다.\n",
    "\n",
    " - Entity Class : 단순히 자료를 담아서 보관할 목적으로 구현하는 클래스, Model(모델)\n",
    " - Handler Class or Controller Class : 실제 프로그램을 동작할 목적으로 구현하는 클래스\n",
    " - 주요기능 : 직원등록, 직원정보를 출력, 모든 직원의 급여정보와 총 지급하는 급여액을 확인\n",
    " - 직원정보는 급여와 이름을 관리한다.\n",
    " "
   ]
  },
  {
   "cell_type": "code",
   "execution_count": 140,
   "id": "b216a363",
   "metadata": {
    "ExecuteTime": {
     "end_time": "2023-08-25T05:53:03.329408Z",
     "start_time": "2023-08-25T05:53:03.315210Z"
    }
   },
   "outputs": [],
   "source": [
    "# 정규직 한명을 관리할 목적으로 클래스 구현(Entity class)\n",
    "class Permanent:\n",
    "    def __init__(self, name, pay):\n",
    "        self.name = name\n",
    "        self.pay = pay\n",
    "    def disp(self):\n",
    "        print(f\"{self.name} : {self.pay}\")\n",
    "    def getPay(self):\n",
    "        return self.pay"
   ]
  },
  {
   "cell_type": "code",
   "execution_count": 139,
   "id": "4007c1f4",
   "metadata": {
    "ExecuteTime": {
     "end_time": "2023-08-25T05:51:48.778710Z",
     "start_time": "2023-08-25T05:51:48.760498Z"
    }
   },
   "outputs": [
    {
     "name": "stdout",
     "output_type": "stream",
     "text": [
      "aaa : 1000\n"
     ]
    }
   ],
   "source": [
    "p1 = Permanent('aaa', 1000)\n",
    "p1.disp()"
   ]
  },
  {
   "cell_type": "code",
   "execution_count": 142,
   "id": "49ce9a07",
   "metadata": {
    "ExecuteTime": {
     "end_time": "2023-08-25T05:56:51.430280Z",
     "start_time": "2023-08-25T05:56:51.410663Z"
    }
   },
   "outputs": [
    {
     "name": "stdout",
     "output_type": "stream",
     "text": [
      "aaa : 1000\n",
      "bbb : 2000\n",
      "ccc : 1500\n",
      "총급여액 :  4500\n"
     ]
    }
   ],
   "source": [
    "p1 = Permanent('aaa', 1000)\n",
    "p2 = Permanent('bbb', 2000)\n",
    "p3 = Permanent('ccc', 1500)\n",
    "\n",
    "p1.disp()\n",
    "p2.disp()\n",
    "p3.disp()\n",
    "\n",
    "total = p1.getPay() + p2.getPay() + p3.getPay()\n",
    "print(\"총급여액 : \", total)\n"
   ]
  },
  {
   "cell_type": "code",
   "execution_count": 144,
   "id": "80283249",
   "metadata": {
    "ExecuteTime": {
     "end_time": "2023-08-25T06:22:28.096902Z",
     "start_time": "2023-08-25T06:21:40.682036Z"
    }
   },
   "outputs": [
    {
     "name": "stdout",
     "output_type": "stream",
     "text": [
      "\n",
      "[1]직원등록 [2]직원출력 [3]총급여액 [4]작업종료\n",
      "선택 = 1\n",
      "이름 = AAA\n",
      "급여 = 1200\n",
      "직원등록이 완료되었습니다.\n",
      "\n",
      "[1]직원등록 [2]직원출력 [3]총급여액 [4]작업종료\n",
      "선택 = 2\n",
      "AAA : 1200\n",
      "\n",
      "[1]직원등록 [2]직원출력 [3]총급여액 [4]작업종료\n",
      "선택 = 1\n",
      "이름 = bbb\n",
      "급여 = 1500\n",
      "직원등록이 완료되었습니다.\n",
      "\n",
      "[1]직원등록 [2]직원출력 [3]총급여액 [4]작업종료\n",
      "선택 = 2\n",
      "AAA : 1200\n",
      "bbb : 1500\n",
      "\n",
      "[1]직원등록 [2]직원출력 [3]총급여액 [4]작업종료\n",
      "선택 = 3\n",
      "총급여액 :  2700\n",
      "\n",
      "[1]직원등록 [2]직원출력 [3]총급여액 [4]작업종료\n",
      "선택 = 4\n",
      "프로그램을 종료합니다.\n"
     ]
    }
   ],
   "source": [
    "emp = list()\n",
    "\n",
    "while True:\n",
    "    print(\"\\n[1]직원등록 [2]직원출력 [3]총급여액 [4]작업종료\")\n",
    "    menu = int(input('선택 = '))\n",
    "    if menu == 1:\n",
    "        name = input('이름 = ')\n",
    "        pay = int(input('급여 = '))\n",
    "        p = Permanent(name, pay)\n",
    "        emp.append(p)\n",
    "        print(\"직원등록이 완료되었습니다.\")\n",
    "    elif menu == 2:\n",
    "        if len(emp) == 0:\n",
    "            print(\"등록된 직원이 없습니다.\")\n",
    "        else:\n",
    "            for e in emp:\n",
    "                e.disp()\n",
    "    elif menu == 3:\n",
    "        tot = 0\n",
    "        for e in emp:\n",
    "            tot += e.getPay()\n",
    "        print(\"총급여액 : \", tot)\n",
    "    elif menu == 4:\n",
    "        print(\"프로그램을 종료합니다.\")\n",
    "        break\n",
    "    else:\n",
    "        print(\"선택이 올바르지 않습니다.\")"
   ]
  },
  {
   "cell_type": "code",
   "execution_count": 145,
   "id": "7108a898",
   "metadata": {
    "ExecuteTime": {
     "end_time": "2023-08-25T06:26:59.765938Z",
     "start_time": "2023-08-25T06:26:59.754625Z"
    }
   },
   "outputs": [],
   "source": [
    "# Handler Class : 실제 처리를 담당하는 클래스\n",
    "class EmpManager:\n",
    "    emp = list()\n",
    "    # 멤버 메서드\n",
    "    # 직원등록을 하는 메서드\n",
    "    def create(self):\n",
    "        name = input('이름 = ')\n",
    "        pay = int(input('급여 = '))\n",
    "        p = Permanent(name, pay)\n",
    "        emp.append(p)\n",
    "        print(\"직원등록이 완료되었습니다.\")\n",
    "    \n",
    "    def show(self):\n",
    "        if len(emp) == 0:\n",
    "            print(\"등록된 직원이 없습니다.\")\n",
    "        else:\n",
    "            for e in emp:\n",
    "                e.disp()\n",
    "                \n",
    "    def allPay(self):\n",
    "        tot = 0\n",
    "        for e in emp:\n",
    "            tot += e.getPay()\n",
    "        print(\"총급여액 : \", tot)"
   ]
  },
  {
   "cell_type": "code",
   "execution_count": 147,
   "id": "3c1d281d",
   "metadata": {
    "ExecuteTime": {
     "end_time": "2023-08-25T06:31:01.549194Z",
     "start_time": "2023-08-25T06:30:28.231512Z"
    }
   },
   "outputs": [
    {
     "name": "stdout",
     "output_type": "stream",
     "text": [
      "\n",
      "[1]직원등록 [2]직원출력 [3]총급여액 [4]작업종료\n",
      "선택 = 1\n",
      "이름 = ccc\n",
      "급여 = 1800\n",
      "직원등록이 완료되었습니다.\n",
      "\n",
      "[1]직원등록 [2]직원출력 [3]총급여액 [4]작업종료\n",
      "선택 = 2\n",
      "AAA : 1200\n",
      "bbb : 1500\n",
      "ccc : 1800\n",
      "\n",
      "[1]직원등록 [2]직원출력 [3]총급여액 [4]작업종료\n",
      "선택 = 3\n",
      "총급여액 :  4500\n",
      "\n",
      "[1]직원등록 [2]직원출력 [3]총급여액 [4]작업종료\n",
      "선택 = 4\n",
      "프로그램을 종료합니다.\n"
     ]
    }
   ],
   "source": [
    "# main process\n",
    "manager = EmpManager()\n",
    "\n",
    "while True:\n",
    "    print(\"\\n[1]직원등록 [2]직원출력 [3]총급여액 [4]작업종료\")\n",
    "    menu = int(input('선택 = '))\n",
    "    if menu == 1:\n",
    "        manager.create()\n",
    "    elif menu == 2:\n",
    "        manager.show()\n",
    "    elif menu == 3:\n",
    "        manager.allPay()\n",
    "    elif menu == 4:\n",
    "        print(\"프로그램을 종료합니다.\")\n",
    "        break\n",
    "    else:\n",
    "        print(\"선택이 올바르지 않습니다.\")"
   ]
  },
  {
   "cell_type": "markdown",
   "id": "9ce00eda",
   "metadata": {},
   "source": [
    "- 회사가 성장을 하여 다양한 직군의 직원을 채용한다.\n",
    "- 정규직(Permanent) : 이름, 기본급\n",
    "- 영업직(Sales) : 이름, 기본급, 매출실적, 보너스, 급여(기본급+매출실적*보너스)\n",
    "- 임시직(Temporary) : 이름, 근무시간, 시간당급여, 급여(근무시간*시간당급여)\n",
    "- 메서드 오버라이딩(Method Overriding) : 부모클래스에 선언된 메서드와 동일한 이름을 가진 메서드를 자식 클래스에도 선언한다. \n",
    "  이때 자식객체를 이용해서 해당 메서드를 호출하면 자식메서드가 실행된다.\n",
    "<code>\n",
    "    직원(Employee) : 이름, 급여(추상메서드)\n",
    "    - 정규직 : 급여(기본급)\n",
    "    - 영업직 : 급여(기본급 + 매출실적*상여금)\n",
    "    - 임시직 : 급여(근무시간*수당)\n",
    "</code>"
   ]
  },
  {
   "cell_type": "code",
   "execution_count": 4,
   "id": "ed7fb844",
   "metadata": {
    "ExecuteTime": {
     "end_time": "2023-08-25T08:09:22.881154Z",
     "start_time": "2023-08-25T08:09:22.876086Z"
    }
   },
   "outputs": [],
   "source": [
    "#상위클래스 : 부모클래스\n",
    "class Employee:\n",
    "    #생성자 메서드\n",
    "    def __init__(self, name):\n",
    "        self.name = name\n",
    "        \n",
    "    #멤버 메서드\n",
    "    def disp(self):\n",
    "        print(\"이름 : \", self.name, end='')\n",
    "    #추상 메서드\n",
    "    def getPay(self):\n",
    "        return 0"
   ]
  },
  {
   "cell_type": "code",
   "execution_count": 5,
   "id": "0f01b234",
   "metadata": {
    "ExecuteTime": {
     "end_time": "2023-08-25T08:09:23.568225Z",
     "start_time": "2023-08-25T08:09:23.562992Z"
    }
   },
   "outputs": [],
   "source": [
    "class Permanent(Employee):\n",
    "    def __init__(self, name, pay):\n",
    "        Employee.__init__(self, name)\n",
    "        self.pay = pay\n",
    "    \n",
    "    def disp(self):\n",
    "        Employee.disp(self)\n",
    "        print(\"급여 : \", self.getPay())\n",
    "        \n",
    "    def getPay(self):\n",
    "        return self.pay"
   ]
  },
  {
   "cell_type": "code",
   "execution_count": 12,
   "id": "05eca531",
   "metadata": {
    "ExecuteTime": {
     "end_time": "2023-08-25T08:22:23.240787Z",
     "start_time": "2023-08-25T08:22:23.236586Z"
    }
   },
   "outputs": [],
   "source": [
    "#영업직\n",
    "class Sales(Employee):\n",
    "    def __init__(self, name, pay, result, rate):\n",
    "        Employee.__init__(self, name)\n",
    "        self.pay = pay\n",
    "        self.result = result\n",
    "        self.rate = rate\n",
    "        \n",
    "    def getPay(self):\n",
    "        return self.pay + (self.result * self.rate)\n",
    "    \n",
    "    def disp(self):\n",
    "        Employee.disp(self)\n",
    "        print(\"급여 : \", self.getPay())"
   ]
  },
  {
   "cell_type": "code",
   "execution_count": 16,
   "id": "5601b07c",
   "metadata": {
    "ExecuteTime": {
     "end_time": "2023-08-25T08:33:10.349599Z",
     "start_time": "2023-08-25T08:33:10.344508Z"
    }
   },
   "outputs": [],
   "source": [
    "#임시직\n",
    "class Temporary(Employee):\n",
    "    def __init__(self, name, time, timepay):\n",
    "        Employee.__init__(self, name)\n",
    "        self.time = time\n",
    "        self.timepay = timepay\n",
    "        \n",
    "    def getPay(self):\n",
    "        return self.time*self.timepay\n",
    "    \n",
    "    def disp(self):\n",
    "        Employee.disp(self)\n",
    "        print(\"급여 : \", self.getPay())\n",
    "    "
   ]
  },
  {
   "cell_type": "code",
   "execution_count": 21,
   "id": "32456a65",
   "metadata": {
    "ExecuteTime": {
     "end_time": "2023-08-25T08:35:19.318088Z",
     "start_time": "2023-08-25T08:35:19.311283Z"
    }
   },
   "outputs": [],
   "source": [
    "# Handler Class : 실제 처리를 담당하는 클래스\n",
    "class EmpManager:\n",
    "    emp = list()\n",
    "    # 멤버 메서드\n",
    "    # 직원등록을 하는 메서드\n",
    "    def create(self):\n",
    "        print(\"직군을 선택하세요.\")\n",
    "        job = int(input('1. 정규직 2. 영업직 3. 임시직 = '))\n",
    "        \n",
    "        if job == 1:\n",
    "            name = input('이름 = ')\n",
    "            pay = int(input('급여 = '))\n",
    "            p = Permanent(name, pay)\n",
    "            EmpManager.emp.append(p)\n",
    "    \n",
    "        elif job == 2:\n",
    "            name = input('이름 = ')\n",
    "            pay = int(input('급여 = '))\n",
    "            result = int(input('판매실적 = '))\n",
    "            rate = int(input('상여율 = '))\n",
    "            p = Sales(name, pay, result, rate)\n",
    "            EmpManager.emp.append(p)\n",
    "    \n",
    "        elif job == 3:\n",
    "            name = input('이름 = ')\n",
    "            time = eval(input('시간 = '))\n",
    "            timepay = eval(input('시간당급여 = '))\n",
    "            p = Temporary(name, time, timepay)\n",
    "            EmpManager.emp.append(p)\n",
    "        print(\"직원등록이 완료되었습니다.\")\n",
    "    \n",
    "    def show(self):\n",
    "        if len(EmpManager.emp) == 0:\n",
    "            print(\"등록된 직원이 없습니다.\")\n",
    "        else:\n",
    "            for e in EmpManager.emp:\n",
    "                e.disp()\n",
    "                \n",
    "    def allPay(self):\n",
    "        tot = 0\n",
    "        for e in EmpManager.emp:\n",
    "            tot += e.getPay()\n",
    "        print(\"총급여액 : \", tot)"
   ]
  },
  {
   "cell_type": "code",
   "execution_count": null,
   "id": "2d8e2341",
   "metadata": {
    "ExecuteTime": {
     "start_time": "2023-08-25T08:35:21.865Z"
    }
   },
   "outputs": [
    {
     "name": "stdout",
     "output_type": "stream",
     "text": [
      "\n",
      "[1]직원등록 [2]직원출력 [3]총급여액 [4]작업종료\n",
      "선택 = 1\n",
      "직군을 선택하세요.\n",
      "1. 정규직 2. 영업직 3. 임시직 = 3\n",
      "이름 = aaa\n",
      "시간 = 180\n",
      "시간당급여 = 4000\n",
      "직원등록이 완료되었습니다.\n",
      "\n",
      "[1]직원등록 [2]직원출력 [3]총급여액 [4]작업종료\n",
      "선택 = 3\n",
      "총급여액 :  720000\n",
      "\n",
      "[1]직원등록 [2]직원출력 [3]총급여액 [4]작업종료\n",
      "선택 = 2\n",
      "이름 :  aaa급여 :  720000\n",
      "\n",
      "[1]직원등록 [2]직원출력 [3]총급여액 [4]작업종료\n",
      "선택 = 5\n",
      "선택이 올바르지 않습니다.\n",
      "\n",
      "[1]직원등록 [2]직원출력 [3]총급여액 [4]작업종료\n",
      "선택 = 5\n",
      "선택이 올바르지 않습니다.\n",
      "\n",
      "[1]직원등록 [2]직원출력 [3]총급여액 [4]작업종료\n"
     ]
    }
   ],
   "source": [
    "# main process\n",
    "manager = EmpManager()\n",
    "\n",
    "while True:\n",
    "    print(\"\\n[1]직원등록 [2]직원출력 [3]총급여액 [4]작업종료\")\n",
    "    menu = int(input('선택 = '))\n",
    "    if menu == 1:\n",
    "        manager.create()\n",
    "    elif menu == 2:\n",
    "        manager.show()\n",
    "    elif menu == 3:\n",
    "        manager.allPay()\n",
    "    elif menu == 4:\n",
    "        print(\"프로그램을 종료합니다.\")\n",
    "        break\n",
    "    else:\n",
    "        print(\"선택이 올바르지 않습니다.\")"
   ]
  },
  {
   "cell_type": "code",
   "execution_count": null,
   "id": "4a9af4cb",
   "metadata": {},
   "outputs": [],
   "source": []
  },
  {
   "cell_type": "code",
   "execution_count": null,
   "id": "d9142cd1",
   "metadata": {},
   "outputs": [],
   "source": []
  }
 ],
 "metadata": {
  "kernelspec": {
   "display_name": "Python 3 (ipykernel)",
   "language": "python",
   "name": "python3"
  },
  "language_info": {
   "codemirror_mode": {
    "name": "ipython",
    "version": 3
   },
   "file_extension": ".py",
   "mimetype": "text/x-python",
   "name": "python",
   "nbconvert_exporter": "python",
   "pygments_lexer": "ipython3",
   "version": "3.9.7"
  },
  "toc": {
   "base_numbering": 1,
   "nav_menu": {},
   "number_sections": true,
   "sideBar": true,
   "skip_h1_title": false,
   "title_cell": "Table of Contents",
   "title_sidebar": "Contents",
   "toc_cell": false,
   "toc_position": {
    "height": "calc(100% - 180px)",
    "left": "10px",
    "top": "150px",
    "width": "384px"
   },
   "toc_section_display": true,
   "toc_window_display": true
  }
 },
 "nbformat": 4,
 "nbformat_minor": 5
}
