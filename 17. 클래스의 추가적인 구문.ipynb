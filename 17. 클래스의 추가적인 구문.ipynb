{
 "cells": [
  {
   "cell_type": "markdown",
   "id": "9abdbc80",
   "metadata": {},
   "source": [
    "# isinstance(), 클래스 변수, 클래스 함수"
   ]
  },
  {
   "cell_type": "markdown",
   "id": "584deb50",
   "metadata": {},
   "source": [
    "## 상속(Inheritance) : 부모클래스로부터 자녀클래스로 자원을 물려주는 것\n",
    "- 재활용을 극대화하는 목적으로 구현된다."
   ]
  },
  {
   "cell_type": "code",
   "execution_count": 1,
   "id": "5649785d",
   "metadata": {
    "ExecuteTime": {
     "end_time": "2023-08-30T00:09:48.116799Z",
     "start_time": "2023-08-30T00:09:48.097938Z"
    }
   },
   "outputs": [],
   "source": [
    "#isinstance() : 해당 객체가 어떤 클래스로부터 만들어졌는지 확인하는 메서드\n",
    "\n",
    "class Student:\n",
    "    def __init__(self):\n",
    "        pass\n",
    "    "
   ]
  },
  {
   "cell_type": "code",
   "execution_count": 2,
   "id": "d334e6ce",
   "metadata": {
    "ExecuteTime": {
     "end_time": "2023-08-30T00:10:06.985592Z",
     "start_time": "2023-08-30T00:10:06.970362Z"
    }
   },
   "outputs": [],
   "source": [
    "student = Student()\n"
   ]
  },
  {
   "cell_type": "code",
   "execution_count": 3,
   "id": "05ce8b14",
   "metadata": {
    "ExecuteTime": {
     "end_time": "2023-08-30T00:11:10.180997Z",
     "start_time": "2023-08-30T00:11:10.169899Z"
    }
   },
   "outputs": [
    {
     "name": "stdout",
     "output_type": "stream",
     "text": [
      "isinstance(student, Student) :  True\n"
     ]
    }
   ],
   "source": [
    "print('isinstance(student, Student) : ', isinstance(student, Student))"
   ]
  },
  {
   "cell_type": "code",
   "execution_count": 4,
   "id": "5139f6cc",
   "metadata": {
    "ExecuteTime": {
     "end_time": "2023-08-30T00:12:41.400379Z",
     "start_time": "2023-08-30T00:12:41.388404Z"
    }
   },
   "outputs": [],
   "source": [
    "class Student:\n",
    "    def study(self):\n",
    "        print('공부를 합니다.')\n",
    "        \n",
    "class Teacher:\n",
    "    def teach(self):\n",
    "        print('학생을 가르칩니다.')"
   ]
  },
  {
   "cell_type": "code",
   "execution_count": 5,
   "id": "09c17de6",
   "metadata": {
    "ExecuteTime": {
     "end_time": "2023-08-30T00:14:48.946051Z",
     "start_time": "2023-08-30T00:14:48.930207Z"
    }
   },
   "outputs": [],
   "source": [
    "# 컨테이너 : 여러개의 데이터를 담는 자료구조, 리스트, 튜플, 사전, 집합...\n",
    "classroom = [Student(),Student(),Teacher(),Teacher(),Student(),Teacher()]"
   ]
  },
  {
   "cell_type": "code",
   "execution_count": 7,
   "id": "58060905",
   "metadata": {
    "ExecuteTime": {
     "end_time": "2023-08-30T00:18:09.552810Z",
     "start_time": "2023-08-30T00:18:09.543225Z"
    }
   },
   "outputs": [
    {
     "name": "stdout",
     "output_type": "stream",
     "text": [
      "공부를 합니다.\n",
      "공부를 합니다.\n",
      "학생을 가르칩니다.\n",
      "학생을 가르칩니다.\n",
      "공부를 합니다.\n",
      "학생을 가르칩니다.\n"
     ]
    }
   ],
   "source": [
    "for obj in classroom:\n",
    "    if isinstance(obj, Student):\n",
    "        obj.study()\n",
    "    elif isinstance(obj, Teacher):\n",
    "        obj.teach()"
   ]
  },
  {
   "cell_type": "markdown",
   "id": "1c56fefe",
   "metadata": {},
   "source": [
    "## toString() : 문자열을 반환할 목적으로 구현하는 메서드 => 자바, 파이썬 : __str()__\n",
    "-__init__() : 생성자 메서드<br>\n",
    "-__del__() : 소멸자 메서드<br>\n",
    "- 특수한 상황에 자동으로 호출되도록 만들어진 메서드"
   ]
  },
  {
   "cell_type": "code",
   "execution_count": 8,
   "id": "5c23f30a",
   "metadata": {
    "ExecuteTime": {
     "end_time": "2023-08-30T00:29:56.482245Z",
     "start_time": "2023-08-30T00:29:56.470146Z"
    }
   },
   "outputs": [],
   "source": [
    "class Student:\n",
    "    #멤버 필드\n",
    "    \n",
    "    #생성자 메서드\n",
    "    def __init__(self, name, kor, eng, math):\n",
    "        self.name = name\n",
    "        self.kor = kor\n",
    "        self.eng = eng\n",
    "        self.math = math\n",
    "        \n",
    "    #멤버 메서드: getter(get), setter(set)\n",
    "    #총점을 계산하여 반환하는 메서드\n",
    "    def get_sum(self):\n",
    "        return self.kor + self.eng + self.math\n",
    "    \n",
    "    def get_average(self):\n",
    "        return self.get_sum() / 3\n",
    "    \n",
    "    #출력할 용도\n",
    "    def disp(self):\n",
    "        return '{}\\t{}\\t{}'.format(self.name, self.get_sum(), self.get_average()) \n",
    "    \n",
    "    def __str__(self):\n",
    "        return '{}\\t{}\\t{}'.format(self.name, self.get_sum(), self.get_average()) \n",
    "    \n",
    "    #소멸자 메서드\n",
    "    def __del__(self):\n",
    "        pass"
   ]
  },
  {
   "cell_type": "code",
   "execution_count": 10,
   "id": "d5acd614",
   "metadata": {
    "ExecuteTime": {
     "end_time": "2023-08-30T00:35:30.493372Z",
     "start_time": "2023-08-30T00:35:30.466237Z"
    }
   },
   "outputs": [
    {
     "name": "stdout",
     "output_type": "stream",
     "text": [
      "이름\t총점\t평균\n",
      "aaa\t250\t83.33333333333333\n",
      "bbb\t276\t92.0\n",
      "ccc\t257\t85.66666666666667\n",
      "ddd\t256\t85.33333333333333\n",
      "eee\t248\t82.66666666666667\n"
     ]
    }
   ],
   "source": [
    "students = [Student('aaa', 88, 97, 65), \n",
    "            Student('bbb', 92, 94, 90), \n",
    "            Student('ccc', 85, 88, 84), \n",
    "            Student('ddd', 79, 89, 88), \n",
    "            Student('eee', 80, 76, 92)]\n",
    "\n",
    "print(\"이름\", \"총점\", \"평균\", sep='\\t')\n",
    "for student in students:\n",
    "    print(str(student)) # student.__str__()"
   ]
  },
  {
   "cell_type": "markdown",
   "id": "a1da05ef",
   "metadata": {},
   "source": [
    "## 특수한 메서드\n",
    "- __eq__(=equal) : 같다.\n",
    "- __ne__(=not equal) : 다르다.\n",
    "- __gt__(=greater than) : 크다.\n",
    "- __lt__(=less than) : 작다.\n",
    "- __le__(=less than equal) : 작거나 같다."
   ]
  },
  {
   "cell_type": "code",
   "execution_count": 13,
   "id": "7915d1da",
   "metadata": {
    "ExecuteTime": {
     "end_time": "2023-08-30T00:42:34.745782Z",
     "start_time": "2023-08-30T00:42:34.719617Z"
    }
   },
   "outputs": [],
   "source": [
    "class Student:\n",
    "    #멤버 필드\n",
    "    \n",
    "    #생성자 메서드\n",
    "    def __init__(self, name, kor, eng, math):\n",
    "        self.name = name\n",
    "        self.kor = kor\n",
    "        self.eng = eng\n",
    "        self.math = math\n",
    "        \n",
    "    #멤버 메서드: getter(get), setter(set)\n",
    "    #총점을 계산하여 반환하는 메서드\n",
    "    def get_sum(self):\n",
    "        return self.kor + self.eng + self.math\n",
    "    \n",
    "    def get_average(self):\n",
    "        return self.get_sum() / 3\n",
    "        \n",
    "    def __str__(self):\n",
    "        return '{}\\t{}\\t{}'.format(self.name, self.get_sum(), self.get_average()) \n",
    "    \n",
    "    #특수한 목적을 가지고 있는 메서드 : 매직메서드\n",
    "    def __eq__(self, value):\n",
    "        return self.get_sum() == value.get_sum()\n",
    "    \n",
    "    def __ne__(self, value):\n",
    "        return self.get_sum() != value.get_sum()\n",
    "    \n",
    "    def __gt__(self, value):\n",
    "        return self.get_sum() > value.get_sum()\n",
    "    \n",
    "    def __ge__(self, value):\n",
    "        return self.get_sum() >= value.get_sum()\n",
    "    \n",
    "    def __lt__(self, value):\n",
    "        return self.get_sum() < value.get_sum()\n",
    "    \n",
    "    def __le__(self, value):\n",
    "        return self.get_sum() <= value.get_sum()"
   ]
  },
  {
   "cell_type": "code",
   "execution_count": 14,
   "id": "d4dbee9e",
   "metadata": {
    "ExecuteTime": {
     "end_time": "2023-08-30T00:44:24.165584Z",
     "start_time": "2023-08-30T00:44:24.145507Z"
    }
   },
   "outputs": [
    {
     "data": {
      "text/plain": [
       "False"
      ]
     },
     "execution_count": 14,
     "metadata": {},
     "output_type": "execute_result"
    }
   ],
   "source": [
    "stu_a = Student('aaa', 88, 97, 65)\n",
    "stu_b = Student('bbb', 92, 94, 90)\n",
    "\n",
    "stu_a == stu_b"
   ]
  },
  {
   "cell_type": "markdown",
   "id": "cd6694ef",
   "metadata": {},
   "source": [
    "## 클래스 변수와 클래스 메서드"
   ]
  },
  {
   "cell_type": "markdown",
   "id": "835236b2",
   "metadata": {
    "ExecuteTime": {
     "end_time": "2023-08-30T00:46:44.001671Z",
     "start_time": "2023-08-30T00:46:43.994569Z"
    }
   },
   "source": [
    "<code>\n",
    "class 클래스이름:\n",
    "    클래스변수 = 값\n",
    "    \n",
    "클래스이름.클래스변수\n",
    "</code>"
   ]
  },
  {
   "cell_type": "code",
   "execution_count": 16,
   "id": "e31a8192",
   "metadata": {
    "ExecuteTime": {
     "end_time": "2023-08-30T00:50:34.547263Z",
     "start_time": "2023-08-30T00:50:34.528095Z"
    }
   },
   "outputs": [],
   "source": [
    " class Student:\n",
    "    #멤버 필드\n",
    "    count = 0\n",
    "    #생성자 메서드\n",
    "    def __init__(self, name, kor, eng, math):\n",
    "        self.name = name\n",
    "        self.kor = kor\n",
    "        self.eng = eng\n",
    "        self.math = math\n",
    "        \n",
    "        Student.count += 1\n",
    "        print('{}번째 학생이 생성되었습니다.'.format(Student.count))\n",
    "    #멤버 메서드: getter(get), setter(set)\n",
    "    #총점을 계산하여 반환하는 메서드\n",
    "    def get_sum(self):\n",
    "        return self.kor + self.eng + self.math\n",
    "    \n",
    "    def get_average(self):\n",
    "        return self.get_sum() / 3\n",
    "    \n",
    "    def __str__(self):\n",
    "        return '{}\\t{}\\t{}'.format(self.name, self.get_sum(), self.get_average()) \n"
   ]
  },
  {
   "cell_type": "code",
   "execution_count": 17,
   "id": "0eabac66",
   "metadata": {
    "ExecuteTime": {
     "end_time": "2023-08-30T00:51:41.536470Z",
     "start_time": "2023-08-30T00:51:41.522104Z"
    }
   },
   "outputs": [
    {
     "name": "stdout",
     "output_type": "stream",
     "text": [
      "1번째 학생이 생성되었습니다.\n",
      "2번째 학생이 생성되었습니다.\n",
      "3번째 학생이 생성되었습니다.\n",
      "4번째 학생이 생성되었습니다.\n",
      "5번째 학생이 생성되었습니다.\n",
      "현재 생성된 총 학생수는 5명 입니다.\n"
     ]
    }
   ],
   "source": [
    "students = [Student('aaa', 88, 97, 65), \n",
    "            Student('bbb', 92, 94, 90), \n",
    "            Student('ccc', 85, 88, 84), \n",
    "            Student('ddd', 79, 89, 88), \n",
    "            Student('eee', 80, 76, 92)]\n",
    "\n",
    "print('현재 생성된 총 학생수는 {}명 입니다.'.format(Student.count))"
   ]
  },
  {
   "cell_type": "markdown",
   "id": "a85bfa56",
   "metadata": {
    "ExecuteTime": {
     "end_time": "2023-08-30T00:53:34.552369Z",
     "start_time": "2023-08-30T00:53:34.533508Z"
    }
   },
   "source": [
    "- 클래스 함수 : 클래스가 가진 함수\n",
    "- 데코레이터(decorator) : @classmethod\n",
    "- def 함수명(self):\n",
    "- def 함수명(cls):"
   ]
  },
  {
   "cell_type": "code",
   "execution_count": 1,
   "id": "506a31cd",
   "metadata": {
    "ExecuteTime": {
     "end_time": "2023-08-30T01:21:52.828813Z",
     "start_time": "2023-08-30T01:21:52.817698Z"
    }
   },
   "outputs": [],
   "source": [
    "class Student:\n",
    "    #멤버 필드\n",
    "    count = 0\n",
    "    students = []\n",
    "    # 클래스함수\n",
    "    @classmethod\n",
    "    def print(cls):\n",
    "        print(\"----- 학생목록출력 ------\")\n",
    "        print(\"이름\", \"총점\", \"평균\", sep='\\t')\n",
    "        for student in Student.students:\n",
    "            print(str(student))\n",
    "        print(\"------------------------\")\n",
    "        \n",
    "    #생성자 메서드\n",
    "    def __init__(self, name, kor, eng, math):\n",
    "        self.name = name\n",
    "        self.kor = kor\n",
    "        self.eng = eng\n",
    "        self.math = math\n",
    "        \n",
    "        Student.students.append(self)        \n",
    "        \n",
    "    #멤버 메서드: getter(get), setter(set)\n",
    "    #총점을 계산하여 반환하는 메서드\n",
    "    def get_sum(self):\n",
    "        return self.kor + self.eng + self.math\n",
    "    \n",
    "    def get_average(self):\n",
    "        return self.get_sum() / 3\n",
    "    \n",
    "    def __str__(self):\n",
    "        return '{}\\t{}\\t{}'.format(self.name, self.get_sum(), self.get_average()) \n"
   ]
  },
  {
   "cell_type": "code",
   "execution_count": 2,
   "id": "88c681ef",
   "metadata": {
    "ExecuteTime": {
     "end_time": "2023-08-30T01:21:55.492942Z",
     "start_time": "2023-08-30T01:21:55.479580Z"
    }
   },
   "outputs": [
    {
     "name": "stdout",
     "output_type": "stream",
     "text": [
      "----- 학생목록출력 ------\n",
      "이름\t총점\t평균\n",
      "aaa\t250\t83.33333333333333\n",
      "bbb\t276\t92.0\n",
      "ccc\t257\t85.66666666666667\n",
      "ddd\t256\t85.33333333333333\n",
      "eee\t248\t82.66666666666667\n",
      "------------------------\n"
     ]
    }
   ],
   "source": [
    "Student('aaa', 88, 97, 65) \n",
    "Student('bbb', 92, 94, 90) \n",
    "Student('ccc', 85, 88, 84) \n",
    "Student('ddd', 79, 89, 88)\n",
    "Student('eee', 80, 76, 92)\n",
    "\n",
    "Student.print()"
   ]
  },
  {
   "cell_type": "markdown",
   "id": "cee46cfa",
   "metadata": {
    "ExecuteTime": {
     "end_time": "2023-08-30T01:27:09.272340Z",
     "start_time": "2023-08-30T01:27:09.258785Z"
    }
   },
   "source": [
    "# 프라이빗 변수와 getter/setter 메서드"
   ]
  },
  {
   "cell_type": "code",
   "execution_count": 14,
   "id": "50e89be3",
   "metadata": {
    "ExecuteTime": {
     "end_time": "2023-08-30T01:37:09.467112Z",
     "start_time": "2023-08-30T01:37:09.457886Z"
    }
   },
   "outputs": [],
   "source": [
    "import math\n",
    "\n",
    "class Circle:\n",
    "    def __init__(self, radius):\n",
    "        self.__radius = radius\n",
    "        \n",
    "    def get_area(self):\n",
    "        return math.pi * (self.__radius**2)\n",
    "    \n",
    "    def get_side(self):\n",
    "        return 2 * math.pi * self.__radius\n",
    "    \n",
    "    @property\n",
    "    def get_radius(self):\n",
    "        return self.__radius\n",
    "    \n",
    "    def set_radius(self, radius):\n",
    "        self.__radius = radius"
   ]
  },
  {
   "cell_type": "code",
   "execution_count": 7,
   "id": "45bef1ae",
   "metadata": {
    "ExecuteTime": {
     "end_time": "2023-08-30T01:31:19.405810Z",
     "start_time": "2023-08-30T01:31:19.390716Z"
    }
   },
   "outputs": [
    {
     "name": "stdout",
     "output_type": "stream",
     "text": [
      "원의 둘레 :  62.83185307179586\n",
      "원의 면적 :  314.1592653589793\n",
      "반지름 :  5\n"
     ]
    }
   ],
   "source": [
    "ap = Circle(10)\n",
    "ap.__radius = 5\n",
    "print('원의 둘레 : ', ap.get_side())\n",
    "print('원의 면적 : ', ap.get_area())\n",
    "print('반지름 : ', ap.__radius)"
   ]
  },
  {
   "cell_type": "code",
   "execution_count": 15,
   "id": "18bcf111",
   "metadata": {
    "ExecuteTime": {
     "end_time": "2023-08-30T01:55:16.560495Z",
     "start_time": "2023-08-30T01:55:16.548416Z"
    }
   },
   "outputs": [
    {
     "name": "stdout",
     "output_type": "stream",
     "text": [
      "a의 값은  10\n",
      "b의 값은  20\n",
      "a와 b의 합은  30\n"
     ]
    }
   ],
   "source": []
  },
  {
   "cell_type": "code",
   "execution_count": null,
   "id": "ab10084a",
   "metadata": {},
   "outputs": [],
   "source": []
  }
 ],
 "metadata": {
  "kernelspec": {
   "display_name": "Python 3 (ipykernel)",
   "language": "python",
   "name": "python3"
  },
  "language_info": {
   "codemirror_mode": {
    "name": "ipython",
    "version": 3
   },
   "file_extension": ".py",
   "mimetype": "text/x-python",
   "name": "python",
   "nbconvert_exporter": "python",
   "pygments_lexer": "ipython3",
   "version": "3.9.7"
  },
  "toc": {
   "base_numbering": 1,
   "nav_menu": {},
   "number_sections": true,
   "sideBar": true,
   "skip_h1_title": false,
   "title_cell": "Table of Contents",
   "title_sidebar": "Contents",
   "toc_cell": false,
   "toc_position": {
    "height": "calc(100% - 180px)",
    "left": "10px",
    "top": "150px",
    "width": "384px"
   },
   "toc_section_display": true,
   "toc_window_display": true
  }
 },
 "nbformat": 4,
 "nbformat_minor": 5
}
