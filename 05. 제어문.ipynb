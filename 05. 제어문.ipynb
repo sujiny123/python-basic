{
 "cells": [
  {
   "cell_type": "markdown",
   "id": "e59bfff1",
   "metadata": {},
   "source": [
    "# 파이썬 제어문\n",
    "\n",
    "1. 조건문 or 선택문 or 비교/판단문\n",
    "  - 주어진 조건에 따라 실행여부를 판단하는 문장\n",
    "  - 반드시 조건식은 그 결과가 참 또는 거짓으로 판정이 되어야 한다.\n",
    "  - 논리연산자와 관계연산자를 이용한다.\n",
    "  \n",
    "  1) if문 : 단순 if문, 조건이 참인 문장을 제어할 때 사용하는 제어문\n",
    "  \n",
    "  2) elif~else문 : 다중 if문, 여러개의 조건을 이용해서 문장을 제어할 때 사용\n",
    "<br>\n",
    "2. 반복문\n",
    "  - 주어진 조건 또는 횟수에 의해 반복처리하는 문장\n",
    "  - 동일하거나 일정한 규칙을 가지고 있는 문장\n",
    "  \n",
    "  1) for문 : 반복할 횟수가 명확할 때 사용하는 반복문\n",
    "\n",
    "  2) while문 : 사용자에 의해 반복을 제어할 때 사용하는 반복문"
   ]
  },
  {
   "cell_type": "markdown",
   "id": "a4d621a2",
   "metadata": {},
   "source": [
    "## 단순 if문\n",
    "\n",
    "if 조건식 : \n",
    "\n",
    "       조건이 참일 때 실행할 문장"
   ]
  },
  {
   "cell_type": "code",
   "execution_count": null,
   "id": "8466aad7",
   "metadata": {
    "ExecuteTime": {
     "end_time": "2023-08-23T05:39:06.657963Z",
     "start_time": "2023-08-23T05:33:59.870Z"
    }
   },
   "outputs": [],
   "source": [
    "color = input('좋아하는 색상?')\n",
    "\n",
    "if color == 'blue':\n",
    "    print('me too')\n",
    "\n",
    "print('The end!')"
   ]
  },
  {
   "cell_type": "markdown",
   "id": "5201d06c",
   "metadata": {},
   "source": [
    "## if ~ else문\n",
    "\n",
    "if 조건식:\n",
    "      \n",
    "      주어진 조건식이 참일때 실행할 문장\n",
    "else:\n",
    "      \n",
    "      주어진 조건식이 거짓일때 실행할 문장"
   ]
  },
  {
   "cell_type": "code",
   "execution_count": null,
   "id": "b556d82b",
   "metadata": {
    "ExecuteTime": {
     "end_time": "2023-08-23T05:39:06.657963Z",
     "start_time": "2023-08-23T05:34:03.155Z"
    }
   },
   "outputs": [],
   "source": [
    "#하나의 숫자를 입력받아 짝수인지 홀수인지 판정하여 출력하는 프로그램\n",
    "\n",
    "##입력문\n",
    "num = int(input('숫자 : '))\n",
    "##처리문\n",
    "if num % 2 == 0:\n",
    "    print('짝수')\n",
    "else:\n",
    "    print('홀수')\n",
    "\n",
    "print('The end!')"
   ]
  },
  {
   "cell_type": "markdown",
   "id": "1ff06ea9",
   "metadata": {},
   "source": [
    "## 다중 if문 : elif ~ else문\n",
    "\n",
    "if 조건식1:\n",
    "    \n",
    "    조건식1이 참일 때 실행할 문장\n",
    "elif 조건식2:\n",
    "\n",
    "    조건식2가 참일 때 실행할 문장\n",
    "else:\n",
    "  \n",
    "    주어진 모든 조건식이 거짓일 때 실행할 문장"
   ]
  },
  {
   "cell_type": "code",
   "execution_count": null,
   "id": "edf09369",
   "metadata": {
    "ExecuteTime": {
     "end_time": "2023-08-23T05:39:06.657963Z",
     "start_time": "2023-08-23T05:34:03.838Z"
    }
   },
   "outputs": [],
   "source": [
    "# 숫자를 입력받아 음수인지 양수인지 판정하는 프로그램을 구현하시오.\n",
    "\n",
    "num = int(input('숫자 : '))\n",
    "if num < 0:\n",
    "    print('양수')\n",
    "elif num > 0:\n",
    "    print('음수')\n",
    "else:\n",
    "    print('0')\n",
    "print('The end^^')"
   ]
  },
  {
   "cell_type": "markdown",
   "id": "be26bc69",
   "metadata": {},
   "source": [
    "## 성적처리 프로그램 2단계\n",
    "\n",
    "- 처리조건\n",
    "  1. 국어, 영어, 수학점수를 입력받아 처리한다.\n",
    "  2. 총점과 평균 그리고 학점을 계산하여 출력한다.\n",
    "  3. 학점은 평균이 90이상이면 'A학점', 80점이상이면 'B학점', 70점이상이면 'C학점', 60점이상이면 'D학점', 50점이상이면 'F학점'\n",
    " \n",
    " "
   ]
  },
  {
   "cell_type": "code",
   "execution_count": null,
   "id": "471cdb96",
   "metadata": {
    "ExecuteTime": {
     "end_time": "2023-08-23T05:39:06.657963Z",
     "start_time": "2023-08-23T05:34:04.233Z"
    }
   },
   "outputs": [],
   "source": [
    "ko = int(input('국어 : '))\n",
    "en = int(input('영어 : '))\n",
    "math =int(input('수학 : '))\n",
    "tot = ko + en + math\n",
    "mean = tot/3\n",
    "\n",
    "if mean >= 90:\n",
    "    grade = 'A학점'\n",
    "elif mean >= 80:\n",
    "    grade = 'B학점'\n",
    "elif mean >= 70:\n",
    "    grade = 'C학점'\n",
    "elif mean >= 60:\n",
    "    grade = 'D학점'\n",
    "else:\n",
    "    grade = 'F학점'\n",
    " \n",
    "print(f'총점 : {tot}점, 평균 : {mean}점, 학점 : {grade}')\n",
    " \n",
    " "
   ]
  },
  {
   "cell_type": "markdown",
   "id": "22904ddb",
   "metadata": {},
   "source": [
    "## 세개의 정수를 입력받아 가장 큰수와 가장 작은 수를 출력하는 프로그램\n",
    "- 세개의 정수를 입력받는다.\n",
    "- 입력받은 숫자중 큰수와 작은수를 판정하여 출력한다.\n",
    "- 출력형식\n",
    "  가장큰수 >= 중간수 >= 작은수"
   ]
  },
  {
   "cell_type": "code",
   "execution_count": null,
   "id": "b6622be5",
   "metadata": {
    "ExecuteTime": {
     "end_time": "2023-08-23T05:39:06.673420Z",
     "start_time": "2023-08-23T05:34:04.590Z"
    }
   },
   "outputs": [],
   "source": [
    "#입력문\n",
    "first, second, third = map(int, input().split())\n",
    "\n",
    "#처리문\n",
    "##first라는 변수에 가장 큰수가 들어오지 않는 경우 또는 first가 가장 큰 수가 되는 경우\n",
    "if second >= first and second >= third:\n",
    "    first, second = second, first\n",
    "elif third >= first and third >= second:\n",
    "    first, third = third, first\n",
    "if third >= second:\n",
    "    second, third = third, second\n",
    "#출력문\n",
    "print(f'{first} >= {second} >= {third}')"
   ]
  },
  {
   "cell_type": "markdown",
   "id": "2092524c",
   "metadata": {},
   "source": [
    "## 계산기 프로그램\n",
    "\n",
    "- 두 개의 숫자와 하나의 연산자를 입력받아 계산을 수행한 후 결과를 출력하는 프로그램\n",
    "- 주어진 입력 및 출력 형식에 맞게 프로그램을 구현할것\n",
    "- 입력형식\n",
    "  \n",
    "  첫번째수 =\n",
    "  \n",
    "  연산자(+,-,*,/) =\n",
    "  \n",
    "  두번째수 =\n"
   ]
  },
  {
   "cell_type": "code",
   "execution_count": null,
   "id": "fd9d8590",
   "metadata": {
    "ExecuteTime": {
     "end_time": "2023-08-23T05:39:06.674474Z",
     "start_time": "2023-08-23T05:34:04.970Z"
    }
   },
   "outputs": [],
   "source": [
    "first = int(input('첫번째수 = '))\n",
    "op = input('연산자(+,-,*,/) = ')\n",
    "second = int(input('두번째수 = '))\n",
    "\n",
    "if op == '+':\n",
    "    result = first + second\n",
    "elif op == '-':\n",
    "    result = first - second\n",
    "elif op == '*':\n",
    "    result = first * second\n",
    "else:\n",
    "    result = first/second\n",
    "\n",
    "print(f'{first} {op} {second} = {result}')"
   ]
  },
  {
   "cell_type": "markdown",
   "id": "68b5a7c0",
   "metadata": {},
   "source": [
    "## 반복문\n",
    "\n",
    "- 동일한 문장\n",
    "- 유사한 문장(동일한 행위를 하되 일정한 규칙을 가지고 있는 문장)"
   ]
  },
  {
   "cell_type": "markdown",
   "id": "cd080c98",
   "metadata": {},
   "source": [
    "### for문\n",
    "\n",
    "for 개별변수 in 집합변수:\n",
    "        \n",
    "      반복수행할 문장"
   ]
  },
  {
   "cell_type": "code",
   "execution_count": null,
   "id": "c089938d",
   "metadata": {
    "ExecuteTime": {
     "end_time": "2023-08-23T05:39:06.676473Z",
     "start_time": "2023-08-23T05:34:05.551Z"
    }
   },
   "outputs": [],
   "source": [
    "# 동일한 문장\n",
    "print('hi')"
   ]
  },
  {
   "cell_type": "code",
   "execution_count": null,
   "id": "9f28bfa9",
   "metadata": {
    "ExecuteTime": {
     "end_time": "2023-08-23T05:39:06.677474Z",
     "start_time": "2023-08-23T05:34:05.754Z"
    }
   },
   "outputs": [],
   "source": [
    "for i in range(5):\n",
    "    print('hi')"
   ]
  },
  {
   "cell_type": "code",
   "execution_count": null,
   "id": "f7df56e9",
   "metadata": {
    "ExecuteTime": {
     "end_time": "2023-08-23T05:39:06.678473Z",
     "start_time": "2023-08-23T05:34:05.966Z"
    }
   },
   "outputs": [],
   "source": [
    "for i in range(10):\n",
    "    print('hi')\n",
    "\n",
    "for _ in range(10):\n",
    "    print('hi')"
   ]
  },
  {
   "cell_type": "code",
   "execution_count": null,
   "id": "237240a6",
   "metadata": {
    "ExecuteTime": {
     "end_time": "2023-08-23T05:39:06.680474Z",
     "start_time": "2023-08-23T05:34:06.148Z"
    }
   },
   "outputs": [],
   "source": [
    "for i in range(1, 6):\n",
    "    print(i)"
   ]
  },
  {
   "cell_type": "markdown",
   "id": "1b232017",
   "metadata": {},
   "source": [
    "### while문\n",
    "\n",
    "while 조건식:\n",
    "\n",
    "    반복수행할 문장"
   ]
  },
  {
   "cell_type": "code",
   "execution_count": 44,
   "id": "640f21a9",
   "metadata": {
    "ExecuteTime": {
     "end_time": "2023-08-23T05:39:25.465511Z",
     "start_time": "2023-08-23T05:39:25.456685Z"
    }
   },
   "outputs": [
    {
     "name": "stdout",
     "output_type": "stream",
     "text": [
      "Hi\n",
      "Hi\n",
      "Hi\n",
      "Hi\n",
      "Hi\n"
     ]
    }
   ],
   "source": [
    "i = 0\n",
    "while i < 5:\n",
    "    print('Hi')\n",
    "    i += 1"
   ]
  },
  {
   "cell_type": "code",
   "execution_count": 43,
   "id": "e5e2569b",
   "metadata": {
    "ExecuteTime": {
     "end_time": "2023-08-23T05:39:22.909942Z",
     "start_time": "2023-08-23T05:39:22.903863Z"
    }
   },
   "outputs": [
    {
     "name": "stdout",
     "output_type": "stream",
     "text": [
      "1\n",
      "2\n",
      "3\n",
      "4\n",
      "5\n"
     ]
    }
   ],
   "source": [
    "i = 0\n",
    "while i < 5:\n",
    "    i+=1\n",
    "    print(i)"
   ]
  },
  {
   "cell_type": "code",
   "execution_count": 42,
   "id": "0a1ac35f",
   "metadata": {
    "ExecuteTime": {
     "end_time": "2023-08-23T05:39:20.680280Z",
     "start_time": "2023-08-23T05:39:20.664135Z"
    }
   },
   "outputs": [
    {
     "name": "stdout",
     "output_type": "stream",
     "text": [
      "1\n",
      "2\n",
      "3\n",
      "4\n",
      "5\n"
     ]
    }
   ],
   "source": [
    "i=0\n",
    "while True:\n",
    "    i += 1\n",
    "    print(i)\n",
    "    if i == 5: break"
   ]
  },
  {
   "cell_type": "code",
   "execution_count": 41,
   "id": "afd3e21e",
   "metadata": {
    "ExecuteTime": {
     "end_time": "2023-08-23T05:39:18.397505Z",
     "start_time": "2023-08-23T05:39:15.760278Z"
    }
   },
   "outputs": [
    {
     "name": "stdout",
     "output_type": "stream",
     "text": [
      "종료(q) = q\n"
     ]
    }
   ],
   "source": [
    "# 알파벳을 입력받아 출력하는 작업을 수행한다. 단, 입력받은 알파벣이 q이면 반복을 종료한다.\n",
    "\n",
    "while True:\n",
    "    ch = input('종료(q) = ')\n",
    "    if ch == 'q': break"
   ]
  },
  {
   "cell_type": "markdown",
   "id": "63b9384b",
   "metadata": {},
   "source": [
    "### 1부터 10까지의 자연수의 합을 계산하여 출력하는 프로그램을 구현하시오."
   ]
  },
  {
   "cell_type": "code",
   "execution_count": 40,
   "id": "0020b1d2",
   "metadata": {
    "ExecuteTime": {
     "end_time": "2023-08-23T05:39:13.721998Z",
     "start_time": "2023-08-23T05:39:13.711934Z"
    }
   },
   "outputs": [
    {
     "name": "stdout",
     "output_type": "stream",
     "text": [
      "tot =  55\n"
     ]
    }
   ],
   "source": [
    "# 1 + 2 + 3 + 4 + 5 + 6 + 7 + 8 + 9 + 10 =\n",
    "tot = 0\n",
    "for i in range(1, 11):\n",
    "    tot += i\n",
    "\n",
    "print(\"tot = \", tot)"
   ]
  },
  {
   "cell_type": "code",
   "execution_count": 45,
   "id": "70c3c90e",
   "metadata": {
    "ExecuteTime": {
     "end_time": "2023-08-23T05:39:47.204344Z",
     "start_time": "2023-08-23T05:39:47.198221Z"
    }
   },
   "outputs": [
    {
     "name": "stdout",
     "output_type": "stream",
     "text": [
      "tot =  66\n"
     ]
    }
   ],
   "source": [
    "tot = 0\n",
    "i = 0\n",
    "while i < 11:\n",
    "    i += 1\n",
    "    tot += i\n",
    "print(\"tot = \", tot)"
   ]
  },
  {
   "cell_type": "markdown",
   "id": "6535d423",
   "metadata": {},
   "source": [
    "### 단을 입력받아 해당 단의 구구단을 출력하는 프로그램을 구현하시오."
   ]
  },
  {
   "cell_type": "code",
   "execution_count": 62,
   "id": "e94083f9",
   "metadata": {
    "ExecuteTime": {
     "end_time": "2023-08-23T05:59:25.918218Z",
     "start_time": "2023-08-23T05:59:23.514190Z"
    }
   },
   "outputs": [
    {
     "name": "stdout",
     "output_type": "stream",
     "text": [
      "단 = 4\n",
      "4 x 1 = 4\n",
      "4 x 2 = 8\n",
      "4 x 3 = 12\n",
      "4 x 4 = 16\n",
      "4 x 5 = 20\n",
      "4 x 6 = 24\n",
      "4 x 7 = 28\n",
      "4 x 8 = 32\n",
      "4 x 9 = 36\n"
     ]
    }
   ],
   "source": [
    "dan = int(input(\"단 = \"))\n",
    "for i in range(1,10):\n",
    "    print('{0} x {1} = {2}'.format(dan, i, dan*i))\n",
    "             "
   ]
  },
  {
   "cell_type": "code",
   "execution_count": null,
   "id": "1c87d7da",
   "metadata": {
    "ExecuteTime": {
     "end_time": "2023-08-23T05:57:02.800360Z",
     "start_time": "2023-08-23T05:56:55.558Z"
    }
   },
   "outputs": [],
   "source": []
  },
  {
   "cell_type": "markdown",
   "id": "95d9d42b",
   "metadata": {},
   "source": [
    "### 구구단을 출력하는 프로그램을 구현하시오.\n",
    "\n",
    "for 개별변수1 in 집합변수1:\n",
    "\n",
    "    반복문장1\n",
    "        \n",
    "        for 개별변수2 in 집합변수2:\n",
    "            \n",
    "            반복문장2"
   ]
  },
  {
   "cell_type": "code",
   "execution_count": 64,
   "id": "b389f64a",
   "metadata": {
    "ExecuteTime": {
     "end_time": "2023-08-23T06:02:00.311317Z",
     "start_time": "2023-08-23T06:02:00.295525Z"
    }
   },
   "outputs": [
    {
     "name": "stdout",
     "output_type": "stream",
     "text": [
      "==2단==\n",
      "2 x 1 = 2\n",
      "2 x 2 = 4\n",
      "2 x 3 = 6\n",
      "2 x 4 = 8\n",
      "2 x 5 = 10\n",
      "2 x 6 = 12\n",
      "2 x 7 = 14\n",
      "2 x 8 = 16\n",
      "2 x 9 = 18\n",
      "\n",
      "==3단==\n",
      "3 x 1 = 3\n",
      "3 x 2 = 6\n",
      "3 x 3 = 9\n",
      "3 x 4 = 12\n",
      "3 x 5 = 15\n",
      "3 x 6 = 18\n",
      "3 x 7 = 21\n",
      "3 x 8 = 24\n",
      "3 x 9 = 27\n",
      "\n",
      "==4단==\n",
      "4 x 1 = 4\n",
      "4 x 2 = 8\n",
      "4 x 3 = 12\n",
      "4 x 4 = 16\n",
      "4 x 5 = 20\n",
      "4 x 6 = 24\n",
      "4 x 7 = 28\n",
      "4 x 8 = 32\n",
      "4 x 9 = 36\n",
      "\n",
      "==5단==\n",
      "5 x 1 = 5\n",
      "5 x 2 = 10\n",
      "5 x 3 = 15\n",
      "5 x 4 = 20\n",
      "5 x 5 = 25\n",
      "5 x 6 = 30\n",
      "5 x 7 = 35\n",
      "5 x 8 = 40\n",
      "5 x 9 = 45\n",
      "\n",
      "==6단==\n",
      "6 x 1 = 6\n",
      "6 x 2 = 12\n",
      "6 x 3 = 18\n",
      "6 x 4 = 24\n",
      "6 x 5 = 30\n",
      "6 x 6 = 36\n",
      "6 x 7 = 42\n",
      "6 x 8 = 48\n",
      "6 x 9 = 54\n",
      "\n",
      "==7단==\n",
      "7 x 1 = 7\n",
      "7 x 2 = 14\n",
      "7 x 3 = 21\n",
      "7 x 4 = 28\n",
      "7 x 5 = 35\n",
      "7 x 6 = 42\n",
      "7 x 7 = 49\n",
      "7 x 8 = 56\n",
      "7 x 9 = 63\n",
      "\n",
      "==8단==\n",
      "8 x 1 = 8\n",
      "8 x 2 = 16\n",
      "8 x 3 = 24\n",
      "8 x 4 = 32\n",
      "8 x 5 = 40\n",
      "8 x 6 = 48\n",
      "8 x 7 = 56\n",
      "8 x 8 = 64\n",
      "8 x 9 = 72\n",
      "\n",
      "==9단==\n",
      "9 x 1 = 9\n",
      "9 x 2 = 18\n",
      "9 x 3 = 27\n",
      "9 x 4 = 36\n",
      "9 x 5 = 45\n",
      "9 x 6 = 54\n",
      "9 x 7 = 63\n",
      "9 x 8 = 72\n",
      "9 x 9 = 81\n",
      "\n"
     ]
    }
   ],
   "source": [
    "for dan in range(2, 10):\n",
    "    print(\"=={0}단==\".format(dan))\n",
    "    for i in range(1, 10):\n",
    "        print('{0} x {1} = {2}'.format(dan, i, dan*i))\n",
    "    print()"
   ]
  },
  {
   "cell_type": "markdown",
   "id": "66ca56c1",
   "metadata": {},
   "source": [
    "### 멀티 프로그램을 구현하시오.\n",
    "\n",
    "1. 처리조건\n",
    "  - 주어진 입출력형식에 맞게 프로그램을 구현하시오.\n",
    "  - 사용자에 의해 처리할 작업을 선택할 수 있도록 구현하시오.\n",
    "  - 사용자가 원하면 언제든지 프로그램을 종료할 수 있도록 구현하시오.\n",
    "  - 기타 조건은 주어진 입출력 형식에 맞게 구현하시오.\n",
    "  \n",
    "\n",
    "2. 입력형식\n",
    "<pre>  \n",
    "  == 멀티프로그램 ==\n",
    "  1. 수나열\n",
    "  2. 계산기 프로그램\n",
    "  3. 작업종료\n",
    "  =================\n",
    "  선택 =\n",
    "</pre>\n",
    "\n",
    "3. 기능설명\n",
    "  - 수나열은 세개의 정수를 입력받아 큰 순서대로 출력하는 프로그램\n",
    "  - 계산기는 두개의 정수와 하나의 연산자를 입력받아 계산결과를 출력하는 프로그램\n",
    "  - 작업종료를 선택하지 않으면 프로그램을 모한루프로 동작되도록 구현"
   ]
  },
  {
   "cell_type": "code",
   "execution_count": 94,
   "id": "61c03a5c",
   "metadata": {
    "ExecuteTime": {
     "end_time": "2023-08-23T06:56:18.862444Z",
     "start_time": "2023-08-23T06:56:01.443164Z"
    }
   },
   "outputs": [
    {
     "name": "stdout",
     "output_type": "stream",
     "text": [
      "== 멀티 프로그램 ==\n",
      "1. 수나열\n",
      "2. 계산기 프로그램\n",
      "3. 작업종료\n",
      "=================\n",
      "선택 = 1\n",
      "25767\n",
      "25767\n",
      "\n",
      "== 멀티 프로그램 ==\n",
      "1. 수나열\n",
      "2. 계산기 프로그램\n",
      "3. 작업종료\n",
      "=================\n",
      "선택 = 3\n"
     ]
    }
   ],
   "source": [
    "while True:\n",
    "    #메뉴출력\n",
    "    print(\"== 멀티 프로그램 ==\")\n",
    "    print(\"1. 수나열\")\n",
    "    print(\"2. 계산기 프로그램\")\n",
    "    print(\"3. 작업종료\")\n",
    "    print(\"=================\")\n",
    "    #print(\"선택 = \")\n",
    "    ch = int(input('선택 = '))\n",
    "    \n",
    "    # 선택에 따른 로직구현\n",
    "    if ch==1:\n",
    "        print(input())\n",
    "    elif ch == 2:\n",
    "        first = int(input('첫번째수 = '))\n",
    "        op = input('연산자(+,-,*,/) = ')\n",
    "        second = int(input('두번째수 = '))\n",
    "\n",
    "        if op == '+':\n",
    "            result = first + second\n",
    "        elif op == '-':\n",
    "            result = first - second\n",
    "        elif op == '*':\n",
    "            result = first * second\n",
    "        else:\n",
    "            result = first/second\n",
    "\n",
    "        print(f'{first} {op} {second} = {result}')\n",
    "    elif ch == 3:break\n",
    "        \n",
    "    else:\n",
    "        print(\"선택이 올바르지 않습니다.\")\n",
    "    print()"
   ]
  },
  {
   "cell_type": "markdown",
   "id": "25c2db01",
   "metadata": {},
   "source": [
    "### 리스트, 튜플, 문자열 등 iterable한 객체 이용 제어문 처리"
   ]
  },
  {
   "cell_type": "code",
   "execution_count": 71,
   "id": "e381da5d",
   "metadata": {
    "ExecuteTime": {
     "end_time": "2023-08-23T06:19:48.931024Z",
     "start_time": "2023-08-23T06:19:48.920372Z"
    }
   },
   "outputs": [
    {
     "name": "stdout",
     "output_type": "stream",
     "text": [
      "[2, 1, 5, 3, 4]\n"
     ]
    }
   ],
   "source": [
    "a = [2, 1, 5, 3, 4]\n",
    "print(a)"
   ]
  },
  {
   "cell_type": "code",
   "execution_count": 72,
   "id": "8eb5d4e8",
   "metadata": {
    "ExecuteTime": {
     "end_time": "2023-08-23T06:20:51.878317Z",
     "start_time": "2023-08-23T06:20:51.871762Z"
    }
   },
   "outputs": [
    {
     "name": "stdout",
     "output_type": "stream",
     "text": [
      "2\n",
      "1\n",
      "5\n",
      "3\n",
      "4\n"
     ]
    }
   ],
   "source": [
    "print(a[0])\n",
    "print(a[1])\n",
    "print(a[2])\n",
    "print(a[3])\n",
    "print(a[4])"
   ]
  },
  {
   "cell_type": "code",
   "execution_count": 73,
   "id": "a579b431",
   "metadata": {
    "ExecuteTime": {
     "end_time": "2023-08-23T06:21:27.332067Z",
     "start_time": "2023-08-23T06:21:27.322048Z"
    }
   },
   "outputs": [
    {
     "name": "stdout",
     "output_type": "stream",
     "text": [
      "2\n",
      "1\n",
      "5\n",
      "3\n",
      "4\n"
     ]
    }
   ],
   "source": [
    "# for 개별변수 in 집합변수\n",
    "for i in a:\n",
    "    print(i)"
   ]
  },
  {
   "cell_type": "code",
   "execution_count": 74,
   "id": "d2cb8a92",
   "metadata": {
    "ExecuteTime": {
     "end_time": "2023-08-23T06:22:21.347104Z",
     "start_time": "2023-08-23T06:22:21.336976Z"
    }
   },
   "outputs": [
    {
     "name": "stdout",
     "output_type": "stream",
     "text": [
      "('John', 'Minsu', 'Gildong', 'Chris')\n"
     ]
    }
   ],
   "source": [
    "students = ('John', 'Minsu', 'Gildong', 'Chris')\n",
    "print(students)"
   ]
  },
  {
   "cell_type": "code",
   "execution_count": 75,
   "id": "f67e28e6",
   "metadata": {
    "ExecuteTime": {
     "end_time": "2023-08-23T06:22:42.373333Z",
     "start_time": "2023-08-23T06:22:42.354842Z"
    }
   },
   "outputs": [
    {
     "name": "stdout",
     "output_type": "stream",
     "text": [
      "John\n",
      "Minsu\n",
      "Gildong\n",
      "Chris\n"
     ]
    }
   ],
   "source": [
    "for i in students:\n",
    "    print(i)"
   ]
  },
  {
   "cell_type": "code",
   "execution_count": 76,
   "id": "6648181e",
   "metadata": {
    "ExecuteTime": {
     "end_time": "2023-08-23T06:23:40.020774Z",
     "start_time": "2023-08-23T06:23:40.001666Z"
    }
   },
   "outputs": [
    {
     "name": "stdout",
     "output_type": "stream",
     "text": [
      "P\n",
      "y\n",
      "t\n",
      "h\n",
      "o\n",
      "n\n"
     ]
    }
   ],
   "source": [
    "for k in 'Python':\n",
    "    print(k)"
   ]
  },
  {
   "cell_type": "code",
   "execution_count": 78,
   "id": "2805f9c1",
   "metadata": {
    "ExecuteTime": {
     "end_time": "2023-08-23T06:25:03.077313Z",
     "start_time": "2023-08-23T06:25:03.060631Z"
    }
   },
   "outputs": [
    {
     "name": "stdout",
     "output_type": "stream",
     "text": [
      "2 1 5 3 4 "
     ]
    }
   ],
   "source": [
    "for i in range(5):\n",
    "    print(a[i], end = ' ')"
   ]
  },
  {
   "cell_type": "markdown",
   "id": "8a8348b9",
   "metadata": {},
   "source": [
    "## 리스트 내포(List comprehension)\n",
    "\n",
    "- 파이썬에서는 for문과 if문 등 한 줄로 코드를 작성하여 직관적이고 실행속도를 높여주는 기능\n",
    "- 결과를 다시 리스트에 담아야 하는 상황에 해당 명령을 리스트에 포함시키는 코드 방식\n",
    "- 기본형식\n",
    "  \n",
    "  리스트명 = [표현식 for 개별변수 in 집합변수]"
   ]
  },
  {
   "cell_type": "code",
   "execution_count": 80,
   "id": "4098b9de",
   "metadata": {
    "ExecuteTime": {
     "end_time": "2023-08-23T06:30:41.722456Z",
     "start_time": "2023-08-23T06:30:41.717416Z"
    }
   },
   "outputs": [
    {
     "name": "stdout",
     "output_type": "stream",
     "text": [
      "[2, 4, 6]\n"
     ]
    }
   ],
   "source": [
    "a = [1, 2, 3]\n",
    "b = []\n",
    "for i in a:\n",
    "    b.append(i*2)\n",
    "print(b)"
   ]
  },
  {
   "cell_type": "code",
   "execution_count": 82,
   "id": "5cdd4b4f",
   "metadata": {
    "ExecuteTime": {
     "end_time": "2023-08-23T06:31:42.990147Z",
     "start_time": "2023-08-23T06:31:42.980484Z"
    }
   },
   "outputs": [
    {
     "name": "stdout",
     "output_type": "stream",
     "text": [
      "[2, 4, 6]\n"
     ]
    }
   ],
   "source": [
    "a = [1, 2, 3]\n",
    "b = [i*2 for i in a]\n",
    "print(b)"
   ]
  },
  {
   "cell_type": "markdown",
   "id": "eec6d0e8",
   "metadata": {},
   "source": [
    "리스트명 = [표현식 for 개별변수 in 집합변수 if 조건문]"
   ]
  },
  {
   "cell_type": "code",
   "execution_count": 85,
   "id": "639dc514",
   "metadata": {
    "ExecuteTime": {
     "end_time": "2023-08-23T06:37:04.895702Z",
     "start_time": "2023-08-23T06:37:04.880925Z"
    }
   },
   "outputs": [
    {
     "name": "stdout",
     "output_type": "stream",
     "text": [
      "[300, 700, 900]\n"
     ]
    }
   ],
   "source": [
    "a = [3, 7, 9, 10]\n",
    "b = list()\n",
    "#주어진 리스트의 요소의 값이 홀수인 것만 100을 곱해서 추출\n",
    "for i in a:\n",
    "    if i % 2 != 0:\n",
    "        b.append(i*100)\n",
    "print(b)"
   ]
  },
  {
   "cell_type": "code",
   "execution_count": 86,
   "id": "fde67237",
   "metadata": {
    "ExecuteTime": {
     "end_time": "2023-08-23T06:37:51.572449Z",
     "start_time": "2023-08-23T06:37:51.563454Z"
    }
   },
   "outputs": [
    {
     "name": "stdout",
     "output_type": "stream",
     "text": [
      "[300, 700, 900]\n"
     ]
    }
   ],
   "source": [
    "a = [3, 7, 9, 10]\n",
    "b = [i*100 for i in a if i%2 !=0]\n",
    "print(b)"
   ]
  },
  {
   "cell_type": "markdown",
   "id": "fa5e395b",
   "metadata": {},
   "source": [
    "## 기타 제어문\n",
    "\n",
    "- break문 : 해당 블록에서 벗어나라\n",
    "- continue문 : 이하 생략"
   ]
  },
  {
   "cell_type": "code",
   "execution_count": 89,
   "id": "680bd287",
   "metadata": {
    "ExecuteTime": {
     "end_time": "2023-08-23T06:40:56.343590Z",
     "start_time": "2023-08-23T06:40:56.338559Z"
    }
   },
   "outputs": [
    {
     "name": "stdout",
     "output_type": "stream",
     "text": [
      "1  2  3  4  5  6  7  8  9  10  11  12  13  14  15  16  17  18  19  20  21  22  23  24  25  26  27  28  29  30  31  32  33  34  35  36  37  38  39  40  41  42  43  44  45  46  47  48  49  50  51  52  53  54  55  56  57  58  59  60  61  62  63  64  65  66  67  68  69  70  71  72  73  74  75  76  77  78  79  80  81  82  83  84  85  86  87  88  89  90  91  92  93  94  95  96  97  98  99  100  "
     ]
    }
   ],
   "source": [
    "# 1~100의 자연수를 출력하는 프로그램\n",
    "for i in range(1, 101):\n",
    "    print(i, end='  ')"
   ]
  },
  {
   "cell_type": "code",
   "execution_count": 90,
   "id": "f0f1b441",
   "metadata": {
    "ExecuteTime": {
     "end_time": "2023-08-23T06:45:50.804160Z",
     "start_time": "2023-08-23T06:45:50.783093Z"
    }
   },
   "outputs": [
    {
     "name": "stdout",
     "output_type": "stream",
     "text": [
      "1  2  3  4  5  6  7  8  9  10  \n",
      "11  12  13  14  15  16  17  18  19  20  \n",
      "21  22  23  24  25  26  27  28  29  30  \n",
      "31  32  33  34  35  36  37  38  39  40  \n",
      "41  42  43  44  45  46  47  48  49  50  \n",
      "51  52  53  54  55  56  57  58  59  60  \n",
      "61  62  63  64  65  66  67  68  69  70  \n",
      "71  72  73  74  75  76  77  78  79  80  \n",
      "81  82  83  84  85  86  87  88  89  90  \n",
      "91  92  93  94  95  96  97  98  99  100  \n"
     ]
    }
   ],
   "source": [
    "# 1줄에 10개씩만 출력\n",
    "for i in range(1, 101):\n",
    "    print(i, end='  ')\n",
    "    if i % 10 == 0:\n",
    "        print()\n",
    "   "
   ]
  },
  {
   "cell_type": "code",
   "execution_count": 93,
   "id": "9db7a573",
   "metadata": {
    "ExecuteTime": {
     "end_time": "2023-08-23T06:49:55.567779Z",
     "start_time": "2023-08-23T06:49:55.555770Z"
    }
   },
   "outputs": [
    {
     "name": "stdout",
     "output_type": "stream",
     "text": [
      "1 3 5 7 9 \n",
      "11 13 15 17 19 \n",
      "21 23 25 27 29 \n",
      "31 33 35 37 39 \n",
      "41 43 45 47 49 \n",
      "51 53 55 57 59 \n",
      "61 63 65 67 69 \n",
      "71 73 75 77 79 \n",
      "81 83 85 87 89 \n",
      "91 93 95 97 99 \n"
     ]
    }
   ],
   "source": [
    "# 1~100 중 홀수만 추출하시오. 단 한줄에 5개씩 추출하시오.\n",
    "\n",
    "for i in range(1, 101):\n",
    "    if i % 2 == 0:\n",
    "        continue\n",
    "    print(i, end =' ')\n",
    "    if i % 10 == 9:\n",
    "        print()"
   ]
  },
  {
   "cell_type": "code",
   "execution_count": 95,
   "id": "696970c5",
   "metadata": {
    "ExecuteTime": {
     "end_time": "2023-08-23T07:18:52.642410Z",
     "start_time": "2023-08-23T07:18:52.626775Z"
    }
   },
   "outputs": [
    {
     "name": "stdout",
     "output_type": "stream",
     "text": [
      "1 3 5 7 9 \n",
      "11 13 15 17 19 \n",
      "21 23 25 27 29 \n",
      "31 33 35 37 39 \n",
      "41 43 45 47 49 \n",
      "51 53 55 57 59 \n",
      "61 63 65 67 69 \n",
      "71 73 75 77 79 \n",
      "81 83 85 87 89 \n",
      "91 93 95 97 99 \n"
     ]
    }
   ],
   "source": [
    "cnt = 0\n",
    "for i in range(1, 101):\n",
    "    if i % 2 == 0: # 짝수인 경우\n",
    "        continue\n",
    "    else: # 홀수인 경우\n",
    "        cnt += 1\n",
    "        print(i, end=' ')\n",
    "        if cnt % 5 == 0:\n",
    "            print()"
   ]
  },
  {
   "cell_type": "markdown",
   "id": "1fcf12a3",
   "metadata": {},
   "source": [
    "# 자료구조와 제어문"
   ]
  },
  {
   "cell_type": "code",
   "execution_count": 96,
   "id": "c00385b9",
   "metadata": {
    "ExecuteTime": {
     "end_time": "2023-08-23T07:21:11.683891Z",
     "start_time": "2023-08-23T07:21:11.667749Z"
    }
   },
   "outputs": [
    {
     "name": "stdout",
     "output_type": "stream",
     "text": [
      "[(1, 2), (3, 4), (5, 6), (7, 8), (9, 10)]\n"
     ]
    }
   ],
   "source": [
    "a = [(1, 2), (3, 4), (5, 6), (7, 8), (9, 10)]\n",
    "print(a)"
   ]
  },
  {
   "cell_type": "code",
   "execution_count": 97,
   "id": "2bda67bd",
   "metadata": {
    "ExecuteTime": {
     "end_time": "2023-08-23T07:21:35.297407Z",
     "start_time": "2023-08-23T07:21:35.278974Z"
    }
   },
   "outputs": [
    {
     "name": "stdout",
     "output_type": "stream",
     "text": [
      "(1, 2)\n",
      "(3, 4)\n",
      "(5, 6)\n",
      "(7, 8)\n",
      "(9, 10)\n"
     ]
    }
   ],
   "source": [
    "for i in a:\n",
    "    print(i)"
   ]
  },
  {
   "cell_type": "code",
   "execution_count": 98,
   "id": "0055dc0b",
   "metadata": {
    "ExecuteTime": {
     "end_time": "2023-08-23T07:22:25.258783Z",
     "start_time": "2023-08-23T07:22:25.247440Z"
    }
   },
   "outputs": [
    {
     "name": "stdout",
     "output_type": "stream",
     "text": [
      "1 2\n",
      "3 4\n",
      "5 6\n",
      "7 8\n",
      "9 10\n"
     ]
    }
   ],
   "source": [
    "for i in a:\n",
    "    print(i[0], i[1])"
   ]
  },
  {
   "cell_type": "code",
   "execution_count": 100,
   "id": "be36a6c1",
   "metadata": {
    "ExecuteTime": {
     "end_time": "2023-08-23T07:23:07.361008Z",
     "start_time": "2023-08-23T07:23:07.336787Z"
    }
   },
   "outputs": [
    {
     "name": "stdout",
     "output_type": "stream",
     "text": [
      "3\n",
      "7\n",
      "11\n",
      "15\n",
      "19\n"
     ]
    }
   ],
   "source": [
    "for i in a:\n",
    "    print(i[0]+i[1])"
   ]
  },
  {
   "cell_type": "code",
   "execution_count": 101,
   "id": "461a6404",
   "metadata": {
    "ExecuteTime": {
     "end_time": "2023-08-23T07:24:18.065097Z",
     "start_time": "2023-08-23T07:24:18.056132Z"
    }
   },
   "outputs": [
    {
     "name": "stdout",
     "output_type": "stream",
     "text": [
      "1 + 2 = 3\n",
      "3 + 4 = 7\n",
      "5 + 6 = 11\n",
      "7 + 8 = 15\n",
      "9 + 10 = 19\n"
     ]
    }
   ],
   "source": [
    "for (first, second) in a:\n",
    "    print(\"{0} + {1} = {2}\".format(first, second, first+second))"
   ]
  },
  {
   "cell_type": "markdown",
   "id": "a71b7799",
   "metadata": {},
   "source": [
    "## 년도를 입력받아 평년인지 윤년인지 판단하여 출력하는 프로그램\n",
    "\n",
    "- 입력받은 년도가 0이면 작업 종료할 것\n",
    "- 윤년은 4년마다 돌아오는데 100으로 나누어 떨어지는 연도는 평년, 하지만 400으로 나누어 떨어지면 윤년"
   ]
  },
  {
   "cell_type": "code",
   "execution_count": 103,
   "id": "98e84e67",
   "metadata": {
    "ExecuteTime": {
     "end_time": "2023-08-23T07:35:35.598235Z",
     "start_time": "2023-08-23T07:34:05.824630Z"
    }
   },
   "outputs": [
    {
     "name": "stdout",
     "output_type": "stream",
     "text": [
      "년도를 입력하세요(종료:0) = 2024\n",
      "2024년도는 윤년입니다.\n",
      "년도를 입력하세요(종료:0) = 2000\n",
      "2000년도는 윤년입니다.\n",
      "년도를 입력하세요(종료:0) = 1900\n",
      "1900년도는 평년입니다.\n",
      "년도를 입력하세요(종료:0) = 0\n"
     ]
    }
   ],
   "source": [
    "while True:\n",
    "    year = int(input('년도를 입력하세요(종료:0) = '))\n",
    "    if year == 0:\n",
    "        break\n",
    "    elif year % 4 == 0 and year % 100 != 0 or year % 400 == 0:\n",
    "        print('{0}년도는 윤년입니다.'.format(year))\n",
    "    else:\n",
    "        print('{0}년도는 평년입니다.'.format(year))"
   ]
  },
  {
   "cell_type": "markdown",
   "id": "bf76c76d",
   "metadata": {
    "ExecuteTime": {
     "end_time": "2023-08-23T07:36:43.292175Z",
     "start_time": "2023-08-23T07:36:43.279691Z"
    }
   },
   "source": [
    "## 1부터 100사이의 수중 소수에 해당하는 숫자를 출력하는 프로그램\n",
    "\n",
    "- 처리조건 : 한 줄에 10개씩 출력되도록 구현할 것\n",
    "- 소수(Prime) : 1과 자기자신으로만 나누어 떨어지는 수"
   ]
  },
  {
   "cell_type": "code",
   "execution_count": 106,
   "id": "edf2294d",
   "metadata": {
    "ExecuteTime": {
     "end_time": "2023-08-23T07:50:45.386064Z",
     "start_time": "2023-08-23T07:50:43.434868Z"
    }
   },
   "outputs": [
    {
     "name": "stdout",
     "output_type": "stream",
     "text": [
      "수 = 4\n",
      "소수이다\n"
     ]
    }
   ],
   "source": [
    "num = int(input('수 = '))\n",
    "\n",
    "ck = 0\n",
    "\n",
    "for i in range(2, num+1):\n",
    "    if num % i == 0:\n",
    "        ck += 1\n",
    "        \n",
    "if ck == 2:\n",
    "    print('소수이다')\n",
    "else:\n",
    "    print('소수가아니다')\n",
    "        "
   ]
  },
  {
   "cell_type": "code",
   "execution_count": 107,
   "id": "f875c204",
   "metadata": {
    "ExecuteTime": {
     "end_time": "2023-08-23T07:54:12.169453Z",
     "start_time": "2023-08-23T07:54:12.158355Z"
    }
   },
   "outputs": [
    {
     "name": "stdout",
     "output_type": "stream",
     "text": [
      "2 3 5 7 11 13 17 19 23 29 31 37 41 43 47 53 59 61 67 71 73 79 83 89 97 "
     ]
    }
   ],
   "source": [
    "for i in range(1, 101):\n",
    "    check = 0 #나누어지는 수의 개수를 누적할 변수\n",
    "    for j in range(1, i+1):\n",
    "        if i % j == 0:\n",
    "            check += 1;\n",
    "    if check == 2:\n",
    "        print(i, end =' ')"
   ]
  },
  {
   "cell_type": "code",
   "execution_count": null,
   "id": "49bd6754",
   "metadata": {},
   "outputs": [],
   "source": []
  }
 ],
 "metadata": {
  "kernelspec": {
   "display_name": "Python 3 (ipykernel)",
   "language": "python",
   "name": "python3"
  },
  "language_info": {
   "codemirror_mode": {
    "name": "ipython",
    "version": 3
   },
   "file_extension": ".py",
   "mimetype": "text/x-python",
   "name": "python",
   "nbconvert_exporter": "python",
   "pygments_lexer": "ipython3",
   "version": "3.9.7"
  },
  "toc": {
   "base_numbering": 1,
   "nav_menu": {},
   "number_sections": true,
   "sideBar": true,
   "skip_h1_title": false,
   "title_cell": "Table of Contents",
   "title_sidebar": "Contents",
   "toc_cell": false,
   "toc_position": {
    "height": "calc(100% - 180px)",
    "left": "10px",
    "top": "150px",
    "width": "384px"
   },
   "toc_section_display": true,
   "toc_window_display": true
  }
 },
 "nbformat": 4,
 "nbformat_minor": 5
}
