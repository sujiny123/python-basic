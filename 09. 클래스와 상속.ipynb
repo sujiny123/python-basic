{
 "cells": [
  {
   "cell_type": "markdown",
   "id": "949e7e32",
   "metadata": {},
   "source": [
    "# 클래스"
   ]
  },
  {
   "cell_type": "code",
   "execution_count": 2,
   "id": "bbf6fcfc",
   "metadata": {
    "ExecuteTime": {
     "end_time": "2023-08-28T00:14:33.161326Z",
     "start_time": "2023-08-28T00:14:33.156276Z"
    }
   },
   "outputs": [],
   "source": [
    "#사람객체를 추상화할 목적으로 구현된 클래스\n",
    "class Person:\n",
    "    #멤버필드 : 변수, 인스턴스 변수, 클래스 변수(공유목적)\n",
    "    #self : 인스턴스 자신의 주소값을 가리키는 키워드, 자기자신, this\n",
    "    #super : 부모객체를 가리키는 키워드\n",
    "    \n",
    "    #생성자 메서드 : 인스턴스 객체 생성시 자동으로 호출되는 메서드, 생략가능ㅇ\n",
    "    #멤버 필드를 초기화할 목적, 객체가 생성될때 처음으로 해야할 작업을 기술\n",
    "    def __init__(self):\n",
    "        print(\"객체 생성\")\n",
    "    \n",
    "    #멤버 메서드 : 함수, 행위나 동작등을 기술할 때 사용\n",
    "    def walk(self):\n",
    "        print(\"사람이 걸어갑니다.\")\n",
    "        \n",
    "    def run(self):\n",
    "        print(\"사람이 달려갑니다.\")\n",
    "        \n",
    "    #소멸자 메서드 : 객체가 소멸될 때 자동으로 호출되는 메서드, 생략가능\n",
    "    def __del__(self):\n",
    "        print(\"객체 소멸\")"
   ]
  },
  {
   "cell_type": "markdown",
   "id": "1d2f440d",
   "metadata": {},
   "source": [
    "## 인스턴스 객체 생성"
   ]
  },
  {
   "cell_type": "code",
   "execution_count": 4,
   "id": "bc23b0c3",
   "metadata": {
    "ExecuteTime": {
     "end_time": "2023-08-28T00:16:25.885828Z",
     "start_time": "2023-08-28T00:16:25.881947Z"
    }
   },
   "outputs": [
    {
     "name": "stdout",
     "output_type": "stream",
     "text": [
      "객체 생성\n",
      "객체 소멸\n",
      "사람이 걸어갑니다.\n",
      "사람이 달려갑니다.\n"
     ]
    }
   ],
   "source": [
    "p = Person()\n",
    "p.walk()\n",
    "p.run()"
   ]
  },
  {
   "cell_type": "code",
   "execution_count": 5,
   "id": "23e9a5ed",
   "metadata": {
    "ExecuteTime": {
     "end_time": "2023-08-28T00:17:11.251755Z",
     "start_time": "2023-08-28T00:17:11.248213Z"
    }
   },
   "outputs": [
    {
     "name": "stdout",
     "output_type": "stream",
     "text": [
      "객체 생성\n",
      "사람이 걸어갑니다.\n",
      "사람이 달려갑니다.\n"
     ]
    }
   ],
   "source": [
    "p1 = Person()\n",
    "p1.walk()\n",
    "p1.run()"
   ]
  },
  {
   "cell_type": "markdown",
   "id": "64d59de0",
   "metadata": {},
   "source": [
    "## Member Field"
   ]
  },
  {
   "cell_type": "code",
   "execution_count": 6,
   "id": "d15e426b",
   "metadata": {
    "ExecuteTime": {
     "end_time": "2023-08-28T00:25:18.684829Z",
     "start_time": "2023-08-28T00:25:18.679978Z"
    }
   },
   "outputs": [],
   "source": [
    "#사람객체를 추상화할 목적으로 구현된 클래스\n",
    "class Person:\n",
    "    #멤버필드 : 변수, 인스턴스 변수, 클래스 변수(공유목적)\n",
    "    #self : 인스턴스 자신의 주소값을 가리키는 키워드, 자기자신, this\n",
    "    #super : 부모객체를 가리키는 키워드\n",
    "    \n",
    "    #생성자 메서드 : 인스턴스 객체 생성시 자동으로 호출되는 메서드, 생략가능ㅇ\n",
    "    #멤버 필드를 초기화할 목적, 객체가 생성될때 처음으로 해야할 작업을 기술\n",
    "    def __init__(self):\n",
    "        print(\"객체 생성\")\n",
    "    \n",
    "    #멤버 메서드 : 함수, 행위나 동작등을 기술할 때 사용\n",
    "    def walk(self):\n",
    "        print(self.name + \"이 걸어갑니다.\")\n",
    "        \n",
    "    def run(self):\n",
    "        print(self.name + \"이 달려갑니다.\")\n",
    "        \n",
    "    #소멸자 메서드 : 객체가 소멸될 때 자동으로 호출되는 메서드, 생략가능\n",
    "    def __del__(self):\n",
    "        print(\"객체 소멸\")"
   ]
  },
  {
   "cell_type": "code",
   "execution_count": 7,
   "id": "6ac4196c",
   "metadata": {
    "ExecuteTime": {
     "end_time": "2023-08-28T00:25:48.497509Z",
     "start_time": "2023-08-28T00:25:48.493312Z"
    }
   },
   "outputs": [
    {
     "name": "stdout",
     "output_type": "stream",
     "text": [
      "객체 생성\n",
      "홍길동이 걸어갑니다.\n",
      "홍길동이 달려갑니다.\n"
     ]
    }
   ],
   "source": [
    "p2 = Person()\n",
    "p2.name = '홍길동'\n",
    "p2.walk()\n",
    "p2.run()"
   ]
  },
  {
   "cell_type": "code",
   "execution_count": 11,
   "id": "264b15af",
   "metadata": {
    "ExecuteTime": {
     "end_time": "2023-08-28T00:26:44.633836Z",
     "start_time": "2023-08-28T00:26:44.628741Z"
    }
   },
   "outputs": [
    {
     "name": "stdout",
     "output_type": "stream",
     "text": [
      "객체 생성\n",
      "장보고이 걸어갑니다.\n",
      "장보고이 달려갑니다.\n"
     ]
    }
   ],
   "source": [
    "p3 = Person()\n",
    "p3.name = \"장보고\"\n",
    "p3.walk()\n",
    "p3.run()"
   ]
  },
  {
   "cell_type": "markdown",
   "id": "34c8c5e5",
   "metadata": {},
   "source": [
    "## 생성자 메서드"
   ]
  },
  {
   "cell_type": "code",
   "execution_count": 12,
   "id": "ec9d05da",
   "metadata": {
    "ExecuteTime": {
     "end_time": "2023-08-28T00:28:35.623547Z",
     "start_time": "2023-08-28T00:28:35.617792Z"
    }
   },
   "outputs": [],
   "source": [
    "#사람객체를 추상화할 목적으로 구현된 클래스\n",
    "class Person:\n",
    "    #멤버필드 : 변수, 인스턴스 변수, 클래스 변수(공유목적)\n",
    "    #self : 인스턴스 자신의 주소값을 가리키는 키워드, 자기자신, this\n",
    "    #super : 부모객체를 가리키는 키워드\n",
    "    \n",
    "    #생성자 메서드 : 인스턴스 객체 생성시 자동으로 호출되는 메서드, 생략가능ㅇ\n",
    "    #멤버 필드를 초기화할 목적, 객체가 생성될때 처음으로 해야할 작업을 기술\n",
    "    def __init__(self, name):\n",
    "        print(\"객체 생성\")\n",
    "        self.name = name\n",
    "        \n",
    "    #멤버 메서드 : 함수, 행위나 동작등을 기술할 때 사용\n",
    "    def walk(self):\n",
    "        print(self.name + \"이 걸어갑니다.\")\n",
    "        \n",
    "    def run(self):\n",
    "        print(self.name + \"이 달려갑니다.\")\n",
    "        \n",
    "    #소멸자 메서드 : 객체가 소멸될 때 자동으로 호출되는 메서드, 생략가능\n",
    "    def __del__(self):\n",
    "        print(\"객체 소멸\")"
   ]
  },
  {
   "cell_type": "code",
   "execution_count": 15,
   "id": "1e5faebc",
   "metadata": {
    "ExecuteTime": {
     "end_time": "2023-08-28T00:29:16.820679Z",
     "start_time": "2023-08-28T00:29:16.817259Z"
    }
   },
   "outputs": [
    {
     "name": "stdout",
     "output_type": "stream",
     "text": [
      "객체 생성\n",
      "객체 소멸\n",
      "이순신이 걸어갑니다.\n",
      "이순신이 달려갑니다.\n"
     ]
    }
   ],
   "source": [
    "p4 = Person('이순신')\n",
    "p4.walk()\n",
    "p4.run()"
   ]
  },
  {
   "cell_type": "markdown",
   "id": "38f3e384",
   "metadata": {},
   "source": [
    "## Person 객체가 생성될 때 해당 클래스로 만든 객체의 수를 카운트하는 값"
   ]
  },
  {
   "cell_type": "code",
   "execution_count": 18,
   "id": "55769ddb",
   "metadata": {
    "ExecuteTime": {
     "end_time": "2023-08-28T00:38:34.860567Z",
     "start_time": "2023-08-28T00:38:34.851591Z"
    }
   },
   "outputs": [],
   "source": [
    "#사람객체를 추상화할 목적으로 구현된 클래스\n",
    "class Person:\n",
    "    #멤버필드 : 변수, 인스턴스 변수, 클래스 변수(공유목적)\n",
    "    #self : 인스턴스 자신의 주소값을 가리키는 키워드, 자기자신, this\n",
    "    #super : 부모객체를 가리키는 키워드\n",
    "    count = 0 #객체가 생성될떄마다 1씩 증가하는 누적변수\n",
    "    #생성자 메서드 : 인스턴스 객체 생성시 자동으로 호출되는 메서드, 생략가능ㅇ\n",
    "    #멤버 필드를 초기화할 목적, 객체가 생성될때 처음으로 해야할 작업을 기술\n",
    "    def __init__(self, name):\n",
    "        print(\"객체 생성\")\n",
    "        self.name = name\n",
    "        Person.count +=1\n",
    "        \n",
    "    #멤버 메서드 : 함수, 행위나 동작등을 기술할 때 사용\n",
    "    def walk(self):\n",
    "        print(self.name + \"이 걸어갑니다.\")\n",
    "        \n",
    "    def run(self):\n",
    "        print(self.name + \"이 달려갑니다.\")\n",
    "    \n",
    "    def show(self):\n",
    "        print(\"생성된 객체수 : \", Person.count)\n",
    "        \n",
    "    #소멸자 메서드 : 객체가 소멸될 때 자동으로 호출되는 메서드, 생략가능\n",
    "    def __del__(self):\n",
    "        print(\"객체 소멸\")"
   ]
  },
  {
   "cell_type": "code",
   "execution_count": 19,
   "id": "fd125ba8",
   "metadata": {
    "ExecuteTime": {
     "end_time": "2023-08-28T00:38:35.755323Z",
     "start_time": "2023-08-28T00:38:35.751385Z"
    }
   },
   "outputs": [
    {
     "name": "stdout",
     "output_type": "stream",
     "text": [
      "객체 생성\n",
      "객체 소멸\n",
      "생성된 객체수 :  1\n"
     ]
    }
   ],
   "source": [
    "p1 = Person('aaa')\n",
    "p1.show()"
   ]
  },
  {
   "cell_type": "code",
   "execution_count": 21,
   "id": "84e848a4",
   "metadata": {
    "ExecuteTime": {
     "end_time": "2023-08-28T00:38:49.827874Z",
     "start_time": "2023-08-28T00:38:49.824182Z"
    }
   },
   "outputs": [
    {
     "name": "stdout",
     "output_type": "stream",
     "text": [
      "객체 생성\n",
      "객체 소멸\n",
      "객체 생성\n",
      "객체 소멸\n",
      "생성된 객체수 :  5\n"
     ]
    }
   ],
   "source": [
    "p1 = Person('aaa')\n",
    "p2 = Person('bbb')\n",
    "p1.show()"
   ]
  },
  {
   "cell_type": "markdown",
   "id": "0e9683ee",
   "metadata": {},
   "source": [
    "## 클래스 변수 : 모든 인스턴스가 공유할 목적으로 구현하는 변수"
   ]
  },
  {
   "cell_type": "code",
   "execution_count": 22,
   "id": "1b0e293f",
   "metadata": {
    "ExecuteTime": {
     "end_time": "2023-08-28T00:44:01.734324Z",
     "start_time": "2023-08-28T00:44:01.729316Z"
    }
   },
   "outputs": [],
   "source": [
    "class Person:\n",
    "    #멤버 필드 = 프로퍼티\n",
    "    name = 'kim'\n",
    "    age = 20\n",
    "    height = 180.5\n",
    "    \n",
    "    #멤버 메서드\n",
    "    def disp(self):\n",
    "        # self.변수 : 인스턴스 변수 - 개별적인 값\n",
    "        print(\"이름 : \", self.name)\n",
    "        print(\"나이 : \", self.age)\n",
    "        print(\"신장 : \", self.height)\n",
    "        print(\"-\"*50)\n",
    "        #class.변수 : 클래스 변수 - 공통적인 값\n",
    "        print(\"이름 : \", Person.name)\n",
    "        print(\"나이 : \", Person.age)\n",
    "        print(\"신장 : \", Person.height)"
   ]
  },
  {
   "cell_type": "code",
   "execution_count": 24,
   "id": "6e46943f",
   "metadata": {
    "ExecuteTime": {
     "end_time": "2023-08-28T00:44:23.203771Z",
     "start_time": "2023-08-28T00:44:23.199601Z"
    }
   },
   "outputs": [
    {
     "name": "stdout",
     "output_type": "stream",
     "text": [
      "이름 :  kim\n",
      "나이 :  20\n",
      "신장 :  180.5\n",
      "--------------------------------------------------\n",
      "이름 :  kim\n",
      "나이 :  20\n",
      "신장 :  180.5\n"
     ]
    }
   ],
   "source": [
    "p1 = Person()\n",
    "p1.disp()"
   ]
  },
  {
   "cell_type": "code",
   "execution_count": 25,
   "id": "4357b20c",
   "metadata": {
    "ExecuteTime": {
     "end_time": "2023-08-28T00:45:36.898745Z",
     "start_time": "2023-08-28T00:45:36.895001Z"
    }
   },
   "outputs": [
    {
     "name": "stdout",
     "output_type": "stream",
     "text": [
      "객체 소멸\n",
      "이름 :  park\n",
      "나이 :  15\n",
      "신장 :  160.3\n",
      "--------------------------------------------------\n",
      "이름 :  kim\n",
      "나이 :  20\n",
      "신장 :  180.5\n"
     ]
    }
   ],
   "source": [
    "p2 = Person()\n",
    "p2.name = 'park'\n",
    "p2.age = 15\n",
    "p2.height = 160.3\n",
    "p2.disp()"
   ]
  },
  {
   "cell_type": "code",
   "execution_count": 26,
   "id": "52c7cab8",
   "metadata": {
    "ExecuteTime": {
     "end_time": "2023-08-28T00:46:42.802624Z",
     "start_time": "2023-08-28T00:46:42.799104Z"
    }
   },
   "outputs": [
    {
     "name": "stdout",
     "output_type": "stream",
     "text": [
      "객체 소멸\n",
      "이름 :  park\n",
      "나이 :  15\n",
      "신장 :  160.3\n",
      "--------------------------------------------------\n",
      "이름 :  kim\n",
      "나이 :  20\n",
      "신장 :  180.5\n"
     ]
    }
   ],
   "source": [
    "p3 = p2\n",
    "p3.disp()"
   ]
  },
  {
   "cell_type": "code",
   "execution_count": 27,
   "id": "406e8806",
   "metadata": {
    "ExecuteTime": {
     "end_time": "2023-08-28T00:47:18.002709Z",
     "start_time": "2023-08-28T00:47:17.999343Z"
    }
   },
   "outputs": [
    {
     "name": "stdout",
     "output_type": "stream",
     "text": [
      "이름 :  hong\n",
      "나이 :  15\n",
      "신장 :  160.3\n",
      "--------------------------------------------------\n",
      "이름 :  kim\n",
      "나이 :  20\n",
      "신장 :  180.5\n"
     ]
    }
   ],
   "source": [
    "p3.name = 'hong'\n",
    "p3.disp()"
   ]
  },
  {
   "cell_type": "code",
   "execution_count": 28,
   "id": "4d9245d4",
   "metadata": {
    "ExecuteTime": {
     "end_time": "2023-08-28T00:47:28.456765Z",
     "start_time": "2023-08-28T00:47:28.452932Z"
    }
   },
   "outputs": [
    {
     "name": "stdout",
     "output_type": "stream",
     "text": [
      "이름 :  hong\n",
      "나이 :  15\n",
      "신장 :  160.3\n",
      "--------------------------------------------------\n",
      "이름 :  kim\n",
      "나이 :  20\n",
      "신장 :  180.5\n"
     ]
    }
   ],
   "source": [
    "p2.disp()"
   ]
  },
  {
   "cell_type": "markdown",
   "id": "2ba59334",
   "metadata": {},
   "source": [
    "## default parameter : 매개변수의 초기화"
   ]
  },
  {
   "cell_type": "code",
   "execution_count": 29,
   "id": "a0336cd2",
   "metadata": {
    "ExecuteTime": {
     "end_time": "2023-08-28T01:01:59.013965Z",
     "start_time": "2023-08-28T01:01:59.009721Z"
    }
   },
   "outputs": [],
   "source": [
    "class Member:\n",
    "    def __init__(self, userid, pwd, name):\n",
    "        self.userid = userid\n",
    "        self.pwd = pwd\n",
    "        self.name = name\n",
    "        \n",
    "    def show(self):\n",
    "        print(\"id : \", self.userid)\n",
    "        print(\"pass : \", self.pwd)\n",
    "        print(\"name : \",self.name)"
   ]
  },
  {
   "cell_type": "code",
   "execution_count": 30,
   "id": "31ddcec3",
   "metadata": {
    "ExecuteTime": {
     "end_time": "2023-08-28T01:03:14.713368Z",
     "start_time": "2023-08-28T01:03:14.709386Z"
    }
   },
   "outputs": [
    {
     "name": "stdout",
     "output_type": "stream",
     "text": [
      "id :  aaa\n",
      "pass :  1234\n",
      "name :  홍길동\n"
     ]
    }
   ],
   "source": [
    "m = Member('aaa','1234','홍길동')\n",
    "m.show()"
   ]
  },
  {
   "cell_type": "code",
   "execution_count": 33,
   "id": "854ec4ab",
   "metadata": {
    "ExecuteTime": {
     "end_time": "2023-08-28T01:04:23.569504Z",
     "start_time": "2023-08-28T01:04:23.565258Z"
    }
   },
   "outputs": [],
   "source": [
    "class Member:\n",
    "    def __init__(self, userid, pwd, name = \"\", age = 0):\n",
    "        self.userid = userid\n",
    "        self.pwd = pwd\n",
    "        self.name = name\n",
    "        self.age = age\n",
    "    def show(self):\n",
    "        print(\"id : \", self.userid)\n",
    "        print(\"pass : \", self.pwd)\n",
    "        print(\"name : \",self.name)\n",
    "        print(\"age : \",self.age)"
   ]
  },
  {
   "cell_type": "code",
   "execution_count": 35,
   "id": "b7f3f3ad",
   "metadata": {
    "ExecuteTime": {
     "end_time": "2023-08-28T01:04:56.011293Z",
     "start_time": "2023-08-28T01:04:56.007015Z"
    }
   },
   "outputs": [
    {
     "name": "stdout",
     "output_type": "stream",
     "text": [
      "id :  bbb\n",
      "pass :  1234\n",
      "name :  \n",
      "age :  0\n"
     ]
    }
   ],
   "source": [
    "m1 = Member('bbb','1234')\n",
    "m1.show()"
   ]
  },
  {
   "cell_type": "code",
   "execution_count": 37,
   "id": "6f33e110",
   "metadata": {
    "ExecuteTime": {
     "end_time": "2023-08-28T01:05:33.222804Z",
     "start_time": "2023-08-28T01:05:33.218548Z"
    }
   },
   "outputs": [
    {
     "name": "stdout",
     "output_type": "stream",
     "text": [
      "id :  ccc\n",
      "pass :  1234\n",
      "name :  강아지\n",
      "age :  4\n"
     ]
    }
   ],
   "source": [
    "m2 = Member('ccc','1234','강아지',4)\n",
    "m2.show()"
   ]
  },
  {
   "cell_type": "markdown",
   "id": "12d4da96",
   "metadata": {},
   "source": [
    "# 상속\n",
    "\n",
    "- 기반클래스, 부모클래스, 슈퍼클래스\n",
    "- 파생클래스, 자녀클래스, 서브클래스"
   ]
  },
  {
   "cell_type": "code",
   "execution_count": 38,
   "id": "7df22b12",
   "metadata": {
    "ExecuteTime": {
     "end_time": "2023-08-28T01:08:53.200467Z",
     "start_time": "2023-08-28T01:08:53.186599Z"
    }
   },
   "outputs": [],
   "source": [
    "class 기반클래스이름:\n",
    "    pass\n",
    "class 파생클래스이름(기반클래스이름):\n",
    "    pass"
   ]
  },
  {
   "cell_type": "code",
   "execution_count": 39,
   "id": "7392d997",
   "metadata": {
    "ExecuteTime": {
     "end_time": "2023-08-28T01:09:45.900690Z",
     "start_time": "2023-08-28T01:09:45.896703Z"
    }
   },
   "outputs": [],
   "source": [
    "class Person:\n",
    "    def greeting(self):\n",
    "        print('안녕하세요')\n",
    "\n",
    "class Student(Person):\n",
    "    def study(self):\n",
    "        print('공부하기')"
   ]
  },
  {
   "cell_type": "code",
   "execution_count": 40,
   "id": "b11790b5",
   "metadata": {
    "ExecuteTime": {
     "end_time": "2023-08-28T01:10:14.923301Z",
     "start_time": "2023-08-28T01:10:14.918805Z"
    }
   },
   "outputs": [
    {
     "name": "stdout",
     "output_type": "stream",
     "text": [
      "안녕하세요\n",
      "공부하기\n"
     ]
    }
   ],
   "source": [
    "a = Student()\n",
    "a.greeting()\n",
    "a.study()"
   ]
  },
  {
   "cell_type": "code",
   "execution_count": 41,
   "id": "c0c45036",
   "metadata": {
    "ExecuteTime": {
     "end_time": "2023-08-28T01:10:41.158822Z",
     "start_time": "2023-08-28T01:10:41.146868Z"
    }
   },
   "outputs": [
    {
     "data": {
      "text/plain": [
       "True"
      ]
     },
     "execution_count": 41,
     "metadata": {},
     "output_type": "execute_result"
    }
   ],
   "source": [
    "#상속관계확인\n",
    "issubclass(Student, Person)"
   ]
  },
  {
   "cell_type": "code",
   "execution_count": 49,
   "id": "b5a735e0",
   "metadata": {
    "ExecuteTime": {
     "end_time": "2023-08-28T01:20:58.567480Z",
     "start_time": "2023-08-28T01:20:58.562458Z"
    }
   },
   "outputs": [],
   "source": [
    "#반드시 자식객체는 부모객체의 멤버를 초기화시킬 의무가 있다.\n",
    "#부모객체가 생성자 메서드를 가지고 있다면 반드시 자식객체도 생성자 메서드를 기술해야한다.\n",
    "class Person:\n",
    "    def __init__(self):\n",
    "        print('Person.__init__')\n",
    "        self.hello = '안녕하세요'\n",
    "\n",
    "class Student(Person):\n",
    "    def __init__(self):\n",
    "        super().__init__()\n",
    "        print('Student.__init__')\n",
    "        self.school = '파이썬 공부'"
   ]
  },
  {
   "cell_type": "code",
   "execution_count": 50,
   "id": "41a7d796",
   "metadata": {
    "ExecuteTime": {
     "end_time": "2023-08-28T01:20:59.654471Z",
     "start_time": "2023-08-28T01:20:59.649110Z"
    }
   },
   "outputs": [
    {
     "name": "stdout",
     "output_type": "stream",
     "text": [
      "Person.__init__\n",
      "Student.__init__\n",
      "파이썬 공부\n",
      "안녕하세요\n"
     ]
    }
   ],
   "source": [
    "b = Student()\n",
    "print(b.school)\n",
    "print(b.hello)"
   ]
  },
  {
   "cell_type": "markdown",
   "id": "97c5eb63",
   "metadata": {},
   "source": [
    "## 오버라이딩(Overriding) : 재정의"
   ]
  },
  {
   "cell_type": "code",
   "execution_count": 55,
   "id": "f205de3a",
   "metadata": {
    "ExecuteTime": {
     "end_time": "2023-08-28T01:24:24.492042Z",
     "start_time": "2023-08-28T01:24:24.488145Z"
    }
   },
   "outputs": [],
   "source": [
    "class Person:\n",
    "    def greeting(self):\n",
    "        print('안녕하세요')\n",
    "        \n",
    "class Student:\n",
    "    def greeting(self):\n",
    "        Person.greeting(self)\n",
    "        print('나는 파이썬을 공부하는 학생입니다.')"
   ]
  },
  {
   "cell_type": "code",
   "execution_count": 56,
   "id": "75763d8f",
   "metadata": {
    "ExecuteTime": {
     "end_time": "2023-08-28T01:24:25.216425Z",
     "start_time": "2023-08-28T01:24:25.212656Z"
    }
   },
   "outputs": [
    {
     "name": "stdout",
     "output_type": "stream",
     "text": [
      "안녕하세요\n",
      "나는 파이썬을 공부하는 학생입니다.\n"
     ]
    }
   ],
   "source": [
    "# 부모와 자식객체가 같은 이름의 메서드를 가질 수 있다.\n",
    "# 해당 메서드를 호출하면 자식 객체의 메서드가 호출된다.\n",
    "c = Student()\n",
    "c.greeting()"
   ]
  },
  {
   "cell_type": "markdown",
   "id": "be927199",
   "metadata": {},
   "source": [
    "# 도형을 입력받아 출력하는 프로그램\n",
    "\n",
    "## 처리조건\n",
    "1. 10개의 도형을 입력받아 출력하는 프로그램을 구현한다.\n",
    "2. 도형은 사용자가 원하는 객체를 받아서 처리하도록 구현한다.\n",
    "3. 점, 원, 사각형 중 선택하여 입력받되, 10개가 넘으면 입력을 받을 수 없도록 구현한다.\n",
    "4. 주어진 입출력 형식에 맞게 프로그램을 구현할 것\n",
    "\n",
    "### 입력 및 출력방식\n",
    "입력(1.원 2.사각형 3.도형출력 4.종료)\n",
    "선택 = 1\n",
    "x = 6\n",
    "y = 9\n",
    "r = 5\n",
    "\n",
    "입력(1.원 2.사각형 3.도형출력 4.종료)\n",
    "선택 = 2\n",
    "x = 3\n",
    "y = 3\n",
    "h = 7\n",
    "w = 20\n",
    "\n",
    "입력(1.원 2.사각형 3.도형출력 4.종료)\n",
    "선택 = 3\n",
    "점(x, y) = (6, 9)\n",
    "반지름(r) = 5\n",
    "\n",
    "점(x, y) = (3, 3)\n",
    "높이(h) = 7 너비(w) = 20\n",
    "\n"
   ]
  },
  {
   "cell_type": "code",
   "execution_count": 63,
   "id": "b6beed35",
   "metadata": {
    "ExecuteTime": {
     "end_time": "2023-08-28T01:42:15.111579Z",
     "start_time": "2023-08-28T01:42:15.107538Z"
    }
   },
   "outputs": [],
   "source": [
    "# 기반 클래스\n",
    "# 평면 위 한점을 추상화하는 클래스\n",
    "class Point:\n",
    "    def __init__(self):\n",
    "        self.x = eval(input('x = '))\n",
    "        self.y = eval(input('y = '))\n",
    "        \n",
    "    #멤버메서드\n",
    "    def disp(self):\n",
    "        print(f'점(x, y) = ({self.x}, {self.y})')"
   ]
  },
  {
   "cell_type": "code",
   "execution_count": 59,
   "id": "33f2574e",
   "metadata": {
    "ExecuteTime": {
     "end_time": "2023-08-28T01:36:29.197684Z",
     "start_time": "2023-08-28T01:36:26.247384Z"
    }
   },
   "outputs": [
    {
     "name": "stdout",
     "output_type": "stream",
     "text": [
      "x = 3\n",
      "y = 4\n",
      "점(x, y) = (3, 4)\n"
     ]
    }
   ],
   "source": [
    "ap = Point()\n",
    "ap.disp()"
   ]
  },
  {
   "cell_type": "code",
   "execution_count": 68,
   "id": "05c430f4",
   "metadata": {
    "ExecuteTime": {
     "end_time": "2023-08-28T01:45:51.926673Z",
     "start_time": "2023-08-28T01:45:51.920519Z"
    }
   },
   "outputs": [],
   "source": [
    "# 파생 클래스\n",
    "# 반지름을 입력받아 원을 추상화하는 클래스\n",
    "class Circle(Point):\n",
    "    def __init__(self):\n",
    "        Point.__init__(self)\n",
    "        self.r = eval(input('r = '))\n",
    "    \n",
    "    def disp(self):\n",
    "        Point.disp(self)\n",
    "        print(f'반지름(r) = {self.r}')"
   ]
  },
  {
   "cell_type": "code",
   "execution_count": 71,
   "id": "b715c547",
   "metadata": {
    "ExecuteTime": {
     "end_time": "2023-08-28T01:46:24.454721Z",
     "start_time": "2023-08-28T01:46:24.449716Z"
    }
   },
   "outputs": [],
   "source": [
    "#파생클래스\n",
    "\n",
    "class Rect(Point):\n",
    "    def __init__(self):\n",
    "        Point.__init__(self)\n",
    "        self.h = eval(input('h = '))\n",
    "        self.w = eval(input('w = '))\n",
    "        \n",
    "    def disp(self):\n",
    "        Point.disp(self)\n",
    "        print(f'높이(h) = {self.h}, 너비(w) = {self.w}')"
   ]
  },
  {
   "cell_type": "code",
   "execution_count": 72,
   "id": "e75f5ea2",
   "metadata": {
    "ExecuteTime": {
     "end_time": "2023-08-28T01:46:27.817761Z",
     "start_time": "2023-08-28T01:46:25.054577Z"
    }
   },
   "outputs": [
    {
     "name": "stdout",
     "output_type": "stream",
     "text": [
      "x = 3\n",
      "y = 4\n",
      "h = 6\n",
      "w = 7\n",
      "점(x, y) = (3, 4)\n",
      "높이(h) = 6, 너비(w) = 7\n"
     ]
    }
   ],
   "source": [
    "ar = Rect()\n",
    "ar.disp()"
   ]
  },
  {
   "cell_type": "code",
   "execution_count": 79,
   "id": "fefe3547",
   "metadata": {
    "ExecuteTime": {
     "end_time": "2023-08-28T02:21:31.750999Z",
     "start_time": "2023-08-28T02:15:31.500930Z"
    }
   },
   "outputs": [
    {
     "name": "stdout",
     "output_type": "stream",
     "text": [
      "\n",
      "도형(1.원 2.사각형 3.도형출력 4.종료) = \n",
      "선택 = 2\n",
      "x = 3\n",
      "y = 3\n",
      "h = 3\n",
      "w = 3\n",
      "도형이 입력되었습니다.\n",
      "\n",
      "도형(1.원 2.사각형 3.도형출력 4.종료) = \n",
      "선택 = 1\n",
      "x = 1\n",
      "y = 1\n",
      "r = 1\n",
      "도형이 입력되었습니다.\n",
      "\n",
      "도형(1.원 2.사각형 3.도형출력 4.종료) = \n",
      "선택 = 2\n",
      "x = 2\n",
      "y = 2\n",
      "h = 2\n",
      "w = 2\n",
      "도형이 입력되었습니다.\n",
      "\n",
      "도형(1.원 2.사각형 3.도형출력 4.종료) = \n",
      "선택 = 3\n",
      "점(x, y) = (3, 3)\n",
      "높이(h) = 3, 너비(w) = 3\n",
      "점(x, y) = (1, 1)\n",
      "반지름(r) = 1\n",
      "점(x, y) = (2, 2)\n",
      "높이(h) = 2, 너비(w) = 2\n",
      "\n",
      "도형(1.원 2.사각형 3.도형출력 4.종료) = \n"
     ]
    },
    {
     "ename": "KeyboardInterrupt",
     "evalue": "Interrupted by user",
     "output_type": "error",
     "traceback": [
      "\u001b[1;31m---------------------------------------------------------------------------\u001b[0m",
      "\u001b[1;31mKeyboardInterrupt\u001b[0m                         Traceback (most recent call last)",
      "Cell \u001b[1;32mIn[79], line 7\u001b[0m\n\u001b[0;32m      5\u001b[0m \u001b[38;5;28;01mfor\u001b[39;00m i \u001b[38;5;129;01min\u001b[39;00m \u001b[38;5;28mrange\u001b[39m(\u001b[38;5;241m10\u001b[39m):\n\u001b[0;32m      6\u001b[0m     \u001b[38;5;28mprint\u001b[39m(\u001b[38;5;124m\"\u001b[39m\u001b[38;5;130;01m\\n\u001b[39;00m\u001b[38;5;124m도형(1.원 2.사각형 3.도형출력 4.종료) = \u001b[39m\u001b[38;5;124m\"\u001b[39m)\n\u001b[1;32m----> 7\u001b[0m     menu \u001b[38;5;241m=\u001b[39m \u001b[38;5;28mint\u001b[39m(\u001b[38;5;28minput\u001b[39m(\u001b[38;5;124m'\u001b[39m\u001b[38;5;124m선택 = \u001b[39m\u001b[38;5;124m'\u001b[39m))\n\u001b[0;32m      9\u001b[0m     \u001b[38;5;66;03m#선택에 따른 로직 구현\u001b[39;00m\n\u001b[0;32m     10\u001b[0m     \u001b[38;5;28;01mif\u001b[39;00m menu \u001b[38;5;241m==\u001b[39m \u001b[38;5;241m1\u001b[39m:\n",
      "File \u001b[1;32m~\\anaconda3\\Lib\\site-packages\\ipykernel\\kernelbase.py:1175\u001b[0m, in \u001b[0;36mKernel.raw_input\u001b[1;34m(self, prompt)\u001b[0m\n\u001b[0;32m   1171\u001b[0m \u001b[38;5;28;01mif\u001b[39;00m \u001b[38;5;129;01mnot\u001b[39;00m \u001b[38;5;28mself\u001b[39m\u001b[38;5;241m.\u001b[39m_allow_stdin:\n\u001b[0;32m   1172\u001b[0m     \u001b[38;5;28;01mraise\u001b[39;00m StdinNotImplementedError(\n\u001b[0;32m   1173\u001b[0m         \u001b[38;5;124m\"\u001b[39m\u001b[38;5;124mraw_input was called, but this frontend does not support input requests.\u001b[39m\u001b[38;5;124m\"\u001b[39m\n\u001b[0;32m   1174\u001b[0m     )\n\u001b[1;32m-> 1175\u001b[0m \u001b[38;5;28;01mreturn\u001b[39;00m \u001b[38;5;28mself\u001b[39m\u001b[38;5;241m.\u001b[39m_input_request(\n\u001b[0;32m   1176\u001b[0m     \u001b[38;5;28mstr\u001b[39m(prompt),\n\u001b[0;32m   1177\u001b[0m     \u001b[38;5;28mself\u001b[39m\u001b[38;5;241m.\u001b[39m_parent_ident[\u001b[38;5;124m\"\u001b[39m\u001b[38;5;124mshell\u001b[39m\u001b[38;5;124m\"\u001b[39m],\n\u001b[0;32m   1178\u001b[0m     \u001b[38;5;28mself\u001b[39m\u001b[38;5;241m.\u001b[39mget_parent(\u001b[38;5;124m\"\u001b[39m\u001b[38;5;124mshell\u001b[39m\u001b[38;5;124m\"\u001b[39m),\n\u001b[0;32m   1179\u001b[0m     password\u001b[38;5;241m=\u001b[39m\u001b[38;5;28;01mFalse\u001b[39;00m,\n\u001b[0;32m   1180\u001b[0m )\n",
      "File \u001b[1;32m~\\anaconda3\\Lib\\site-packages\\ipykernel\\kernelbase.py:1217\u001b[0m, in \u001b[0;36mKernel._input_request\u001b[1;34m(self, prompt, ident, parent, password)\u001b[0m\n\u001b[0;32m   1214\u001b[0m             \u001b[38;5;28;01mbreak\u001b[39;00m\n\u001b[0;32m   1215\u001b[0m \u001b[38;5;28;01mexcept\u001b[39;00m \u001b[38;5;167;01mKeyboardInterrupt\u001b[39;00m:\n\u001b[0;32m   1216\u001b[0m     \u001b[38;5;66;03m# re-raise KeyboardInterrupt, to truncate traceback\u001b[39;00m\n\u001b[1;32m-> 1217\u001b[0m     \u001b[38;5;28;01mraise\u001b[39;00m \u001b[38;5;167;01mKeyboardInterrupt\u001b[39;00m(\u001b[38;5;124m\"\u001b[39m\u001b[38;5;124mInterrupted by user\u001b[39m\u001b[38;5;124m\"\u001b[39m) \u001b[38;5;28;01mfrom\u001b[39;00m \u001b[38;5;28;01mNone\u001b[39;00m\n\u001b[0;32m   1218\u001b[0m \u001b[38;5;28;01mexcept\u001b[39;00m \u001b[38;5;167;01mException\u001b[39;00m:\n\u001b[0;32m   1219\u001b[0m     \u001b[38;5;28mself\u001b[39m\u001b[38;5;241m.\u001b[39mlog\u001b[38;5;241m.\u001b[39mwarning(\u001b[38;5;124m\"\u001b[39m\u001b[38;5;124mInvalid Message:\u001b[39m\u001b[38;5;124m\"\u001b[39m, exc_info\u001b[38;5;241m=\u001b[39m\u001b[38;5;28;01mTrue\u001b[39;00m)\n",
      "\u001b[1;31mKeyboardInterrupt\u001b[0m: Interrupted by user"
     ]
    }
   ],
   "source": [
    "# main process\n",
    "\n",
    "data = list()\n",
    "\n",
    "for i in range(10):\n",
    "    print(\"\\n도형(1.원 2.사각형 3.도형출력 4.종료) = \")\n",
    "    menu = int(input('선택 = '))\n",
    "    \n",
    "    #선택에 따른 로직 구현\n",
    "    if menu == 1:\n",
    "        c = Circle()\n",
    "        data.append(c)\n",
    "        print('도형이 입력되었습니다.')\n",
    "    elif menu == 2:\n",
    "        r = Rect()\n",
    "        data.append(r)\n",
    "        print('도형이 입력되었습니다.')\n",
    "    elif menu == 3:\n",
    "        if len(data) == 0:\n",
    "            print('입력된 도형이 존재하지 않습니다.')\n",
    "        else:\n",
    "            for a in data:\n",
    "                a.disp()\n",
    "        i -= 1\n",
    "    elif menu == 4:\n",
    "        data.clear()\n",
    "        break\n",
    "    else:\n",
    "        print('메뉴의 선택이 올바르지 않습니다.')\n",
    "        i -= 1\n",
    "        \n",
    "print('프로그램을 종료합니다.')"
   ]
  },
  {
   "cell_type": "markdown",
   "id": "ec4df617",
   "metadata": {},
   "source": [
    "## 다중상속"
   ]
  },
  {
   "cell_type": "code",
   "execution_count": 80,
   "id": "df5c6e8e",
   "metadata": {
    "ExecuteTime": {
     "end_time": "2023-08-28T02:21:33.337032Z",
     "start_time": "2023-08-28T02:21:33.333141Z"
    }
   },
   "outputs": [],
   "source": [
    "class Phone:\n",
    "    def call(self):\n",
    "        print('통화가능')\n",
    "\n",
    "class Camera:\n",
    "    def picture(self):\n",
    "        print('촬영가능')\n",
    "        \n",
    "class CameraPhone(Phone, Camera):\n",
    "    def pictureCall(self):\n",
    "        print('영상통화가능')"
   ]
  },
  {
   "cell_type": "code",
   "execution_count": 81,
   "id": "7a08dd8d",
   "metadata": {
    "ExecuteTime": {
     "end_time": "2023-08-28T02:21:34.244199Z",
     "start_time": "2023-08-28T02:21:34.240211Z"
    }
   },
   "outputs": [
    {
     "name": "stdout",
     "output_type": "stream",
     "text": [
      "객체 소멸\n",
      "영상통화가능\n",
      "촬영가능\n",
      "통화가능\n"
     ]
    }
   ],
   "source": [
    "p = CameraPhone()\n",
    "p.pictureCall()\n",
    "p.picture()\n",
    "p.call()"
   ]
  },
  {
   "cell_type": "markdown",
   "id": "f6d3040e",
   "metadata": {},
   "source": [
    "# 파이썬 언더바, 언더스코어, 밑줄 개념"
   ]
  },
  {
   "cell_type": "markdown",
   "id": "1d933b9a",
   "metadata": {
    "ExecuteTime": {
     "end_time": "2023-08-28T02:23:03.272620Z",
     "start_time": "2023-08-28T02:23:03.269751Z"
    }
   },
   "source": [
    "## 언더바(언더스코어, 밑줄)\n",
    "- 인터프리터에서의 마지막 값\n",
    "- 무시하는 값\n",
    "- 숫자 자릿수 구분\n",
    "- (앞 언더바 1개) 모듈내에서만 변수/함수를 사용할 때\n",
    "- (뒤 언더바 1개) 파이썬 변수/함수명 충돌을 피하기 위해\n",
    "- (앞 언더바 2개) 네임 맹글링\n",
    "- (앞뒤 언더바 2개씩) 매직 메서드"
   ]
  },
  {
   "cell_type": "code",
   "execution_count": 83,
   "id": "7172d4fa",
   "metadata": {
    "ExecuteTime": {
     "end_time": "2023-08-28T02:27:17.469607Z",
     "start_time": "2023-08-28T02:27:17.464795Z"
    }
   },
   "outputs": [
    {
     "data": {
      "text/plain": [
       "7"
      ]
     },
     "execution_count": 83,
     "metadata": {},
     "output_type": "execute_result"
    }
   ],
   "source": [
    "3+4"
   ]
  },
  {
   "cell_type": "code",
   "execution_count": 84,
   "id": "d3848d00",
   "metadata": {
    "ExecuteTime": {
     "end_time": "2023-08-28T02:27:22.136407Z",
     "start_time": "2023-08-28T02:27:22.130714Z"
    }
   },
   "outputs": [
    {
     "data": {
      "text/plain": [
       "10"
      ]
     },
     "execution_count": 84,
     "metadata": {},
     "output_type": "execute_result"
    }
   ],
   "source": [
    "_+3"
   ]
  },
  {
   "cell_type": "code",
   "execution_count": 86,
   "id": "bbdf6598",
   "metadata": {
    "ExecuteTime": {
     "end_time": "2023-08-28T02:29:04.311372Z",
     "start_time": "2023-08-28T02:29:04.306346Z"
    }
   },
   "outputs": [
    {
     "name": "stdout",
     "output_type": "stream",
     "text": [
      "hi\n",
      "hi\n",
      "hi\n",
      "hi\n",
      "hi\n"
     ]
    }
   ],
   "source": [
    "for _ in range(5):\n",
    "    print('hi')"
   ]
  },
  {
   "cell_type": "code",
   "execution_count": 88,
   "id": "bb361118",
   "metadata": {
    "ExecuteTime": {
     "end_time": "2023-08-28T02:31:18.617754Z",
     "start_time": "2023-08-28T02:31:18.613495Z"
    }
   },
   "outputs": [
    {
     "name": "stdout",
     "output_type": "stream",
     "text": [
      "1\n",
      "3\n"
     ]
    }
   ],
   "source": [
    "a = [1, 2, 3, 4, 5]\n",
    "aa, bb, _, dd, ee = a\n",
    "print(aa)\n",
    "print(_)"
   ]
  },
  {
   "cell_type": "code",
   "execution_count": 90,
   "id": "71a51489",
   "metadata": {
    "ExecuteTime": {
     "end_time": "2023-08-28T02:32:38.788952Z",
     "start_time": "2023-08-28T02:32:38.783996Z"
    }
   },
   "outputs": [
    {
     "name": "stdout",
     "output_type": "stream",
     "text": [
      "1\n",
      "2 3 4\n",
      "5\n"
     ]
    }
   ],
   "source": [
    "list01 = [1, 2, 3, 4, 5]\n",
    "a, *_, e = list01\n",
    "print(a)\n",
    "print(*_)\n",
    "print(e)"
   ]
  },
  {
   "cell_type": "code",
   "execution_count": 91,
   "id": "7061f61b",
   "metadata": {
    "ExecuteTime": {
     "end_time": "2023-08-28T02:34:30.079299Z",
     "start_time": "2023-08-28T02:34:30.073720Z"
    }
   },
   "outputs": [
    {
     "name": "stdout",
     "output_type": "stream",
     "text": [
      "100000\n",
      "100000\n",
      "100000\n"
     ]
    }
   ],
   "source": [
    "num1 = 100000\n",
    "num2 = 100_000\n",
    "num3 = 10_0_00_0\n",
    "print(num1)\n",
    "print(num2)\n",
    "print(num3)"
   ]
  },
  {
   "cell_type": "code",
   "execution_count": null,
   "id": "b6d0b20f",
   "metadata": {},
   "outputs": [],
   "source": []
  }
 ],
 "metadata": {
  "kernelspec": {
   "display_name": "Python 3 (ipykernel)",
   "language": "python",
   "name": "python3"
  },
  "language_info": {
   "codemirror_mode": {
    "name": "ipython",
    "version": 3
   },
   "file_extension": ".py",
   "mimetype": "text/x-python",
   "name": "python",
   "nbconvert_exporter": "python",
   "pygments_lexer": "ipython3",
   "version": "3.9.7"
  },
  "toc": {
   "base_numbering": 1,
   "nav_menu": {},
   "number_sections": true,
   "sideBar": true,
   "skip_h1_title": false,
   "title_cell": "Table of Contents",
   "title_sidebar": "Contents",
   "toc_cell": false,
   "toc_position": {
    "height": "calc(100% - 180px)",
    "left": "10px",
    "top": "150px",
    "width": "280px"
   },
   "toc_section_display": true,
   "toc_window_display": true
  }
 },
 "nbformat": 4,
 "nbformat_minor": 5
}
