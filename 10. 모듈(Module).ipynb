{
 "cells": [
  {
   "cell_type": "markdown",
   "id": "61361ea8",
   "metadata": {},
   "source": [
    "# 모듈의 정의\n",
    "1. 함수(Function) : 파일 내에서 자주 반복적으로 수행하는 기능이나 명령어를 묶어놓은 단위\n",
    "2. 모듈(Module) : 함수나 변수 또는 클래스들을 모아놓은 파이썬 파일(확장자가 py인 파일)\n",
    "  - 비슷하거나 관련된 일을 하는 함수나 상수값들을 모아서 하나의 파일에 저장하고 필요에 의해 재사용 가능\n",
    "3. 패키지(package) : 여러개의 모듈을 모아놓은 디렉토리 개념\n",
    "  - 모듈 : 파일, 패키지 : 폴더"
   ]
  },
  {
   "cell_type": "markdown",
   "id": "8d039efb",
   "metadata": {},
   "source": [
    "# 모듈을 사용하는 목적\n",
    "\n",
    "1. 코드의 재사용\n",
    "2. 프로그램을 모듈 단위로 구현하면 작업의 효율을 높일 수 있다.\n",
    "3. 별도의 이름공간(namespace)에 제공함으로써 동일한 이름의 여러 함수나 변수들이 각 모듈마다 독립적"
   ]
  },
  {
   "cell_type": "markdown",
   "id": "68234ff7",
   "metadata": {},
   "source": [
    "# 모듈의 종류\n",
    "\n",
    "1. 표준모듈 : 파이썬 언어의 패키지 안에 기본적으로 제공하는 모듈\n",
    "  ex) math, string....\n",
    "2. 사용자 정의 모듈 : 사용자에 의해 임의대로 개발된(정의된) 모듈\n",
    "3. 써드 파티 모듈 : 다른 업체나 개인이 만들어서 제공하는 모듈\n",
    "  ex) numpy, pandas, matplotlib, seaborn, scikit-learn, keras, tensorflow, openCV....\n",
    "\n"
   ]
  },
  {
   "cell_type": "markdown",
   "id": "40f0e6e1",
   "metadata": {},
   "source": [
    "# 모듈의 선언\n",
    "\n",
    "1. 모듈 전체를 참조\n",
    "  import 모듈명<br>\n",
    "  import 모듈명 as 모듈별칭<br>\n",
    "  \n",
    "2. 모듈 내에서 필요한 부분만 참조<br>\n",
    "  from 모듈명 import 변수 or 함수<br>\n",
    "  from 모듈명 import *<br>\n",
    "  from 모듈명 import 이름 as 별칭\n",
    "  \n",
    "3. 모듈 내부의 함수를 참조할 경우<br>\n",
    "  모듈명.함수명()\n",
    "  \n"
   ]
  },
  {
   "cell_type": "code",
   "execution_count": 1,
   "id": "ad912896",
   "metadata": {
    "ExecuteTime": {
     "end_time": "2023-08-28T03:01:47.615275Z",
     "start_time": "2023-08-28T03:01:47.605681Z"
    }
   },
   "outputs": [
    {
     "name": "stdout",
     "output_type": "stream",
     "text": [
      "['__doc__', '__loader__', '__name__', '__package__', '__spec__', 'acos', 'acosh', 'asin', 'asinh', 'atan', 'atan2', 'atanh', 'cbrt', 'ceil', 'comb', 'copysign', 'cos', 'cosh', 'degrees', 'dist', 'e', 'erf', 'erfc', 'exp', 'exp2', 'expm1', 'fabs', 'factorial', 'floor', 'fmod', 'frexp', 'fsum', 'gamma', 'gcd', 'hypot', 'inf', 'isclose', 'isfinite', 'isinf', 'isnan', 'isqrt', 'lcm', 'ldexp', 'lgamma', 'log', 'log10', 'log1p', 'log2', 'modf', 'nan', 'nextafter', 'perm', 'pi', 'pow', 'prod', 'radians', 'remainder', 'sin', 'sinh', 'sqrt', 'tan', 'tanh', 'tau', 'trunc', 'ulp']\n"
     ]
    }
   ],
   "source": [
    "import math\n",
    "# 모듈 내부에 포함된 변수나 함수목록 출력\n",
    "print(dir(math))"
   ]
  },
  {
   "cell_type": "code",
   "execution_count": 2,
   "id": "9a648a16",
   "metadata": {
    "ExecuteTime": {
     "end_time": "2023-08-28T03:02:53.999280Z",
     "start_time": "2023-08-28T03:02:53.995208Z"
    }
   },
   "outputs": [
    {
     "name": "stdout",
     "output_type": "stream",
     "text": [
      "3.141592653589793\n"
     ]
    }
   ],
   "source": [
    "print(math.pi)"
   ]
  },
  {
   "cell_type": "code",
   "execution_count": 4,
   "id": "d114693f",
   "metadata": {
    "ExecuteTime": {
     "end_time": "2023-08-28T03:03:26.311589Z",
     "start_time": "2023-08-28T03:03:26.307541Z"
    }
   },
   "outputs": [
    {
     "name": "stdout",
     "output_type": "stream",
     "text": [
      "32.0\n"
     ]
    }
   ],
   "source": [
    "print(math.pow(2, 5))"
   ]
  },
  {
   "cell_type": "code",
   "execution_count": 5,
   "id": "a6c933a1",
   "metadata": {
    "ExecuteTime": {
     "end_time": "2023-08-28T03:04:25.106226Z",
     "start_time": "2023-08-28T03:04:25.095355Z"
    }
   },
   "outputs": [
    {
     "name": "stdout",
     "output_type": "stream",
     "text": [
      "hello\n"
     ]
    }
   ],
   "source": [
    "import greeting_en as en\n",
    "import greeting_ko as ko\n",
    "\n",
    "print(en.welcome())"
   ]
  },
  {
   "cell_type": "code",
   "execution_count": 8,
   "id": "0c444692",
   "metadata": {
    "ExecuteTime": {
     "end_time": "2023-08-28T03:27:42.905871Z",
     "start_time": "2023-08-28T03:27:42.901262Z"
    }
   },
   "outputs": [
    {
     "name": "stdout",
     "output_type": "stream",
     "text": [
      "7\n",
      "7\n",
      "자료형이 일치하지 않습니다.\n",
      "None\n"
     ]
    }
   ],
   "source": [
    "from mod1 import *\n",
    "\n",
    "print(sum(3, 4))\n",
    "print(safe_sum(3, 4))\n",
    "print(safe_sum('a', 4))"
   ]
  },
  {
   "cell_type": "code",
   "execution_count": 9,
   "id": "cdfee5f3",
   "metadata": {
    "ExecuteTime": {
     "end_time": "2023-08-28T03:32:07.173583Z",
     "start_time": "2023-08-28T03:32:07.169574Z"
    }
   },
   "outputs": [],
   "source": [
    "from mod1 import *"
   ]
  },
  {
   "cell_type": "code",
   "execution_count": 10,
   "id": "82f5b7ac",
   "metadata": {
    "ExecuteTime": {
     "end_time": "2023-08-28T03:33:01.357953Z",
     "start_time": "2023-08-28T03:33:01.354163Z"
    }
   },
   "outputs": [
    {
     "name": "stdout",
     "output_type": "stream",
     "text": [
      "7\n",
      "7\n",
      "자료형이 일치하지 않습니다.\n",
      "None\n"
     ]
    }
   ],
   "source": [
    "print(sum(3, 4))\n",
    "print(safe_sum(3, 4))\n",
    "print(safe_sum('a', 4))"
   ]
  },
  {
   "cell_type": "code",
   "execution_count": 11,
   "id": "508247cb",
   "metadata": {
    "ExecuteTime": {
     "end_time": "2023-08-28T03:39:29.536445Z",
     "start_time": "2023-08-28T03:39:29.527587Z"
    }
   },
   "outputs": [
    {
     "name": "stdout",
     "output_type": "stream",
     "text": [
      "y.getSum(8, 9, 10) : 27\n"
     ]
    }
   ],
   "source": [
    "import x"
   ]
  },
  {
   "cell_type": "code",
   "execution_count": 12,
   "id": "750b63ec",
   "metadata": {
    "ExecuteTime": {
     "end_time": "2023-08-28T03:40:45.613532Z",
     "start_time": "2023-08-28T03:40:45.610828Z"
    }
   },
   "outputs": [],
   "source": [
    "import y"
   ]
  },
  {
   "cell_type": "code",
   "execution_count": 13,
   "id": "08b2e01f",
   "metadata": {
    "ExecuteTime": {
     "end_time": "2023-08-28T03:44:39.209987Z",
     "start_time": "2023-08-28T03:44:39.203422Z"
    }
   },
   "outputs": [
    {
     "name": "stdout",
     "output_type": "stream",
     "text": [
      "Math 모듈이 로딩되었습니다.\n"
     ]
    }
   ],
   "source": [
    "import mod2"
   ]
  },
  {
   "cell_type": "code",
   "execution_count": 15,
   "id": "e7e61266",
   "metadata": {
    "ExecuteTime": {
     "end_time": "2023-08-28T03:45:12.791606Z",
     "start_time": "2023-08-28T03:45:12.787595Z"
    }
   },
   "outputs": [
    {
     "name": "stdout",
     "output_type": "stream",
     "text": [
      "3.141592\n"
     ]
    }
   ],
   "source": [
    "print(mod2.PI)"
   ]
  },
  {
   "cell_type": "code",
   "execution_count": 16,
   "id": "018a5649",
   "metadata": {
    "ExecuteTime": {
     "end_time": "2023-08-28T05:02:57.033758Z",
     "start_time": "2023-08-28T05:02:57.030463Z"
    }
   },
   "outputs": [],
   "source": [
    "import mod1"
   ]
  },
  {
   "cell_type": "markdown",
   "id": "ade252cc",
   "metadata": {
    "ExecuteTime": {
     "end_time": "2023-08-28T05:15:24.884448Z",
     "start_time": "2023-08-28T05:15:24.878662Z"
    }
   },
   "source": [
    "## random 모듈"
   ]
  },
  {
   "cell_type": "code",
   "execution_count": 22,
   "id": "c3851342",
   "metadata": {
    "ExecuteTime": {
     "end_time": "2023-08-28T05:20:38.592358Z",
     "start_time": "2023-08-28T05:20:38.587914Z"
    }
   },
   "outputs": [
    {
     "name": "stdout",
     "output_type": "stream",
     "text": [
      "난수 :  0.5817610588534528\n"
     ]
    }
   ],
   "source": [
    "import random\n",
    "\n",
    "# random() : 0.0 ~ 1.0 사이의 실수를 리턴\n",
    "print(\"난수 : \", random.random())"
   ]
  },
  {
   "cell_type": "code",
   "execution_count": 20,
   "id": "1af1d6d3",
   "metadata": {
    "ExecuteTime": {
     "end_time": "2023-08-28T05:19:01.191642Z",
     "start_time": "2023-08-28T05:19:01.187272Z"
    }
   },
   "outputs": [
    {
     "name": "stdout",
     "output_type": "stream",
     "text": [
      "uniform(10, 20) :  17.577823887828924\n"
     ]
    }
   ],
   "source": [
    "#uniform(min, max) : min~ max 사이의 범위의 실수를 리턴\n",
    "print(\"uniform(10, 20) : \", random.uniform(10, 20))"
   ]
  },
  {
   "cell_type": "code",
   "execution_count": 21,
   "id": "6df538d3",
   "metadata": {
    "ExecuteTime": {
     "end_time": "2023-08-28T05:20:29.283486Z",
     "start_time": "2023-08-28T05:20:29.279070Z"
    }
   },
   "outputs": [
    {
     "name": "stdout",
     "output_type": "stream",
     "text": [
      "randrange(10) :  5\n"
     ]
    }
   ],
   "source": [
    "# randrange(max) : 0부터 max사이의 난수 정수 리턴\n",
    "# randrange(min, max) : min ~ max 사이의 정수 리턴\n",
    "print('randrange(10) : ', random.randrange(10))"
   ]
  },
  {
   "cell_type": "code",
   "execution_count": 23,
   "id": "94f77552",
   "metadata": {
    "ExecuteTime": {
     "end_time": "2023-08-28T05:23:12.358237Z",
     "start_time": "2023-08-28T05:23:12.354250Z"
    }
   },
   "outputs": [
    {
     "name": "stdout",
     "output_type": "stream",
     "text": [
      "choice([1, 2, 3, 4, 5]) :  5\n"
     ]
    }
   ],
   "source": [
    "# choice(list) : 리스트 내부에 있는 요소 중 랜덤하게 선택\n",
    "print('choice([1, 2, 3, 4, 5]) : ', random.choice([1,2,3,4,5]))"
   ]
  },
  {
   "cell_type": "code",
   "execution_count": 26,
   "id": "5bdf9572",
   "metadata": {
    "ExecuteTime": {
     "end_time": "2023-08-28T05:25:23.008765Z",
     "start_time": "2023-08-28T05:25:23.004535Z"
    }
   },
   "outputs": [
    {
     "name": "stdout",
     "output_type": "stream",
     "text": [
      "sample([1, 2, 3, 4, 5], k = 2) :  [5, 4]\n"
     ]
    }
   ],
   "source": [
    "# sample(list, k=갯수)\n",
    "print('sample([1, 2, 3, 4, 5], k = 2) : ', random.sample([1,2,3,4,5], k = 2))"
   ]
  },
  {
   "cell_type": "markdown",
   "id": "b6fabcf4",
   "metadata": {},
   "source": [
    "## sys(=system) 모듈"
   ]
  },
  {
   "cell_type": "code",
   "execution_count": 27,
   "id": "2068ae87",
   "metadata": {
    "ExecuteTime": {
     "end_time": "2023-08-28T05:28:32.045027Z",
     "start_time": "2023-08-28T05:28:32.039991Z"
    }
   },
   "outputs": [
    {
     "name": "stdout",
     "output_type": "stream",
     "text": [
      "['C:\\\\k_digital\\\\Python Basic\\\\source', 'C:\\\\Users\\\\NT551_11TH\\\\anaconda3\\\\python311.zip', 'C:\\\\Users\\\\NT551_11TH\\\\anaconda3\\\\DLLs', 'C:\\\\Users\\\\NT551_11TH\\\\anaconda3\\\\Lib', 'C:\\\\Users\\\\NT551_11TH\\\\anaconda3', '', 'C:\\\\Users\\\\NT551_11TH\\\\anaconda3\\\\Lib\\\\site-packages', 'C:\\\\Users\\\\NT551_11TH\\\\anaconda3\\\\Lib\\\\site-packages\\\\win32', 'C:\\\\Users\\\\NT551_11TH\\\\anaconda3\\\\Lib\\\\site-packages\\\\win32\\\\lib', 'C:\\\\Users\\\\NT551_11TH\\\\anaconda3\\\\Lib\\\\site-packages\\\\Pythonwin']\n"
     ]
    }
   ],
   "source": [
    "import sys\n",
    "\n",
    "print(sys.path)"
   ]
  },
  {
   "cell_type": "code",
   "execution_count": 28,
   "id": "ef405a96",
   "metadata": {
    "ExecuteTime": {
     "end_time": "2023-08-28T05:29:36.089089Z",
     "start_time": "2023-08-28T05:29:36.085245Z"
    }
   },
   "outputs": [
    {
     "name": "stdout",
     "output_type": "stream",
     "text": [
      "3.11.4 | packaged by Anaconda, Inc. | (main, Jul  5 2023, 13:38:37) [MSC v.1916 64 bit (AMD64)]\n"
     ]
    }
   ],
   "source": [
    "print(sys.version)"
   ]
  },
  {
   "cell_type": "markdown",
   "id": "2dae0fc9",
   "metadata": {},
   "source": [
    "## os(=operation system, 운영체제)"
   ]
  },
  {
   "cell_type": "code",
   "execution_count": 29,
   "id": "2d53ea51",
   "metadata": {
    "ExecuteTime": {
     "end_time": "2023-08-28T05:31:03.348795Z",
     "start_time": "2023-08-28T05:31:03.344620Z"
    }
   },
   "outputs": [],
   "source": [
    "import os"
   ]
  },
  {
   "cell_type": "code",
   "execution_count": 30,
   "id": "51bc01ea",
   "metadata": {
    "ExecuteTime": {
     "end_time": "2023-08-28T05:31:20.244149Z",
     "start_time": "2023-08-28T05:31:20.239167Z"
    }
   },
   "outputs": [
    {
     "name": "stdout",
     "output_type": "stream",
     "text": [
      "현재 운영체제 :  nt\n"
     ]
    }
   ],
   "source": [
    "print(\"현재 운영체제 : \", os.name)"
   ]
  },
  {
   "cell_type": "code",
   "execution_count": 31,
   "id": "3f26b5e9",
   "metadata": {
    "ExecuteTime": {
     "end_time": "2023-08-28T05:31:35.994625Z",
     "start_time": "2023-08-28T05:31:35.991464Z"
    }
   },
   "outputs": [
    {
     "name": "stdout",
     "output_type": "stream",
     "text": [
      "현재 폴더 :  C:\\k_digital\\Python Basic\\source\n"
     ]
    }
   ],
   "source": [
    "print(\"현재 폴더 : \", os.getcwd())"
   ]
  },
  {
   "cell_type": "code",
   "execution_count": 32,
   "id": "9475fe48",
   "metadata": {
    "ExecuteTime": {
     "end_time": "2023-08-28T05:31:55.568571Z",
     "start_time": "2023-08-28T05:31:55.564589Z"
    }
   },
   "outputs": [
    {
     "name": "stdout",
     "output_type": "stream",
     "text": [
      "현재폴더내부의목록 :  ['.ipynb_checkpoints', '00. 파이썬 개요 및 개발환경 설정.ipynb', '01. 파이썬 기본문법.ipynb', '01.R기본문법.ipynb', '02. 파이썬 기본 자료형.ipynb', '02.기본문법_자료형.ipynb', '03. 표준 입출력함수.ipynb', '05. 파이썬 자료구조(List, Tuple, Set, Dictionary).ipynb', '06. 제어문.ipynb', '07. 함수(Function).ipynb', '08. 함수 고급기능.ipynb', '09. 객체 지향적인 프로그래밍.ipynb', '10. 클래스와 상속.ipynb', '11. 모듈(Module).ipynb', 'greeting_en.py', 'greeting_ko.py', 'mod1.py', 'mod2.py', 'Untitled1.ipynb', 'workspace', 'x.py', 'y.py', '__pycache__', '설치 테스트.ipynb', '학적관리 프로그램.ipynb']\n"
     ]
    }
   ],
   "source": [
    "print(\"현재폴더내부의목록 : \", os.listdir())"
   ]
  },
  {
   "cell_type": "code",
   "execution_count": 33,
   "id": "1b76f6fa",
   "metadata": {
    "ExecuteTime": {
     "end_time": "2023-08-28T05:34:34.873315Z",
     "start_time": "2023-08-28T05:34:34.869197Z"
    }
   },
   "outputs": [],
   "source": [
    "os.mkdir(\"hello\")\n",
    "os.rmdir(\"hello\")"
   ]
  },
  {
   "cell_type": "code",
   "execution_count": 35,
   "id": "2cbeb189",
   "metadata": {
    "ExecuteTime": {
     "end_time": "2023-08-28T05:36:07.787892Z",
     "start_time": "2023-08-28T05:36:07.772335Z"
    }
   },
   "outputs": [
    {
     "ename": "PermissionError",
     "evalue": "[WinError 32] 다른 프로세스가 파일을 사용 중이기 때문에 프로세스가 액세스 할 수 없습니다: 'original.txt' -> 'new.txt'",
     "output_type": "error",
     "traceback": [
      "\u001b[1;31m---------------------------------------------------------------------------\u001b[0m",
      "\u001b[1;31mPermissionError\u001b[0m                           Traceback (most recent call last)",
      "Cell \u001b[1;32mIn[35], line 3\u001b[0m\n\u001b[0;32m      1\u001b[0m \u001b[38;5;28;01mwith\u001b[39;00m \u001b[38;5;28mopen\u001b[39m(\u001b[38;5;124m'\u001b[39m\u001b[38;5;124moriginal.txt\u001b[39m\u001b[38;5;124m'\u001b[39m, \u001b[38;5;124m'\u001b[39m\u001b[38;5;124mw\u001b[39m\u001b[38;5;124m'\u001b[39m) \u001b[38;5;28;01mas\u001b[39;00m file:\n\u001b[0;32m      2\u001b[0m     file\u001b[38;5;241m.\u001b[39mwrite(\u001b[38;5;124m'\u001b[39m\u001b[38;5;124mhello\u001b[39m\u001b[38;5;124m'\u001b[39m)\n\u001b[1;32m----> 3\u001b[0m     os\u001b[38;5;241m.\u001b[39mrename(\u001b[38;5;124m'\u001b[39m\u001b[38;5;124moriginal.txt\u001b[39m\u001b[38;5;124m'\u001b[39m, \u001b[38;5;124m'\u001b[39m\u001b[38;5;124mnew.txt\u001b[39m\u001b[38;5;124m'\u001b[39m)\n",
      "\u001b[1;31mPermissionError\u001b[0m: [WinError 32] 다른 프로세스가 파일을 사용 중이기 때문에 프로세스가 액세스 할 수 없습니다: 'original.txt' -> 'new.txt'"
     ]
    }
   ],
   "source": [
    "with open('original.txt', 'w') as file:\n",
    "    file.write('hello')"
   ]
  },
  {
   "cell_type": "code",
   "execution_count": 36,
   "id": "bdca4328",
   "metadata": {
    "ExecuteTime": {
     "end_time": "2023-08-28T05:39:17.943961Z",
     "start_time": "2023-08-28T05:39:17.940790Z"
    }
   },
   "outputs": [],
   "source": [
    "os.rename('original.txt','new.txt')"
   ]
  },
  {
   "cell_type": "code",
   "execution_count": 37,
   "id": "50361ab2",
   "metadata": {
    "ExecuteTime": {
     "end_time": "2023-08-28T05:39:40.011297Z",
     "start_time": "2023-08-28T05:39:40.007315Z"
    }
   },
   "outputs": [],
   "source": [
    "# 파일제거\n",
    "os.remove('new.txt')"
   ]
  },
  {
   "cell_type": "code",
   "execution_count": 38,
   "id": "f10c6b12",
   "metadata": {
    "ExecuteTime": {
     "end_time": "2023-08-28T05:41:09.970900Z",
     "start_time": "2023-08-28T05:41:09.933686Z"
    }
   },
   "outputs": [
    {
     "data": {
      "text/plain": [
       "0"
      ]
     },
     "execution_count": 38,
     "metadata": {},
     "output_type": "execute_result"
    }
   ],
   "source": [
    "os.system(\"dir\")"
   ]
  },
  {
   "cell_type": "markdown",
   "id": "05f8be2f",
   "metadata": {},
   "source": [
    "## datetime 모듈\n",
    "\n"
   ]
  },
  {
   "cell_type": "code",
   "execution_count": 44,
   "id": "ecf72b9f",
   "metadata": {
    "ExecuteTime": {
     "end_time": "2023-08-28T05:43:59.141784Z",
     "start_time": "2023-08-28T05:43:59.137779Z"
    }
   },
   "outputs": [
    {
     "name": "stdout",
     "output_type": "stream",
     "text": [
      "2023 년\n"
     ]
    }
   ],
   "source": [
    "now = datetime.datetime.now()\n",
    "print(now.year,'년')"
   ]
  },
  {
   "cell_type": "code",
   "execution_count": 41,
   "id": "17c4bee6",
   "metadata": {
    "ExecuteTime": {
     "end_time": "2023-08-28T05:43:28.034432Z",
     "start_time": "2023-08-28T05:43:28.031577Z"
    }
   },
   "outputs": [],
   "source": [
    "import datetime"
   ]
  },
  {
   "cell_type": "code",
   "execution_count": 45,
   "id": "fefaab89",
   "metadata": {
    "ExecuteTime": {
     "end_time": "2023-08-28T05:44:18.894736Z",
     "start_time": "2023-08-28T05:44:18.890748Z"
    }
   },
   "outputs": [
    {
     "name": "stdout",
     "output_type": "stream",
     "text": [
      "28 일\n"
     ]
    }
   ],
   "source": [
    "print(now.day, '일')"
   ]
  },
  {
   "cell_type": "code",
   "execution_count": 49,
   "id": "b5eb6802",
   "metadata": {
    "ExecuteTime": {
     "end_time": "2023-08-28T05:48:02.416996Z",
     "start_time": "2023-08-28T05:48:02.412930Z"
    }
   },
   "outputs": [
    {
     "name": "stdout",
     "output_type": "stream",
     "text": [
      "2023.08.28 14:43:59\n"
     ]
    }
   ],
   "source": [
    "# 서식을 이용하여 날짜와 시간을 표시\n",
    "# strftime('서식')\n",
    "out = now.strftime('%Y.%m.%d %H:%M:%S')\n",
    "print(out)"
   ]
  },
  {
   "cell_type": "code",
   "execution_count": 50,
   "id": "7a60a745",
   "metadata": {
    "ExecuteTime": {
     "end_time": "2023-08-28T05:50:25.785434Z",
     "start_time": "2023-08-28T05:50:25.782119Z"
    }
   },
   "outputs": [],
   "source": [
    "string = \"{}년 {}월 {}일 {}시 {}분 {}초\".format(now.year, \\\n",
    "                                         now.month, now.day, now.hour, now.minute, now.second)"
   ]
  },
  {
   "cell_type": "code",
   "execution_count": 51,
   "id": "b39b0a5f",
   "metadata": {
    "ExecuteTime": {
     "end_time": "2023-08-28T05:50:33.332744Z",
     "start_time": "2023-08-28T05:50:33.329448Z"
    }
   },
   "outputs": [
    {
     "name": "stdout",
     "output_type": "stream",
     "text": [
      "2023년 8월 28일 14시 43분 59초\n"
     ]
    }
   ],
   "source": [
    "print(string)"
   ]
  },
  {
   "cell_type": "markdown",
   "id": "fd06ffda",
   "metadata": {
    "ExecuteTime": {
     "end_time": "2023-08-28T05:55:51.956077Z",
     "start_time": "2023-08-28T05:55:51.941019Z"
    }
   },
   "source": [
    "- datetime 클래스의 주요 메서드\n",
    "1. weekday() : 요일 반환(0:월 ~ 6:일)\n",
    "2. strftime() : 문자열 반환\n",
    "3. date() : 날짜 정보만 가지고 있음, date 클래스로 반환\n",
    "4. time() : 시간 정보만, time 클래스로 반환"
   ]
  },
  {
   "cell_type": "markdown",
   "id": "fc63ee06",
   "metadata": {},
   "source": [
    "## time 모듈\n"
   ]
  },
  {
   "cell_type": "code",
   "execution_count": 71,
   "id": "4389936c",
   "metadata": {
    "ExecuteTime": {
     "end_time": "2023-08-28T06:24:39.418019Z",
     "start_time": "2023-08-28T06:24:39.413271Z"
    }
   },
   "outputs": [],
   "source": [
    "import time"
   ]
  },
  {
   "cell_type": "code",
   "execution_count": 72,
   "id": "fe663b33",
   "metadata": {
    "ExecuteTime": {
     "end_time": "2023-08-28T06:24:44.992011Z",
     "start_time": "2023-08-28T06:24:39.986370Z"
    }
   },
   "outputs": [
    {
     "name": "stdout",
     "output_type": "stream",
     "text": [
      "지금부터 5초간 정지합니다.\n",
      "작업을 종료합니다.\n"
     ]
    }
   ],
   "source": [
    "print('지금부터 5초간 정지합니다.')\n",
    "time.sleep(5)\n",
    "print('작업을 종료합니다.')"
   ]
  },
  {
   "cell_type": "code",
   "execution_count": 73,
   "id": "9cead24a",
   "metadata": {
    "ExecuteTime": {
     "end_time": "2023-08-28T06:24:45.005696Z",
     "start_time": "2023-08-28T06:24:44.996003Z"
    }
   },
   "outputs": [
    {
     "data": {
      "text/plain": [
       "['MAXYEAR',\n",
       " 'MINYEAR',\n",
       " 'UTC',\n",
       " '__all__',\n",
       " '__builtins__',\n",
       " '__cached__',\n",
       " '__doc__',\n",
       " '__file__',\n",
       " '__loader__',\n",
       " '__name__',\n",
       " '__package__',\n",
       " '__spec__',\n",
       " 'date',\n",
       " 'datetime',\n",
       " 'datetime_CAPI',\n",
       " 'sys',\n",
       " 'time',\n",
       " 'timedelta',\n",
       " 'timezone',\n",
       " 'tzinfo']"
      ]
     },
     "execution_count": 73,
     "metadata": {},
     "output_type": "execute_result"
    }
   ],
   "source": [
    "import datetime\n",
    "dir(datetime)"
   ]
  },
  {
   "cell_type": "code",
   "execution_count": 75,
   "id": "a5642b6e",
   "metadata": {
    "ExecuteTime": {
     "end_time": "2023-08-28T06:25:28.894391Z",
     "start_time": "2023-08-28T06:25:28.878753Z"
    }
   },
   "outputs": [
    {
     "ename": "NameError",
     "evalue": "name 'timedelta' is not defined",
     "output_type": "error",
     "traceback": [
      "\u001b[1;31m---------------------------------------------------------------------------\u001b[0m",
      "\u001b[1;31mNameError\u001b[0m                                 Traceback (most recent call last)",
      "Cell \u001b[1;32mIn[75], line 2\u001b[0m\n\u001b[0;32m      1\u001b[0m today \u001b[38;5;241m=\u001b[39m datetime\u001b[38;5;241m.\u001b[39mdate\u001b[38;5;241m.\u001b[39mtoday()\n\u001b[1;32m----> 2\u001b[0m days \u001b[38;5;241m=\u001b[39m timedelta(\u001b[38;5;241m-\u001b[39m\u001b[38;5;241m1\u001b[39m)\n\u001b[0;32m      3\u001b[0m \u001b[38;5;28mprint\u001b[39m(today\u001b[38;5;241m+\u001b[39mdays)\n",
      "\u001b[1;31mNameError\u001b[0m: name 'timedelta' is not defined"
     ]
    }
   ],
   "source": [
    "today = datetime.date.today()\n",
    "days = timedelta(days = -1)\n",
    "print(today+days)"
   ]
  },
  {
   "cell_type": "code",
   "execution_count": 76,
   "id": "fe537326",
   "metadata": {
    "ExecuteTime": {
     "end_time": "2023-08-28T06:26:23.407047Z",
     "start_time": "2023-08-28T06:26:23.390873Z"
    }
   },
   "outputs": [
    {
     "ename": "NameError",
     "evalue": "name 'timedelta' is not defined",
     "output_type": "error",
     "traceback": [
      "\u001b[1;31m---------------------------------------------------------------------------\u001b[0m",
      "\u001b[1;31mNameError\u001b[0m                                 Traceback (most recent call last)",
      "Cell \u001b[1;32mIn[76], line 1\u001b[0m\n\u001b[1;32m----> 1\u001b[0m hours \u001b[38;5;241m=\u001b[39m timedelta(hours \u001b[38;5;241m=\u001b[39m \u001b[38;5;241m-\u001b[39m\u001b[38;5;241m8\u001b[39m)\n",
      "\u001b[1;31mNameError\u001b[0m: name 'timedelta' is not defined"
     ]
    }
   ],
   "source": [
    "hours = timedelta(hours = -8)"
   ]
  },
  {
   "cell_type": "code",
   "execution_count": null,
   "id": "a1c18c82",
   "metadata": {},
   "outputs": [],
   "source": []
  }
 ],
 "metadata": {
  "kernelspec": {
   "display_name": "Python 3 (ipykernel)",
   "language": "python",
   "name": "python3"
  },
  "language_info": {
   "codemirror_mode": {
    "name": "ipython",
    "version": 3
   },
   "file_extension": ".py",
   "mimetype": "text/x-python",
   "name": "python",
   "nbconvert_exporter": "python",
   "pygments_lexer": "ipython3",
   "version": "3.9.7"
  },
  "toc": {
   "base_numbering": 1,
   "nav_menu": {},
   "number_sections": true,
   "sideBar": true,
   "skip_h1_title": false,
   "title_cell": "Table of Contents",
   "title_sidebar": "Contents",
   "toc_cell": false,
   "toc_position": {
    "height": "calc(100% - 180px)",
    "left": "10px",
    "top": "150px",
    "width": "344px"
   },
   "toc_section_display": true,
   "toc_window_display": true
  }
 },
 "nbformat": 4,
 "nbformat_minor": 5
}
