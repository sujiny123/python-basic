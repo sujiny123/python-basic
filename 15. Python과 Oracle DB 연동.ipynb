{
 "cells": [
  {
   "cell_type": "markdown",
   "id": "dc7b7190",
   "metadata": {},
   "source": [
    "# Python과 DataBase 연동\n",
    "\n",
    "1. 해당 라이브러리 : DB 접속 드라이버, cx_Oracle, python-oracledb\n",
    "  - 설치 : Anaconda prompt 창(관리자 권한 실행) pip install 설치할 모듈명\n",
    "  - 주피터 노트북안에서 설치: !pip install 설치할 모듈명\n",
    "  - Anaconda : pip install or conda install\n",
    "  - pip install oracledb -- upgrade 최근 버전(권장)\n",
    "  - pip install cx_Oracle -- upgrade\n",
    "  \n",
    "2. 접속정보 확인\n",
    "  - 사용자 계정과 비밀번호 : scott/tiger\n",
    "  - 오라클 url : localhost:1521/xe"
   ]
  },
  {
   "cell_type": "markdown",
   "id": "c1d4bede",
   "metadata": {},
   "source": [
    "# DB 연동 작업\n"
   ]
  },
  {
   "cell_type": "code",
   "execution_count": 1,
   "id": "5917f895",
   "metadata": {
    "ExecuteTime": {
     "end_time": "2023-08-29T05:58:19.978599Z",
     "start_time": "2023-08-29T05:58:17.223150Z"
    }
   },
   "outputs": [
    {
     "name": "stdout",
     "output_type": "stream",
     "text": [
      "Collecting cx_Oracle\n",
      "  Downloading cx_Oracle-8.3.0-cp39-cp39-win_amd64.whl (213 kB)\n",
      "Installing collected packages: cx-Oracle\n",
      "Successfully installed cx-Oracle-8.3.0\n"
     ]
    }
   ],
   "source": [
    "!pip install cx_Oracle --upgrade"
   ]
  },
  {
   "cell_type": "code",
   "execution_count": 6,
   "id": "f1122739",
   "metadata": {
    "ExecuteTime": {
     "end_time": "2023-09-06T01:35:29.240761Z",
     "start_time": "2023-09-06T01:35:29.231724Z"
    }
   },
   "outputs": [],
   "source": [
    "# 라이브러리(모듈) 연결\n",
    "import cx_Oracle as cx"
   ]
  },
  {
   "cell_type": "code",
   "execution_count": 7,
   "id": "973fdc7c",
   "metadata": {
    "ExecuteTime": {
     "end_time": "2023-09-06T01:35:32.655908Z",
     "start_time": "2023-09-06T01:35:32.610078Z"
    }
   },
   "outputs": [],
   "source": [
    "# db 연동 connect('사용자계정', '비밀번호', 'url')\n",
    "# url - localhost(127.0.0.1):1521 \n",
    "conn = cx.connect('scott','1234','localhost:1521/xe')"
   ]
  },
  {
   "cell_type": "markdown",
   "id": "6572efb1",
   "metadata": {},
   "source": [
    "## DB에 테이블 조회"
   ]
  },
  {
   "cell_type": "code",
   "execution_count": 4,
   "id": "c8d747a6",
   "metadata": {
    "ExecuteTime": {
     "end_time": "2023-08-29T05:58:25.635084Z",
     "start_time": "2023-08-29T05:58:25.624149Z"
    }
   },
   "outputs": [
    {
     "name": "stdout",
     "output_type": "stream",
     "text": [
      "(1, '레몬', 1500, <cx_Oracle.LOB object at 0x000001B667868840>, 'lemon.jpg')\n",
      "(2, '오렌지', 1500, <cx_Oracle.LOB object at 0x000001B6678635D0>, 'orange.jpg')\n",
      "(3, '키위', 1500, <cx_Oracle.LOB object at 0x000001B66784DF00>, 'kiwi.jpg')\n",
      "(4, '포도', 1500, <cx_Oracle.LOB object at 0x000001B667875B70>, 'grape.jpg')\n",
      "(5, '딸기', 1500, <cx_Oracle.LOB object at 0x000001B667875C30>, 'strawberry.jpg')\n"
     ]
    }
   ],
   "source": [
    "#cursor(커서) : 레코드 셋을 탐색하는 포인터\n",
    "#커서 객체 생성\n",
    "cur = conn.cursor()\n",
    "\n",
    "sql = 'select * from product'\n",
    "\n",
    "cur.execute(sql)\n",
    "\n",
    "for row in cur:\n",
    "    print(row)"
   ]
  },
  {
   "cell_type": "markdown",
   "id": "af49ec4c",
   "metadata": {},
   "source": [
    "## 전체 레코드 삭제후 테이블에 레코드 삽입하는 작업"
   ]
  },
  {
   "cell_type": "code",
   "execution_count": 5,
   "id": "1507de13",
   "metadata": {
    "ExecuteTime": {
     "end_time": "2023-08-29T05:58:26.690832Z",
     "start_time": "2023-08-29T05:58:26.681254Z"
    }
   },
   "outputs": [],
   "source": [
    "sql = 'delete from product'\n",
    "cur.execute(sql)\n",
    "conn.commit()"
   ]
  },
  {
   "cell_type": "code",
   "execution_count": 6,
   "id": "2763eaa6",
   "metadata": {
    "ExecuteTime": {
     "end_time": "2023-08-29T05:58:27.210432Z",
     "start_time": "2023-08-29T05:58:27.189883Z"
    }
   },
   "outputs": [
    {
     "name": "stdout",
     "output_type": "stream",
     "text": [
      "(1, '레몬', 1500, '맛있는 레몬', 'lemon.jpg')\n",
      "(2, '오렌지', 1500, '맛있는 오렌지', 'orange.jpg')\n",
      "(3, '키위', 1500, '맛있는 키위', 'kiwi.jpg')\n",
      "(4, '포도', 1500, '맛있는 포도', 'grape.jpg')\n",
      "(5, '딸기', 1500, '맛있는 딸기', 'strawberry.jpg')\n"
     ]
    }
   ],
   "source": [
    "#파이썬에서 DB에 레코드 삽입\n",
    "\n",
    "items = [(1, '레몬', 1500, '맛있는 레몬', 'lemon.jpg'),\n",
    "(2, '오렌지', 1500, '맛있는 오렌지', 'orange.jpg'),\n",
    "(3, '키위', 1500, '맛있는 키위', 'kiwi.jpg'),\n",
    "(4, '포도', 1500, '맛있는 포도', 'grape.jpg'),\n",
    "(5, '딸기', 1500, '맛있는 딸기', 'strawberry.jpg')]\n",
    "\n",
    "\n",
    "for row in items:\n",
    "    sql = 'insert into product values (:1, :2, :3, :4, :5)'\n",
    "    print(row)\n",
    "    cur.execute(sql, row)\n",
    "    \n",
    "\n",
    "conn.commit()"
   ]
  },
  {
   "cell_type": "code",
   "execution_count": 7,
   "id": "6f6298f7",
   "metadata": {
    "ExecuteTime": {
     "end_time": "2023-08-29T05:58:27.725811Z",
     "start_time": "2023-08-29T05:58:27.707343Z"
    }
   },
   "outputs": [
    {
     "name": "stdout",
     "output_type": "stream",
     "text": [
      "상품갯수 :  (5,)\n"
     ]
    }
   ],
   "source": [
    "sql = 'select count(*) from product'\n",
    "cur.execute(sql)\n",
    "\n",
    "count = cur.fetchone()\n",
    "print('상품갯수 : ', count)\n"
   ]
  },
  {
   "cell_type": "code",
   "execution_count": 8,
   "id": "e1a17c98",
   "metadata": {
    "ExecuteTime": {
     "end_time": "2023-08-29T05:58:28.220917Z",
     "start_time": "2023-08-29T05:58:28.191497Z"
    }
   },
   "outputs": [],
   "source": [
    "sql = 'delete from product'\n",
    "cur.execute(sql)\n",
    "conn.commit()"
   ]
  },
  {
   "cell_type": "code",
   "execution_count": 9,
   "id": "b0e22e92",
   "metadata": {
    "ExecuteTime": {
     "end_time": "2023-08-29T05:58:28.675317Z",
     "start_time": "2023-08-29T05:58:28.643495Z"
    }
   },
   "outputs": [],
   "source": [
    "items = [(1, '레몬', 1500, '맛있는 레몬', 'lemon.jpg'),\n",
    "(2, '오렌지', 1500, '맛있는 오렌지', 'orange.jpg'),\n",
    "(3, '키위', 1500, '맛있는 키위', 'kiwi.jpg'),\n",
    "(4, '포도', 1500, '맛있는 포도', 'grape.jpg'),\n",
    "(5, '딸기', 1500, '맛있는 딸기', 'strawberry.jpg')]\n",
    "\n",
    "sql = 'insert into product values(:1, :2, :3, :4, :5)'\n",
    "cur.bindarraysize = len(items)\n",
    "cur.executemany(sql, items)\n",
    "conn.commit()\n"
   ]
  },
  {
   "cell_type": "code",
   "execution_count": 10,
   "id": "224ffd74",
   "metadata": {
    "ExecuteTime": {
     "end_time": "2023-08-29T05:58:29.228264Z",
     "start_time": "2023-08-29T05:58:29.210662Z"
    }
   },
   "outputs": [],
   "source": [
    "cur.close()\n",
    "conn.close()"
   ]
  },
  {
   "cell_type": "markdown",
   "id": "a4aa6be4",
   "metadata": {},
   "source": [
    "# 회원관리 프로그램\n",
    "\n",
    "- CRUD(CREATE, SELECT, UPDATE, INSERT, DELETE) 즉, DML(조작어)\n",
    "- 테이블생성 Member(userid, userpwd, name), userid는 primary key 설정\n",
    "- 주요기능 : 회원가입(등록), 회원수정, 회원정보출력, 회원삭제 등\n",
    "\n"
   ]
  },
  {
   "cell_type": "markdown",
   "id": "182bbc3c",
   "metadata": {
    "ExecuteTime": {
     "end_time": "2023-08-29T05:08:16.044101Z",
     "start_time": "2023-08-29T05:08:06.882943Z"
    }
   },
   "source": [
    "## 레코드 수정"
   ]
  },
  {
   "cell_type": "code",
   "execution_count": 11,
   "id": "0ccc343d",
   "metadata": {
    "ExecuteTime": {
     "end_time": "2023-08-29T05:58:30.970291Z",
     "start_time": "2023-08-29T05:58:30.962396Z"
    }
   },
   "outputs": [],
   "source": [
    "def update(userid, userpass, username):\n",
    "    conn = cx.connect('scott', '1234', 'localhost:1521/xe')\n",
    "    sql = 'update member set userpass=:1 username=:2 where userid=:3'\n",
    "    \n",
    "    cur = conn.cursor()\n",
    "    cur.execute(sql, [userpass, username, userid])\n",
    "    \n",
    "    cur.close()\n",
    "    conn.commit()\n",
    "    conn.close()"
   ]
  },
  {
   "cell_type": "code",
   "execution_count": 5,
   "id": "a163508a",
   "metadata": {
    "ExecuteTime": {
     "end_time": "2023-09-06T00:16:58.025221Z",
     "start_time": "2023-09-06T00:16:58.009695Z"
    }
   },
   "outputs": [],
   "source": [
    "def id_check(userid):\n",
    "    conn = cx.connect('scott', '1234', 'localhost:1521/xe')\n",
    "    sql = 'select * from member'\n",
    "    \n",
    "    cur = conn.cursor()\n",
    "    cur.execute(sql)\n",
    "    rs = cur.fetchall()\n",
    "    \n",
    "    for row in rs:\n",
    "        if row[0] == userid:\n",
    "            return True\n",
    "    \n",
    "    return False"
   ]
  },
  {
   "cell_type": "code",
   "execution_count": null,
   "id": "d2a5d026",
   "metadata": {
    "ExecuteTime": {
     "start_time": "2023-09-06T00:16:58.686Z"
    }
   },
   "outputs": [],
   "source": [
    "# 키보드를 통해 회원정보를 변경하는 작업\n",
    "userid = input('id = ')\n",
    "if id_check(userid):\n",
    "    userpass = input('pass = ')\n",
    "    username = input('name = ')\n",
    "    update(userid, userpass, username)\n",
    "else:\n",
    "    print(f'{userid} 회원정보가 존재하지 않습니다.')"
   ]
  },
  {
   "cell_type": "markdown",
   "id": "07159d2e",
   "metadata": {},
   "source": [
    "## main processor"
   ]
  },
  {
   "cell_type": "code",
   "execution_count": 9,
   "id": "cd02331a",
   "metadata": {
    "ExecuteTime": {
     "end_time": "2023-09-06T01:36:12.997804Z",
     "start_time": "2023-09-06T01:36:06.622592Z"
    }
   },
   "outputs": [
    {
     "name": "stdout",
     "output_type": "stream",
     "text": [
      "\n",
      "== 회원관리 프로그램 ==\n",
      "1. 회원등록\n",
      "2. 회원수정\n",
      "3. 회원삭제\n",
      "4. 회원출력\n",
      "5. 작업종료\n"
     ]
    },
    {
     "ename": "KeyboardInterrupt",
     "evalue": "Interrupted by user",
     "output_type": "error",
     "traceback": [
      "\u001b[1;31m---------------------------------------------------------------------------\u001b[0m",
      "\u001b[1;31mKeyboardInterrupt\u001b[0m                         Traceback (most recent call last)",
      "\u001b[1;32mC:\\Users\\NT551_~1\\AppData\\Local\\Temp/ipykernel_11224/2465631182.py\u001b[0m in \u001b[0;36m<module>\u001b[1;34m\u001b[0m\n\u001b[0;32m      8\u001b[0m     \u001b[0mprint\u001b[0m\u001b[1;33m(\u001b[0m\u001b[1;34m'4. 회원출력'\u001b[0m\u001b[1;33m)\u001b[0m\u001b[1;33m\u001b[0m\u001b[1;33m\u001b[0m\u001b[0m\n\u001b[0;32m      9\u001b[0m     \u001b[0mprint\u001b[0m\u001b[1;33m(\u001b[0m\u001b[1;34m'5. 작업종료'\u001b[0m\u001b[1;33m)\u001b[0m\u001b[1;33m\u001b[0m\u001b[1;33m\u001b[0m\u001b[0m\n\u001b[1;32m---> 10\u001b[1;33m     \u001b[0mmenu\u001b[0m \u001b[1;33m=\u001b[0m \u001b[0mint\u001b[0m\u001b[1;33m(\u001b[0m\u001b[0minput\u001b[0m\u001b[1;33m(\u001b[0m\u001b[1;34m'메뉴 = '\u001b[0m\u001b[1;33m)\u001b[0m\u001b[1;33m)\u001b[0m\u001b[1;33m\u001b[0m\u001b[1;33m\u001b[0m\u001b[0m\n\u001b[0m\u001b[0;32m     11\u001b[0m \u001b[1;33m\u001b[0m\u001b[0m\n\u001b[0;32m     12\u001b[0m     \u001b[1;32mif\u001b[0m \u001b[0mmenu\u001b[0m \u001b[1;33m==\u001b[0m \u001b[1;36m1\u001b[0m\u001b[1;33m:\u001b[0m\u001b[1;33m\u001b[0m\u001b[1;33m\u001b[0m\u001b[0m\n",
      "\u001b[1;32m~\\anaconda3\\lib\\site-packages\\ipykernel\\kernelbase.py\u001b[0m in \u001b[0;36mraw_input\u001b[1;34m(self, prompt)\u001b[0m\n\u001b[0;32m   1004\u001b[0m                 \u001b[1;34m\"raw_input was called, but this frontend does not support input requests.\"\u001b[0m\u001b[1;33m\u001b[0m\u001b[1;33m\u001b[0m\u001b[0m\n\u001b[0;32m   1005\u001b[0m             )\n\u001b[1;32m-> 1006\u001b[1;33m         return self._input_request(\n\u001b[0m\u001b[0;32m   1007\u001b[0m             \u001b[0mstr\u001b[0m\u001b[1;33m(\u001b[0m\u001b[0mprompt\u001b[0m\u001b[1;33m)\u001b[0m\u001b[1;33m,\u001b[0m\u001b[1;33m\u001b[0m\u001b[1;33m\u001b[0m\u001b[0m\n\u001b[0;32m   1008\u001b[0m             \u001b[0mself\u001b[0m\u001b[1;33m.\u001b[0m\u001b[0m_parent_ident\u001b[0m\u001b[1;33m[\u001b[0m\u001b[1;34m\"shell\"\u001b[0m\u001b[1;33m]\u001b[0m\u001b[1;33m,\u001b[0m\u001b[1;33m\u001b[0m\u001b[1;33m\u001b[0m\u001b[0m\n",
      "\u001b[1;32m~\\anaconda3\\lib\\site-packages\\ipykernel\\kernelbase.py\u001b[0m in \u001b[0;36m_input_request\u001b[1;34m(self, prompt, ident, parent, password)\u001b[0m\n\u001b[0;32m   1049\u001b[0m             \u001b[1;32mexcept\u001b[0m \u001b[0mKeyboardInterrupt\u001b[0m\u001b[1;33m:\u001b[0m\u001b[1;33m\u001b[0m\u001b[1;33m\u001b[0m\u001b[0m\n\u001b[0;32m   1050\u001b[0m                 \u001b[1;31m# re-raise KeyboardInterrupt, to truncate traceback\u001b[0m\u001b[1;33m\u001b[0m\u001b[1;33m\u001b[0m\u001b[0m\n\u001b[1;32m-> 1051\u001b[1;33m                 \u001b[1;32mraise\u001b[0m \u001b[0mKeyboardInterrupt\u001b[0m\u001b[1;33m(\u001b[0m\u001b[1;34m\"Interrupted by user\"\u001b[0m\u001b[1;33m)\u001b[0m \u001b[1;32mfrom\u001b[0m \u001b[1;32mNone\u001b[0m\u001b[1;33m\u001b[0m\u001b[1;33m\u001b[0m\u001b[0m\n\u001b[0m\u001b[0;32m   1052\u001b[0m             \u001b[1;32mexcept\u001b[0m \u001b[0mException\u001b[0m\u001b[1;33m:\u001b[0m\u001b[1;33m\u001b[0m\u001b[1;33m\u001b[0m\u001b[0m\n\u001b[0;32m   1053\u001b[0m                 \u001b[0mself\u001b[0m\u001b[1;33m.\u001b[0m\u001b[0mlog\u001b[0m\u001b[1;33m.\u001b[0m\u001b[0mwarning\u001b[0m\u001b[1;33m(\u001b[0m\u001b[1;34m\"Invalid Message:\"\u001b[0m\u001b[1;33m,\u001b[0m \u001b[0mexc_info\u001b[0m\u001b[1;33m=\u001b[0m\u001b[1;32mTrue\u001b[0m\u001b[1;33m)\u001b[0m\u001b[1;33m\u001b[0m\u001b[1;33m\u001b[0m\u001b[0m\n",
      "\u001b[1;31mKeyboardInterrupt\u001b[0m: Interrupted by user"
     ]
    }
   ],
   "source": [
    "from dbTest import *\n",
    "\n",
    "while True:\n",
    "    print('\\n== 회원관리 프로그램 ==')\n",
    "    print('1. 회원등록')\n",
    "    print('2. 회원수정')\n",
    "    print('3. 회원삭제')\n",
    "    print('4. 회원출력')\n",
    "    print('5. 작업종료')\n",
    "    menu = int(input('메뉴 = '))\n",
    "    \n",
    "    if menu == 1:\n",
    "        userid = input('id = ')\n",
    "        userpass = input('pass = ')\n",
    "        username = input('name = ')\n",
    "        insert(userid, userpass, username)\n",
    "        \n",
    "    elif menu == 2:\n",
    "        userid = input('id = ')\n",
    "        if id_check(userid) == 0:\n",
    "            print(f'{userid} 회원정보가 존재하지 않습니다.')\n",
    "        else:\n",
    "            print('수정할 정보를 입력하세요')\n",
    "            userpass = input('pass = ')\n",
    "            username = input('name = ')\n",
    "            update(userid, userpass, username)\n",
    "            \n",
    "    elif menu == 3:\n",
    "        userid = input('id = ')\n",
    "        if id_check(userid) == 0:\n",
    "            print(f'{userid} 회원정보가 존재하지 않습니다.')\n",
    "        else:\n",
    "            delete(userid)\n",
    "    elif menu == 4:\n",
    "        listMember()\n",
    "    elif menu == 5:\n",
    "        close()\n",
    "        break\n",
    "    else:\n",
    "        print('메뉴의 선택이 올바르지 않습니다.')\n",
    "\n",
    "print('프로그램을 종료합니다.')"
   ]
  },
  {
   "cell_type": "code",
   "execution_count": 11,
   "id": "3c819486",
   "metadata": {
    "ExecuteTime": {
     "end_time": "2023-09-06T01:36:43.193266Z",
     "start_time": "2023-09-06T01:36:37.917751Z"
    }
   },
   "outputs": [
    {
     "name": "stdout",
     "output_type": "stream",
     "text": [
      "\n",
      "== 학생관리 프로그램 ==\n",
      "1. 신규 학생 등록\n",
      "2. 학생 정보 수정\n",
      "3. 학생 점수 수정\n",
      "4. 학생 정보 삭제\n",
      "5. 학생 정보 조회\n",
      "6. 전체 학생 조회\n",
      "7. 프로그램 종료\n",
      "메뉴 = 1\n",
      "이름 = a\n",
      "학번 = 1\n",
      "성별(F/M) = F\n",
      "국어 = 43\n",
      "영어 = 56\n",
      "수학 = 76\n"
     ]
    },
    {
     "ename": "DatabaseError",
     "evalue": "ORA-00913: too many values",
     "output_type": "error",
     "traceback": [
      "\u001b[1;31m---------------------------------------------------------------------------\u001b[0m",
      "\u001b[1;31mDatabaseError\u001b[0m                             Traceback (most recent call last)",
      "\u001b[1;32mC:\\Users\\NT551_~1\\AppData\\Local\\Temp/ipykernel_11224/4283936306.py\u001b[0m in \u001b[0;36m<module>\u001b[1;34m\u001b[0m\n\u001b[0;32m     26\u001b[0m         \u001b[0mmath\u001b[0m \u001b[1;33m=\u001b[0m \u001b[0minput\u001b[0m\u001b[1;33m(\u001b[0m\u001b[1;34m'수학 = '\u001b[0m\u001b[1;33m)\u001b[0m\u001b[1;33m\u001b[0m\u001b[1;33m\u001b[0m\u001b[0m\n\u001b[0;32m     27\u001b[0m         \u001b[0mtotal\u001b[0m \u001b[1;33m=\u001b[0m \u001b[0mkor\u001b[0m \u001b[1;33m+\u001b[0m \u001b[0meng\u001b[0m \u001b[1;33m+\u001b[0m \u001b[0mmath\u001b[0m\u001b[1;33m\u001b[0m\u001b[1;33m\u001b[0m\u001b[0m\n\u001b[1;32m---> 28\u001b[1;33m         \u001b[0minsert\u001b[0m\u001b[1;33m(\u001b[0m\u001b[0mname\u001b[0m\u001b[1;33m,\u001b[0m \u001b[0mnum\u001b[0m\u001b[1;33m,\u001b[0m \u001b[0mgender\u001b[0m\u001b[1;33m,\u001b[0m \u001b[0mkor\u001b[0m\u001b[1;33m,\u001b[0m \u001b[0meng\u001b[0m\u001b[1;33m,\u001b[0m \u001b[0mmath\u001b[0m\u001b[1;33m)\u001b[0m\u001b[1;33m\u001b[0m\u001b[1;33m\u001b[0m\u001b[0m\n\u001b[0m\u001b[0;32m     29\u001b[0m \u001b[1;33m\u001b[0m\u001b[0m\n\u001b[0;32m     30\u001b[0m     \u001b[1;32melif\u001b[0m \u001b[0mmenu\u001b[0m \u001b[1;33m==\u001b[0m \u001b[1;36m2\u001b[0m\u001b[1;33m:\u001b[0m\u001b[1;33m\u001b[0m\u001b[1;33m\u001b[0m\u001b[0m\n",
      "\u001b[1;32mC:\\k_digital\\Python Basic\\source\\project2.py\u001b[0m in \u001b[0;36minsert\u001b[1;34m(name, num, gender, kor, eng, math)\u001b[0m\n\u001b[0;32m     30\u001b[0m \u001b[1;32mdef\u001b[0m \u001b[0minsert\u001b[0m\u001b[1;33m(\u001b[0m\u001b[0mname\u001b[0m\u001b[1;33m,\u001b[0m \u001b[0mnum\u001b[0m\u001b[1;33m,\u001b[0m \u001b[0mgender\u001b[0m\u001b[1;33m,\u001b[0m \u001b[0mkor\u001b[0m\u001b[1;33m,\u001b[0m \u001b[0meng\u001b[0m\u001b[1;33m,\u001b[0m \u001b[0mmath\u001b[0m\u001b[1;33m)\u001b[0m\u001b[1;33m:\u001b[0m\u001b[1;33m\u001b[0m\u001b[1;33m\u001b[0m\u001b[0m\n\u001b[0;32m     31\u001b[0m     \u001b[0msql\u001b[0m \u001b[1;33m=\u001b[0m \u001b[1;34m'insert into member values(:1, :2, :3, :4, :5, :6)'\u001b[0m\u001b[1;33m\u001b[0m\u001b[1;33m\u001b[0m\u001b[0m\n\u001b[1;32m---> 32\u001b[1;33m     \u001b[0mcursor\u001b[0m\u001b[1;33m.\u001b[0m\u001b[0mexecute\u001b[0m\u001b[1;33m(\u001b[0m\u001b[0msql\u001b[0m\u001b[1;33m,\u001b[0m \u001b[1;33m[\u001b[0m\u001b[0mname\u001b[0m\u001b[1;33m,\u001b[0m \u001b[0mnum\u001b[0m\u001b[1;33m,\u001b[0m \u001b[0mgender\u001b[0m\u001b[1;33m,\u001b[0m \u001b[0mkor\u001b[0m\u001b[1;33m,\u001b[0m \u001b[0meng\u001b[0m\u001b[1;33m,\u001b[0m \u001b[0mmath\u001b[0m\u001b[1;33m]\u001b[0m\u001b[1;33m)\u001b[0m\u001b[1;33m\u001b[0m\u001b[1;33m\u001b[0m\u001b[0m\n\u001b[0m\u001b[0;32m     33\u001b[0m     \u001b[0mprint\u001b[0m\u001b[1;33m(\u001b[0m\u001b[1;34m'학생 등록이 완료되었습니다.'\u001b[0m\u001b[1;33m)\u001b[0m\u001b[1;33m\u001b[0m\u001b[1;33m\u001b[0m\u001b[0m\n\u001b[0;32m     34\u001b[0m     \u001b[0mconn\u001b[0m\u001b[1;33m.\u001b[0m\u001b[0mcommit\u001b[0m\u001b[1;33m(\u001b[0m\u001b[1;33m)\u001b[0m\u001b[1;33m\u001b[0m\u001b[1;33m\u001b[0m\u001b[0m\n",
      "\u001b[1;31mDatabaseError\u001b[0m: ORA-00913: too many values"
     ]
    }
   ],
   "source": [
    "from project2 import *\n",
    "\n",
    "while True:\n",
    "    print('\\n== 학생관리 프로그램 ==')\n",
    "    print('1. 신규 학생 등록')\n",
    "    print('2. 학생 정보 수정')\n",
    "    print('3. 학생 점수 수정')\n",
    "    print('4. 학생 정보 삭제')\n",
    "    print('5. 학생 정보 조회')\n",
    "    print('6. 전체 학생 조회')\n",
    "    print('7. 프로그램 종료')\n",
    "    menu = int(input('메뉴 = '))\n",
    "    \n",
    "    if menu == 1:\n",
    "        name = input('이름 = ')\n",
    "        num = input('학번 = ')\n",
    "        sw = True\n",
    "        while sw:\n",
    "            gender = input('성별(F/M) = ')\n",
    "            if gender != 'F' and gender != 'M':\n",
    "                sw = True\n",
    "            else:\n",
    "                sw = False\n",
    "        kor = input('국어 = ')\n",
    "        eng = input('영어 = ')\n",
    "        math = input('수학 = ')\n",
    "        total = kor + eng + math\n",
    "        insert(name, num, gender, kor, eng, math)\n",
    "        \n",
    "    elif menu == 2:\n",
    "        num = input('학번 = ')\n",
    "        if id_check(num) == 0:\n",
    "            print(f'{userid} 학생정보가 존재하지 않습니다.')\n",
    "        else:\n",
    "            print('수정할 정보를 입력하세요')\n",
    "            name = input('이름 = ')\n",
    "            num = input('학번 = ')\n",
    "            sw = True\n",
    "            while sw:\n",
    "                gender = input('성별(F/M) = ')\n",
    "                if gender != 'F' and gender != 'M':\n",
    "                    sw = True\n",
    "                else:\n",
    "                    sw = False\n",
    "            update_n(name, num, gender)\n",
    "          \n",
    "    elif menu == 3:\n",
    "        num = input('학번 = ')\n",
    "        if id_check(num) == 0:\n",
    "            print(f'{num} 학생정보가 존재하지 않습니다.')\n",
    "        else:\n",
    "            print('수정할 점수를 입력하세요')\n",
    "            kor = input('국어 = ')\n",
    "            eng = input('영어 = ')\n",
    "            math = input('수학 = ')\n",
    "            update_s(kor, eng, math)\n",
    "            \n",
    "    elif menu == 4:\n",
    "        num = input('학번 =')\n",
    "        if id_check(num) == 0:\n",
    "            print(f'{num} 학생정보가 존재하지 않습니다.')\n",
    "        else:\n",
    "            delete(num)\n",
    "        \n",
    "    elif menu == 5:\n",
    "        num = input('학번 = ')\n",
    "        if id_check(num) == 0:\n",
    "            print(f'{num} 학생정보가 존재하지 않습니다.')\n",
    "        else:\n",
    "            member(num)\n",
    "        \n",
    "    elif menu == 6:\n",
    "        listMember()\n",
    "    elif menu == 7:\n",
    "        print('프로그램을 종료합니다.')\n",
    "        close()\n",
    "        break\n",
    "    \n",
    "    else:\n",
    "        print('메뉴의 선택이 올바르지 않습니다.')\n"
   ]
  },
  {
   "cell_type": "code",
   "execution_count": null,
   "id": "7cad7811",
   "metadata": {},
   "outputs": [],
   "source": []
  }
 ],
 "metadata": {
  "kernelspec": {
   "display_name": "Python 3 (ipykernel)",
   "language": "python",
   "name": "python3"
  },
  "language_info": {
   "codemirror_mode": {
    "name": "ipython",
    "version": 3
   },
   "file_extension": ".py",
   "mimetype": "text/x-python",
   "name": "python",
   "nbconvert_exporter": "python",
   "pygments_lexer": "ipython3",
   "version": "3.9.7"
  },
  "toc": {
   "base_numbering": 1,
   "nav_menu": {},
   "number_sections": true,
   "sideBar": true,
   "skip_h1_title": false,
   "title_cell": "Table of Contents",
   "title_sidebar": "Contents",
   "toc_cell": false,
   "toc_position": {
    "height": "calc(100% - 180px)",
    "left": "10px",
    "top": "150px",
    "width": "350.587px"
   },
   "toc_section_display": true,
   "toc_window_display": true
  }
 },
 "nbformat": 4,
 "nbformat_minor": 5
}
