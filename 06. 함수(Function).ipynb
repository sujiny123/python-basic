{
 "cells": [
  {
   "cell_type": "markdown",
   "id": "4f2e9807",
   "metadata": {},
   "source": [
    "# 함수(Function)란?\n",
    "\n",
    "1. 함수의 정의\n",
    "  - 자주 반복적으로 수행하는 기능이나 명령어를 묶어서 관리하는 기능\n",
    "  - 여러개의 명령어를 묶어놓은 명령어 집합  \n",
    "\n",
    "\n",
    "2. 함수의 장점\n",
    "  - 재사용 가능\n",
    "  - 코드의 간결성\n",
    "  - 유지보수가 효율적\n",
    "\n",
    "\n",
    "3. 함수의 구조\n",
    " \n",
    "   def 함수명(입력매개변수):\n",
    "              함수의 내용정의부\n",
    "                     return 반환값 or 수식\n",
    "\n",
    "4. 함수의 종류\n",
    "  - 내장함수 : 파이썬에서 미리 만들어 놓은 함수, 각 라이브러리(패키지)마다 만들어 놓은 함수\n",
    "  - 사용자 정의 함수 : 사용자에 의해 임의로 생성한 함수"
   ]
  },
  {
   "cell_type": "markdown",
   "id": "6615f889",
   "metadata": {},
   "source": [
    "## 함수의 형태\n",
    "\n",
    "1. 입력값과 반환값이 없는 함수 => 매개변수와 return값이 없는 함수\n",
    "2. 매개변수는 있고 반환값이 없는 함수\n",
    "3. 매개변수 없고 반환값이 있는 함수\n",
    "4. 매개변수와 반환값이 있는 함수\n"
   ]
  },
  {
   "cell_type": "code",
   "execution_count": 2,
   "id": "068e025f",
   "metadata": {
    "ExecuteTime": {
     "end_time": "2023-08-23T08:25:27.689863Z",
     "start_time": "2023-08-23T08:25:27.672666Z"
    }
   },
   "outputs": [
    {
     "data": {
      "text/plain": [
       "<function __main__.show()>"
      ]
     },
     "execution_count": 2,
     "metadata": {},
     "output_type": "execute_result"
    }
   ],
   "source": [
    "# 매개변수와 반환값이 없는 함수\n",
    "## 함수정의\n",
    "def show():\n",
    "    print(\"Hello Function\")"
   ]
  },
  {
   "cell_type": "code",
   "execution_count": 3,
   "id": "44701f99",
   "metadata": {
    "ExecuteTime": {
     "end_time": "2023-08-23T08:26:27.180099Z",
     "start_time": "2023-08-23T08:26:27.169756Z"
    }
   },
   "outputs": [
    {
     "name": "stdout",
     "output_type": "stream",
     "text": [
      "Hello Function\n"
     ]
    }
   ],
   "source": [
    "# 함수호출 : Call by Name\n",
    "show()"
   ]
  },
  {
   "cell_type": "code",
   "execution_count": 4,
   "id": "6a6e2da5",
   "metadata": {
    "ExecuteTime": {
     "end_time": "2023-08-23T08:27:38.861213Z",
     "start_time": "2023-08-23T08:27:38.850422Z"
    }
   },
   "outputs": [],
   "source": [
    "# 매개변수는 없고 반환값은 있는 함수\n",
    "def aaa():\n",
    "    return 100"
   ]
  },
  {
   "cell_type": "code",
   "execution_count": 5,
   "id": "bd302820",
   "metadata": {
    "ExecuteTime": {
     "end_time": "2023-08-23T08:28:04.583017Z",
     "start_time": "2023-08-23T08:28:04.576322Z"
    }
   },
   "outputs": [
    {
     "data": {
      "text/plain": [
       "100"
      ]
     },
     "execution_count": 5,
     "metadata": {},
     "output_type": "execute_result"
    }
   ],
   "source": [
    "aaa()"
   ]
  },
  {
   "cell_type": "code",
   "execution_count": 6,
   "id": "36436992",
   "metadata": {
    "ExecuteTime": {
     "end_time": "2023-08-23T08:29:36.985053Z",
     "start_time": "2023-08-23T08:29:36.975413Z"
    }
   },
   "outputs": [],
   "source": [
    "# 매개변수는 있고 반환값은 없는 함수\n",
    "def disp(a):\n",
    "    print(\"a = \", a)"
   ]
  },
  {
   "cell_type": "code",
   "execution_count": 8,
   "id": "f6376cfc",
   "metadata": {
    "ExecuteTime": {
     "end_time": "2023-08-23T08:30:12.920482Z",
     "start_time": "2023-08-23T08:30:12.909569Z"
    }
   },
   "outputs": [
    {
     "name": "stdout",
     "output_type": "stream",
     "text": [
      "a =  30\n"
     ]
    }
   ],
   "source": [
    "# 값에 의한 호출 : Call by Value\n",
    "disp(30)"
   ]
  },
  {
   "cell_type": "code",
   "execution_count": 9,
   "id": "c334c529",
   "metadata": {
    "ExecuteTime": {
     "end_time": "2023-08-23T08:31:35.913867Z",
     "start_time": "2023-08-23T08:31:35.903279Z"
    }
   },
   "outputs": [],
   "source": [
    "# 매개변수도 있고 반환값도 있는 함수\n",
    "def add(a,b):\n",
    "    return a + b"
   ]
  },
  {
   "cell_type": "code",
   "execution_count": 10,
   "id": "75b5ab1c",
   "metadata": {
    "ExecuteTime": {
     "end_time": "2023-08-23T08:31:56.113514Z",
     "start_time": "2023-08-23T08:31:56.102744Z"
    }
   },
   "outputs": [
    {
     "data": {
      "text/plain": [
       "30"
      ]
     },
     "execution_count": 10,
     "metadata": {},
     "output_type": "execute_result"
    }
   ],
   "source": [
    "add(10, 20)"
   ]
  },
  {
   "cell_type": "markdown",
   "id": "0a5b3487",
   "metadata": {},
   "source": [
    "## 함수의 사용\n",
    "\n",
    "- 함수는 호출에 의해 동작한다.\n",
    "- 함수를 호출하는 방식 : Call by Name, Call by Value, Call by reference\n",
    "- Call by Name(이름에 의한 호출)\n",
    "- Call by Value(값에 의한 호출)\n",
    "- Call by reference(참조=주소에 의한 호출)"
   ]
  },
  {
   "cell_type": "code",
   "execution_count": 11,
   "id": "12396c8a",
   "metadata": {
    "ExecuteTime": {
     "end_time": "2023-08-23T08:33:52.028550Z",
     "start_time": "2023-08-23T08:33:52.022514Z"
    }
   },
   "outputs": [],
   "source": [
    "def say():\n",
    "    return \"hello\""
   ]
  },
  {
   "cell_type": "code",
   "execution_count": 12,
   "id": "049b7bb5",
   "metadata": {
    "ExecuteTime": {
     "end_time": "2023-08-23T08:33:56.461901Z",
     "start_time": "2023-08-23T08:33:56.457962Z"
    }
   },
   "outputs": [
    {
     "data": {
      "text/plain": [
       "'hello'"
      ]
     },
     "execution_count": 12,
     "metadata": {},
     "output_type": "execute_result"
    }
   ],
   "source": [
    "say()"
   ]
  },
  {
   "cell_type": "code",
   "execution_count": 14,
   "id": "eb5ceac7",
   "metadata": {
    "ExecuteTime": {
     "end_time": "2023-08-23T08:34:54.310381Z",
     "start_time": "2023-08-23T08:34:54.304306Z"
    }
   },
   "outputs": [
    {
     "name": "stdout",
     "output_type": "stream",
     "text": [
      "hello\n"
     ]
    }
   ],
   "source": [
    "a = say()\n",
    "print(a)"
   ]
  },
  {
   "cell_type": "code",
   "execution_count": 25,
   "id": "3d9deeb9",
   "metadata": {
    "ExecuteTime": {
     "end_time": "2023-08-23T08:46:25.137578Z",
     "start_time": "2023-08-23T08:46:25.124580Z"
    }
   },
   "outputs": [],
   "source": [
    "def add(x, y):\n",
    "    result = x + y\n",
    "    print(\"{} + {} = {}\".format(x, y, result))\n",
    "    \n",
    "def sub(x, y):\n",
    "    result = x - y\n",
    "    print(\"{} - {} = {}\".format(x, y, result))\n",
    "\n",
    "def mul(x, y):\n",
    "    result = x * y\n",
    "    print(\"{} * {} = {}\".format(x, y, result))\n",
    "    \n",
    "def div(x, y):\n",
    "    result = x / y\n",
    "    print(\"{} / {} = {}\".format(x, y, result))\n",
    "    "
   ]
  },
  {
   "cell_type": "code",
   "execution_count": 26,
   "id": "3147c8d9",
   "metadata": {
    "ExecuteTime": {
     "end_time": "2023-08-23T08:46:31.603038Z",
     "start_time": "2023-08-23T08:46:27.243820Z"
    }
   },
   "outputs": [
    {
     "name": "stdout",
     "output_type": "stream",
     "text": [
      "수1 = 4\n",
      "연산자(+,-,*,/) = /\n",
      "수2 = 2\n",
      "4 / 2 = 2.0\n"
     ]
    }
   ],
   "source": [
    "su1 = int(input('수1 = '))\n",
    "op = input('연산자(+,-,*,/) = ')\n",
    "su2 = int(input('수2 = '))\n",
    "\n",
    "if op == '+':\n",
    "    add(su1, su2)\n",
    "elif op == '-':\n",
    "    sub(su1, su2)\n",
    "elif op == '*':\n",
    "    mul(su1, su2)\n",
    "else:\n",
    "    div(su1, su2)"
   ]
  },
  {
   "cell_type": "markdown",
   "id": "397632d7",
   "metadata": {},
   "source": [
    "## 내장함수"
   ]
  },
  {
   "cell_type": "code",
   "execution_count": 22,
   "id": "f192d2b1",
   "metadata": {
    "ExecuteTime": {
     "end_time": "2023-08-23T08:45:03.662941Z",
     "start_time": "2023-08-23T08:45:03.655562Z"
    }
   },
   "outputs": [
    {
     "name": "stdout",
     "output_type": "stream",
     "text": [
      "100\n"
     ]
    }
   ],
   "source": [
    "#절대값 계산하는 함수\n",
    "print(abs(-100))"
   ]
  },
  {
   "cell_type": "code",
   "execution_count": 23,
   "id": "9b533f5a",
   "metadata": {
    "ExecuteTime": {
     "end_time": "2023-08-23T08:46:03.120055Z",
     "start_time": "2023-08-23T08:46:03.102124Z"
    }
   },
   "outputs": [],
   "source": [
    "def abss(a):\n",
    "    if a > 0:\n",
    "        return a\n",
    "    else:\n",
    "        return -a"
   ]
  },
  {
   "cell_type": "code",
   "execution_count": 24,
   "id": "ffe1c6e5",
   "metadata": {
    "ExecuteTime": {
     "end_time": "2023-08-23T08:46:11.490380Z",
     "start_time": "2023-08-23T08:46:11.477860Z"
    }
   },
   "outputs": [
    {
     "data": {
      "text/plain": [
       "100"
      ]
     },
     "execution_count": 24,
     "metadata": {},
     "output_type": "execute_result"
    }
   ],
   "source": [
    "abss(-100)"
   ]
  },
  {
   "cell_type": "code",
   "execution_count": 28,
   "id": "50649db3",
   "metadata": {
    "ExecuteTime": {
     "end_time": "2023-08-23T08:50:00.450315Z",
     "start_time": "2023-08-23T08:50:00.446228Z"
    }
   },
   "outputs": [
    {
     "name": "stdout",
     "output_type": "stream",
     "text": [
      "True\n",
      "False\n"
     ]
    }
   ],
   "source": [
    "# all(), any()\n",
    "## all : 모든 값이 True인지 검사하는 함수 (결과: 모두 참이면 참, 아니면 거짓)\n",
    "## any : 어느 것 하나라도 True인지 검사하는 함수\n",
    "## 2진수(0=False과 1=True)\n",
    "## 0이 아니면 참으로 간주\n",
    "print(all([1, 2, 3]))\n",
    "print(all([1, 2, 3, 0]))"
   ]
  },
  {
   "cell_type": "markdown",
   "id": "f898e180",
   "metadata": {},
   "source": [
    "# 제어문 복습"
   ]
  },
  {
   "cell_type": "markdown",
   "id": "e341e3b9",
   "metadata": {
    "ExecuteTime": {
     "end_time": "2023-08-24T00:10:31.223254Z",
     "start_time": "2023-08-24T00:10:31.208571Z"
    }
   },
   "source": [
    "<pre>\n",
    "\n",
    "*\n",
    "**\n",
    "***\n",
    "****\n",
    "*****\n",
    "******\n",
    "*******\n",
    "********\n",
    "\n",
    "</pre>"
   ]
  },
  {
   "cell_type": "code",
   "execution_count": 3,
   "id": "7930e7da",
   "metadata": {
    "ExecuteTime": {
     "end_time": "2023-08-24T00:05:08.474410Z",
     "start_time": "2023-08-24T00:05:08.467954Z"
    }
   },
   "outputs": [
    {
     "name": "stdout",
     "output_type": "stream",
     "text": [
      "*****"
     ]
    }
   ],
   "source": [
    "for i in range(5):\n",
    "    print('*', end = '')"
   ]
  },
  {
   "cell_type": "code",
   "execution_count": 7,
   "id": "f88ac61b",
   "metadata": {
    "ExecuteTime": {
     "end_time": "2023-08-24T00:06:23.960082Z",
     "start_time": "2023-08-24T00:06:23.947568Z"
    }
   },
   "outputs": [
    {
     "name": "stdout",
     "output_type": "stream",
     "text": [
      "*****\n",
      "*****\n",
      "*****\n",
      "*****\n",
      "*****\n"
     ]
    }
   ],
   "source": [
    "# 다중 for문 : 바깥쪽 for문이 한번수행될때마다 안쪽 for문 주어진 횟수만큼 동작\n",
    "for k in range(5): #행의수\n",
    "    for i in range(5): #별개수\n",
    "        print('*', end = '')\n",
    "    print()   "
   ]
  },
  {
   "cell_type": "code",
   "execution_count": 8,
   "id": "21d41ad4",
   "metadata": {
    "ExecuteTime": {
     "end_time": "2023-08-24T00:09:55.456822Z",
     "start_time": "2023-08-24T00:09:55.446760Z"
    }
   },
   "outputs": [
    {
     "name": "stdout",
     "output_type": "stream",
     "text": [
      "\n",
      "*\n",
      "**\n",
      "***\n",
      "****\n",
      "*****\n",
      "******\n",
      "*******\n"
     ]
    }
   ],
   "source": [
    "for k in range(8): #행의수\n",
    "    for i in range(k): #별개수\n",
    "        print('*', end = '')\n",
    "    print()   "
   ]
  },
  {
   "cell_type": "markdown",
   "id": "9edda881",
   "metadata": {
    "ExecuteTime": {
     "end_time": "2023-08-24T00:11:41.541982Z",
     "start_time": "2023-08-24T00:11:41.535995Z"
    }
   },
   "source": [
    "<pre>\n",
    "********\n",
    "*******\n",
    "******\n",
    "*****\n",
    "****\n",
    "***\n",
    "**\n",
    "*\n",
    "</pre>"
   ]
  },
  {
   "cell_type": "code",
   "execution_count": 14,
   "id": "f587dfe0",
   "metadata": {
    "ExecuteTime": {
     "end_time": "2023-08-24T00:12:57.190404Z",
     "start_time": "2023-08-24T00:12:57.178442Z"
    }
   },
   "outputs": [
    {
     "name": "stdout",
     "output_type": "stream",
     "text": [
      "********\n",
      "*******\n",
      "******\n",
      "*****\n",
      "****\n",
      "***\n",
      "**\n",
      "*\n"
     ]
    }
   ],
   "source": [
    "for k in range(8): #행의수\n",
    "    for i in range(8-k): #별개수\n",
    "        print('*', end = '')\n",
    "    print()   "
   ]
  },
  {
   "cell_type": "code",
   "execution_count": 16,
   "id": "a0ff92b8",
   "metadata": {
    "ExecuteTime": {
     "end_time": "2023-08-24T00:14:35.167472Z",
     "start_time": "2023-08-24T00:14:35.155298Z"
    }
   },
   "outputs": [
    {
     "name": "stdout",
     "output_type": "stream",
     "text": [
      "********\n",
      "*******\n",
      "******\n",
      "*****\n",
      "****\n",
      "***\n",
      "**\n",
      "*\n"
     ]
    }
   ],
   "source": [
    "for k in range(8, 0, -1): #행의수\n",
    "    for i in range(k): #별개수\n",
    "        print('*', end = '')\n",
    "    print()   "
   ]
  },
  {
   "cell_type": "markdown",
   "id": "06a85fbb",
   "metadata": {
    "ExecuteTime": {
     "end_time": "2023-08-24T00:16:08.174515Z",
     "start_time": "2023-08-24T00:16:08.160838Z"
    }
   },
   "source": [
    "<pre> \n",
    "        *\n",
    "       **\n",
    "      ***\n",
    "     ****\n",
    "    *****\n",
    "   ******\n",
    "  *******\n",
    " ********   \n",
    "</pre>"
   ]
  },
  {
   "cell_type": "code",
   "execution_count": 38,
   "id": "819993cd",
   "metadata": {
    "ExecuteTime": {
     "end_time": "2023-08-24T00:25:43.036696Z",
     "start_time": "2023-08-24T00:25:43.021239Z"
    }
   },
   "outputs": [
    {
     "name": "stdout",
     "output_type": "stream",
     "text": [
      "        *\n",
      "       **\n",
      "      ***\n",
      "     ****\n",
      "    *****\n",
      "   ******\n",
      "  *******\n",
      " ********\n"
     ]
    }
   ],
   "source": [
    "b=8\n",
    "for i in range(8):\n",
    "    for j in range(b):\n",
    "        print(' ', end = '')\n",
    "    for k in range(i+1):\n",
    "        print('*', end = '')\n",
    "    print()\n",
    "    b -= 1"
   ]
  },
  {
   "cell_type": "code",
   "execution_count": 39,
   "id": "09048c1b",
   "metadata": {
    "ExecuteTime": {
     "end_time": "2023-08-24T00:32:42.430300Z",
     "start_time": "2023-08-24T00:32:42.416920Z"
    }
   },
   "outputs": [
    {
     "name": "stdout",
     "output_type": "stream",
     "text": [
      "********\n",
      " *******\n",
      "  ******\n",
      "   *****\n",
      "    ****\n",
      "     ***\n",
      "      **\n",
      "       *\n"
     ]
    }
   ],
   "source": [
    "b=8\n",
    "for i in range(8):\n",
    "    for j in range(i):\n",
    "        print(' ', end = '')\n",
    "    for k in range(b):\n",
    "        print('*', end = '')\n",
    "    print()\n",
    "    b -= 1"
   ]
  },
  {
   "cell_type": "markdown",
   "id": "eef3f25d",
   "metadata": {},
   "source": [
    "<pre>\n",
    "     *\n",
    "    ***   \n",
    "   *****\n",
    "  *******\n",
    " *********  \n",
    "***********\n",
    "</pre>"
   ]
  },
  {
   "cell_type": "code",
   "execution_count": 44,
   "id": "2dd10550",
   "metadata": {
    "ExecuteTime": {
     "end_time": "2023-08-24T00:41:13.426346Z",
     "start_time": "2023-08-24T00:41:13.413971Z"
    }
   },
   "outputs": [
    {
     "name": "stdout",
     "output_type": "stream",
     "text": [
      "     *\n",
      "    ***\n",
      "   *****\n",
      "  *******\n",
      " *********\n",
      "***********\n"
     ]
    }
   ],
   "source": [
    "b=1\n",
    "for i in range(6):\n",
    "    for j in range(5-i):\n",
    "        print(' ', end = '')\n",
    "    for k in range(b):\n",
    "        print('*', end = '')\n",
    "    print()\n",
    "    b+=2"
   ]
  },
  {
   "cell_type": "markdown",
   "id": "a91fa3ef",
   "metadata": {},
   "source": [
    "# 파이썬 함수\n",
    "\n",
    "- 반복적인 프로그래밍을 피할 수 있다.\n",
    "- 모듈화로 인해 전체적인 코드의 가독성을 높인다.\n",
    "- 프로그램에 문제가 발생하거나 기능을 변경해야 할 때 빠른 유지보수가 가능하다."
   ]
  },
  {
   "cell_type": "code",
   "execution_count": 46,
   "id": "84d75106",
   "metadata": {
    "ExecuteTime": {
     "end_time": "2023-08-24T01:10:32.864172Z",
     "start_time": "2023-08-24T01:10:32.848934Z"
    }
   },
   "outputs": [],
   "source": [
    "# 함수의 형식\n",
    "# def 함수명(매개변수):\n",
    "#    실행문장\n",
    "#    return 반환값 또는 수식"
   ]
  },
  {
   "cell_type": "code",
   "execution_count": 48,
   "id": "69516bd7",
   "metadata": {
    "ExecuteTime": {
     "end_time": "2023-08-24T01:13:45.175173Z",
     "start_time": "2023-08-24T01:13:45.160384Z"
    }
   },
   "outputs": [],
   "source": [
    "# 프로그램의 실행순서는 main 시작 - main 끝\n",
    "# 프로그램의 실행순서는 main 시작 - sub 프로그램 호출 - main 끝\n",
    "# return 키워드의 의미 : main에게 프로그램 제어권을 돌려준다.\n",
    "# return 값 or 수식\n",
    "# return만 있을때는 생략가능"
   ]
  },
  {
   "cell_type": "code",
   "execution_count": 49,
   "id": "7793e66f",
   "metadata": {
    "ExecuteTime": {
     "end_time": "2023-08-24T01:15:34.325752Z",
     "start_time": "2023-08-24T01:15:34.308386Z"
    }
   },
   "outputs": [
    {
     "name": "stdout",
     "output_type": "stream",
     "text": [
      "안녕!\n",
      "----------\n",
      "-------------------\n",
      "뭘봐\n",
      "오늘이 목요일이라니~\n",
      "체감은 일요일이야\n",
      "-----------\n",
      "--------------------\n",
      "반복적인 문구가 보입니까?\n"
     ]
    }
   ],
   "source": [
    "print(\"안녕!\")\n",
    "print(\"----------\") # priint('-' * 10)\n",
    "print(\"-------------------\")\n",
    "print(\"뭘봐\")\n",
    "print(\"오늘이 목요일이라니~\")\n",
    "print(\"체감은 일요일이야\")\n",
    "print(\"-----------\")\n",
    "print(\"--------------------\")\n",
    "print(\"반복적인 문구가 보입니까?\")"
   ]
  },
  {
   "cell_type": "code",
   "execution_count": 56,
   "id": "6ab077d7",
   "metadata": {
    "ExecuteTime": {
     "end_time": "2023-08-24T01:20:09.156531Z",
     "start_time": "2023-08-24T01:20:09.139394Z"
    }
   },
   "outputs": [],
   "source": [
    "def line(size):\n",
    "    print('*' * size)\n",
    "    #return"
   ]
  },
  {
   "cell_type": "code",
   "execution_count": 57,
   "id": "f4afe65d",
   "metadata": {
    "ExecuteTime": {
     "end_time": "2023-08-24T01:20:09.843810Z",
     "start_time": "2023-08-24T01:20:09.830281Z"
    }
   },
   "outputs": [
    {
     "name": "stdout",
     "output_type": "stream",
     "text": [
      "안녕!\n",
      "**********\n",
      "***************\n",
      "뭘봐\n",
      "오늘이 목요일이라니~\n",
      "체감은 일요일이야\n",
      "**********\n",
      "***************\n",
      "반복적인 문구가 보입니까?\n"
     ]
    }
   ],
   "source": [
    "print(\"안녕!\")\n",
    "line(10)\n",
    "line(15)\n",
    "print(\"뭘봐\")\n",
    "print(\"오늘이 목요일이라니~\")\n",
    "print(\"체감은 일요일이야\")\n",
    "line(10)\n",
    "line(15)\n",
    "print(\"반복적인 문구가 보입니까?\")"
   ]
  },
  {
   "cell_type": "code",
   "execution_count": 63,
   "id": "3dc6d941",
   "metadata": {
    "ExecuteTime": {
     "end_time": "2023-08-24T01:22:41.173284Z",
     "start_time": "2023-08-24T01:22:41.160119Z"
    }
   },
   "outputs": [],
   "source": [
    "# 매개변수도 없고, 리턴값도 없는 경우\n",
    "def aaa():\n",
    "    print('sub 프로그램의 시작')\n",
    "    #return"
   ]
  },
  {
   "cell_type": "code",
   "execution_count": 64,
   "id": "14f52c98",
   "metadata": {
    "ExecuteTime": {
     "end_time": "2023-08-24T01:23:58.461565Z",
     "start_time": "2023-08-24T01:23:58.449685Z"
    }
   },
   "outputs": [],
   "source": [
    "# 매개변수 없고, 리턴값이 있는 경우\n",
    "def bbb():\n",
    "    return \"ok\""
   ]
  },
  {
   "cell_type": "code",
   "execution_count": 67,
   "id": "3ca887e0",
   "metadata": {
    "ExecuteTime": {
     "end_time": "2023-08-24T01:25:10.818862Z",
     "start_time": "2023-08-24T01:25:10.805872Z"
    }
   },
   "outputs": [],
   "source": [
    "# 매개변수 있고, 리턴값이 없는 경우\n",
    "def ccc(len):\n",
    "    if len >= 10:\n",
    "        print(\"길어\")\n",
    "    else:\n",
    "        print(\"짧아\")"
   ]
  },
  {
   "cell_type": "code",
   "execution_count": 74,
   "id": "c1df2641",
   "metadata": {
    "ExecuteTime": {
     "end_time": "2023-08-24T01:33:47.856134Z",
     "start_time": "2023-08-24T01:33:47.842757Z"
    }
   },
   "outputs": [],
   "source": [
    "# 매개변수도 있고, 리턴값도 있는 경우\n",
    "def adder(a, b):\n",
    "    return a+b"
   ]
  },
  {
   "cell_type": "code",
   "execution_count": 78,
   "id": "5dc6416f",
   "metadata": {
    "ExecuteTime": {
     "end_time": "2023-08-24T01:35:07.265783Z",
     "start_time": "2023-08-24T01:35:07.249113Z"
    }
   },
   "outputs": [
    {
     "name": "stdout",
     "output_type": "stream",
     "text": [
      "main 시작\n",
      "sub 프로그램의 시작\n",
      "ok\n",
      "ok\n",
      "짧아\n",
      "13\n",
      "tot =  30\n",
      "main 끝\n"
     ]
    }
   ],
   "source": [
    "print(\"main 시작\")\n",
    "\n",
    "# 호출 : 서브 프로그램과 매크로\n",
    "## Call by Name : 이름에 의한 호출 - 매개변수를 가지고 있지 않은 함수를 호출하는 행위\n",
    "aaa()\n",
    "print(bbb())\n",
    "string = bbb()\n",
    "print(string)\n",
    "# Call by Value : 값에 의한 호출 - 매개변수값을 전달해서 함수를 호출하는 행위\n",
    "ccc(7)\n",
    "print(adder(4, 9))\n",
    "tot = adder(10, 20)\n",
    "print(\"tot = \", tot)\n",
    "\n",
    "print(\"main 끝\")"
   ]
  },
  {
   "cell_type": "markdown",
   "id": "ec8f1718",
   "metadata": {},
   "source": [
    "## 다섯개의 정수를 입력받아 그 합과 평균을 계산하여 출력하는 프로그램"
   ]
  },
  {
   "cell_type": "code",
   "execution_count": 97,
   "id": "03ffdcbd",
   "metadata": {
    "ExecuteTime": {
     "end_time": "2023-08-24T01:54:10.208327Z",
     "start_time": "2023-08-24T01:54:03.650850Z"
    }
   },
   "outputs": [
    {
     "name": "stdout",
     "output_type": "stream",
     "text": [
      "수 입력 = 3 3 4\n",
      "합 =  10\n",
      "평균 =  3.3333333333333335\n"
     ]
    }
   ],
   "source": [
    "# a = int(input(\"숫자1 = \"))\n",
    "# b = int(input(\"숫자2 = \"))\n",
    "# c = int(input(\"숫자3 = \"))\n",
    "# d = int(input(\"숫자4 = \"))\n",
    "# e = int(input(\"숫자5 = \"))\n",
    "num = list(map(int, input('수 입력 = ').split()))\n",
    "\n",
    "tot = 0\n",
    "for i in num:\n",
    "    tot += i\n",
    "\n",
    "avg = tot / len(num)\n",
    "\n",
    "# tot = a+b+c+d+e\n",
    "# avg = sum/5\n",
    "\n",
    "print(\"합 = \", tot)\n",
    "print('평균 = ', avg)"
   ]
  },
  {
   "cell_type": "code",
   "execution_count": 92,
   "id": "e38912f9",
   "metadata": {
    "ExecuteTime": {
     "end_time": "2023-08-24T01:51:10.164525Z",
     "start_time": "2023-08-24T01:51:10.152686Z"
    }
   },
   "outputs": [],
   "source": [
    "def inData():\n",
    "    num = list(map(int, input('수 입력 = ').split()))\n",
    "    return num\n"
   ]
  },
  {
   "cell_type": "code",
   "execution_count": 93,
   "id": "76d22d53",
   "metadata": {
    "ExecuteTime": {
     "end_time": "2023-08-24T01:51:10.857794Z",
     "start_time": "2023-08-24T01:51:10.848124Z"
    }
   },
   "outputs": [],
   "source": [
    "def process():\n",
    "    tot = 0\n",
    "    num = inData()\n",
    "    for i in num:\n",
    "        tot += i\n",
    "\n",
    "    avg = tot / len(num)\n",
    "    return tot, avg #(tot, avg)"
   ]
  },
  {
   "cell_type": "code",
   "execution_count": 99,
   "id": "1d4d5b29",
   "metadata": {
    "ExecuteTime": {
     "end_time": "2023-08-24T01:55:46.863497Z",
     "start_time": "2023-08-24T01:55:46.849519Z"
    }
   },
   "outputs": [
    {
     "name": "stdout",
     "output_type": "stream",
     "text": [
      "main start\n"
     ]
    },
    {
     "ename": "TypeError",
     "evalue": "process() missing 1 required positional argument: 'num'",
     "output_type": "error",
     "traceback": [
      "\u001b[1;31m---------------------------------------------------------------------------\u001b[0m",
      "\u001b[1;31mTypeError\u001b[0m                                 Traceback (most recent call last)",
      "\u001b[1;32m<ipython-input-99-70497b45df25>\u001b[0m in \u001b[0;36m<module>\u001b[1;34m\u001b[0m\n\u001b[0;32m      1\u001b[0m \u001b[0mprint\u001b[0m\u001b[1;33m(\u001b[0m\u001b[1;34m\"main start\"\u001b[0m\u001b[1;33m)\u001b[0m\u001b[1;33m\u001b[0m\u001b[1;33m\u001b[0m\u001b[0m\n\u001b[0;32m      2\u001b[0m \u001b[1;33m\u001b[0m\u001b[0m\n\u001b[1;32m----> 3\u001b[1;33m \u001b[0mt\u001b[0m \u001b[1;33m=\u001b[0m \u001b[0mprocess\u001b[0m\u001b[1;33m(\u001b[0m\u001b[1;33m)\u001b[0m\u001b[1;33m\u001b[0m\u001b[1;33m\u001b[0m\u001b[0m\n\u001b[0m\u001b[0;32m      4\u001b[0m \u001b[1;33m\u001b[0m\u001b[0m\n\u001b[0;32m      5\u001b[0m \u001b[0mprint\u001b[0m\u001b[1;33m(\u001b[0m\u001b[1;34m\"합 = \"\u001b[0m\u001b[1;33m,\u001b[0m \u001b[0mt\u001b[0m\u001b[1;33m[\u001b[0m\u001b[1;36m0\u001b[0m\u001b[1;33m]\u001b[0m\u001b[1;33m)\u001b[0m\u001b[1;33m\u001b[0m\u001b[1;33m\u001b[0m\u001b[0m\n",
      "\u001b[1;31mTypeError\u001b[0m: process() missing 1 required positional argument: 'num'"
     ]
    }
   ],
   "source": [
    "print(\"main start\")\n",
    "\n",
    "t = process()\n",
    "\n",
    "print(\"합 = \", t[0])\n",
    "print(\"평균 = \", t[1])"
   ]
  },
  {
   "cell_type": "code",
   "execution_count": 98,
   "id": "3319c990",
   "metadata": {
    "ExecuteTime": {
     "end_time": "2023-08-24T01:55:40.785216Z",
     "start_time": "2023-08-24T01:55:40.773730Z"
    }
   },
   "outputs": [],
   "source": [
    "# Call by reference : 참조에 의한 호출, 매개변수의 값이 아닌 주소를 이용하여 함수 호출\n",
    "def process(num):\n",
    "    tot = 0\n",
    "    for i in num:\n",
    "        tot += i\n",
    "\n",
    "    avg = tot / len(num)\n",
    "    return tot, avg #(tot, avg)"
   ]
  },
  {
   "cell_type": "code",
   "execution_count": 100,
   "id": "0cebf4ec",
   "metadata": {
    "ExecuteTime": {
     "end_time": "2023-08-24T01:57:02.838727Z",
     "start_time": "2023-08-24T01:57:00.408107Z"
    }
   },
   "outputs": [
    {
     "name": "stdout",
     "output_type": "stream",
     "text": [
      "수 입력 = 3 4 6\n",
      "합 =  13\n",
      "평균 =  4.333333333333333\n"
     ]
    }
   ],
   "source": [
    "num = list(map(int, input('수 입력 = ').split()))\n",
    "\n",
    "t = process(num)\n",
    "\n",
    "print(\"합 = \", t[0])\n",
    "print(\"평균 = \", t[1])"
   ]
  },
  {
   "cell_type": "markdown",
   "id": "322000a8",
   "metadata": {},
   "source": [
    "## 계산기 프로그램\n",
    "\n",
    "- 두 개의 정수와 하나의 연산자를 입력받아 계산을 수행한 후 결과를 출력하는 프로그램\n",
    "- 연산자에 따른 계산식을 각각의 함수로 구현하시오.\n",
    "- adder, subtract, multiply, divide\n",
    "- 사용자가 원하는 계산을 수행할 수 있도록 구현할 것.\n",
    "- 언제든 프로그램을 종류할 수 있도록 구현할 것. 무한 Loop를 사용\n",
    "- Main Menu : [1]더하기 [2]빼기 [3]곱하기 [4]나누기 [5]종료\n"
   ]
  },
  {
   "cell_type": "code",
   "execution_count": 120,
   "id": "2e303731",
   "metadata": {
    "ExecuteTime": {
     "end_time": "2023-08-24T02:26:45.123829Z",
     "start_time": "2023-08-24T02:26:45.116844Z"
    }
   },
   "outputs": [],
   "source": [
    "def adder(a, b):\n",
    "    print(f'{a} + {b} = {a+b}')\n",
    "def subtract(a, b):\n",
    "    print(f'{a} - {b} = {a-b}')\n",
    "def multiply(a, b):\n",
    "    print(f'{a} * {b} = {a*b}')\n",
    "def divide(a, b):\n",
    "    print(f'{a} / {b} = {a/b}')"
   ]
  },
  {
   "cell_type": "code",
   "execution_count": null,
   "id": "9a80697b",
   "metadata": {
    "ExecuteTime": {
     "start_time": "2023-08-24T02:36:51.529Z"
    }
   },
   "outputs": [
    {
     "name": "stdout",
     "output_type": "stream",
     "text": [
      "Main Menu : [1]더하기 [2]빼기 [3]곱하기 [4]나누기 [5]종료\n",
      "메뉴선택 = 0\n",
      "잘못 선택하셨습니다.\n"
     ]
    }
   ],
   "source": [
    "print(\"Main Menu : [1]더하기 [2]빼기 [3]곱하기 [4]나누기 [5]종료\")\n",
    "while True:\n",
    "    q1 = eval(input(\"메뉴선택 = \"))\n",
    "\n",
    "    num = 0\n",
    "    if q1 == 1:\n",
    "        su1, su2 = list(map(int, input('두개의 수 입력 = ').split()))\n",
    "        adder(su1, su2)\n",
    "    elif q1 == 2:\n",
    "        su1, su2 = list(map(int, input('두개의 수 입력 = ').split()))\n",
    "        subtract(su1,su2)\n",
    "    elif q1 == 3:\n",
    "        su1, su2 = list(map(int, input('두개의 수 입력 = ').split()))\n",
    "        multiply(su1,su2)\n",
    "    elif q1 == 4:\n",
    "        su1, su2 = list(map(int, input('두개의 수 입력 = ').split()))\n",
    "        divide(su1, su2)\n",
    "    elif q1 == 5:\n",
    "        break\n",
    "    else:\n",
    "        print(\"잘못 선택하셨습니다.\")"
   ]
  },
  {
   "cell_type": "markdown",
   "id": "109829ad",
   "metadata": {},
   "source": [
    "## 성적처리 프로그램 3단계\n",
    "\n",
    "- 국어, 영어, 수학 점수를 입력받아 총점과 평균 그리고 학점을 계산하여 출력하는 프로그램\n",
    "- 한명 이상의 학생에 대한 정보를 받아 처리하도록 구현할 것\n",
    "- 주어진 입력 및 출력형식에 맞게 구현할 것"
   ]
  },
  {
   "cell_type": "code",
   "execution_count": 1,
   "id": "49744b24",
   "metadata": {
    "ExecuteTime": {
     "end_time": "2023-08-24T02:38:15.553714Z",
     "start_time": "2023-08-24T02:38:15.534709Z"
    }
   },
   "outputs": [
    {
     "name": "stdout",
     "output_type": "stream",
     "text": [
      "{'name': '홍길동', 'kor': 80, 'eng': 92, 'math': 77}\n"
     ]
    }
   ],
   "source": [
    "# 한명의 학생정보\n",
    "student = {'name':'홍길동', 'kor':80, 'eng':92, 'math':77}\n",
    "print(student)"
   ]
  },
  {
   "cell_type": "code",
   "execution_count": 2,
   "id": "273f20ff",
   "metadata": {
    "ExecuteTime": {
     "end_time": "2023-08-24T02:38:35.964113Z",
     "start_time": "2023-08-24T02:38:35.949770Z"
    }
   },
   "outputs": [
    {
     "data": {
      "text/plain": [
       "'홍길동'"
      ]
     },
     "execution_count": 2,
     "metadata": {},
     "output_type": "execute_result"
    }
   ],
   "source": [
    "#사전은 키를 이용하여 값을 추출\n",
    "student['name']"
   ]
  },
  {
   "cell_type": "code",
   "execution_count": 4,
   "id": "efb2cecb",
   "metadata": {
    "ExecuteTime": {
     "end_time": "2023-08-24T02:39:07.116919Z",
     "start_time": "2023-08-24T02:39:07.104918Z"
    }
   },
   "outputs": [
    {
     "data": {
      "text/plain": [
       "'홍길동'"
      ]
     },
     "execution_count": 4,
     "metadata": {},
     "output_type": "execute_result"
    }
   ],
   "source": [
    "student.get('name')"
   ]
  },
  {
   "cell_type": "code",
   "execution_count": 5,
   "id": "9033ef51",
   "metadata": {
    "ExecuteTime": {
     "end_time": "2023-08-24T02:39:19.794515Z",
     "start_time": "2023-08-24T02:39:19.781488Z"
    }
   },
   "outputs": [],
   "source": [
    "student['name'] = '장보고'"
   ]
  },
  {
   "cell_type": "code",
   "execution_count": 6,
   "id": "0cf42521",
   "metadata": {
    "ExecuteTime": {
     "end_time": "2023-08-24T02:40:15.286109Z",
     "start_time": "2023-08-24T02:40:15.269691Z"
    }
   },
   "outputs": [],
   "source": [
    "student['tot'] = student['kor'] + student['eng'] + student['math']"
   ]
  },
  {
   "cell_type": "code",
   "execution_count": 8,
   "id": "831cfd38",
   "metadata": {
    "ExecuteTime": {
     "end_time": "2023-08-24T02:43:46.304933Z",
     "start_time": "2023-08-24T02:43:37.450935Z"
    }
   },
   "outputs": [
    {
     "name": "stdout",
     "output_type": "stream",
     "text": [
      "이름 = 김수진\n",
      "국어 = 30\n",
      "영어 = 49\n",
      "수학 = 29\n",
      "{'name': '김수진', 'kor': 30, 'eng': 49, 'math': 29}\n"
     ]
    }
   ],
   "source": [
    "name = input('이름 = ')\n",
    "kor = int(input('국어 = '))\n",
    "eng = int(input('영어 = '))\n",
    "math = int(input('수학 = '))\n",
    "\n",
    "stu = dict() #빈사전생성\n",
    "stu['name'] = name\n",
    "stu['kor'] = kor\n",
    "stu['eng'] = eng\n",
    "stu['math'] = math\n",
    "\n",
    "print(stu)"
   ]
  },
  {
   "cell_type": "code",
   "execution_count": 9,
   "id": "756228f4",
   "metadata": {
    "ExecuteTime": {
     "end_time": "2023-08-24T02:48:07.927872Z",
     "start_time": "2023-08-24T02:47:47.237539Z"
    }
   },
   "outputs": [
    {
     "name": "stdout",
     "output_type": "stream",
     "text": [
      "이름 = aaa\n",
      "국어 = 100\n",
      "영어 = 100\n",
      "수학 = 100\n",
      "이름 = bbb\n",
      "국어 = 30\n",
      "영어 = 40\n",
      "수학 = 50\n",
      "이름 = ccc\n",
      "국어 = 30\n",
      "영어 = 40\n",
      "수학 = 50\n",
      "{'name': 'aaa', 'kor': 100, 'eng': 100, 'math': 100}\n",
      "{'name': 'bbb', 'kor': 30, 'eng': 40, 'math': 50}\n",
      "{'name': 'ccc', 'kor': 30, 'eng': 40, 'math': 50}\n"
     ]
    }
   ],
   "source": [
    "#여러명의 학생의 정보를 담을 리스트 객체 생성\n",
    "students = []\n",
    "\n",
    "for i in range(3):\n",
    "    name = input('이름 = ')\n",
    "    kor = int(input('국어 = '))\n",
    "    eng = int(input('영어 = '))\n",
    "    math = int(input('수학 = '))\n",
    "\n",
    "    stu = dict() #빈사전생성\n",
    "    stu['name'] = name\n",
    "    stu['kor'] = kor\n",
    "    stu['eng'] = eng\n",
    "    stu['math'] = math\n",
    "    \n",
    "    students.append(stu)\n",
    "\n",
    "for i in students:\n",
    "    print(i)"
   ]
  },
  {
   "cell_type": "code",
   "execution_count": 7,
   "id": "219f22f0",
   "metadata": {
    "ExecuteTime": {
     "end_time": "2023-08-31T01:59:42.457677Z",
     "start_time": "2023-08-31T01:59:42.441474Z"
    }
   },
   "outputs": [],
   "source": [
    "def menu():\n",
    "    print(\"== 성적처리 프로그램 ==\")\n",
    "    print(\"1. 학생등록\")\n",
    "    print(\"2. 전체성적조회\")\n",
    "    print(\"3. 학생성적조회\") #특정학생 - 이름\n",
    "    print(\"4. 학생정보삭제\")\n",
    "    print(\"5. 프로그램종료\")"
   ]
  },
  {
   "cell_type": "code",
   "execution_count": 16,
   "id": "20bcbd0c",
   "metadata": {
    "ExecuteTime": {
     "end_time": "2023-08-24T03:00:54.371925Z",
     "start_time": "2023-08-24T03:00:54.365865Z"
    }
   },
   "outputs": [],
   "source": [
    "# 변수 범위(scope, 영역) : 전역변수, 지역변수\n",
    "\n",
    "a = 100 #전역변수"
   ]
  },
  {
   "cell_type": "code",
   "execution_count": 17,
   "id": "6e3deb51",
   "metadata": {
    "ExecuteTime": {
     "end_time": "2023-08-24T03:00:55.039544Z",
     "start_time": "2023-08-24T03:00:55.036513Z"
    }
   },
   "outputs": [],
   "source": [
    "def check():\n",
    "    a = 10 #지역변수\n",
    "    print(\"a = \", a)"
   ]
  },
  {
   "cell_type": "code",
   "execution_count": 18,
   "id": "df56d2b5",
   "metadata": {
    "ExecuteTime": {
     "end_time": "2023-08-24T03:00:55.718535Z",
     "start_time": "2023-08-24T03:00:55.709498Z"
    }
   },
   "outputs": [
    {
     "name": "stdout",
     "output_type": "stream",
     "text": [
      "a =  100\n"
     ]
    }
   ],
   "source": [
    "print(\"a = \", a)\n"
   ]
  },
  {
   "cell_type": "code",
   "execution_count": 19,
   "id": "88ea45cf",
   "metadata": {
    "ExecuteTime": {
     "end_time": "2023-08-24T03:00:57.867204Z",
     "start_time": "2023-08-24T03:00:57.856562Z"
    }
   },
   "outputs": [
    {
     "name": "stdout",
     "output_type": "stream",
     "text": [
      "a =  10\n"
     ]
    }
   ],
   "source": [
    "check()\n"
   ]
  },
  {
   "cell_type": "code",
   "execution_count": 20,
   "id": "a6c230b0",
   "metadata": {
    "ExecuteTime": {
     "end_time": "2023-08-24T03:00:59.046584Z",
     "start_time": "2023-08-24T03:00:59.042244Z"
    }
   },
   "outputs": [
    {
     "name": "stdout",
     "output_type": "stream",
     "text": [
      "a =  100\n"
     ]
    }
   ],
   "source": [
    "print(\"a = \", a)"
   ]
  },
  {
   "cell_type": "code",
   "execution_count": 22,
   "id": "f85998b9",
   "metadata": {
    "ExecuteTime": {
     "end_time": "2023-08-24T03:18:24.304762Z",
     "start_time": "2023-08-24T03:18:24.296826Z"
    }
   },
   "outputs": [],
   "source": [
    "def makeStudent():\n",
    "    stu = dict()\n",
    "   \n",
    "    stu['name'] = input('이름 = ')\n",
    "    stu['kor'] = int(input('국어 = '))\n",
    "    stu['eng'] = int(input('영어 = '))\n",
    "    stu['math'] = int(input('수학 = '))\n",
    "    \n",
    "    # 총점과 평균 학점을 처리하는 로직\n",
    "    stu['tot'] = stu['kor'] + stu['eng'] + stu['math']\n",
    "    stu['avg'] = stu['tot']/3\n",
    "    if stu['avg'] >= 90:\n",
    "        stu['grade'] = 'A'\n",
    "    elif stu['avg'] >= 80:\n",
    "        stu['grade'] = 'B'\n",
    "    elif stu['avg'] >= 70:\n",
    "        stu['grade'] = 'C'\n",
    "    elif stu['avg'] >= 60:\n",
    "        stu['grade'] = 'D'\n",
    "    else:\n",
    "        stu['grade'] = 'F'\n",
    "        \n",
    "    return stu"
   ]
  },
  {
   "cell_type": "code",
   "execution_count": 36,
   "id": "f939acd2",
   "metadata": {
    "ExecuteTime": {
     "end_time": "2023-08-24T03:47:05.798207Z",
     "start_time": "2023-08-24T03:47:05.791006Z"
    }
   },
   "outputs": [
    {
     "ename": "IndentationError",
     "evalue": "expected an indented block (<ipython-input-36-644ca8ba48a3>, line 4)",
     "output_type": "error",
     "traceback": [
      "\u001b[1;36m  File \u001b[1;32m\"<ipython-input-36-644ca8ba48a3>\"\u001b[1;36m, line \u001b[1;32m4\u001b[0m\n\u001b[1;33m    if students[i]['name'] == name:\u001b[0m\n\u001b[1;37m    ^\u001b[0m\n\u001b[1;31mIndentationError\u001b[0m\u001b[1;31m:\u001b[0m expected an indented block\n"
     ]
    }
   ],
   "source": [
    "def search(name):\n",
    "    sw = False\n",
    "    for i in range():\n",
    "    if students[i]['name'] == name:\n",
    "        sw = True\n",
    "        break\n",
    "if sw == True:\n",
    "    print(students[i])\n",
    "else:\n",
    "    print(\"해당학생이 존재하지 않습니다.\")"
   ]
  },
  {
   "cell_type": "code",
   "execution_count": null,
   "id": "85a22c90",
   "metadata": {
    "ExecuteTime": {
     "start_time": "2023-08-31T02:19:38.334Z"
    }
   },
   "outputs": [],
   "source": [
    "students = [] # 학생 정보 저장하는 리스트 - 전역변수\n",
    "\n",
    "while True:\n",
    "    print()\n",
    "    menu()\n",
    "    ch = int(input('메뉴선택 = '))\n",
    "    \n",
    "    if ch == 1:\n",
    "        stu = makeStudent()\n",
    "        students.append(stu)\n",
    "    elif ch == 2:\n",
    "        for i in students:\n",
    "            print(i)\n",
    "    elif ch == 3:\n",
    "        print(\"조회할 학생 이름을 입력하세요\")\n",
    "        name = input('이름 = ')\n",
    "        search(name)\n",
    "    elif ch == 4:\n",
    "        pass\n",
    "    elif ch == 5:\n",
    "        print(\"프로그램을 종료합니다.\")\n",
    "        break\n",
    "    else:\n",
    "        print(\"메뉴의 선택이 올바르지 않습니다.\")\n",
    "        \n",
    "    "
   ]
  },
  {
   "cell_type": "code",
   "execution_count": 2,
   "id": "39748b98",
   "metadata": {
    "ExecuteTime": {
     "end_time": "2023-08-31T01:12:55.845433Z",
     "start_time": "2023-08-31T01:12:55.829176Z"
    }
   },
   "outputs": [
    {
     "name": "stdout",
     "output_type": "stream",
     "text": [
      "[{'id': 111, 'name': 'aaa'}, {'id': 222, 'name': 'bbb'}, {'id': 333, 'name': 'ccc'}]\n"
     ]
    }
   ],
   "source": [
    "a = {'id':111, 'name':'aaa'}\n",
    "b = {'id':222, 'name':'bbb'}\n",
    "c = {'id':333, 'name':'ccc'}\n",
    "\n",
    "imsi = list()\n",
    "imsi.append(a)\n",
    "imsi.append(b)\n",
    "imsi.append(c)\n",
    "\n",
    "print(imsi)"
   ]
  },
  {
   "cell_type": "code",
   "execution_count": 3,
   "id": "8e7500a7",
   "metadata": {
    "ExecuteTime": {
     "end_time": "2023-08-31T01:12:56.413924Z",
     "start_time": "2023-08-31T01:12:56.401030Z"
    }
   },
   "outputs": [
    {
     "data": {
      "text/plain": [
       "111"
      ]
     },
     "execution_count": 3,
     "metadata": {},
     "output_type": "execute_result"
    }
   ],
   "source": [
    "imsi[0]['id']"
   ]
  },
  {
   "cell_type": "code",
   "execution_count": 5,
   "id": "4061304b",
   "metadata": {
    "ExecuteTime": {
     "end_time": "2023-08-31T01:40:08.066306Z",
     "start_time": "2023-08-31T01:40:05.118594Z"
    }
   },
   "outputs": [
    {
     "name": "stdout",
     "output_type": "stream",
     "text": [
      "이름 = abc\n",
      "해당학생이 존재하지 않습니다.\n"
     ]
    }
   ],
   "source": [
    "name = input('이름 = ')\n",
    "#스위칭변수(switch == toggle)\n",
    "sw = False\n",
    "for i in range(3):\n",
    "    if imsi[i]['name'] == name:\n",
    "        sw = True\n",
    "        break\n",
    "if sw == True:\n",
    "    print(imsi[i])\n",
    "else:\n",
    "    print(\"해당학생이 존재하지 않습니다.\")\n",
    "    "
   ]
  },
  {
   "cell_type": "code",
   "execution_count": null,
   "id": "93068a4f",
   "metadata": {},
   "outputs": [],
   "source": []
  }
 ],
 "metadata": {
  "kernelspec": {
   "display_name": "Python 3 (ipykernel)",
   "language": "python",
   "name": "python3"
  },
  "language_info": {
   "codemirror_mode": {
    "name": "ipython",
    "version": 3
   },
   "file_extension": ".py",
   "mimetype": "text/x-python",
   "name": "python",
   "nbconvert_exporter": "python",
   "pygments_lexer": "ipython3",
   "version": "3.9.7"
  },
  "toc": {
   "base_numbering": 1,
   "nav_menu": {},
   "number_sections": true,
   "sideBar": true,
   "skip_h1_title": false,
   "title_cell": "Table of Contents",
   "title_sidebar": "Contents",
   "toc_cell": false,
   "toc_position": {
    "height": "calc(100% - 180px)",
    "left": "10px",
    "top": "150px",
    "width": "384px"
   },
   "toc_section_display": true,
   "toc_window_display": true
  }
 },
 "nbformat": 4,
 "nbformat_minor": 5
}
