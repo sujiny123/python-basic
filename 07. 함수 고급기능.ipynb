{
 "cells": [
  {
   "cell_type": "markdown",
   "id": "a6773a62",
   "metadata": {},
   "source": [
    "# 함수의 종류\n",
    "\n",
    "- 내장 함수\n",
    "- 사용자 정의 함수"
   ]
  },
  {
   "cell_type": "markdown",
   "id": "5c53443d",
   "metadata": {},
   "source": [
    "## 내장함수\n",
    "\n",
    "- https://docs.python.org/ko/3/library/functions.html"
   ]
  },
  {
   "cell_type": "code",
   "execution_count": 5,
   "id": "4f64634e",
   "metadata": {
    "ExecuteTime": {
     "end_time": "2023-08-24T07:13:27.754360Z",
     "start_time": "2023-08-24T07:13:27.747209Z"
    }
   },
   "outputs": [],
   "source": [
    "# 메모리 주소 확인 id()\n",
    "# 매직명령어 : %who\n",
    "# 객체의 멤버(변수나 함수, 메소드)\n",
    "# dir()"
   ]
  },
  {
   "cell_type": "code",
   "execution_count": 6,
   "id": "b0a0c1c3",
   "metadata": {
    "ExecuteTime": {
     "end_time": "2023-08-24T07:13:51.303800Z",
     "start_time": "2023-08-24T07:13:51.289343Z"
    }
   },
   "outputs": [
    {
     "name": "stdout",
     "output_type": "stream",
     "text": [
      "['__class__', '__contains__', '__delattr__', '__delitem__', '__dir__', '__doc__', '__eq__', '__format__', '__ge__', '__getattribute__', '__getitem__', '__gt__', '__hash__', '__init__', '__init_subclass__', '__iter__', '__le__', '__len__', '__lt__', '__ne__', '__new__', '__reduce__', '__reduce_ex__', '__repr__', '__reversed__', '__setattr__', '__setitem__', '__sizeof__', '__str__', '__subclasshook__', 'clear', 'copy', 'fromkeys', 'get', 'items', 'keys', 'pop', 'popitem', 'setdefault', 'update', 'values']\n"
     ]
    }
   ],
   "source": [
    "print(dir({'name':'장보고'}))"
   ]
  },
  {
   "cell_type": "code",
   "execution_count": 10,
   "id": "879d1960",
   "metadata": {
    "ExecuteTime": {
     "end_time": "2023-08-24T07:15:52.692602Z",
     "start_time": "2023-08-24T07:15:52.686584Z"
    }
   },
   "outputs": [
    {
     "name": "stdout",
     "output_type": "stream",
     "text": [
      "2.3333333333333335\n",
      "2\n"
     ]
    }
   ],
   "source": [
    "#몫과 나머지 연산\n",
    "a = 7\n",
    "b = 3\n",
    "\n",
    "c = a / b\n",
    "d = a // b\n",
    "print(c)\n",
    "print(d)"
   ]
  },
  {
   "cell_type": "code",
   "execution_count": 12,
   "id": "768e1dcb",
   "metadata": {
    "ExecuteTime": {
     "end_time": "2023-08-24T07:18:54.853703Z",
     "start_time": "2023-08-24T07:18:54.849702Z"
    }
   },
   "outputs": [
    {
     "name": "stdout",
     "output_type": "stream",
     "text": [
      "정수몫 : 2, 나머지 : 1\n"
     ]
    }
   ],
   "source": [
    "#divmod(수, 나눌수)\n",
    "mok, nmg = divmod(7, 3)\n",
    "print(\"정수몫 : {0}, 나머지 : {1}\".format(mok, nmg))"
   ]
  },
  {
   "cell_type": "code",
   "execution_count": 15,
   "id": "aec19abb",
   "metadata": {
    "ExecuteTime": {
     "end_time": "2023-08-24T07:21:31.088503Z",
     "start_time": "2023-08-24T07:21:31.083429Z"
    }
   },
   "outputs": [
    {
     "name": "stdout",
     "output_type": "stream",
     "text": [
      "[(0, 10), (1, 20), (2, 30), (3, 40), (4, 50)]\n"
     ]
    }
   ],
   "source": [
    "#인덱스와 값을 리턴하는 함수 : enumerate\n",
    "print(list(enumerate([10, 20, 30, 40, 50])))"
   ]
  },
  {
   "cell_type": "code",
   "execution_count": 16,
   "id": "39c102cd",
   "metadata": {
    "ExecuteTime": {
     "end_time": "2023-08-24T07:23:16.098810Z",
     "start_time": "2023-08-24T07:23:16.085681Z"
    }
   },
   "outputs": [
    {
     "name": "stdout",
     "output_type": "stream",
     "text": [
      "0 10\n",
      "1 20\n",
      "2 30\n",
      "3 40\n",
      "4 50\n"
     ]
    }
   ],
   "source": [
    "for idx, val in enumerate([10, 20, 30, 40, 50]):\n",
    "    print(idx, val)"
   ]
  },
  {
   "cell_type": "code",
   "execution_count": 19,
   "id": "d3229b9b",
   "metadata": {
    "ExecuteTime": {
     "end_time": "2023-08-24T07:25:03.863194Z",
     "start_time": "2023-08-24T07:25:01.057788Z"
    }
   },
   "outputs": [
    {
     "name": "stdout",
     "output_type": "stream",
     "text": [
      "3947.34\n",
      "a =  3947.34\n"
     ]
    }
   ],
   "source": [
    "# eval() : 자동형변환의 의미\n",
    "a = eval(input())\n",
    "print(\"a = \", a)"
   ]
  },
  {
   "cell_type": "code",
   "execution_count": 22,
   "id": "34ceaaee",
   "metadata": {
    "ExecuteTime": {
     "end_time": "2023-08-24T07:28:27.563435Z",
     "start_time": "2023-08-24T07:28:27.558287Z"
    }
   },
   "outputs": [
    {
     "name": "stdout",
     "output_type": "stream",
     "text": [
      "divmod(10, 3)\n",
      "(3, 1)\n"
     ]
    }
   ],
   "source": [
    "#eval - 수식을 문자열로 묶어서 입력하면 계산결과를 반환한다.\n",
    "str = \"divmod(10, 3)\"\n",
    "print(str)\n",
    "print(eval(str))"
   ]
  },
  {
   "cell_type": "code",
   "execution_count": 26,
   "id": "068ea47a",
   "metadata": {
    "ExecuteTime": {
     "end_time": "2023-08-24T07:32:32.469682Z",
     "start_time": "2023-08-24T07:32:32.460678Z"
    }
   },
   "outputs": [
    {
     "name": "stdout",
     "output_type": "stream",
     "text": [
      "[(1, 'blue'), (2, 'yellow')]\n"
     ]
    }
   ],
   "source": [
    "# zip : 여러개의 객체를 인덱스별로 묶어서 처리할 때\n",
    "a = zip([1,2],['blue','yellow'])\n",
    "print(list(a))"
   ]
  },
  {
   "cell_type": "code",
   "execution_count": 29,
   "id": "7db45ee9",
   "metadata": {
    "ExecuteTime": {
     "end_time": "2023-08-24T07:33:47.612337Z",
     "start_time": "2023-08-24T07:33:47.609291Z"
    }
   },
   "outputs": [
    {
     "name": "stdout",
     "output_type": "stream",
     "text": [
      "[1, 2, 3]\n",
      "[3, 1, 2]\n"
     ]
    }
   ],
   "source": [
    "items = [3, 1, 2]\n",
    "a = sorted(items)\n",
    "print(a)\n",
    "print(items)"
   ]
  },
  {
   "cell_type": "markdown",
   "id": "4b81cad6",
   "metadata": {},
   "source": [
    "## 사용자 정의 함수"
   ]
  },
  {
   "cell_type": "code",
   "execution_count": 32,
   "id": "b2257ca0",
   "metadata": {
    "ExecuteTime": {
     "end_time": "2023-08-24T07:36:16.998165Z",
     "start_time": "2023-08-24T07:36:16.993251Z"
    }
   },
   "outputs": [],
   "source": [
    "# 함수 선언문 def 함수명(매개변수):\n",
    "def say():\n",
    "    a = \"안녕하세요\"\n",
    "    print(a)"
   ]
  },
  {
   "cell_type": "code",
   "execution_count": 33,
   "id": "7d90a538",
   "metadata": {
    "ExecuteTime": {
     "end_time": "2023-08-24T07:36:23.903950Z",
     "start_time": "2023-08-24T07:36:23.885961Z"
    }
   },
   "outputs": [
    {
     "name": "stdout",
     "output_type": "stream",
     "text": [
      "안녕하세요\n"
     ]
    }
   ],
   "source": [
    "say()"
   ]
  },
  {
   "cell_type": "code",
   "execution_count": 34,
   "id": "dc6eefd8",
   "metadata": {
    "ExecuteTime": {
     "end_time": "2023-08-24T07:39:57.997441Z",
     "start_time": "2023-08-24T07:39:57.993379Z"
    }
   },
   "outputs": [],
   "source": [
    "# 매개변수가 있는 함수\n",
    "def hello(name):\n",
    "    message = \"Hello, {0}\".format(name)\n",
    "    return message"
   ]
  },
  {
   "cell_type": "code",
   "execution_count": 35,
   "id": "670d216a",
   "metadata": {
    "ExecuteTime": {
     "end_time": "2023-08-24T07:40:30.879094Z",
     "start_time": "2023-08-24T07:40:30.866441Z"
    }
   },
   "outputs": [
    {
     "data": {
      "text/plain": [
       "'Hello, kim'"
      ]
     },
     "execution_count": 35,
     "metadata": {},
     "output_type": "execute_result"
    }
   ],
   "source": [
    "hello('kim')"
   ]
  },
  {
   "cell_type": "markdown",
   "id": "7cdca256",
   "metadata": {},
   "source": [
    "### default parameter : 초기화 파라미터\n",
    "- 매개변수에 초기화를 시켜주는 기능"
   ]
  },
  {
   "cell_type": "code",
   "execution_count": 38,
   "id": "f890b071",
   "metadata": {
    "ExecuteTime": {
     "end_time": "2023-08-24T07:44:20.563349Z",
     "start_time": "2023-08-24T07:44:20.553201Z"
    }
   },
   "outputs": [],
   "source": [
    "def hello(name = None ):\n",
    "    if name == None:\n",
    "        print(\"이름을 입력해주세요.\")\n",
    "        return\n",
    "    message = print(\"Hello, {0}\".format(name))\n",
    "    return message"
   ]
  },
  {
   "cell_type": "code",
   "execution_count": 39,
   "id": "ce683f09",
   "metadata": {
    "ExecuteTime": {
     "end_time": "2023-08-24T07:44:29.388440Z",
     "start_time": "2023-08-24T07:44:29.372927Z"
    }
   },
   "outputs": [
    {
     "name": "stdout",
     "output_type": "stream",
     "text": [
      "Hello, kim\n"
     ]
    }
   ],
   "source": [
    "hello('kim')"
   ]
  },
  {
   "cell_type": "code",
   "execution_count": 40,
   "id": "0894f1c6",
   "metadata": {
    "ExecuteTime": {
     "end_time": "2023-08-24T07:44:33.240432Z",
     "start_time": "2023-08-24T07:44:33.230327Z"
    }
   },
   "outputs": [
    {
     "name": "stdout",
     "output_type": "stream",
     "text": [
      "이름을 입력해주세요.\n"
     ]
    }
   ],
   "source": [
    "hello()"
   ]
  },
  {
   "cell_type": "code",
   "execution_count": 41,
   "id": "dcdaf21a",
   "metadata": {
    "ExecuteTime": {
     "end_time": "2023-08-24T07:47:09.487238Z",
     "start_time": "2023-08-24T07:47:09.471411Z"
    }
   },
   "outputs": [],
   "source": [
    "# 두개의 수를 더한 결과를 반환하는 함수\n",
    "def hap(a, b, c):\n",
    "    return a + b + c"
   ]
  },
  {
   "cell_type": "code",
   "execution_count": 43,
   "id": "2c5f90e8",
   "metadata": {
    "ExecuteTime": {
     "end_time": "2023-08-24T07:48:09.814510Z",
     "start_time": "2023-08-24T07:48:09.810482Z"
    }
   },
   "outputs": [
    {
     "name": "stdout",
     "output_type": "stream",
     "text": [
      "6\n"
     ]
    }
   ],
   "source": [
    "print(hap(1,2,3))"
   ]
  },
  {
   "cell_type": "code",
   "execution_count": 44,
   "id": "791fd028",
   "metadata": {
    "ExecuteTime": {
     "end_time": "2023-08-24T07:49:17.380723Z",
     "start_time": "2023-08-24T07:49:17.374672Z"
    }
   },
   "outputs": [],
   "source": [
    "def hap(a = 1, b = 2, c = 3):\n",
    "    return a + b + c"
   ]
  },
  {
   "cell_type": "code",
   "execution_count": 45,
   "id": "995b26cb",
   "metadata": {
    "ExecuteTime": {
     "end_time": "2023-08-24T07:49:22.481187Z",
     "start_time": "2023-08-24T07:49:22.471376Z"
    }
   },
   "outputs": [
    {
     "name": "stdout",
     "output_type": "stream",
     "text": [
      "[1, 2, 3]\n"
     ]
    }
   ],
   "source": [
    "print(a)"
   ]
  },
  {
   "cell_type": "code",
   "execution_count": 46,
   "id": "3de631f7",
   "metadata": {
    "ExecuteTime": {
     "end_time": "2023-08-24T07:50:13.576800Z",
     "start_time": "2023-08-24T07:50:13.566834Z"
    }
   },
   "outputs": [
    {
     "name": "stdout",
     "output_type": "stream",
     "text": [
      "303\n"
     ]
    }
   ],
   "source": [
    "a=hap(100,200)\n",
    "print(a)"
   ]
  },
  {
   "cell_type": "markdown",
   "id": "ec04afef",
   "metadata": {},
   "source": [
    "### 가변길이 파라미터\n",
    "- 매개변수의 개수와 상관없이 동작하도록 구현한 파라미터\n",
    "- 가변길이 매개변수를 구별하기 위해 변수명 앞에 *를 붙인다."
   ]
  },
  {
   "cell_type": "code",
   "execution_count": 55,
   "id": "e637db70",
   "metadata": {
    "ExecuteTime": {
     "end_time": "2023-08-24T08:01:31.254210Z",
     "start_time": "2023-08-24T08:01:31.238994Z"
    }
   },
   "outputs": [],
   "source": [
    "def adder(*ar):\n",
    "    res = 0\n",
    "    for i in ar:\n",
    "        res += i\n",
    "    return res"
   ]
  },
  {
   "cell_type": "code",
   "execution_count": 58,
   "id": "83790a98",
   "metadata": {
    "ExecuteTime": {
     "end_time": "2023-08-24T08:02:33.578886Z",
     "start_time": "2023-08-24T08:02:33.566550Z"
    }
   },
   "outputs": [
    {
     "name": "stdout",
     "output_type": "stream",
     "text": [
      "tot =  6\n"
     ]
    }
   ],
   "source": [
    "tot = adder(1,2,3)\n",
    "\n",
    "print('tot = ', tot)"
   ]
  },
  {
   "cell_type": "code",
   "execution_count": 59,
   "id": "32ff70e8",
   "metadata": {
    "ExecuteTime": {
     "end_time": "2023-08-24T08:02:58.769071Z",
     "start_time": "2023-08-24T08:02:58.752914Z"
    }
   },
   "outputs": [
    {
     "name": "stdout",
     "output_type": "stream",
     "text": [
      "tot =  24\n"
     ]
    }
   ],
   "source": [
    "tot = adder(1,2,3,3,4,5,6)\n",
    "print('tot = ', tot)"
   ]
  },
  {
   "cell_type": "code",
   "execution_count": 60,
   "id": "2445b592",
   "metadata": {
    "ExecuteTime": {
     "end_time": "2023-08-24T08:05:27.246799Z",
     "start_time": "2023-08-24T08:05:27.231039Z"
    }
   },
   "outputs": [],
   "source": [
    "def order(size,*topping):\n",
    "    print(\"\\n\" + size + \"피자를 주문하셨습니다.\\n 토핑 : \", end = '')\n",
    "    for i in topping:\n",
    "        print(i + \",\", end = '')"
   ]
  },
  {
   "cell_type": "code",
   "execution_count": 62,
   "id": "fa5177cf",
   "metadata": {
    "ExecuteTime": {
     "end_time": "2023-08-24T08:07:25.804961Z",
     "start_time": "2023-08-24T08:07:25.792637Z"
    }
   },
   "outputs": [
    {
     "name": "stdout",
     "output_type": "stream",
     "text": [
      "\n",
      "large피자를 주문하셨습니다.\n",
      " 토핑 : 토마토,라임,파인애플,\n",
      "small피자를 주문하셨습니다.\n",
      " 토핑 : 버섯,피클,오이,가지,올리브,"
     ]
    }
   ],
   "source": [
    "order('large','토마토','라임','파인애플')\n",
    "order('small', '버섯', '피클', '오이', '가지', '올리브')"
   ]
  },
  {
   "cell_type": "markdown",
   "id": "b6932cf2",
   "metadata": {
    "ExecuteTime": {
     "end_time": "2023-08-24T08:23:44.325267Z",
     "start_time": "2023-08-24T08:23:44.307231Z"
    }
   },
   "source": [
    "### 딕셔너리(사전)을 매개변수로 넘길때\n",
    "- 매개변수의 이름앞에 '**'를 붙인다."
   ]
  },
  {
   "cell_type": "code",
   "execution_count": 64,
   "id": "ad76684e",
   "metadata": {
    "ExecuteTime": {
     "end_time": "2023-08-24T08:24:12.986122Z",
     "start_time": "2023-08-24T08:24:12.971245Z"
    }
   },
   "outputs": [],
   "source": [
    "def func(**kwargs):\n",
    "    print(kwargs)"
   ]
  },
  {
   "cell_type": "code",
   "execution_count": 65,
   "id": "cf15a1cb",
   "metadata": {
    "ExecuteTime": {
     "end_time": "2023-08-24T08:25:09.073374Z",
     "start_time": "2023-08-24T08:25:09.063818Z"
    }
   },
   "outputs": [
    {
     "name": "stdout",
     "output_type": "stream",
     "text": [
      "{'name': 'aaa', 'age': 15, 'birth': '1992'}\n"
     ]
    }
   ],
   "source": [
    "func(name = 'aaa', age = 15, birth = '1992')"
   ]
  },
  {
   "cell_type": "markdown",
   "id": "b303d70d",
   "metadata": {},
   "source": [
    "### 람다 함수(Lambda Function) or 람다 표현식(Lambda Expression)\n",
    "- 이름이 없는 함수(익명의 함수)\n",
    "- 매크로함수 or 인라인 함수\n",
    "- 인라인 함수 : 한줄로 구성된 함수\n",
    "- 함수가 간결하고 메모리를 절약하는 장점을 가지고 있다.\n",
    "- 형식 : lambda 매개변수 : 표현식 / lambda 입력값 : 출력값"
   ]
  },
  {
   "cell_type": "code",
   "execution_count": 66,
   "id": "3512f9d2",
   "metadata": {
    "ExecuteTime": {
     "end_time": "2023-08-24T08:29:35.169960Z",
     "start_time": "2023-08-24T08:29:35.162734Z"
    }
   },
   "outputs": [],
   "source": [
    "def plus(a):\n",
    "    return a + 1"
   ]
  },
  {
   "cell_type": "code",
   "execution_count": 67,
   "id": "36f6ddc9",
   "metadata": {
    "ExecuteTime": {
     "end_time": "2023-08-24T08:29:45.956463Z",
     "start_time": "2023-08-24T08:29:45.939148Z"
    }
   },
   "outputs": [
    {
     "name": "stdout",
     "output_type": "stream",
     "text": [
      "6\n"
     ]
    }
   ],
   "source": [
    "print(plus(5))"
   ]
  },
  {
   "cell_type": "code",
   "execution_count": 69,
   "id": "6284153f",
   "metadata": {
    "ExecuteTime": {
     "end_time": "2023-08-24T08:34:45.460221Z",
     "start_time": "2023-08-24T08:34:45.454093Z"
    }
   },
   "outputs": [],
   "source": [
    "def is_even(x):\n",
    "    return x % 2 == 0"
   ]
  },
  {
   "cell_type": "code",
   "execution_count": 70,
   "id": "36b39088",
   "metadata": {
    "ExecuteTime": {
     "end_time": "2023-08-24T08:34:46.879992Z",
     "start_time": "2023-08-24T08:34:46.869833Z"
    }
   },
   "outputs": [
    {
     "name": "stdout",
     "output_type": "stream",
     "text": [
      "홀수\n"
     ]
    }
   ],
   "source": [
    "if is_even(3):\n",
    "    print(\"짝수\")\n",
    "else:\n",
    "    print(\"홀수\")"
   ]
  },
  {
   "cell_type": "code",
   "execution_count": 72,
   "id": "ca64fdb7",
   "metadata": {
    "ExecuteTime": {
     "end_time": "2023-08-24T08:35:29.147255Z",
     "start_time": "2023-08-24T08:35:29.142203Z"
    }
   },
   "outputs": [
    {
     "data": {
      "text/plain": [
       "True"
      ]
     },
     "execution_count": 72,
     "metadata": {},
     "output_type": "execute_result"
    }
   ],
   "source": [
    "is_even = lambda x : x % 2 == 0\n",
    "is_even(1)\n",
    "is_even(2)"
   ]
  },
  {
   "cell_type": "code",
   "execution_count": 73,
   "id": "0c6e43fe",
   "metadata": {
    "ExecuteTime": {
     "end_time": "2023-08-24T08:36:31.025070Z",
     "start_time": "2023-08-24T08:36:31.013039Z"
    }
   },
   "outputs": [],
   "source": [
    "# map(함수, 집합객체=리스트나 튜플)\n",
    "def add(x):\n",
    "    return x + 2"
   ]
  },
  {
   "cell_type": "code",
   "execution_count": 74,
   "id": "49d53fa8",
   "metadata": {
    "ExecuteTime": {
     "end_time": "2023-08-24T08:37:36.428170Z",
     "start_time": "2023-08-24T08:37:36.413817Z"
    }
   },
   "outputs": [
    {
     "name": "stdout",
     "output_type": "stream",
     "text": [
      "[3, 4, 5, 6, 7]\n"
     ]
    }
   ],
   "source": [
    "res = list(map(add, [1,2,3,4,5]))\n",
    "print(res)"
   ]
  },
  {
   "cell_type": "code",
   "execution_count": 75,
   "id": "64762137",
   "metadata": {
    "ExecuteTime": {
     "end_time": "2023-08-24T08:39:05.406477Z",
     "start_time": "2023-08-24T08:39:05.395080Z"
    }
   },
   "outputs": [
    {
     "name": "stdout",
     "output_type": "stream",
     "text": [
      "[3, 4, 5, 6, 7]\n"
     ]
    }
   ],
   "source": [
    "res2 = list(map(lambda x : x + 2, [1,2,3,4,5]))\n",
    "print(res2)"
   ]
  },
  {
   "cell_type": "code",
   "execution_count": 77,
   "id": "42f2ac4d",
   "metadata": {
    "ExecuteTime": {
     "end_time": "2023-08-24T08:41:38.913343Z",
     "start_time": "2023-08-24T08:41:38.909308Z"
    }
   },
   "outputs": [
    {
     "name": "stdout",
     "output_type": "stream",
     "text": [
      "[True, False, True, False, True, False, True, False, True, False]\n"
     ]
    }
   ],
   "source": [
    "# filter(함수, 리스트나 튜플)\n",
    "# 리스트의 요소 중 짝수만 추출하는 작업\n",
    "def is_even(x):\n",
    "    return x % 2 == 0\n",
    "\n",
    "result1 = list(map(is_even, range(10)))\n",
    "print(result1)"
   ]
  },
  {
   "cell_type": "code",
   "execution_count": 79,
   "id": "d24708d8",
   "metadata": {
    "ExecuteTime": {
     "end_time": "2023-08-24T08:42:45.194402Z",
     "start_time": "2023-08-24T08:42:45.181353Z"
    }
   },
   "outputs": [
    {
     "name": "stdout",
     "output_type": "stream",
     "text": [
      "[0, 2, 4, 6, 8]\n"
     ]
    }
   ],
   "source": [
    "result2 = list(filter(is_even, range(10)))\n",
    "print(result2)"
   ]
  },
  {
   "cell_type": "code",
   "execution_count": 80,
   "id": "ed88572a",
   "metadata": {
    "ExecuteTime": {
     "end_time": "2023-08-24T08:43:26.184271Z",
     "start_time": "2023-08-24T08:43:26.178183Z"
    }
   },
   "outputs": [
    {
     "name": "stdout",
     "output_type": "stream",
     "text": [
      "[0, 2, 4, 6, 8]\n"
     ]
    }
   ],
   "source": [
    "result3 = list(filter(lambda x : x % 2 == 0, range(10)))\n",
    "print(result3)"
   ]
  },
  {
   "cell_type": "code",
   "execution_count": 81,
   "id": "8cc0d117",
   "metadata": {
    "ExecuteTime": {
     "end_time": "2023-08-24T08:50:39.833532Z",
     "start_time": "2023-08-24T08:50:39.815938Z"
    }
   },
   "outputs": [
    {
     "ename": "AttributeError",
     "evalue": "'tuple' object has no attribute 'append'",
     "output_type": "error",
     "traceback": [
      "\u001b[1;31m---------------------------------------------------------------------------\u001b[0m",
      "\u001b[1;31mAttributeError\u001b[0m                            Traceback (most recent call last)",
      "\u001b[1;32m<ipython-input-81-cddfbc310e4f>\u001b[0m in \u001b[0;36m<module>\u001b[1;34m\u001b[0m\n\u001b[0;32m      7\u001b[0m             \u001b[0my\u001b[0m\u001b[1;33m.\u001b[0m\u001b[0mappend\u001b[0m\u001b[1;33m(\u001b[0m\u001b[1;33m-\u001b[0m\u001b[0mi\u001b[0m\u001b[1;33m)\u001b[0m\u001b[1;33m\u001b[0m\u001b[1;33m\u001b[0m\u001b[0m\n\u001b[0;32m      8\u001b[0m     \u001b[1;32mreturn\u001b[0m \u001b[0my\u001b[0m\u001b[1;33m\u001b[0m\u001b[1;33m\u001b[0m\u001b[0m\n\u001b[1;32m----> 9\u001b[1;33m \u001b[0mprint\u001b[0m\u001b[1;33m(\u001b[0m\u001b[0mchange\u001b[0m\u001b[1;33m(\u001b[0m\u001b[0mx\u001b[0m\u001b[1;33m)\u001b[0m\u001b[1;33m)\u001b[0m\u001b[1;33m\u001b[0m\u001b[1;33m\u001b[0m\u001b[0m\n\u001b[0m",
      "\u001b[1;32m<ipython-input-81-cddfbc310e4f>\u001b[0m in \u001b[0;36mchange\u001b[1;34m(x)\u001b[0m\n\u001b[0;32m      5\u001b[0m     \u001b[1;32mfor\u001b[0m \u001b[0mi\u001b[0m \u001b[1;32min\u001b[0m \u001b[0mx\u001b[0m\u001b[1;33m:\u001b[0m\u001b[1;33m\u001b[0m\u001b[1;33m\u001b[0m\u001b[0m\n\u001b[0;32m      6\u001b[0m         \u001b[1;32mif\u001b[0m \u001b[0mi\u001b[0m \u001b[1;33m%\u001b[0m \u001b[1;36m2\u001b[0m \u001b[1;33m==\u001b[0m \u001b[1;36m0\u001b[0m\u001b[1;33m:\u001b[0m\u001b[1;33m\u001b[0m\u001b[1;33m\u001b[0m\u001b[0m\n\u001b[1;32m----> 7\u001b[1;33m             \u001b[0my\u001b[0m\u001b[1;33m.\u001b[0m\u001b[0mappend\u001b[0m\u001b[1;33m(\u001b[0m\u001b[1;33m-\u001b[0m\u001b[0mi\u001b[0m\u001b[1;33m)\u001b[0m\u001b[1;33m\u001b[0m\u001b[1;33m\u001b[0m\u001b[0m\n\u001b[0m\u001b[0;32m      8\u001b[0m     \u001b[1;32mreturn\u001b[0m \u001b[0my\u001b[0m\u001b[1;33m\u001b[0m\u001b[1;33m\u001b[0m\u001b[0m\n\u001b[0;32m      9\u001b[0m \u001b[0mprint\u001b[0m\u001b[1;33m(\u001b[0m\u001b[0mchange\u001b[0m\u001b[1;33m(\u001b[0m\u001b[0mx\u001b[0m\u001b[1;33m)\u001b[0m\u001b[1;33m)\u001b[0m\u001b[1;33m\u001b[0m\u001b[1;33m\u001b[0m\u001b[0m\n",
      "\u001b[1;31mAttributeError\u001b[0m: 'tuple' object has no attribute 'append'"
     ]
    }
   ],
   "source": [
    "#리스트에 입력된 값중 짝수를 음수로 변환하는 작업\n",
    "x = [1,2,3,4,5,6,7,8,9]\n",
    "\n",
    "def change(x):\n",
    "    for i in x:\n",
    "        if i % 2 == 0:\n",
    "            y.append(-i)\n",
    "    return y\n",
    "\n",
    "print(change(x))"
   ]
  },
  {
   "cell_type": "code",
   "execution_count": null,
   "id": "c58b2266",
   "metadata": {},
   "outputs": [],
   "source": []
  }
 ],
 "metadata": {
  "kernelspec": {
   "display_name": "Python 3",
   "language": "python",
   "name": "python3"
  },
  "language_info": {
   "codemirror_mode": {
    "name": "ipython",
    "version": 3
   },
   "file_extension": ".py",
   "mimetype": "text/x-python",
   "name": "python",
   "nbconvert_exporter": "python",
   "pygments_lexer": "ipython3",
   "version": "3.8.8"
  },
  "toc": {
   "base_numbering": 1,
   "nav_menu": {},
   "number_sections": true,
   "sideBar": true,
   "skip_h1_title": false,
   "title_cell": "Table of Contents",
   "title_sidebar": "Contents",
   "toc_cell": false,
   "toc_position": {
    "height": "calc(100% - 180px)",
    "left": "10px",
    "top": "150px",
    "width": "384px"
   },
   "toc_section_display": true,
   "toc_window_display": true
  }
 },
 "nbformat": 4,
 "nbformat_minor": 5
}
